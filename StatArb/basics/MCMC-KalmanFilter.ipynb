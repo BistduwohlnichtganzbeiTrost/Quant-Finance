{
 "cells": [
  {
   "cell_type": "code",
   "execution_count": 2,
   "metadata": {},
   "outputs": [],
   "source": [
    "from scipy import stats\n",
    "import numpy as np"
   ]
  },
  {
   "cell_type": "code",
   "execution_count": 3,
   "metadata": {},
   "outputs": [],
   "source": [
    "sigma_e = 3.0\n",
    "\n",
    "def prior_proba(beta):\n",
    "    a = beta[0] # intercept\n",
    "    b = beta[1] # slope\n",
    "    a_prior = stats.norm(0.5, 0.5).pdf(a)\n",
    "    b_prior = stats.norm(0.5, 0.5).pdf(b)\n",
    "    return np.log(a_prior)+np.log(b_prior)\n",
    "\n",
    "def likelihood_proba(x, beta):\n",
    "    a = beta[0] # intercept\n",
    "    b = beta[1] # slope\n",
    "    y_pred = a+b*x\n",
    "    single_likelihood = stats.norm(y_pred, sigma_e).pdf(y)\n",
    "    return np.sum(np.log(single_likelihood))\n",
    "\n",
    "def posterior_proba(beta):\n",
    "    return likelihood_proba(beta)+prior_proba(beta)\n",
    "\n",
    "def proposal(beta):\n",
    "    a = beta[0]\n",
    "    b = beta[1]\n",
    "    a_new = np.random.normal(a, 0.5)\n",
    "    b_new = np.random.normal(b, 0.5)\n",
    "    beta_new = [a_new, b_new]\n",
    "    return beta_new"
   ]
  },
  {
   "cell_type": "markdown",
   "metadata": {},
   "source": [
    "### Dynamic Linear Model"
   ]
  },
  {
   "cell_type": "code",
   "execution_count": null,
   "metadata": {},
   "outputs": [],
   "source": [
    "sigma_e = 3.0\n",
    "\n",
    "theta_0_0 = np.array([[0.5], [0.5]])\n",
    "W = np.array([[0.5, 0], [0.5, 0]])\n",
    "P_0_0 = W\n",
    "\n",
    "results = np.zeros([250, 2])\n",
    "for k in range(250):\n",
    "    print('step {}'.format(k))\n",
    "    theta_1_0 = theta_0_0\n",
    "    P_1_0 = P_0_0 + W\n",
    "\n",
    "    x1 = x[2*k+0]\n",
    "    x2 = x[2*k+1]\n",
    "    "
   ]
  }
 ],
 "metadata": {
  "kernelspec": {
   "display_name": "Python 3",
   "language": "python",
   "name": "python3"
  },
  "language_info": {
   "codemirror_mode": {
    "name": "ipython",
    "version": 3
   },
   "file_extension": ".py",
   "mimetype": "text/x-python",
   "name": "python",
   "nbconvert_exporter": "python",
   "pygments_lexer": "ipython3",
   "version": "3.10.13"
  }
 },
 "nbformat": 4,
 "nbformat_minor": 2
}
