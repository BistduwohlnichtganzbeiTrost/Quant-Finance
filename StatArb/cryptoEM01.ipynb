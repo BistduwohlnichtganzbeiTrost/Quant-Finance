{
 "cells": [
  {
   "cell_type": "code",
   "execution_count": 1,
   "metadata": {},
   "outputs": [
    {
     "ename": "ModuleNotFoundError",
     "evalue": "No module named 'requests'",
     "output_type": "error",
     "traceback": [
      "\u001b[1;31m---------------------------------------------------------------------------\u001b[0m",
      "\u001b[1;31mModuleNotFoundError\u001b[0m                       Traceback (most recent call last)",
      "\u001b[1;32m~\\AppData\\Local\\Temp\\ipykernel_112168\\223677091.py\u001b[0m in \u001b[0;36m<module>\u001b[1;34m\u001b[0m\n\u001b[0;32m      1\u001b[0m \u001b[1;32mimport\u001b[0m \u001b[0mpandas\u001b[0m \u001b[1;32mas\u001b[0m \u001b[0mpd\u001b[0m\u001b[1;33m\u001b[0m\u001b[1;33m\u001b[0m\u001b[0m\n\u001b[1;32m----> 2\u001b[1;33m \u001b[1;32mimport\u001b[0m \u001b[0myfinance\u001b[0m \u001b[1;32mas\u001b[0m \u001b[0myf\u001b[0m\u001b[1;33m\u001b[0m\u001b[1;33m\u001b[0m\u001b[0m\n\u001b[0m\u001b[0;32m      3\u001b[0m \u001b[1;32mfrom\u001b[0m \u001b[0myahoofinancials\u001b[0m \u001b[1;32mimport\u001b[0m \u001b[0mYahooFinancials\u001b[0m\u001b[1;33m\u001b[0m\u001b[1;33m\u001b[0m\u001b[0m\n\u001b[0;32m      4\u001b[0m \u001b[1;32mimport\u001b[0m \u001b[0mmatplotlib\u001b[0m\u001b[1;33m.\u001b[0m\u001b[0mpyplot\u001b[0m \u001b[1;32mas\u001b[0m \u001b[0mplt\u001b[0m\u001b[1;33m\u001b[0m\u001b[1;33m\u001b[0m\u001b[0m\n\u001b[0;32m      5\u001b[0m \u001b[1;32mimport\u001b[0m \u001b[0mnumpy\u001b[0m \u001b[1;32mas\u001b[0m \u001b[0mnp\u001b[0m\u001b[1;33m\u001b[0m\u001b[1;33m\u001b[0m\u001b[0m\n",
      "\u001b[1;32m~\\AppData\\Roaming\\Python\\Python37\\site-packages\\yfinance\\__init__.py\u001b[0m in \u001b[0;36m<module>\u001b[1;34m\u001b[0m\n\u001b[0;32m     21\u001b[0m \u001b[1;33m\u001b[0m\u001b[0m\n\u001b[0;32m     22\u001b[0m \u001b[1;32mfrom\u001b[0m \u001b[1;33m.\u001b[0m \u001b[1;32mimport\u001b[0m \u001b[0mversion\u001b[0m\u001b[1;33m\u001b[0m\u001b[1;33m\u001b[0m\u001b[0m\n\u001b[1;32m---> 23\u001b[1;33m \u001b[1;32mfrom\u001b[0m \u001b[1;33m.\u001b[0m\u001b[0mticker\u001b[0m \u001b[1;32mimport\u001b[0m \u001b[0mTicker\u001b[0m\u001b[1;33m\u001b[0m\u001b[1;33m\u001b[0m\u001b[0m\n\u001b[0m\u001b[0;32m     24\u001b[0m \u001b[1;32mfrom\u001b[0m \u001b[1;33m.\u001b[0m\u001b[0mtickers\u001b[0m \u001b[1;32mimport\u001b[0m \u001b[0mTickers\u001b[0m\u001b[1;33m\u001b[0m\u001b[1;33m\u001b[0m\u001b[0m\n\u001b[0;32m     25\u001b[0m \u001b[1;32mfrom\u001b[0m \u001b[1;33m.\u001b[0m\u001b[0mmulti\u001b[0m \u001b[1;32mimport\u001b[0m \u001b[0mdownload\u001b[0m\u001b[1;33m\u001b[0m\u001b[1;33m\u001b[0m\u001b[0m\n",
      "\u001b[1;32m~\\AppData\\Roaming\\Python\\Python37\\site-packages\\yfinance\\ticker.py\u001b[0m in \u001b[0;36m<module>\u001b[1;34m\u001b[0m\n\u001b[0;32m     27\u001b[0m \u001b[1;32mfrom\u001b[0m \u001b[0mcollections\u001b[0m \u001b[1;32mimport\u001b[0m \u001b[0mnamedtuple\u001b[0m \u001b[1;32mas\u001b[0m \u001b[0m_namedtuple\u001b[0m\u001b[1;33m\u001b[0m\u001b[1;33m\u001b[0m\u001b[0m\n\u001b[0;32m     28\u001b[0m \u001b[1;33m\u001b[0m\u001b[0m\n\u001b[1;32m---> 29\u001b[1;33m \u001b[1;32mfrom\u001b[0m \u001b[1;33m.\u001b[0m\u001b[0mbase\u001b[0m \u001b[1;32mimport\u001b[0m \u001b[0mTickerBase\u001b[0m\u001b[1;33m\u001b[0m\u001b[1;33m\u001b[0m\u001b[0m\n\u001b[0m\u001b[0;32m     30\u001b[0m \u001b[1;33m\u001b[0m\u001b[0m\n\u001b[0;32m     31\u001b[0m \u001b[1;33m\u001b[0m\u001b[0m\n",
      "\u001b[1;32m~\\AppData\\Roaming\\Python\\Python37\\site-packages\\yfinance\\base.py\u001b[0m in \u001b[0;36m<module>\u001b[1;34m\u001b[0m\n\u001b[0;32m     32\u001b[0m \u001b[1;32mimport\u001b[0m \u001b[0mpandas\u001b[0m \u001b[1;32mas\u001b[0m \u001b[0mpd\u001b[0m\u001b[1;33m\u001b[0m\u001b[1;33m\u001b[0m\u001b[0m\n\u001b[0;32m     33\u001b[0m \u001b[1;33m\u001b[0m\u001b[0m\n\u001b[1;32m---> 34\u001b[1;33m \u001b[1;32mfrom\u001b[0m \u001b[1;33m.\u001b[0m\u001b[0mdata\u001b[0m \u001b[1;32mimport\u001b[0m \u001b[0mTickerData\u001b[0m\u001b[1;33m\u001b[0m\u001b[1;33m\u001b[0m\u001b[0m\n\u001b[0m\u001b[0;32m     35\u001b[0m \u001b[1;33m\u001b[0m\u001b[0m\n\u001b[0;32m     36\u001b[0m \u001b[1;32mfrom\u001b[0m \u001b[0murllib\u001b[0m\u001b[1;33m.\u001b[0m\u001b[0mparse\u001b[0m \u001b[1;32mimport\u001b[0m \u001b[0mquote\u001b[0m \u001b[1;32mas\u001b[0m \u001b[0murlencode\u001b[0m\u001b[1;33m\u001b[0m\u001b[1;33m\u001b[0m\u001b[0m\n",
      "\u001b[1;32m~\\AppData\\Roaming\\Python\\Python37\\site-packages\\yfinance\\data.py\u001b[0m in \u001b[0;36m<module>\u001b[1;34m\u001b[0m\n\u001b[0;32m      4\u001b[0m \u001b[1;32mimport\u001b[0m \u001b[0mlogging\u001b[0m\u001b[1;33m\u001b[0m\u001b[1;33m\u001b[0m\u001b[0m\n\u001b[0;32m      5\u001b[0m \u001b[1;33m\u001b[0m\u001b[0m\n\u001b[1;32m----> 6\u001b[1;33m \u001b[1;32mimport\u001b[0m \u001b[0mrequests\u001b[0m \u001b[1;32mas\u001b[0m \u001b[0mrequests\u001b[0m\u001b[1;33m\u001b[0m\u001b[1;33m\u001b[0m\u001b[0m\n\u001b[0m\u001b[0;32m      7\u001b[0m \u001b[1;32mimport\u001b[0m \u001b[0mre\u001b[0m\u001b[1;33m\u001b[0m\u001b[1;33m\u001b[0m\u001b[0m\n\u001b[0;32m      8\u001b[0m \u001b[1;32mimport\u001b[0m \u001b[0mrandom\u001b[0m\u001b[1;33m\u001b[0m\u001b[1;33m\u001b[0m\u001b[0m\n",
      "\u001b[1;31mModuleNotFoundError\u001b[0m: No module named 'requests'"
     ]
    }
   ],
   "source": [
    "import pandas as pd\n",
    "import yfinance as yf\n",
    "from yahoofinancials import YahooFinancials\n",
    "import matplotlib.pyplot as plt \n",
    "import numpy as np\n",
    "\n",
    "from scipy.cluster.hierarchy import single, complete, average, ward, dendrogram\n",
    "from sklearn.cluster import AgglomerativeClustering\n",
    "## Library 1\n",
    "\n",
    "from sktime.distances.elastic_cython import dtw_distance\n",
    "from scipy.cluster.hierarchy import fcluster\n",
    "\n",
    "from dtaidistance import dtw\n",
    "from dtaidistance import dtw_visualisation as dtwvis\n"
   ]
  },
  {
   "cell_type": "code",
   "execution_count": null,
   "metadata": {},
   "outputs": [],
   "source": [
    "companies = ['TSLA', 'MSFT', 'FB', 'ADBE' , 'BA', 'T', 'COKE', 'GOOG', 'HON']\n",
    "\n",
    "yahoo_financials = YahooFinancials(companies)\n",
    "\n",
    "data = yahoo_financials.get_historical_price_data(start_date='2019-01-01',\n",
    "                                                  end_date='2019-12-31',\n",
    "                                                  time_interval='daily')\n",
    "\n",
    "prices_df = pd.DataFrame({\n",
    "    a: {x['formatted_date']: x['adjclose'] for x in data[a]['prices']} for a in companies\n",
    "})"
   ]
  },
  {
   "cell_type": "code",
   "execution_count": null,
   "metadata": {},
   "outputs": [],
   "source": [
    "fig, ax = plt.subplots(figsize=(20,10))\n",
    "prices_df.plot(ax=ax)"
   ]
  },
  {
   "cell_type": "code",
   "execution_count": null,
   "metadata": {},
   "outputs": [],
   "source": [
    "fig, ax = plt.subplots(figsize=(20,10))\n",
    "\n",
    "cols = list(prices_df.columns)\n",
    "for col in cols:\n",
    "    prices_df[col] = (prices_df[col]) - np.mean((prices_df[col]))\n",
    "    \n",
    "prices_df.plot(ax=ax)"
   ]
  },
  {
   "cell_type": "code",
   "execution_count": null,
   "metadata": {},
   "outputs": [],
   "source": [
    "chunk_size = int(prices_df.shape[0] / 30)\n",
    "i = 0\n",
    "\n",
    "og_prices_dict = {}\n",
    "\n",
    "for start in range(0, prices_df.shape[0], chunk_size):\n",
    "    df_subset = prices_df.iloc[start:start + chunk_size]\n",
    "    df_subset.columns = ['TSLA'+str(i), 'MSFT'+str(i), 'FB'+str(i), 'ADBE'+str(i), 'BA'+str(i), 'T'+str(i), 'COKE'+str(i), 'GOOG'+str(i), 'HON'+ str(i)]\n",
    "    new_prices_dict = df_subset.to_dict('series')\n",
    "    og_prices_dict.update(new_prices_dict)\n",
    "    i = i + 1\n",
    "print(og_prices_dict) "
   ]
  },
  {
   "cell_type": "code",
   "execution_count": null,
   "metadata": {},
   "outputs": [],
   "source": [
    "distanceMatrix = np.empty((len(og_prices_dict), len(og_prices_dict),))\n",
    "distanceMatrix[:] = np.nan\n",
    "\n",
    "distanceMatrixDictionary = {}\n",
    "\n",
    "for index1, (filter1, trajectory1) in enumerate(og_prices_dict.items()):\n",
    "    \n",
    "     for index2, (filter2, trajectory2) in enumerate(og_prices_dict.items()):\n",
    "            \n",
    "                unionFilter = filter1 + filter2\n",
    "\n",
    "                trajectory1 = np.asarray(trajectory1)\n",
    "                trajectory2 = np.asarray(trajectory2)\n",
    "                trajectory1 = trajectory1.reshape((-1, 1))\n",
    "                trajectory2 = trajectory2.reshape((-1, 1))\n",
    "                metric = dtw_distance(trajectory1, trajectory2)\n",
    "                distanceMatrix[index1][index2] = metric\n",
    "                distanceMatrixDictionary[unionFilter] = metric"
   ]
  },
  {
   "cell_type": "code",
   "execution_count": null,
   "metadata": {},
   "outputs": [],
   "source": [
    "def hierarchical_clustering(distanceMatrix, method='ward'):\n",
    "    if method == 'complete':\n",
    "        Z = complete(distanceMatrix)\n",
    "    if method == 'single':\n",
    "        Z = single(distanceMatrix)\n",
    "    if method == 'average':\n",
    "        Z = average(distanceMatrix)\n",
    "    if method == 'ward':\n",
    "        Z = ward(distanceMatrix)\n",
    "    \n",
    "    fig = plt.figure(figsize=(16, 8))\n",
    "    dn = dendrogram(Z)\n",
    "    plt.title(f\"Dendrogram for {method}-linkage with correlation distance\")\n",
    "    plt.show()\n",
    "    \n",
    "    return Z\n",
    "\n",
    "linkage_matrix = hierarchical_clustering(distanceMatrix)"
   ]
  },
  {
   "cell_type": "code",
   "execution_count": null,
   "metadata": {},
   "outputs": [],
   "source": [
    "cluster_labels = fcluster(linkage_matrix, 8, criterion='maxclust')\n",
    "f = np.expand_dims(distanceMatrix, 1)\n",
    "cluster_labels"
   ]
  },
  {
   "cell_type": "code",
   "execution_count": null,
   "metadata": {},
   "outputs": [],
   "source": [
    "newdf = pd.DataFrame.from_dict(og_prices_dict)\n",
    "newdf.reset_index(inplace=True)\n",
    "mapping = {}\n",
    " \n",
    "for index1, (filter1, trajectory1) in enumerate(og_prices_dict.items()): \n",
    "    mapping[filter1] = cluster_labels[index1]\n",
    "\n",
    "\n",
    "keys = [k for k,v in mapping.items() if v == 1]    \n",
    "fig1, ax1 = plt.subplots(1,1)\n",
    "\n",
    "for i in keys:\n",
    "    og_prices_dict[i].plot()"
   ]
  },
  {
   "cell_type": "code",
   "execution_count": null,
   "metadata": {},
   "outputs": [],
   "source": [
    "fig, ax1 = plt.subplots(1, int(len(np.unique(cluster_labels))),figsize=(20, 5))\n",
    "z = 0\n",
    "\n",
    "for row in ax1:\n",
    "    keys = [k for k,v in mapping.items() if v == z+1]    \n",
    "    z = z+1\n",
    "    for i in keys:\n",
    "        row.plot(og_prices_dict[i])"
   ]
  },
  {
   "cell_type": "code",
   "execution_count": null,
   "metadata": {},
   "outputs": [],
   "source": [
    "\n",
    "keys"
   ]
  },
  {
   "cell_type": "code",
   "execution_count": null,
   "metadata": {},
   "outputs": [],
   "source": [
    "distance = dtw.distance(prices_df['TSLA'], prices_df['MSFT'], psi=1)\n",
    "\n",
    "print(distance)\n",
    "path = dtw.warping_path(prices_df['TSLA'], prices_df['MSFT'])\n",
    "dtwvis.plot_warping(prices_df['TSLA'], prices_df['MSFT'], path)\n",
    "\n",
    "d, paths = dtw.warping_paths(prices_df['TSLA'], prices_df['MSFT'], window=50, psi=4)\n",
    "best_path = dtw.best_path(paths)\n",
    "dtwvis.plot_warpingpaths(prices_df['TSLA'], prices_df['MSFT'], paths, best_path)"
   ]
  },
  {
   "cell_type": "code",
   "execution_count": null,
   "metadata": {},
   "outputs": [],
   "source": []
  }
 ],
 "metadata": {
  "kernelspec": {
   "display_name": "Python 3",
   "language": "python",
   "name": "python3"
  },
  "language_info": {
   "codemirror_mode": {
    "name": "ipython",
    "version": 3
   },
   "file_extension": ".py",
   "mimetype": "text/x-python",
   "name": "python",
   "nbconvert_exporter": "python",
   "pygments_lexer": "ipython3",
   "version": "3.7.9"
  }
 },
 "nbformat": 4,
 "nbformat_minor": 2
}
