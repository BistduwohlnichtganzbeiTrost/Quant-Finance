{
 "cells": [
  {
   "cell_type": "markdown",
   "id": "ca807e6e",
   "metadata": {},
   "source": [
    "## 1. Data Preparation"
   ]
  },
  {
   "cell_type": "code",
   "execution_count": 1,
   "id": "ad75c6cb",
   "metadata": {},
   "outputs": [
    {
     "data": {
      "text/plain": [
       "['TECDAX',\n",
       " 'BEL 20',\n",
       " 'AEX',\n",
       " 'EURO STOXX 50',\n",
       " 'IBEX 35',\n",
       " 'S&P 100',\n",
       " 'MOEX',\n",
       " 'SDAX',\n",
       " 'CAC 40',\n",
       " 'NASDAQ 100',\n",
       " 'OMX Stockholm 30',\n",
       " 'FTSE 100',\n",
       " 'CDAX',\n",
       " 'S&P 600',\n",
       " 'MDAX',\n",
       " 'Switzerland 20',\n",
       " 'DAX',\n",
       " 'OMX Helsinki 25',\n",
       " 'DOW JONES',\n",
       " 'CAC Mid 60',\n",
       " 'S&P 500']"
      ]
     },
     "execution_count": 1,
     "metadata": {},
     "output_type": "execute_result"
    }
   ],
   "source": [
    "import yfinance as yf\n",
    "from pytickersymbols import PyTickerSymbols\n",
    "\n",
    "stock_data = PyTickerSymbols()\n",
    "indices = stock_data.get_all_indices()\n",
    "indices"
   ]
  },
  {
   "cell_type": "markdown",
   "id": "bed5924a",
   "metadata": {},
   "source": [
    "We choose the following indices that also appear in the paper and is available to get all constituent tickers through the above package for ease of data downloading: NASDAQ 100, FTSE 100, CAC 40, DAX."
   ]
  },
  {
   "cell_type": "code",
   "execution_count": 3,
   "id": "78c80512",
   "metadata": {},
   "outputs": [
    {
     "data": {
      "text/plain": [
       "['get_aex_nyc_yahoo_tickers',\n",
       " 'get_bel_20_nyc_yahoo_tickers',\n",
       " 'get_cac_40_nyc_yahoo_tickers',\n",
       " 'get_cac_mid_60_nyc_yahoo_tickers',\n",
       " 'get_cdax_nyc_yahoo_tickers',\n",
       " 'get_dax_nyc_yahoo_tickers',\n",
       " 'get_dow_jones_nyc_yahoo_tickers',\n",
       " 'get_euro_stoxx_50_nyc_yahoo_tickers',\n",
       " 'get_ftse_100_nyc_yahoo_tickers',\n",
       " 'get_ibex_35_nyc_yahoo_tickers',\n",
       " 'get_mdax_nyc_yahoo_tickers',\n",
       " 'get_moex_nyc_yahoo_tickers',\n",
       " 'get_nasdaq_100_nyc_yahoo_tickers',\n",
       " 'get_omx_helsinki_25_nyc_yahoo_tickers',\n",
       " 'get_omx_stockholm_30_nyc_yahoo_tickers',\n",
       " 'get_sdax_nyc_yahoo_tickers',\n",
       " 'get_sp_100_nyc_yahoo_tickers',\n",
       " 'get_sp_500_nyc_yahoo_tickers',\n",
       " 'get_sp_600_nyc_yahoo_tickers',\n",
       " 'get_switzerland_20_nyc_yahoo_tickers',\n",
       " 'get_tecdax_nyc_yahoo_tickers']"
      ]
     },
     "execution_count": 3,
     "metadata": {},
     "output_type": "execute_result"
    }
   ],
   "source": [
    "# Check methods for getting relevant index tickers data (for purposes of using them to download from yahoo finance)\n",
    "list(filter(lambda x: x.endswith('_nyc_yahoo_tickers'), dir(stock_data)))"
   ]
  },
  {
   "cell_type": "code",
   "execution_count": 4,
   "id": "29a8d5f6",
   "metadata": {},
   "outputs": [
    {
     "data": {
      "text/plain": [
       "{'NASDAQ 100': ['AZN',\n",
       "  'AZNCF',\n",
       "  'AAPL',\n",
       "  'CSCO',\n",
       "  'INTC',\n",
       "  'MSFT',\n",
       "  'WBA',\n",
       "  'ATVI',\n",
       "  'ADBE',\n",
       "  'GOOGL',\n",
       "  'GOOG',\n",
       "  'AMZN',\n",
       "  'AMGN',\n",
       "  'ADI',\n",
       "  'AMAT',\n",
       "  'ADSK',\n",
       "  'ADP',\n",
       "  'BIDU',\n",
       "  'BAIDF',\n",
       "  'BIIB',\n",
       "  'CHTR',\n",
       "  'CTSH',\n",
       "  'CMCSA',\n",
       "  'COST',\n",
       "  'CSX',\n",
       "  'DLTR',\n",
       "  'EBAY',\n",
       "  'EA',\n",
       "  'FAST',\n",
       "  'FISV',\n",
       "  'GILD',\n",
       "  'ILMN',\n",
       "  'INTU',\n",
       "  'ISRG',\n",
       "  'JD',\n",
       "  'JDCMF',\n",
       "  'KHC',\n",
       "  'LRCX',\n",
       "  'MAR',\n",
       "  '0P0000KQL0',\n",
       "  '0P0001I1JH',\n",
       "  'MCHP',\n",
       "  'MU',\n",
       "  'MDLZ',\n",
       "  'MNST',\n",
       "  'NTES',\n",
       "  'NETTF',\n",
       "  'NFLX',\n",
       "  'NVDA',\n",
       "  'NXPI',\n",
       "  'ORLY',\n",
       "  'PCAR',\n",
       "  'PAYX',\n",
       "  'PYPL',\n",
       "  'QCOM',\n",
       "  'REGN',\n",
       "  'ROST',\n",
       "  'SIRI',\n",
       "  'SWKS',\n",
       "  'SBUX',\n",
       "  'TMUS',\n",
       "  'TSLA',\n",
       "  'TXN',\n",
       "  'VRSK',\n",
       "  'VRTX',\n",
       "  'BKNG',\n",
       "  'EXC',\n",
       "  'HON',\n",
       "  'AMD',\n",
       "  'ALGN',\n",
       "  'AEP',\n",
       "  'ANSS',\n",
       "  'AVGO',\n",
       "  'CDNS',\n",
       "  'CTAS',\n",
       "  'STZ',\n",
       "  'CEG',\n",
       "  'CPRT',\n",
       "  'FTNT',\n",
       "  'IDXX',\n",
       "  'KLAC',\n",
       "  'SNPS',\n",
       "  'VRSN',\n",
       "  'ASMLF',\n",
       "  'ASML',\n",
       "  'DXCM',\n",
       "  'ODFL',\n",
       "  'PEP',\n",
       "  'XEL',\n",
       "  'TEAM',\n",
       "  'DOCU',\n",
       "  'KDP',\n",
       "  'LULU',\n",
       "  'MRVL',\n",
       "  'MTCH',\n",
       "  'MELI',\n",
       "  'MRNA',\n",
       "  'OKTA',\n",
       "  'PDD',\n",
       "  'SGEN',\n",
       "  'SPLK',\n",
       "  'WDAY',\n",
       "  'ZM',\n",
       "  'CRWD',\n",
       "  'ABNB',\n",
       "  'DDOG',\n",
       "  'PANW',\n",
       "  'ZS',\n",
       "  'META',\n",
       "  'LCID'],\n",
       " 'FTSE 100': ['TGOPY',\n",
       "  'TGOPF',\n",
       "  'AMIGY',\n",
       "  'AMIGF',\n",
       "  'AGPPF',\n",
       "  'NGLOY',\n",
       "  'ANFGF',\n",
       "  'AHT',\n",
       "  'ASHTY',\n",
       "  'ASHTF',\n",
       "  'ABF',\n",
       "  'ASBFY',\n",
       "  'ASBFF',\n",
       "  'AZN',\n",
       "  'AZNCF',\n",
       "  'AUTO',\n",
       "  'ATDRY',\n",
       "  'ATDRF',\n",
       "  'AVVIY',\n",
       "  'BAESY',\n",
       "  'INPTF',\n",
       "  'BCS',\n",
       "  'BCLYF',\n",
       "  'BDEV',\n",
       "  'BTDPY',\n",
       "  'BTDPF',\n",
       "  'BKG',\n",
       "  'BKGFF',\n",
       "  'BKGFY',\n",
       "  'BP',\n",
       "  'BPAQF',\n",
       "  'BTAFF',\n",
       "  'BTI',\n",
       "  'BTLCY',\n",
       "  'BRLAF',\n",
       "  'BT',\n",
       "  'BTGOF',\n",
       "  'BZLFF',\n",
       "  'BZLFY',\n",
       "  'BURBY',\n",
       "  'CPYYY',\n",
       "  'CPYYF',\n",
       "  'CCHGY',\n",
       "  'CCHBF',\n",
       "  'CMPGY',\n",
       "  'CMPGF',\n",
       "  'CRH',\n",
       "  'CRHCF',\n",
       "  'COIHF',\n",
       "  'COIHY',\n",
       "  'DCCPF',\n",
       "  'DEO',\n",
       "  'DGEAF',\n",
       "  'DITHF',\n",
       "  'EXPGY',\n",
       "  'EXPGF',\n",
       "  'FNLPF',\n",
       "  'GSK',\n",
       "  'GLAXF',\n",
       "  'GLNCY',\n",
       "  'HLMAF',\n",
       "  'HALMY',\n",
       "  'HRGLY',\n",
       "  'HRGLF',\n",
       "  'HSBC',\n",
       "  'HBCYF',\n",
       "  'IMBBF',\n",
       "  'IMBBY',\n",
       "  'IFPJF',\n",
       "  'IFJPY',\n",
       "  'ICHGF',\n",
       "  'IHG',\n",
       "  'ICAGY',\n",
       "  'BABWF',\n",
       "  'IKTSF',\n",
       "  'IKTSY',\n",
       "  'KGFHY',\n",
       "  'KGFHF',\n",
       "  'LGGNY',\n",
       "  'LGGNF',\n",
       "  'LYG',\n",
       "  'LLDTF',\n",
       "  'LNSTY',\n",
       "  'MLSPF',\n",
       "  'MLSYY',\n",
       "  'MONDY',\n",
       "  'MONDF',\n",
       "  'NGG',\n",
       "  'NGGTF',\n",
       "  'NXGPF',\n",
       "  'NXGPY',\n",
       "  'OCDGF',\n",
       "  'OCDDY',\n",
       "  'PDYPY',\n",
       "  'PSO',\n",
       "  'PSORF',\n",
       "  'PSMMY',\n",
       "  'PSMMF',\n",
       "  'PNXGF',\n",
       "  'PUKPF',\n",
       "  'PUK',\n",
       "  'RBGLY',\n",
       "  'RELX',\n",
       "  'RLXXF',\n",
       "  'RTOKY',\n",
       "  'RKLIF',\n",
       "  'RTO',\n",
       "  'RTMVY',\n",
       "  'RYCEF',\n",
       "  'RYCEY',\n",
       "  'RBS',\n",
       "  'NWG',\n",
       "  'RBSPF',\n",
       "  'SGPYY',\n",
       "  'SGGEF',\n",
       "  'JSAIY',\n",
       "  'JSNSF',\n",
       "  'SHNWF',\n",
       "  'SHNWD',\n",
       "  'STMZF',\n",
       "  'ESGRO',\n",
       "  'SEGXF',\n",
       "  'STRNY',\n",
       "  'SVTRF',\n",
       "  'SNN',\n",
       "  'SNNUF',\n",
       "  'SMGZY',\n",
       "  'SMGKF',\n",
       "  'SMFTF',\n",
       "  'SMFKY',\n",
       "  'SPXSF',\n",
       "  'SPXSY',\n",
       "  'STJPF',\n",
       "  'SCBFF',\n",
       "  'SCBFY',\n",
       "  'TWODF',\n",
       "  'TWODY',\n",
       "  'TSCDY',\n",
       "  'TSCDF',\n",
       "  'UL',\n",
       "  'UNLYF',\n",
       "  'UN',\n",
       "  'UUGRY',\n",
       "  'VOD',\n",
       "  'VODPF',\n",
       "  'WTBDY',\n",
       "  'WTBCF',\n",
       "  'WP',\n",
       "  'WPPGF',\n",
       "  'WPP',\n",
       "  'AVEVF',\n",
       "  'AVVYY',\n",
       "  'BMRRY',\n",
       "  'BMRPF',\n",
       "  'GMVHF',\n",
       "  'GMVHY',\n",
       "  'ICGUF',\n",
       "  'JDSPY',\n",
       "  'JDDSF',\n",
       "  'MGPUF',\n",
       "  'RIO',\n",
       "  'SSEZY',\n",
       "  'DRKTF',\n",
       "  'RDS-A',\n",
       "  'RDS-B',\n",
       "  'RYDAF',\n",
       "  'AAFRF',\n",
       "  'EDVMF',\n",
       "  'HWDJF',\n",
       "  'EENEF',\n",
       "  'CNVVY',\n",
       "  'DPHAY',\n",
       "  'DCHPF',\n",
       "  'HLNCF',\n",
       "  'HLN',\n",
       "  'PMOIF',\n",
       "  'HBRIY',\n",
       "  'HMSVF',\n",
       "  'PSHZF'],\n",
       " 'CAC 40': ['AIQUF',\n",
       "  'AIQUY',\n",
       "  'MT',\n",
       "  'AMSYF',\n",
       "  'AXAHF',\n",
       "  'AXAHY',\n",
       "  'BNPQF',\n",
       "  'BNPQY',\n",
       "  'BOUYF',\n",
       "  'BOUYY',\n",
       "  'CAPMF',\n",
       "  'CGEMY',\n",
       "  'CRERF',\n",
       "  'CRRFY',\n",
       "  'CRARF',\n",
       "  'GPDNF',\n",
       "  'DANOY',\n",
       "  'DASTY',\n",
       "  'ENGIY',\n",
       "  'ESLOF',\n",
       "  'ESLOY',\n",
       "  'HESAY',\n",
       "  'PPRUF',\n",
       "  'PPRUY',\n",
       "  'LRLCF',\n",
       "  'LGRDY',\n",
       "  'LGRVF',\n",
       "  'MGDDF',\n",
       "  'OCBI',\n",
       "  'ORAN',\n",
       "  'FNCTF',\n",
       "  'MBISF',\n",
       "  'PDRDF',\n",
       "  'PDRDY',\n",
       "  'PRNDY',\n",
       "  'PGPEF',\n",
       "  'PUBGY',\n",
       "  'RNSDF',\n",
       "  'RNLSY',\n",
       "  'SAFRF',\n",
       "  'SAFRY',\n",
       "  'CODGF',\n",
       "  'CODYY',\n",
       "  'SNYNF',\n",
       "  'SNY',\n",
       "  'SBGSF',\n",
       "  'SBGSY',\n",
       "  'STMEF',\n",
       "  'STM',\n",
       "  'TTFNF',\n",
       "  'TOT',\n",
       "  'TTE',\n",
       "  'UNBLF',\n",
       "  'UNIRF',\n",
       "  'VEOEY',\n",
       "  'VCISY',\n",
       "  'VCISF',\n",
       "  'VIVEF',\n",
       "  'VIVHY',\n",
       "  'WWLNF',\n",
       "  'WRDLY',\n",
       "  'BA',\n",
       "  'GE',\n",
       "  'ERFSF',\n",
       "  'THLLY',\n",
       "  'THLEF',\n",
       "  'LVMHF',\n",
       "  'SCGLF',\n",
       "  'STLA',\n",
       "  'TLPFY',\n",
       "  'TLPFF'],\n",
       " 'DAX': ['ADDDF',\n",
       "  'ADDYY',\n",
       "  'AZSEY',\n",
       "  'ALIZY',\n",
       "  'BFFAF',\n",
       "  'BASFY',\n",
       "  'BAYZF',\n",
       "  'BAYRY',\n",
       "  'BDRFY',\n",
       "  'BDRFF',\n",
       "  'BMWYY',\n",
       "  'CTTAF',\n",
       "  'CTTAY',\n",
       "  'COVTY',\n",
       "  'CVVTF',\n",
       "  'DB',\n",
       "  'DBOEY',\n",
       "  'DPSGY',\n",
       "  'DTEGF',\n",
       "  'DTEGY',\n",
       "  'ENAKF',\n",
       "  'EONGY',\n",
       "  'FMS',\n",
       "  'FMCQF',\n",
       "  'FSNUY',\n",
       "  'FSNUF',\n",
       "  'HLBZF',\n",
       "  'HDELY',\n",
       "  'HENKY',\n",
       "  'IFNNF',\n",
       "  'IFNNY',\n",
       "  'LIN',\n",
       "  'MKGAF',\n",
       "  'MKKGY',\n",
       "  'MURGY',\n",
       "  'RWEOY',\n",
       "  'SAP',\n",
       "  'SAPGF',\n",
       "  'SMAWF',\n",
       "  'SIEGY',\n",
       "  'SI',\n",
       "  'VLKAF',\n",
       "  'VWAGY',\n",
       "  'VNNVF',\n",
       "  'VONOY',\n",
       "  'EADSF',\n",
       "  'EADSY',\n",
       "  'BNTGY',\n",
       "  'BNTGF',\n",
       "  'HVRRY',\n",
       "  'MTUAF',\n",
       "  'MTUAY',\n",
       "  'PMMAF',\n",
       "  'PUMSY',\n",
       "  'QGEN',\n",
       "  'SUVPF',\n",
       "  'SARTF',\n",
       "  'SOAGY',\n",
       "  'SSSGY',\n",
       "  'SMMNY',\n",
       "  'SYIEY',\n",
       "  'SYIEF',\n",
       "  'ZLDSF',\n",
       "  'ZLNDY',\n",
       "  'SMEGF',\n",
       "  'SMNEY',\n",
       "  'POAHY',\n",
       "  'DTRUY',\n",
       "  'MBGAF']}"
      ]
     },
     "execution_count": 4,
     "metadata": {},
     "output_type": "execute_result"
    }
   ],
   "source": [
    "# Retrieve ticker symbols (for yahoo finance) from above methods\n",
    "indices = {\n",
    "    'NASDAQ 100': stock_data.get_nasdaq_100_nyc_yahoo_tickers(),\n",
    "    'FTSE 100': stock_data.get_ftse_100_nyc_yahoo_tickers(),\n",
    "    'CAC 40': stock_data.get_cac_40_nyc_yahoo_tickers(),\n",
    "    'DAX': stock_data.get_dax_nyc_yahoo_tickers()\n",
    "}\n",
    "\n",
    "indices"
   ]
  },
  {
   "cell_type": "code",
   "execution_count": 5,
   "id": "3af44201",
   "metadata": {},
   "outputs": [
    {
     "name": "stdout",
     "output_type": "stream",
     "text": [
      "NASDAQ 100\n"
     ]
    },
    {
     "name": "stderr",
     "output_type": "stream",
     "text": [
      "  0%|          | 0/110 [00:00<?, ?it/s]"
     ]
    },
    {
     "name": "stdout",
     "output_type": "stream",
     "text": [
      "[*********************100%***********************]  1 of 1 completed"
     ]
    },
    {
     "name": "stderr",
     "output_type": "stream",
     "text": [
      "  1%|          | 1/110 [00:02<03:52,  2.13s/it]"
     ]
    },
    {
     "name": "stdout",
     "output_type": "stream",
     "text": [
      "\n",
      "[*********************100%***********************]  1 of 1 completed"
     ]
    },
    {
     "name": "stderr",
     "output_type": "stream",
     "text": [
      "  2%|▏         | 2/110 [00:03<02:57,  1.64s/it]"
     ]
    },
    {
     "name": "stdout",
     "output_type": "stream",
     "text": [
      "\n",
      "[*********************100%***********************]  1 of 1 completed"
     ]
    },
    {
     "name": "stderr",
     "output_type": "stream",
     "text": [
      "  3%|▎         | 3/110 [00:05<03:03,  1.72s/it]"
     ]
    },
    {
     "name": "stdout",
     "output_type": "stream",
     "text": [
      "\n",
      "[*********************100%***********************]  1 of 1 completed"
     ]
    },
    {
     "name": "stderr",
     "output_type": "stream",
     "text": [
      "  4%|▎         | 4/110 [00:06<02:57,  1.67s/it]"
     ]
    },
    {
     "name": "stdout",
     "output_type": "stream",
     "text": [
      "\n",
      "[*********************100%***********************]  1 of 1 completed"
     ]
    },
    {
     "name": "stderr",
     "output_type": "stream",
     "text": [
      "  5%|▍         | 5/110 [00:08<02:54,  1.66s/it]"
     ]
    },
    {
     "name": "stdout",
     "output_type": "stream",
     "text": [
      "\n",
      "[*********************100%***********************]  1 of 1 completed"
     ]
    },
    {
     "name": "stderr",
     "output_type": "stream",
     "text": [
      "  5%|▌         | 6/110 [00:10<02:51,  1.65s/it]"
     ]
    },
    {
     "name": "stdout",
     "output_type": "stream",
     "text": [
      "\n",
      "[*********************100%***********************]  1 of 1 completed"
     ]
    },
    {
     "name": "stderr",
     "output_type": "stream",
     "text": [
      "  6%|▋         | 7/110 [00:11<02:48,  1.63s/it]"
     ]
    },
    {
     "name": "stdout",
     "output_type": "stream",
     "text": [
      "\n",
      "[*********************100%***********************]  1 of 1 completed"
     ]
    },
    {
     "name": "stderr",
     "output_type": "stream",
     "text": [
      "\n",
      "1 Failed download:\n",
      "['ATVI']: Exception('%ticker%: No timezone found, symbol may be delisted')\n",
      "  7%|▋         | 8/110 [00:12<02:19,  1.37s/it]"
     ]
    },
    {
     "name": "stdout",
     "output_type": "stream",
     "text": [
      "\n",
      "[*********************100%***********************]  1 of 1 completed"
     ]
    },
    {
     "name": "stderr",
     "output_type": "stream",
     "text": [
      "  8%|▊         | 9/110 [00:14<02:26,  1.45s/it]"
     ]
    },
    {
     "name": "stdout",
     "output_type": "stream",
     "text": [
      "\n",
      "[*********************100%***********************]  1 of 1 completed"
     ]
    },
    {
     "name": "stderr",
     "output_type": "stream",
     "text": [
      "  9%|▉         | 10/110 [00:15<02:29,  1.49s/it]"
     ]
    },
    {
     "name": "stdout",
     "output_type": "stream",
     "text": [
      "\n",
      "[*********************100%***********************]  1 of 1 completed"
     ]
    },
    {
     "name": "stderr",
     "output_type": "stream",
     "text": [
      " 10%|█         | 11/110 [00:17<02:31,  1.53s/it]"
     ]
    },
    {
     "name": "stdout",
     "output_type": "stream",
     "text": [
      "\n",
      "[*********************100%***********************]  1 of 1 completed"
     ]
    },
    {
     "name": "stderr",
     "output_type": "stream",
     "text": [
      " 11%|█         | 12/110 [00:18<02:30,  1.54s/it]"
     ]
    },
    {
     "name": "stdout",
     "output_type": "stream",
     "text": [
      "\n",
      "[*********************100%***********************]  1 of 1 completed"
     ]
    },
    {
     "name": "stderr",
     "output_type": "stream",
     "text": [
      " 12%|█▏        | 13/110 [00:20<02:30,  1.55s/it]"
     ]
    },
    {
     "name": "stdout",
     "output_type": "stream",
     "text": [
      "\n",
      "[*********************100%***********************]  1 of 1 completed"
     ]
    },
    {
     "name": "stderr",
     "output_type": "stream",
     "text": [
      " 13%|█▎        | 14/110 [00:22<02:31,  1.58s/it]"
     ]
    },
    {
     "name": "stdout",
     "output_type": "stream",
     "text": [
      "\n",
      "[*********************100%***********************]  1 of 1 completed"
     ]
    },
    {
     "name": "stderr",
     "output_type": "stream",
     "text": [
      " 14%|█▎        | 15/110 [00:23<02:31,  1.59s/it]"
     ]
    },
    {
     "name": "stdout",
     "output_type": "stream",
     "text": [
      "\n",
      "[*********************100%***********************]  1 of 1 completed"
     ]
    },
    {
     "name": "stderr",
     "output_type": "stream",
     "text": [
      " 15%|█▍        | 16/110 [00:25<02:31,  1.61s/it]"
     ]
    },
    {
     "name": "stdout",
     "output_type": "stream",
     "text": [
      "\n",
      "[*********************100%***********************]  1 of 1 completed"
     ]
    },
    {
     "name": "stderr",
     "output_type": "stream",
     "text": [
      " 15%|█▌        | 17/110 [00:27<02:31,  1.63s/it]"
     ]
    },
    {
     "name": "stdout",
     "output_type": "stream",
     "text": [
      "\n",
      "[*********************100%***********************]  1 of 1 completed"
     ]
    },
    {
     "name": "stderr",
     "output_type": "stream",
     "text": [
      " 16%|█▋        | 18/110 [00:28<02:26,  1.59s/it]"
     ]
    },
    {
     "name": "stdout",
     "output_type": "stream",
     "text": [
      "\n",
      "[*********************100%***********************]  1 of 1 completed"
     ]
    },
    {
     "name": "stderr",
     "output_type": "stream",
     "text": [
      "\n",
      "1 Failed download:\n",
      "['BAIDF']: Exception(\"%ticker%: Data doesn't exist for startDate = 946702800, endDate = 1534392000\")\n",
      " 17%|█▋        | 19/110 [00:29<02:03,  1.36s/it]"
     ]
    },
    {
     "name": "stdout",
     "output_type": "stream",
     "text": [
      "\n",
      "[*********************100%***********************]  1 of 1 completed"
     ]
    },
    {
     "name": "stderr",
     "output_type": "stream",
     "text": [
      " 18%|█▊        | 20/110 [00:30<02:08,  1.42s/it]"
     ]
    },
    {
     "name": "stdout",
     "output_type": "stream",
     "text": [
      "\n",
      "[*********************100%***********************]  1 of 1 completed"
     ]
    },
    {
     "name": "stderr",
     "output_type": "stream",
     "text": [
      " 19%|█▉        | 21/110 [00:32<02:03,  1.39s/it]"
     ]
    },
    {
     "name": "stdout",
     "output_type": "stream",
     "text": [
      "\n",
      "[*********************100%***********************]  1 of 1 completed"
     ]
    },
    {
     "name": "stderr",
     "output_type": "stream",
     "text": [
      " 20%|██        | 22/110 [00:33<02:08,  1.46s/it]"
     ]
    },
    {
     "name": "stdout",
     "output_type": "stream",
     "text": [
      "\n",
      "[*********************100%***********************]  1 of 1 completed"
     ]
    },
    {
     "name": "stderr",
     "output_type": "stream",
     "text": [
      " 21%|██        | 23/110 [00:35<02:11,  1.51s/it]"
     ]
    },
    {
     "name": "stdout",
     "output_type": "stream",
     "text": [
      "\n",
      "[*********************100%***********************]  1 of 1 completed"
     ]
    },
    {
     "name": "stderr",
     "output_type": "stream",
     "text": [
      " 22%|██▏       | 24/110 [00:37<02:13,  1.55s/it]"
     ]
    },
    {
     "name": "stdout",
     "output_type": "stream",
     "text": [
      "\n",
      "[*********************100%***********************]  1 of 1 completed"
     ]
    },
    {
     "name": "stderr",
     "output_type": "stream",
     "text": [
      " 23%|██▎       | 25/110 [00:39<02:20,  1.66s/it]"
     ]
    },
    {
     "name": "stdout",
     "output_type": "stream",
     "text": [
      "\n",
      "[*********************100%***********************]  1 of 1 completed"
     ]
    },
    {
     "name": "stderr",
     "output_type": "stream",
     "text": [
      " 24%|██▎       | 26/110 [00:40<02:19,  1.66s/it]"
     ]
    },
    {
     "name": "stdout",
     "output_type": "stream",
     "text": [
      "\n",
      "[*********************100%***********************]  1 of 1 completed"
     ]
    },
    {
     "name": "stderr",
     "output_type": "stream",
     "text": [
      " 25%|██▍       | 27/110 [00:42<02:16,  1.64s/it]"
     ]
    },
    {
     "name": "stdout",
     "output_type": "stream",
     "text": [
      "\n",
      "[*********************100%***********************]  1 of 1 completed"
     ]
    },
    {
     "name": "stderr",
     "output_type": "stream",
     "text": [
      " 25%|██▌       | 28/110 [00:43<02:13,  1.63s/it]"
     ]
    },
    {
     "name": "stdout",
     "output_type": "stream",
     "text": [
      "\n",
      "[*********************100%***********************]  1 of 1 completed"
     ]
    },
    {
     "name": "stderr",
     "output_type": "stream",
     "text": [
      " 26%|██▋       | 29/110 [00:45<02:12,  1.64s/it]"
     ]
    },
    {
     "name": "stdout",
     "output_type": "stream",
     "text": [
      "\n",
      "[*********************100%***********************]  1 of 1 completed"
     ]
    },
    {
     "name": "stderr",
     "output_type": "stream",
     "text": [
      "\n",
      "1 Failed download:\n",
      "['FISV']: Exception(\"%ticker%: Data doesn't exist for startDate = 946702800, endDate = 1534392000\")\n",
      " 27%|██▋       | 30/110 [00:46<01:50,  1.38s/it]"
     ]
    },
    {
     "name": "stdout",
     "output_type": "stream",
     "text": [
      "\n",
      "[*********************100%***********************]  1 of 1 completed"
     ]
    },
    {
     "name": "stderr",
     "output_type": "stream",
     "text": [
      " 28%|██▊       | 31/110 [00:47<01:53,  1.44s/it]"
     ]
    },
    {
     "name": "stdout",
     "output_type": "stream",
     "text": [
      "\n",
      "[*********************100%***********************]  1 of 1 completed"
     ]
    },
    {
     "name": "stderr",
     "output_type": "stream",
     "text": [
      " 29%|██▉       | 32/110 [00:49<01:56,  1.49s/it]"
     ]
    },
    {
     "name": "stdout",
     "output_type": "stream",
     "text": [
      "\n",
      "[*********************100%***********************]  1 of 1 completed"
     ]
    },
    {
     "name": "stderr",
     "output_type": "stream",
     "text": [
      " 30%|███       | 33/110 [00:51<01:59,  1.55s/it]"
     ]
    },
    {
     "name": "stdout",
     "output_type": "stream",
     "text": [
      "\n",
      "[*********************100%***********************]  1 of 1 completed"
     ]
    },
    {
     "name": "stderr",
     "output_type": "stream",
     "text": [
      " 31%|███       | 34/110 [00:52<01:59,  1.57s/it]"
     ]
    },
    {
     "name": "stdout",
     "output_type": "stream",
     "text": [
      "\n",
      "[*********************100%***********************]  1 of 1 completed"
     ]
    },
    {
     "name": "stderr",
     "output_type": "stream",
     "text": [
      " 32%|███▏      | 35/110 [00:54<01:50,  1.47s/it]"
     ]
    },
    {
     "name": "stdout",
     "output_type": "stream",
     "text": [
      "\n",
      "[*********************100%***********************]  1 of 1 completed"
     ]
    },
    {
     "name": "stderr",
     "output_type": "stream",
     "text": [
      "\n",
      "1 Failed download:\n",
      "['JDCMF']: Exception(\"%ticker%: Data doesn't exist for startDate = 946702800, endDate = 1534392000\")\n",
      " 33%|███▎      | 36/110 [00:54<01:33,  1.27s/it]"
     ]
    },
    {
     "name": "stdout",
     "output_type": "stream",
     "text": [
      "\n",
      "[*********************100%***********************]  1 of 1 completed"
     ]
    },
    {
     "name": "stderr",
     "output_type": "stream",
     "text": [
      " 34%|███▎      | 37/110 [00:55<01:28,  1.21s/it]"
     ]
    },
    {
     "name": "stdout",
     "output_type": "stream",
     "text": [
      "\n",
      "[*********************100%***********************]  1 of 1 completed"
     ]
    },
    {
     "name": "stderr",
     "output_type": "stream",
     "text": [
      " 35%|███▍      | 38/110 [00:57<01:36,  1.35s/it]"
     ]
    },
    {
     "name": "stdout",
     "output_type": "stream",
     "text": [
      "\n",
      "[*********************100%***********************]  1 of 1 completed"
     ]
    },
    {
     "name": "stderr",
     "output_type": "stream",
     "text": [
      " 35%|███▌      | 39/110 [00:59<01:41,  1.42s/it]"
     ]
    },
    {
     "name": "stdout",
     "output_type": "stream",
     "text": [
      "\n",
      "[*********************100%***********************]  1 of 1 completed"
     ]
    },
    {
     "name": "stderr",
     "output_type": "stream",
     "text": [
      "\n",
      "1 Failed download:\n",
      "['0P0000KQL0']: Exception(\"%ticker%: Data doesn't exist for startDate = 946702800, endDate = 1534392000\")\n",
      " 36%|███▋      | 40/110 [01:00<01:25,  1.22s/it]"
     ]
    },
    {
     "name": "stdout",
     "output_type": "stream",
     "text": [
      "\n",
      "[*********************100%***********************]  1 of 1 completed"
     ]
    },
    {
     "name": "stderr",
     "output_type": "stream",
     "text": [
      "\n",
      "1 Failed download:\n",
      "['0P0001I1JH']: Exception(\"%ticker%: Data doesn't exist for startDate = 946702800, endDate = 1534392000\")\n",
      " 37%|███▋      | 41/110 [01:00<01:14,  1.08s/it]"
     ]
    },
    {
     "name": "stdout",
     "output_type": "stream",
     "text": [
      "\n",
      "[*********************100%***********************]  1 of 1 completed"
     ]
    },
    {
     "name": "stderr",
     "output_type": "stream",
     "text": [
      " 38%|███▊      | 42/110 [01:02<01:24,  1.25s/it]"
     ]
    },
    {
     "name": "stdout",
     "output_type": "stream",
     "text": [
      "\n",
      "[*********************100%***********************]  1 of 1 completed"
     ]
    },
    {
     "name": "stderr",
     "output_type": "stream",
     "text": [
      " 39%|███▉      | 43/110 [01:04<01:31,  1.37s/it]"
     ]
    },
    {
     "name": "stdout",
     "output_type": "stream",
     "text": [
      "\n",
      "[*********************100%***********************]  1 of 1 completed"
     ]
    },
    {
     "name": "stderr",
     "output_type": "stream",
     "text": [
      " 40%|████      | 44/110 [01:05<01:34,  1.44s/it]"
     ]
    },
    {
     "name": "stdout",
     "output_type": "stream",
     "text": [
      "\n",
      "[*********************100%***********************]  1 of 1 completed"
     ]
    },
    {
     "name": "stderr",
     "output_type": "stream",
     "text": [
      " 41%|████      | 45/110 [01:07<01:36,  1.49s/it]"
     ]
    },
    {
     "name": "stdout",
     "output_type": "stream",
     "text": [
      "\n",
      "[*********************100%***********************]  1 of 1 completed"
     ]
    },
    {
     "name": "stderr",
     "output_type": "stream",
     "text": [
      " 42%|████▏     | 46/110 [01:08<01:37,  1.53s/it]"
     ]
    },
    {
     "name": "stdout",
     "output_type": "stream",
     "text": [
      "\n",
      "[*********************100%***********************]  1 of 1 completed"
     ]
    },
    {
     "name": "stderr",
     "output_type": "stream",
     "text": [
      "\n",
      "1 Failed download:\n",
      "['NETTF']: Exception(\"%ticker%: Data doesn't exist for startDate = 946702800, endDate = 1534392000\")\n",
      " 43%|████▎     | 47/110 [01:09<01:22,  1.30s/it]"
     ]
    },
    {
     "name": "stdout",
     "output_type": "stream",
     "text": [
      "\n",
      "[*********************100%***********************]  1 of 1 completed"
     ]
    },
    {
     "name": "stderr",
     "output_type": "stream",
     "text": [
      " 44%|████▎     | 48/110 [01:11<01:25,  1.39s/it]"
     ]
    },
    {
     "name": "stdout",
     "output_type": "stream",
     "text": [
      "\n",
      "[*********************100%***********************]  1 of 1 completed"
     ]
    },
    {
     "name": "stderr",
     "output_type": "stream",
     "text": [
      " 45%|████▍     | 49/110 [01:12<01:29,  1.47s/it]"
     ]
    },
    {
     "name": "stdout",
     "output_type": "stream",
     "text": [
      "\n",
      "[*********************100%***********************]  1 of 1 completed"
     ]
    },
    {
     "name": "stderr",
     "output_type": "stream",
     "text": [
      " 45%|████▌     | 50/110 [01:14<01:26,  1.44s/it]"
     ]
    },
    {
     "name": "stdout",
     "output_type": "stream",
     "text": [
      "\n",
      "[*********************100%***********************]  1 of 1 completed"
     ]
    },
    {
     "name": "stderr",
     "output_type": "stream",
     "text": [
      " 46%|████▋     | 51/110 [01:15<01:29,  1.51s/it]"
     ]
    },
    {
     "name": "stdout",
     "output_type": "stream",
     "text": [
      "\n",
      "[*********************100%***********************]  1 of 1 completed"
     ]
    },
    {
     "name": "stderr",
     "output_type": "stream",
     "text": [
      " 47%|████▋     | 52/110 [01:17<01:31,  1.58s/it]"
     ]
    },
    {
     "name": "stdout",
     "output_type": "stream",
     "text": [
      "\n",
      "[*********************100%***********************]  1 of 1 completed"
     ]
    },
    {
     "name": "stderr",
     "output_type": "stream",
     "text": [
      " 48%|████▊     | 53/110 [01:19<01:31,  1.60s/it]"
     ]
    },
    {
     "name": "stdout",
     "output_type": "stream",
     "text": [
      "\n",
      "[*********************100%***********************]  1 of 1 completed"
     ]
    },
    {
     "name": "stderr",
     "output_type": "stream",
     "text": [
      " 49%|████▉     | 54/110 [01:20<01:20,  1.44s/it]"
     ]
    },
    {
     "name": "stdout",
     "output_type": "stream",
     "text": [
      "\n",
      "[*********************100%***********************]  1 of 1 completed"
     ]
    },
    {
     "name": "stderr",
     "output_type": "stream",
     "text": [
      " 50%|█████     | 55/110 [01:22<01:22,  1.50s/it]"
     ]
    },
    {
     "name": "stdout",
     "output_type": "stream",
     "text": [
      "\n",
      "[*********************100%***********************]  1 of 1 completed"
     ]
    },
    {
     "name": "stderr",
     "output_type": "stream",
     "text": [
      " 51%|█████     | 56/110 [01:23<01:22,  1.52s/it]"
     ]
    },
    {
     "name": "stdout",
     "output_type": "stream",
     "text": [
      "\n",
      "[*********************100%***********************]  1 of 1 completed"
     ]
    },
    {
     "name": "stderr",
     "output_type": "stream",
     "text": [
      " 52%|█████▏    | 57/110 [01:25<01:24,  1.59s/it]"
     ]
    },
    {
     "name": "stdout",
     "output_type": "stream",
     "text": [
      "\n",
      "[*********************100%***********************]  1 of 1 completed"
     ]
    },
    {
     "name": "stderr",
     "output_type": "stream",
     "text": [
      " 53%|█████▎    | 58/110 [01:26<01:21,  1.57s/it]"
     ]
    },
    {
     "name": "stdout",
     "output_type": "stream",
     "text": [
      "\n",
      "[*********************100%***********************]  1 of 1 completed"
     ]
    },
    {
     "name": "stderr",
     "output_type": "stream",
     "text": [
      " 54%|█████▎    | 59/110 [01:28<01:21,  1.59s/it]"
     ]
    },
    {
     "name": "stdout",
     "output_type": "stream",
     "text": [
      "\n",
      "[*********************100%***********************]  1 of 1 completed"
     ]
    },
    {
     "name": "stderr",
     "output_type": "stream",
     "text": [
      " 55%|█████▍    | 60/110 [01:30<01:22,  1.64s/it]"
     ]
    },
    {
     "name": "stdout",
     "output_type": "stream",
     "text": [
      "\n",
      "[*********************100%***********************]  1 of 1 completed"
     ]
    },
    {
     "name": "stderr",
     "output_type": "stream",
     "text": [
      " 55%|█████▌    | 61/110 [01:31<01:16,  1.57s/it]"
     ]
    },
    {
     "name": "stdout",
     "output_type": "stream",
     "text": [
      "\n",
      "[*********************100%***********************]  1 of 1 completed"
     ]
    },
    {
     "name": "stderr",
     "output_type": "stream",
     "text": [
      " 56%|█████▋    | 62/110 [01:32<01:11,  1.49s/it]"
     ]
    },
    {
     "name": "stdout",
     "output_type": "stream",
     "text": [
      "\n",
      "[*********************100%***********************]  1 of 1 completed"
     ]
    },
    {
     "name": "stderr",
     "output_type": "stream",
     "text": [
      " 57%|█████▋    | 63/110 [01:34<01:13,  1.56s/it]"
     ]
    },
    {
     "name": "stdout",
     "output_type": "stream",
     "text": [
      "\n",
      "[*********************100%***********************]  1 of 1 completed"
     ]
    },
    {
     "name": "stderr",
     "output_type": "stream",
     "text": [
      " 58%|█████▊    | 64/110 [01:36<01:11,  1.55s/it]"
     ]
    },
    {
     "name": "stdout",
     "output_type": "stream",
     "text": [
      "\n",
      "[*********************100%***********************]  1 of 1 completed"
     ]
    },
    {
     "name": "stderr",
     "output_type": "stream",
     "text": [
      " 59%|█████▉    | 65/110 [01:37<01:09,  1.55s/it]"
     ]
    },
    {
     "name": "stdout",
     "output_type": "stream",
     "text": [
      "\n",
      "[*********************100%***********************]  1 of 1 completed"
     ]
    },
    {
     "name": "stderr",
     "output_type": "stream",
     "text": [
      " 60%|██████    | 66/110 [01:39<01:12,  1.64s/it]"
     ]
    },
    {
     "name": "stdout",
     "output_type": "stream",
     "text": [
      "\n",
      "[*********************100%***********************]  1 of 1 completed"
     ]
    },
    {
     "name": "stderr",
     "output_type": "stream",
     "text": [
      " 61%|██████    | 67/110 [01:41<01:11,  1.67s/it]"
     ]
    },
    {
     "name": "stdout",
     "output_type": "stream",
     "text": [
      "\n",
      "[*********************100%***********************]  1 of 1 completed"
     ]
    },
    {
     "name": "stderr",
     "output_type": "stream",
     "text": [
      " 62%|██████▏   | 68/110 [01:43<01:11,  1.71s/it]"
     ]
    },
    {
     "name": "stdout",
     "output_type": "stream",
     "text": [
      "\n",
      "[*********************100%***********************]  1 of 1 completed"
     ]
    },
    {
     "name": "stderr",
     "output_type": "stream",
     "text": [
      " 63%|██████▎   | 69/110 [01:44<01:08,  1.67s/it]"
     ]
    },
    {
     "name": "stdout",
     "output_type": "stream",
     "text": [
      "\n",
      "[*********************100%***********************]  1 of 1 completed"
     ]
    },
    {
     "name": "stderr",
     "output_type": "stream",
     "text": [
      " 64%|██████▎   | 70/110 [01:46<01:05,  1.64s/it]"
     ]
    },
    {
     "name": "stdout",
     "output_type": "stream",
     "text": [
      "\n",
      "[*********************100%***********************]  1 of 1 completed"
     ]
    },
    {
     "name": "stderr",
     "output_type": "stream",
     "text": [
      " 65%|██████▍   | 71/110 [01:48<01:04,  1.66s/it]"
     ]
    },
    {
     "name": "stdout",
     "output_type": "stream",
     "text": [
      "\n",
      "[*********************100%***********************]  1 of 1 completed"
     ]
    },
    {
     "name": "stderr",
     "output_type": "stream",
     "text": [
      " 65%|██████▌   | 72/110 [01:49<01:02,  1.65s/it]"
     ]
    },
    {
     "name": "stdout",
     "output_type": "stream",
     "text": [
      "\n",
      "[*********************100%***********************]  1 of 1 completed"
     ]
    },
    {
     "name": "stderr",
     "output_type": "stream",
     "text": [
      " 66%|██████▋   | 73/110 [01:51<00:59,  1.61s/it]"
     ]
    },
    {
     "name": "stdout",
     "output_type": "stream",
     "text": [
      "\n",
      "[*********************100%***********************]  1 of 1 completed"
     ]
    },
    {
     "name": "stderr",
     "output_type": "stream",
     "text": [
      " 67%|██████▋   | 74/110 [01:52<00:57,  1.59s/it]"
     ]
    },
    {
     "name": "stdout",
     "output_type": "stream",
     "text": [
      "\n",
      "[*********************100%***********************]  1 of 1 completed"
     ]
    },
    {
     "name": "stderr",
     "output_type": "stream",
     "text": [
      " 68%|██████▊   | 75/110 [01:54<00:57,  1.65s/it]"
     ]
    },
    {
     "name": "stdout",
     "output_type": "stream",
     "text": [
      "\n",
      "[*********************100%***********************]  1 of 1 completed"
     ]
    },
    {
     "name": "stderr",
     "output_type": "stream",
     "text": [
      " 69%|██████▉   | 76/110 [01:56<00:56,  1.67s/it]"
     ]
    },
    {
     "name": "stdout",
     "output_type": "stream",
     "text": [
      "\n",
      "[*********************100%***********************]  1 of 1 completed"
     ]
    },
    {
     "name": "stderr",
     "output_type": "stream",
     "text": [
      "\n",
      "1 Failed download:\n",
      "['CEG']: Exception(\"%ticker%: Data doesn't exist for startDate = 946702800, endDate = 1534392000\")\n",
      " 70%|███████   | 77/110 [01:57<00:46,  1.42s/it]"
     ]
    },
    {
     "name": "stdout",
     "output_type": "stream",
     "text": [
      "\n",
      "[*********************100%***********************]  1 of 1 completed"
     ]
    },
    {
     "name": "stderr",
     "output_type": "stream",
     "text": [
      " 71%|███████   | 78/110 [01:58<00:47,  1.50s/it]"
     ]
    },
    {
     "name": "stdout",
     "output_type": "stream",
     "text": [
      "\n",
      "[*********************100%***********************]  1 of 1 completed"
     ]
    },
    {
     "name": "stderr",
     "output_type": "stream",
     "text": [
      " 72%|███████▏  | 79/110 [02:00<00:44,  1.44s/it]"
     ]
    },
    {
     "name": "stdout",
     "output_type": "stream",
     "text": [
      "\n",
      "[*********************100%***********************]  1 of 1 completed"
     ]
    },
    {
     "name": "stderr",
     "output_type": "stream",
     "text": [
      " 73%|███████▎  | 80/110 [02:01<00:44,  1.50s/it]"
     ]
    },
    {
     "name": "stdout",
     "output_type": "stream",
     "text": [
      "\n",
      "[*********************100%***********************]  1 of 1 completed"
     ]
    },
    {
     "name": "stderr",
     "output_type": "stream",
     "text": [
      " 74%|███████▎  | 81/110 [02:03<00:44,  1.55s/it]"
     ]
    },
    {
     "name": "stdout",
     "output_type": "stream",
     "text": [
      "\n",
      "[*********************100%***********************]  1 of 1 completed"
     ]
    },
    {
     "name": "stderr",
     "output_type": "stream",
     "text": [
      " 75%|███████▍  | 82/110 [02:04<00:43,  1.57s/it]"
     ]
    },
    {
     "name": "stdout",
     "output_type": "stream",
     "text": [
      "\n",
      "[*********************100%***********************]  1 of 1 completed"
     ]
    },
    {
     "name": "stderr",
     "output_type": "stream",
     "text": [
      " 75%|███████▌  | 83/110 [02:06<00:42,  1.56s/it]"
     ]
    },
    {
     "name": "stdout",
     "output_type": "stream",
     "text": [
      "\n",
      "[*********************100%***********************]  1 of 1 completed"
     ]
    },
    {
     "name": "stderr",
     "output_type": "stream",
     "text": [
      " 76%|███████▋  | 84/110 [02:07<00:36,  1.42s/it]"
     ]
    },
    {
     "name": "stdout",
     "output_type": "stream",
     "text": [
      "\n",
      "[*********************100%***********************]  1 of 1 completed"
     ]
    },
    {
     "name": "stderr",
     "output_type": "stream",
     "text": [
      " 77%|███████▋  | 85/110 [02:09<00:37,  1.48s/it]"
     ]
    },
    {
     "name": "stdout",
     "output_type": "stream",
     "text": [
      "\n",
      "[*********************100%***********************]  1 of 1 completed"
     ]
    },
    {
     "name": "stderr",
     "output_type": "stream",
     "text": [
      " 78%|███████▊  | 86/110 [02:10<00:35,  1.48s/it]"
     ]
    },
    {
     "name": "stdout",
     "output_type": "stream",
     "text": [
      "\n",
      "[*********************100%***********************]  1 of 1 completed"
     ]
    },
    {
     "name": "stderr",
     "output_type": "stream",
     "text": [
      " 79%|███████▉  | 87/110 [02:12<00:34,  1.52s/it]"
     ]
    },
    {
     "name": "stdout",
     "output_type": "stream",
     "text": [
      "\n",
      "[*********************100%***********************]  1 of 1 completed"
     ]
    },
    {
     "name": "stderr",
     "output_type": "stream",
     "text": [
      " 80%|████████  | 88/110 [02:14<00:34,  1.58s/it]"
     ]
    },
    {
     "name": "stdout",
     "output_type": "stream",
     "text": [
      "\n",
      "[*********************100%***********************]  1 of 1 completed"
     ]
    },
    {
     "name": "stderr",
     "output_type": "stream",
     "text": [
      " 81%|████████  | 89/110 [02:15<00:33,  1.61s/it]"
     ]
    },
    {
     "name": "stdout",
     "output_type": "stream",
     "text": [
      "\n",
      "[*********************100%***********************]  1 of 1 completed"
     ]
    },
    {
     "name": "stderr",
     "output_type": "stream",
     "text": [
      " 82%|████████▏ | 90/110 [02:16<00:29,  1.46s/it]"
     ]
    },
    {
     "name": "stdout",
     "output_type": "stream",
     "text": [
      "\n",
      "[*********************100%***********************]  1 of 1 completed"
     ]
    },
    {
     "name": "stderr",
     "output_type": "stream",
     "text": [
      " 83%|████████▎ | 91/110 [02:17<00:23,  1.26s/it]"
     ]
    },
    {
     "name": "stdout",
     "output_type": "stream",
     "text": [
      "\n",
      "[*********************100%***********************]  1 of 1 completed"
     ]
    },
    {
     "name": "stderr",
     "output_type": "stream",
     "text": [
      " 84%|████████▎ | 92/110 [02:18<00:23,  1.29s/it]"
     ]
    },
    {
     "name": "stdout",
     "output_type": "stream",
     "text": [
      "\n",
      "[*********************100%***********************]  1 of 1 completed"
     ]
    },
    {
     "name": "stderr",
     "output_type": "stream",
     "text": [
      " 85%|████████▍ | 93/110 [02:20<00:22,  1.32s/it]"
     ]
    },
    {
     "name": "stdout",
     "output_type": "stream",
     "text": [
      "\n",
      "[*********************100%***********************]  1 of 1 completed"
     ]
    },
    {
     "name": "stderr",
     "output_type": "stream",
     "text": [
      " 85%|████████▌ | 94/110 [02:21<00:22,  1.41s/it]"
     ]
    },
    {
     "name": "stdout",
     "output_type": "stream",
     "text": [
      "\n",
      "[*********************100%***********************]  1 of 1 completed"
     ]
    },
    {
     "name": "stderr",
     "output_type": "stream",
     "text": [
      " 86%|████████▋ | 95/110 [02:23<00:23,  1.54s/it]"
     ]
    },
    {
     "name": "stdout",
     "output_type": "stream",
     "text": [
      "\n",
      "[*********************100%***********************]  1 of 1 completed"
     ]
    },
    {
     "name": "stderr",
     "output_type": "stream",
     "text": [
      " 87%|████████▋ | 96/110 [02:25<00:20,  1.49s/it]"
     ]
    },
    {
     "name": "stdout",
     "output_type": "stream",
     "text": [
      "\n",
      "[*********************100%***********************]  1 of 1 completed"
     ]
    },
    {
     "name": "stderr",
     "output_type": "stream",
     "text": [
      "\n",
      "1 Failed download:\n",
      "['MRNA']: Exception(\"%ticker%: Data doesn't exist for startDate = 946702800, endDate = 1534392000\")\n",
      " 88%|████████▊ | 97/110 [02:26<00:16,  1.29s/it]"
     ]
    },
    {
     "name": "stdout",
     "output_type": "stream",
     "text": [
      "\n",
      "[*********************100%***********************]  1 of 1 completed"
     ]
    },
    {
     "name": "stderr",
     "output_type": "stream",
     "text": [
      " 89%|████████▉ | 98/110 [02:27<00:14,  1.20s/it]"
     ]
    },
    {
     "name": "stdout",
     "output_type": "stream",
     "text": [
      "\n",
      "[*********************100%***********************]  1 of 1 completed"
     ]
    },
    {
     "name": "stderr",
     "output_type": "stream",
     "text": [
      " 90%|█████████ | 99/110 [02:27<00:11,  1.09s/it]"
     ]
    },
    {
     "name": "stdout",
     "output_type": "stream",
     "text": [
      "\n",
      "[*********************100%***********************]  1 of 1 completed"
     ]
    },
    {
     "name": "stderr",
     "output_type": "stream",
     "text": [
      "\n",
      "1 Failed download:\n",
      "['SGEN']: Exception('%ticker%: No timezone found, symbol may be delisted')\n",
      " 91%|█████████ | 100/110 [02:28<00:10,  1.01s/it]"
     ]
    },
    {
     "name": "stdout",
     "output_type": "stream",
     "text": [
      "\n",
      "[*********************100%***********************]  1 of 1 completed"
     ]
    },
    {
     "name": "stderr",
     "output_type": "stream",
     "text": [
      "\n",
      "1 Failed download:\n",
      "['SPLK']: Exception('%ticker%: No timezone found, symbol may be delisted')\n",
      " 92%|█████████▏| 101/110 [02:29<00:08,  1.06it/s]"
     ]
    },
    {
     "name": "stdout",
     "output_type": "stream",
     "text": [
      "\n",
      "[*********************100%***********************]  1 of 1 completed"
     ]
    },
    {
     "name": "stderr",
     "output_type": "stream",
     "text": [
      " 93%|█████████▎| 102/110 [02:30<00:08,  1.04s/it]"
     ]
    },
    {
     "name": "stdout",
     "output_type": "stream",
     "text": [
      "\n",
      "[*********************100%***********************]  1 of 1 completed"
     ]
    },
    {
     "name": "stderr",
     "output_type": "stream",
     "text": [
      "\n",
      "1 Failed download:\n",
      "['ZM']: Exception(\"%ticker%: Data doesn't exist for startDate = 946702800, endDate = 1534392000\")\n",
      " 94%|█████████▎| 103/110 [02:31<00:06,  1.04it/s]"
     ]
    },
    {
     "name": "stdout",
     "output_type": "stream",
     "text": [
      "\n",
      "[*********************100%***********************]  1 of 1 completed"
     ]
    },
    {
     "name": "stderr",
     "output_type": "stream",
     "text": [
      "\n",
      "1 Failed download:\n",
      "['CRWD']: Exception(\"%ticker%: Data doesn't exist for startDate = 946702800, endDate = 1534392000\")\n",
      " 95%|█████████▍| 104/110 [02:32<00:05,  1.09it/s]"
     ]
    },
    {
     "name": "stdout",
     "output_type": "stream",
     "text": [
      "\n",
      "[*********************100%***********************]  1 of 1 completed"
     ]
    },
    {
     "name": "stderr",
     "output_type": "stream",
     "text": [
      "\n",
      "1 Failed download:\n",
      "['ABNB']: Exception(\"%ticker%: Data doesn't exist for startDate = 946702800, endDate = 1534392000\")\n",
      " 95%|█████████▌| 105/110 [02:33<00:04,  1.12it/s]"
     ]
    },
    {
     "name": "stdout",
     "output_type": "stream",
     "text": [
      "\n",
      "[*********************100%***********************]  1 of 1 completed"
     ]
    },
    {
     "name": "stderr",
     "output_type": "stream",
     "text": [
      "\n",
      "1 Failed download:\n",
      "['DDOG']: Exception(\"%ticker%: Data doesn't exist for startDate = 946702800, endDate = 1534392000\")\n",
      " 96%|█████████▋| 106/110 [02:33<00:03,  1.16it/s]"
     ]
    },
    {
     "name": "stdout",
     "output_type": "stream",
     "text": [
      "\n",
      "[*********************100%***********************]  1 of 1 completed"
     ]
    },
    {
     "name": "stderr",
     "output_type": "stream",
     "text": [
      " 97%|█████████▋| 107/110 [02:35<00:02,  1.01it/s]"
     ]
    },
    {
     "name": "stdout",
     "output_type": "stream",
     "text": [
      "\n",
      "[*********************100%***********************]  1 of 1 completed"
     ]
    },
    {
     "name": "stderr",
     "output_type": "stream",
     "text": [
      " 98%|█████████▊| 108/110 [02:36<00:01,  1.06it/s]"
     ]
    },
    {
     "name": "stdout",
     "output_type": "stream",
     "text": [
      "\n",
      "[*********************100%***********************]  1 of 1 completed"
     ]
    },
    {
     "name": "stderr",
     "output_type": "stream",
     "text": [
      " 99%|█████████▉| 109/110 [02:37<00:01,  1.05s/it]"
     ]
    },
    {
     "name": "stdout",
     "output_type": "stream",
     "text": [
      "\n",
      "[*********************100%***********************]  1 of 1 completed"
     ]
    },
    {
     "name": "stderr",
     "output_type": "stream",
     "text": [
      "\n",
      "1 Failed download:\n",
      "['LCID']: Exception(\"%ticker%: Data doesn't exist for startDate = 946702800, endDate = 1534392000\")\n",
      "100%|██████████| 110/110 [02:38<00:00,  1.44s/it]\n"
     ]
    },
    {
     "name": "stdout",
     "output_type": "stream",
     "text": [
      "\n",
      "FTSE 100\n"
     ]
    },
    {
     "name": "stderr",
     "output_type": "stream",
     "text": [
      "  0%|          | 0/179 [00:00<?, ?it/s]"
     ]
    },
    {
     "name": "stdout",
     "output_type": "stream",
     "text": [
      "[*********************100%***********************]  1 of 1 completed"
     ]
    },
    {
     "name": "stderr",
     "output_type": "stream",
     "text": [
      "  1%|          | 1/179 [00:01<03:54,  1.32s/it]"
     ]
    },
    {
     "name": "stdout",
     "output_type": "stream",
     "text": [
      "\n",
      "[*********************100%***********************]  1 of 1 completed"
     ]
    },
    {
     "name": "stderr",
     "output_type": "stream",
     "text": [
      "  1%|          | 2/179 [00:02<03:33,  1.21s/it]"
     ]
    },
    {
     "name": "stdout",
     "output_type": "stream",
     "text": [
      "\n",
      "[*********************100%***********************]  1 of 1 completed"
     ]
    },
    {
     "name": "stderr",
     "output_type": "stream",
     "text": [
      "  2%|▏         | 3/179 [00:03<03:42,  1.26s/it]"
     ]
    },
    {
     "name": "stdout",
     "output_type": "stream",
     "text": [
      "\n",
      "[*********************100%***********************]  1 of 1 completed"
     ]
    },
    {
     "name": "stderr",
     "output_type": "stream",
     "text": [
      "  2%|▏         | 4/179 [00:05<03:45,  1.29s/it]"
     ]
    },
    {
     "name": "stdout",
     "output_type": "stream",
     "text": [
      "\n",
      "[*********************100%***********************]  1 of 1 completed"
     ]
    },
    {
     "name": "stderr",
     "output_type": "stream",
     "text": [
      "  3%|▎         | 5/179 [00:06<03:35,  1.24s/it]"
     ]
    },
    {
     "name": "stdout",
     "output_type": "stream",
     "text": [
      "\n",
      "[*********************100%***********************]  1 of 1 completed"
     ]
    },
    {
     "name": "stderr",
     "output_type": "stream",
     "text": [
      "  3%|▎         | 6/179 [00:07<03:24,  1.18s/it]"
     ]
    },
    {
     "name": "stdout",
     "output_type": "stream",
     "text": [
      "\n",
      "[*********************100%***********************]  1 of 1 completed"
     ]
    },
    {
     "name": "stderr",
     "output_type": "stream",
     "text": [
      "  4%|▍         | 7/179 [00:08<03:17,  1.15s/it]"
     ]
    },
    {
     "name": "stdout",
     "output_type": "stream",
     "text": [
      "\n",
      "[*********************100%***********************]  1 of 1 completed"
     ]
    },
    {
     "name": "stderr",
     "output_type": "stream",
     "text": [
      "  4%|▍         | 8/179 [00:10<03:55,  1.38s/it]"
     ]
    },
    {
     "name": "stdout",
     "output_type": "stream",
     "text": [
      "\n",
      "[*********************100%***********************]  1 of 1 completed"
     ]
    },
    {
     "name": "stderr",
     "output_type": "stream",
     "text": [
      "  5%|▌         | 9/179 [00:11<03:39,  1.29s/it]"
     ]
    },
    {
     "name": "stdout",
     "output_type": "stream",
     "text": [
      "\n",
      "[*********************100%***********************]  1 of 1 completed"
     ]
    },
    {
     "name": "stderr",
     "output_type": "stream",
     "text": [
      "  6%|▌         | 10/179 [00:12<03:29,  1.24s/it]"
     ]
    },
    {
     "name": "stdout",
     "output_type": "stream",
     "text": [
      "\n",
      "[*********************100%***********************]  1 of 1 completed"
     ]
    },
    {
     "name": "stderr",
     "output_type": "stream",
     "text": [
      "  6%|▌         | 11/179 [00:13<03:32,  1.27s/it]"
     ]
    },
    {
     "name": "stdout",
     "output_type": "stream",
     "text": [
      "\n",
      "[*********************100%***********************]  1 of 1 completed"
     ]
    },
    {
     "name": "stderr",
     "output_type": "stream",
     "text": [
      "  7%|▋         | 12/179 [00:15<03:35,  1.29s/it]"
     ]
    },
    {
     "name": "stdout",
     "output_type": "stream",
     "text": [
      "\n",
      "[*********************100%***********************]  1 of 1 completed"
     ]
    },
    {
     "name": "stderr",
     "output_type": "stream",
     "text": [
      "  7%|▋         | 13/179 [00:16<03:24,  1.23s/it]"
     ]
    },
    {
     "name": "stdout",
     "output_type": "stream",
     "text": [
      "\n",
      "[*********************100%***********************]  1 of 1 completed"
     ]
    },
    {
     "name": "stderr",
     "output_type": "stream",
     "text": [
      "  8%|▊         | 14/179 [00:17<03:44,  1.36s/it]"
     ]
    },
    {
     "name": "stdout",
     "output_type": "stream",
     "text": [
      "\n",
      "[*********************100%***********************]  1 of 1 completed"
     ]
    },
    {
     "name": "stderr",
     "output_type": "stream",
     "text": [
      "  8%|▊         | 15/179 [00:19<03:39,  1.34s/it]"
     ]
    },
    {
     "name": "stdout",
     "output_type": "stream",
     "text": [
      "\n",
      "[*********************100%***********************]  1 of 1 completed"
     ]
    },
    {
     "name": "stderr",
     "output_type": "stream",
     "text": [
      "\n",
      "1 Failed download:\n",
      "['AUTO']: Exception('%ticker%: No timezone found, symbol may be delisted')\n",
      "  9%|▉         | 16/179 [00:19<03:10,  1.17s/it]"
     ]
    },
    {
     "name": "stdout",
     "output_type": "stream",
     "text": [
      "\n",
      "[*********************100%***********************]  1 of 1 completed"
     ]
    },
    {
     "name": "stderr",
     "output_type": "stream",
     "text": [
      "  9%|▉         | 17/179 [00:21<03:04,  1.14s/it]"
     ]
    },
    {
     "name": "stdout",
     "output_type": "stream",
     "text": [
      "\n",
      "[*********************100%***********************]  1 of 1 completed"
     ]
    },
    {
     "name": "stderr",
     "output_type": "stream",
     "text": [
      " 10%|█         | 18/179 [00:22<02:58,  1.11s/it]"
     ]
    },
    {
     "name": "stdout",
     "output_type": "stream",
     "text": [
      "\n",
      "[*********************100%***********************]  1 of 1 completed"
     ]
    },
    {
     "name": "stderr",
     "output_type": "stream",
     "text": [
      " 11%|█         | 19/179 [00:23<03:08,  1.18s/it]"
     ]
    },
    {
     "name": "stdout",
     "output_type": "stream",
     "text": [
      "\n",
      "[*********************100%***********************]  1 of 1 completed"
     ]
    },
    {
     "name": "stderr",
     "output_type": "stream",
     "text": [
      " 11%|█         | 20/179 [00:24<03:24,  1.29s/it]"
     ]
    },
    {
     "name": "stdout",
     "output_type": "stream",
     "text": [
      "\n",
      "[*********************100%***********************]  1 of 1 completed"
     ]
    },
    {
     "name": "stderr",
     "output_type": "stream",
     "text": [
      "\n",
      "1 Failed download:\n",
      "['INPTF']: Exception('%ticker%: No timezone found, symbol may be delisted')\n",
      " 12%|█▏        | 21/179 [00:25<03:00,  1.14s/it]"
     ]
    },
    {
     "name": "stdout",
     "output_type": "stream",
     "text": [
      "\n",
      "[*********************100%***********************]  1 of 1 completed"
     ]
    },
    {
     "name": "stderr",
     "output_type": "stream",
     "text": [
      " 12%|█▏        | 22/179 [00:27<03:23,  1.29s/it]"
     ]
    },
    {
     "name": "stdout",
     "output_type": "stream",
     "text": [
      "\n",
      "[*********************100%***********************]  1 of 1 completed"
     ]
    },
    {
     "name": "stderr",
     "output_type": "stream",
     "text": [
      " 13%|█▎        | 23/179 [00:28<03:26,  1.32s/it]"
     ]
    },
    {
     "name": "stdout",
     "output_type": "stream",
     "text": [
      "\n",
      "[*********************100%***********************]  1 of 1 completed"
     ]
    },
    {
     "name": "stderr",
     "output_type": "stream",
     "text": [
      "\n",
      "1 Failed download:\n",
      "['BDEV']: Exception('%ticker%: No timezone found, symbol may be delisted')\n",
      " 13%|█▎        | 24/179 [00:29<02:59,  1.16s/it]"
     ]
    },
    {
     "name": "stdout",
     "output_type": "stream",
     "text": [
      "\n",
      "[*********************100%***********************]  1 of 1 completed"
     ]
    },
    {
     "name": "stderr",
     "output_type": "stream",
     "text": [
      " 14%|█▍        | 25/179 [00:30<02:44,  1.07s/it]"
     ]
    },
    {
     "name": "stdout",
     "output_type": "stream",
     "text": [
      "\n",
      "[*********************100%***********************]  1 of 1 completed"
     ]
    },
    {
     "name": "stderr",
     "output_type": "stream",
     "text": [
      " 15%|█▍        | 26/179 [00:31<02:43,  1.07s/it]"
     ]
    },
    {
     "name": "stdout",
     "output_type": "stream",
     "text": [
      "\n",
      "[*********************100%***********************]  1 of 1 completed"
     ]
    },
    {
     "name": "stderr",
     "output_type": "stream",
     "text": [
      " 15%|█▌        | 27/179 [00:32<02:54,  1.15s/it]"
     ]
    },
    {
     "name": "stdout",
     "output_type": "stream",
     "text": [
      "\n",
      "[*********************100%***********************]  1 of 1 completed"
     ]
    },
    {
     "name": "stderr",
     "output_type": "stream",
     "text": [
      " 16%|█▌        | 28/179 [00:33<02:47,  1.11s/it]"
     ]
    },
    {
     "name": "stdout",
     "output_type": "stream",
     "text": [
      "\n",
      "[*********************100%***********************]  1 of 1 completed"
     ]
    },
    {
     "name": "stderr",
     "output_type": "stream",
     "text": [
      " 16%|█▌        | 29/179 [00:34<02:46,  1.11s/it]"
     ]
    },
    {
     "name": "stdout",
     "output_type": "stream",
     "text": [
      "\n",
      "[*********************100%***********************]  1 of 1 completed"
     ]
    },
    {
     "name": "stderr",
     "output_type": "stream",
     "text": [
      " 17%|█▋        | 30/179 [00:36<03:12,  1.29s/it]"
     ]
    },
    {
     "name": "stdout",
     "output_type": "stream",
     "text": [
      "\n",
      "[*********************100%***********************]  1 of 1 completed"
     ]
    },
    {
     "name": "stderr",
     "output_type": "stream",
     "text": [
      " 17%|█▋        | 31/179 [00:38<03:12,  1.30s/it]"
     ]
    },
    {
     "name": "stdout",
     "output_type": "stream",
     "text": [
      "\n",
      "[*********************100%***********************]  1 of 1 completed"
     ]
    },
    {
     "name": "stderr",
     "output_type": "stream",
     "text": [
      " 18%|█▊        | 32/179 [00:39<03:11,  1.30s/it]"
     ]
    },
    {
     "name": "stdout",
     "output_type": "stream",
     "text": [
      "\n",
      "[*********************100%***********************]  1 of 1 completed"
     ]
    },
    {
     "name": "stderr",
     "output_type": "stream",
     "text": [
      " 18%|█▊        | 33/179 [00:41<03:27,  1.42s/it]"
     ]
    },
    {
     "name": "stdout",
     "output_type": "stream",
     "text": [
      "\n",
      "[*********************100%***********************]  1 of 1 completed"
     ]
    },
    {
     "name": "stderr",
     "output_type": "stream",
     "text": [
      " 19%|█▉        | 34/179 [00:42<03:34,  1.48s/it]"
     ]
    },
    {
     "name": "stdout",
     "output_type": "stream",
     "text": [
      "\n",
      "[*********************100%***********************]  1 of 1 completed"
     ]
    },
    {
     "name": "stderr",
     "output_type": "stream",
     "text": [
      " 20%|█▉        | 35/179 [00:43<03:16,  1.37s/it]"
     ]
    },
    {
     "name": "stdout",
     "output_type": "stream",
     "text": [
      "\n",
      "[*********************100%***********************]  1 of 1 completed"
     ]
    },
    {
     "name": "stderr",
     "output_type": "stream",
     "text": [
      "\n",
      "1 Failed download:\n",
      "['BT']: Exception('%ticker%: No timezone found, symbol may be delisted')\n",
      " 20%|██        | 36/179 [00:44<02:49,  1.19s/it]"
     ]
    },
    {
     "name": "stdout",
     "output_type": "stream",
     "text": [
      "\n",
      "[*********************100%***********************]  1 of 1 completed"
     ]
    },
    {
     "name": "stderr",
     "output_type": "stream",
     "text": [
      " 21%|██        | 37/179 [00:45<02:44,  1.16s/it]"
     ]
    },
    {
     "name": "stdout",
     "output_type": "stream",
     "text": [
      "\n",
      "[*********************100%***********************]  1 of 1 completed"
     ]
    },
    {
     "name": "stderr",
     "output_type": "stream",
     "text": [
      " 21%|██        | 38/179 [00:46<02:41,  1.15s/it]"
     ]
    },
    {
     "name": "stdout",
     "output_type": "stream",
     "text": [
      "\n",
      "[*********************100%***********************]  1 of 1 completed"
     ]
    },
    {
     "name": "stderr",
     "output_type": "stream",
     "text": [
      " 22%|██▏       | 39/179 [00:48<02:52,  1.23s/it]"
     ]
    },
    {
     "name": "stdout",
     "output_type": "stream",
     "text": [
      "\n",
      "[*********************100%***********************]  1 of 1 completed"
     ]
    },
    {
     "name": "stderr",
     "output_type": "stream",
     "text": [
      " 22%|██▏       | 40/179 [00:49<02:54,  1.26s/it]"
     ]
    },
    {
     "name": "stdout",
     "output_type": "stream",
     "text": [
      "\n",
      "[*********************100%***********************]  1 of 1 completed"
     ]
    },
    {
     "name": "stderr",
     "output_type": "stream",
     "text": [
      " 23%|██▎       | 41/179 [00:50<02:58,  1.29s/it]"
     ]
    },
    {
     "name": "stdout",
     "output_type": "stream",
     "text": [
      "\n",
      "[*********************100%***********************]  1 of 1 completed"
     ]
    },
    {
     "name": "stderr",
     "output_type": "stream",
     "text": [
      " 23%|██▎       | 42/179 [00:52<02:56,  1.29s/it]"
     ]
    },
    {
     "name": "stdout",
     "output_type": "stream",
     "text": [
      "\n",
      "[*********************100%***********************]  1 of 1 completed"
     ]
    },
    {
     "name": "stderr",
     "output_type": "stream",
     "text": [
      " 24%|██▍       | 43/179 [00:53<02:54,  1.28s/it]"
     ]
    },
    {
     "name": "stdout",
     "output_type": "stream",
     "text": [
      "\n",
      "[*********************100%***********************]  1 of 1 completed"
     ]
    },
    {
     "name": "stderr",
     "output_type": "stream",
     "text": [
      " 25%|██▍       | 44/179 [00:54<02:45,  1.23s/it]"
     ]
    },
    {
     "name": "stdout",
     "output_type": "stream",
     "text": [
      "\n",
      "[*********************100%***********************]  1 of 1 completed"
     ]
    },
    {
     "name": "stderr",
     "output_type": "stream",
     "text": [
      " 25%|██▌       | 45/179 [00:56<02:56,  1.32s/it]"
     ]
    },
    {
     "name": "stdout",
     "output_type": "stream",
     "text": [
      "\n",
      "[*********************100%***********************]  1 of 1 completed"
     ]
    },
    {
     "name": "stderr",
     "output_type": "stream",
     "text": [
      "\n",
      "1 Failed download:\n",
      "['CMPGF']: Exception(\"%ticker%: Data doesn't exist for startDate = 946702800, endDate = 1534392000\")\n",
      " 26%|██▌       | 46/179 [00:56<02:33,  1.16s/it]"
     ]
    },
    {
     "name": "stdout",
     "output_type": "stream",
     "text": [
      "\n",
      "[*********************100%***********************]  1 of 1 completed"
     ]
    },
    {
     "name": "stderr",
     "output_type": "stream",
     "text": [
      " 26%|██▋       | 47/179 [00:58<02:52,  1.31s/it]"
     ]
    },
    {
     "name": "stdout",
     "output_type": "stream",
     "text": [
      "\n",
      "[*********************100%***********************]  1 of 1 completed"
     ]
    },
    {
     "name": "stderr",
     "output_type": "stream",
     "text": [
      "\n",
      "1 Failed download:\n",
      "['CRHCF']: Exception('%ticker%: No timezone found, symbol may be delisted')\n",
      " 27%|██▋       | 48/179 [00:59<02:30,  1.15s/it]"
     ]
    },
    {
     "name": "stdout",
     "output_type": "stream",
     "text": [
      "\n",
      "[*********************100%***********************]  1 of 1 completed"
     ]
    },
    {
     "name": "stderr",
     "output_type": "stream",
     "text": [
      " 27%|██▋       | 49/179 [01:00<02:35,  1.20s/it]"
     ]
    },
    {
     "name": "stdout",
     "output_type": "stream",
     "text": [
      "\n",
      "[*********************100%***********************]  1 of 1 completed"
     ]
    },
    {
     "name": "stderr",
     "output_type": "stream",
     "text": [
      " 28%|██▊       | 50/179 [01:01<02:30,  1.16s/it]"
     ]
    },
    {
     "name": "stdout",
     "output_type": "stream",
     "text": [
      "\n",
      "[*********************100%***********************]  1 of 1 completed"
     ]
    },
    {
     "name": "stderr",
     "output_type": "stream",
     "text": [
      " 28%|██▊       | 51/179 [01:02<02:26,  1.14s/it]"
     ]
    },
    {
     "name": "stdout",
     "output_type": "stream",
     "text": [
      "\n",
      "[*********************100%***********************]  1 of 1 completed"
     ]
    },
    {
     "name": "stderr",
     "output_type": "stream",
     "text": [
      " 29%|██▉       | 52/179 [01:04<02:44,  1.29s/it]"
     ]
    },
    {
     "name": "stdout",
     "output_type": "stream",
     "text": [
      "\n",
      "[*********************100%***********************]  1 of 1 completed"
     ]
    },
    {
     "name": "stderr",
     "output_type": "stream",
     "text": [
      " 30%|██▉       | 53/179 [01:05<02:46,  1.32s/it]"
     ]
    },
    {
     "name": "stdout",
     "output_type": "stream",
     "text": [
      "\n",
      "[*********************100%***********************]  1 of 1 completed"
     ]
    },
    {
     "name": "stderr",
     "output_type": "stream",
     "text": [
      " 30%|███       | 54/179 [01:06<02:33,  1.23s/it]"
     ]
    },
    {
     "name": "stdout",
     "output_type": "stream",
     "text": [
      "\n",
      "[*********************100%***********************]  1 of 1 completed"
     ]
    },
    {
     "name": "stderr",
     "output_type": "stream",
     "text": [
      " 31%|███       | 55/179 [01:08<02:38,  1.28s/it]"
     ]
    },
    {
     "name": "stdout",
     "output_type": "stream",
     "text": [
      "\n",
      "[*********************100%***********************]  1 of 1 completed"
     ]
    },
    {
     "name": "stderr",
     "output_type": "stream",
     "text": [
      " 31%|███▏      | 56/179 [01:09<02:40,  1.30s/it]"
     ]
    },
    {
     "name": "stdout",
     "output_type": "stream",
     "text": [
      "\n",
      "[*********************100%***********************]  1 of 1 completed"
     ]
    },
    {
     "name": "stderr",
     "output_type": "stream",
     "text": [
      " 32%|███▏      | 57/179 [01:10<02:40,  1.31s/it]"
     ]
    },
    {
     "name": "stdout",
     "output_type": "stream",
     "text": [
      "\n",
      "[*********************100%***********************]  1 of 1 completed"
     ]
    },
    {
     "name": "stderr",
     "output_type": "stream",
     "text": [
      " 32%|███▏      | 58/179 [01:12<02:51,  1.41s/it]"
     ]
    },
    {
     "name": "stdout",
     "output_type": "stream",
     "text": [
      "\n",
      "[*********************100%***********************]  1 of 1 completed"
     ]
    },
    {
     "name": "stderr",
     "output_type": "stream",
     "text": [
      " 33%|███▎      | 59/179 [01:13<02:46,  1.39s/it]"
     ]
    },
    {
     "name": "stdout",
     "output_type": "stream",
     "text": [
      "\n",
      "[*********************100%***********************]  1 of 1 completed"
     ]
    },
    {
     "name": "stderr",
     "output_type": "stream",
     "text": [
      " 34%|███▎      | 60/179 [01:15<02:41,  1.35s/it]"
     ]
    },
    {
     "name": "stdout",
     "output_type": "stream",
     "text": [
      "\n",
      "[*********************100%***********************]  1 of 1 completed"
     ]
    },
    {
     "name": "stderr",
     "output_type": "stream",
     "text": [
      " 34%|███▍      | 61/179 [01:16<02:39,  1.35s/it]"
     ]
    },
    {
     "name": "stdout",
     "output_type": "stream",
     "text": [
      "\n",
      "[*********************100%***********************]  1 of 1 completed"
     ]
    },
    {
     "name": "stderr",
     "output_type": "stream",
     "text": [
      "\n",
      "1 Failed download:\n",
      "['HALMY']: Exception(\"%ticker%: Data doesn't exist for startDate = 946702800, endDate = 1534392000\")\n",
      " 35%|███▍      | 62/179 [01:17<02:18,  1.19s/it]"
     ]
    },
    {
     "name": "stdout",
     "output_type": "stream",
     "text": [
      "\n",
      "[*********************100%***********************]  1 of 1 completed"
     ]
    },
    {
     "name": "stderr",
     "output_type": "stream",
     "text": [
      "\n",
      "1 Failed download:\n",
      "['HRGLY']: Exception('%ticker%: No timezone found, symbol may be delisted')\n",
      " 35%|███▌      | 63/179 [01:18<02:04,  1.07s/it]"
     ]
    },
    {
     "name": "stdout",
     "output_type": "stream",
     "text": [
      "\n",
      "[*********************100%***********************]  1 of 1 completed"
     ]
    },
    {
     "name": "stderr",
     "output_type": "stream",
     "text": [
      " 36%|███▌      | 64/179 [01:19<02:09,  1.13s/it]"
     ]
    },
    {
     "name": "stdout",
     "output_type": "stream",
     "text": [
      "\n",
      "[*********************100%***********************]  1 of 1 completed"
     ]
    },
    {
     "name": "stderr",
     "output_type": "stream",
     "text": [
      " 36%|███▋      | 65/179 [01:21<02:34,  1.35s/it]"
     ]
    },
    {
     "name": "stdout",
     "output_type": "stream",
     "text": [
      "\n",
      "[*********************100%***********************]  1 of 1 completed"
     ]
    },
    {
     "name": "stderr",
     "output_type": "stream",
     "text": [
      " 37%|███▋      | 66/179 [01:22<02:31,  1.34s/it]"
     ]
    },
    {
     "name": "stdout",
     "output_type": "stream",
     "text": [
      "\n",
      "[*********************100%***********************]  1 of 1 completed"
     ]
    },
    {
     "name": "stderr",
     "output_type": "stream",
     "text": [
      " 37%|███▋      | 67/179 [01:23<02:27,  1.32s/it]"
     ]
    },
    {
     "name": "stdout",
     "output_type": "stream",
     "text": [
      "\n",
      "[*********************100%***********************]  1 of 1 completed"
     ]
    },
    {
     "name": "stderr",
     "output_type": "stream",
     "text": [
      " 38%|███▊      | 68/179 [01:25<02:38,  1.43s/it]"
     ]
    },
    {
     "name": "stdout",
     "output_type": "stream",
     "text": [
      "\n",
      "[*********************100%***********************]  1 of 1 completed"
     ]
    },
    {
     "name": "stderr",
     "output_type": "stream",
     "text": [
      " 39%|███▊      | 69/179 [01:26<02:24,  1.31s/it]"
     ]
    },
    {
     "name": "stdout",
     "output_type": "stream",
     "text": [
      "\n",
      "[*********************100%***********************]  1 of 1 completed"
     ]
    },
    {
     "name": "stderr",
     "output_type": "stream",
     "text": [
      " 39%|███▉      | 70/179 [01:27<02:23,  1.32s/it]"
     ]
    },
    {
     "name": "stdout",
     "output_type": "stream",
     "text": [
      "\n",
      "[*********************100%***********************]  1 of 1 completed"
     ]
    },
    {
     "name": "stderr",
     "output_type": "stream",
     "text": [
      " 40%|███▉      | 71/179 [01:28<02:15,  1.26s/it]"
     ]
    },
    {
     "name": "stdout",
     "output_type": "stream",
     "text": [
      "\n",
      "[*********************100%***********************]  1 of 1 completed"
     ]
    },
    {
     "name": "stderr",
     "output_type": "stream",
     "text": [
      " 40%|████      | 72/179 [01:30<02:25,  1.36s/it]"
     ]
    },
    {
     "name": "stdout",
     "output_type": "stream",
     "text": [
      "\n",
      "[*********************100%***********************]  1 of 1 completed"
     ]
    },
    {
     "name": "stderr",
     "output_type": "stream",
     "text": [
      " 41%|████      | 73/179 [01:32<02:34,  1.46s/it]"
     ]
    },
    {
     "name": "stdout",
     "output_type": "stream",
     "text": [
      "\n",
      "[*********************100%***********************]  1 of 1 completed"
     ]
    },
    {
     "name": "stderr",
     "output_type": "stream",
     "text": [
      " 41%|████▏     | 74/179 [01:33<02:23,  1.36s/it]"
     ]
    },
    {
     "name": "stdout",
     "output_type": "stream",
     "text": [
      "\n",
      "[*********************100%***********************]  1 of 1 completed"
     ]
    },
    {
     "name": "stderr",
     "output_type": "stream",
     "text": [
      " 42%|████▏     | 75/179 [01:34<02:13,  1.28s/it]"
     ]
    },
    {
     "name": "stdout",
     "output_type": "stream",
     "text": [
      "\n",
      "[*********************100%***********************]  1 of 1 completed"
     ]
    },
    {
     "name": "stderr",
     "output_type": "stream",
     "text": [
      " 42%|████▏     | 76/179 [01:35<02:05,  1.22s/it]"
     ]
    },
    {
     "name": "stdout",
     "output_type": "stream",
     "text": [
      "\n",
      "[*********************100%***********************]  1 of 1 completed"
     ]
    },
    {
     "name": "stderr",
     "output_type": "stream",
     "text": [
      " 43%|████▎     | 77/179 [01:37<02:18,  1.35s/it]"
     ]
    },
    {
     "name": "stdout",
     "output_type": "stream",
     "text": [
      "\n",
      "[*********************100%***********************]  1 of 1 completed"
     ]
    },
    {
     "name": "stderr",
     "output_type": "stream",
     "text": [
      " 44%|████▎     | 78/179 [01:38<02:15,  1.34s/it]"
     ]
    },
    {
     "name": "stdout",
     "output_type": "stream",
     "text": [
      "\n",
      "[*********************100%***********************]  1 of 1 completed"
     ]
    },
    {
     "name": "stderr",
     "output_type": "stream",
     "text": [
      " 44%|████▍     | 79/179 [01:39<02:13,  1.33s/it]"
     ]
    },
    {
     "name": "stdout",
     "output_type": "stream",
     "text": [
      "\n",
      "[*********************100%***********************]  1 of 1 completed"
     ]
    },
    {
     "name": "stderr",
     "output_type": "stream",
     "text": [
      " 45%|████▍     | 80/179 [01:40<02:05,  1.27s/it]"
     ]
    },
    {
     "name": "stdout",
     "output_type": "stream",
     "text": [
      "\n",
      "[*********************100%***********************]  1 of 1 completed"
     ]
    },
    {
     "name": "stderr",
     "output_type": "stream",
     "text": [
      " 45%|████▌     | 81/179 [01:42<02:15,  1.38s/it]"
     ]
    },
    {
     "name": "stdout",
     "output_type": "stream",
     "text": [
      "\n",
      "[*********************100%***********************]  1 of 1 completed"
     ]
    },
    {
     "name": "stderr",
     "output_type": "stream",
     "text": [
      " 46%|████▌     | 82/179 [01:43<02:05,  1.30s/it]"
     ]
    },
    {
     "name": "stdout",
     "output_type": "stream",
     "text": [
      "\n",
      "[*********************100%***********************]  1 of 1 completed"
     ]
    },
    {
     "name": "stderr",
     "output_type": "stream",
     "text": [
      " 46%|████▋     | 83/179 [01:44<01:50,  1.15s/it]"
     ]
    },
    {
     "name": "stdout",
     "output_type": "stream",
     "text": [
      "\n",
      "[*********************100%***********************]  1 of 1 completed"
     ]
    },
    {
     "name": "stderr",
     "output_type": "stream",
     "text": [
      " 47%|████▋     | 84/179 [01:45<01:49,  1.15s/it]"
     ]
    },
    {
     "name": "stdout",
     "output_type": "stream",
     "text": [
      "\n",
      "[*********************100%***********************]  1 of 1 completed"
     ]
    },
    {
     "name": "stderr",
     "output_type": "stream",
     "text": [
      "\n",
      "1 Failed download:\n",
      "['MLSYY']: Exception('%ticker%: No timezone found, symbol may be delisted')\n",
      " 47%|████▋     | 85/179 [01:46<01:38,  1.04s/it]"
     ]
    },
    {
     "name": "stdout",
     "output_type": "stream",
     "text": [
      "\n",
      "[*********************100%***********************]  1 of 1 completed"
     ]
    },
    {
     "name": "stderr",
     "output_type": "stream",
     "text": [
      "\n",
      "1 Failed download:\n",
      "['MONDY']: Exception(\"%ticker%: Data doesn't exist for startDate = 946702800, endDate = 1534392000\")\n",
      " 48%|████▊     | 86/179 [01:47<01:29,  1.04it/s]"
     ]
    },
    {
     "name": "stdout",
     "output_type": "stream",
     "text": [
      "\n",
      "[*********************100%***********************]  1 of 1 completed"
     ]
    },
    {
     "name": "stderr",
     "output_type": "stream",
     "text": [
      "\n",
      "1 Failed download:\n",
      "['MONDF']: Exception('%ticker%: No timezone found, symbol may be delisted')\n",
      " 49%|████▊     | 87/179 [01:48<01:23,  1.10it/s]"
     ]
    },
    {
     "name": "stdout",
     "output_type": "stream",
     "text": [
      "\n",
      "[*********************100%***********************]  1 of 1 completed"
     ]
    },
    {
     "name": "stderr",
     "output_type": "stream",
     "text": [
      " 49%|████▉     | 88/179 [01:49<01:40,  1.11s/it]"
     ]
    },
    {
     "name": "stdout",
     "output_type": "stream",
     "text": [
      "\n",
      "[*********************100%***********************]  1 of 1 completed"
     ]
    },
    {
     "name": "stderr",
     "output_type": "stream",
     "text": [
      " 50%|████▉     | 89/179 [01:50<01:45,  1.17s/it]"
     ]
    },
    {
     "name": "stdout",
     "output_type": "stream",
     "text": [
      "\n",
      "[*********************100%***********************]  1 of 1 completed"
     ]
    },
    {
     "name": "stderr",
     "output_type": "stream",
     "text": [
      " 50%|█████     | 90/179 [01:52<01:42,  1.15s/it]"
     ]
    },
    {
     "name": "stdout",
     "output_type": "stream",
     "text": [
      "\n",
      "[*********************100%***********************]  1 of 1 completed"
     ]
    },
    {
     "name": "stderr",
     "output_type": "stream",
     "text": [
      "\n",
      "1 Failed download:\n",
      "['NXGPY']: Exception(\"%ticker%: Data doesn't exist for startDate = 946702800, endDate = 1534392000\")\n",
      " 51%|█████     | 91/179 [01:52<01:31,  1.04s/it]"
     ]
    },
    {
     "name": "stdout",
     "output_type": "stream",
     "text": [
      "\n",
      "[*********************100%***********************]  1 of 1 completed"
     ]
    },
    {
     "name": "stderr",
     "output_type": "stream",
     "text": [
      " 51%|█████▏    | 92/179 [01:53<01:31,  1.05s/it]"
     ]
    },
    {
     "name": "stdout",
     "output_type": "stream",
     "text": [
      "\n",
      "[*********************100%***********************]  1 of 1 completed"
     ]
    },
    {
     "name": "stderr",
     "output_type": "stream",
     "text": [
      " 52%|█████▏    | 93/179 [01:54<01:24,  1.02it/s]"
     ]
    },
    {
     "name": "stdout",
     "output_type": "stream",
     "text": [
      "\n",
      "[*********************100%***********************]  1 of 1 completed"
     ]
    },
    {
     "name": "stderr",
     "output_type": "stream",
     "text": [
      "\n",
      "1 Failed download:\n",
      "['PDYPY']: Exception('%ticker%: No timezone found, symbol may be delisted')\n",
      " 53%|█████▎    | 94/179 [01:55<01:18,  1.09it/s]"
     ]
    },
    {
     "name": "stdout",
     "output_type": "stream",
     "text": [
      "\n",
      "[*********************100%***********************]  1 of 1 completed"
     ]
    },
    {
     "name": "stderr",
     "output_type": "stream",
     "text": [
      " 53%|█████▎    | 95/179 [01:57<01:34,  1.13s/it]"
     ]
    },
    {
     "name": "stdout",
     "output_type": "stream",
     "text": [
      "\n",
      "[*********************100%***********************]  1 of 1 completed"
     ]
    },
    {
     "name": "stderr",
     "output_type": "stream",
     "text": [
      " 54%|█████▎    | 96/179 [01:58<01:32,  1.11s/it]"
     ]
    },
    {
     "name": "stdout",
     "output_type": "stream",
     "text": [
      "\n",
      "[*********************100%***********************]  1 of 1 completed"
     ]
    },
    {
     "name": "stderr",
     "output_type": "stream",
     "text": [
      " 54%|█████▍    | 97/179 [01:59<01:40,  1.23s/it]"
     ]
    },
    {
     "name": "stdout",
     "output_type": "stream",
     "text": [
      "\n",
      "[*********************100%***********************]  1 of 1 completed"
     ]
    },
    {
     "name": "stderr",
     "output_type": "stream",
     "text": [
      " 55%|█████▍    | 98/179 [02:00<01:35,  1.18s/it]"
     ]
    },
    {
     "name": "stdout",
     "output_type": "stream",
     "text": [
      "\n",
      "[*********************100%***********************]  1 of 1 completed"
     ]
    },
    {
     "name": "stderr",
     "output_type": "stream",
     "text": [
      " 55%|█████▌    | 99/179 [02:01<01:31,  1.14s/it]"
     ]
    },
    {
     "name": "stdout",
     "output_type": "stream",
     "text": [
      "\n",
      "[*********************100%***********************]  1 of 1 completed"
     ]
    },
    {
     "name": "stderr",
     "output_type": "stream",
     "text": [
      " 56%|█████▌    | 100/179 [02:02<01:29,  1.14s/it]"
     ]
    },
    {
     "name": "stdout",
     "output_type": "stream",
     "text": [
      "\n",
      "[*********************100%***********************]  1 of 1 completed"
     ]
    },
    {
     "name": "stderr",
     "output_type": "stream",
     "text": [
      " 56%|█████▋    | 101/179 [02:04<01:39,  1.28s/it]"
     ]
    },
    {
     "name": "stdout",
     "output_type": "stream",
     "text": [
      "\n",
      "[*********************100%***********************]  1 of 1 completed"
     ]
    },
    {
     "name": "stderr",
     "output_type": "stream",
     "text": [
      " 57%|█████▋    | 102/179 [02:05<01:40,  1.30s/it]"
     ]
    },
    {
     "name": "stdout",
     "output_type": "stream",
     "text": [
      "\n",
      "[*********************100%***********************]  1 of 1 completed"
     ]
    },
    {
     "name": "stderr",
     "output_type": "stream",
     "text": [
      " 58%|█████▊    | 103/179 [02:07<01:46,  1.40s/it]"
     ]
    },
    {
     "name": "stdout",
     "output_type": "stream",
     "text": [
      "\n",
      "[*********************100%***********************]  1 of 1 completed"
     ]
    },
    {
     "name": "stderr",
     "output_type": "stream",
     "text": [
      " 58%|█████▊    | 104/179 [02:08<01:36,  1.29s/it]"
     ]
    },
    {
     "name": "stdout",
     "output_type": "stream",
     "text": [
      "\n",
      "[*********************100%***********************]  1 of 1 completed"
     ]
    },
    {
     "name": "stderr",
     "output_type": "stream",
     "text": [
      "\n",
      "1 Failed download:\n",
      "['RTOKY']: Exception('%ticker%: No timezone found, symbol may be delisted')\n",
      " 59%|█████▊    | 105/179 [02:09<01:24,  1.14s/it]"
     ]
    },
    {
     "name": "stdout",
     "output_type": "stream",
     "text": [
      "\n",
      "[*********************100%***********************]  1 of 1 completed"
     ]
    },
    {
     "name": "stderr",
     "output_type": "stream",
     "text": [
      " 59%|█████▉    | 106/179 [02:10<01:22,  1.14s/it]"
     ]
    },
    {
     "name": "stdout",
     "output_type": "stream",
     "text": [
      "\n",
      "[*********************100%***********************]  1 of 1 completed"
     ]
    },
    {
     "name": "stderr",
     "output_type": "stream",
     "text": [
      " 60%|█████▉    | 107/179 [02:12<01:30,  1.26s/it]"
     ]
    },
    {
     "name": "stdout",
     "output_type": "stream",
     "text": [
      "\n",
      "[*********************100%***********************]  1 of 1 completed"
     ]
    },
    {
     "name": "stderr",
     "output_type": "stream",
     "text": [
      " 60%|██████    | 108/179 [02:13<01:25,  1.20s/it]"
     ]
    },
    {
     "name": "stdout",
     "output_type": "stream",
     "text": [
      "\n",
      "[*********************100%***********************]  1 of 1 completed"
     ]
    },
    {
     "name": "stderr",
     "output_type": "stream",
     "text": [
      " 61%|██████    | 109/179 [02:14<01:31,  1.31s/it]"
     ]
    },
    {
     "name": "stdout",
     "output_type": "stream",
     "text": [
      "\n",
      "[*********************100%***********************]  1 of 1 completed"
     ]
    },
    {
     "name": "stderr",
     "output_type": "stream",
     "text": [
      " 61%|██████▏   | 110/179 [02:16<01:36,  1.41s/it]"
     ]
    },
    {
     "name": "stdout",
     "output_type": "stream",
     "text": [
      "\n",
      "[*********************100%***********************]  1 of 1 completed"
     ]
    },
    {
     "name": "stderr",
     "output_type": "stream",
     "text": [
      "\n",
      "1 Failed download:\n",
      "['RBS']: Exception('%ticker%: No timezone found, symbol may be delisted')\n",
      " 62%|██████▏   | 111/179 [02:17<01:22,  1.22s/it]"
     ]
    },
    {
     "name": "stdout",
     "output_type": "stream",
     "text": [
      "\n",
      "[*********************100%***********************]  1 of 1 completed"
     ]
    },
    {
     "name": "stderr",
     "output_type": "stream",
     "text": [
      " 63%|██████▎   | 112/179 [02:18<01:23,  1.25s/it]"
     ]
    },
    {
     "name": "stdout",
     "output_type": "stream",
     "text": [
      "\n",
      "[*********************100%***********************]  1 of 1 completed"
     ]
    },
    {
     "name": "stderr",
     "output_type": "stream",
     "text": [
      " 63%|██████▎   | 113/179 [02:19<01:23,  1.27s/it]"
     ]
    },
    {
     "name": "stdout",
     "output_type": "stream",
     "text": [
      "\n",
      "[*********************100%***********************]  1 of 1 completed"
     ]
    },
    {
     "name": "stderr",
     "output_type": "stream",
     "text": [
      " 64%|██████▎   | 114/179 [02:21<01:23,  1.29s/it]"
     ]
    },
    {
     "name": "stdout",
     "output_type": "stream",
     "text": [
      "\n",
      "[*********************100%***********************]  1 of 1 completed"
     ]
    },
    {
     "name": "stderr",
     "output_type": "stream",
     "text": [
      " 64%|██████▍   | 115/179 [02:22<01:19,  1.24s/it]"
     ]
    },
    {
     "name": "stdout",
     "output_type": "stream",
     "text": [
      "\n",
      "[*********************100%***********************]  1 of 1 completed"
     ]
    },
    {
     "name": "stderr",
     "output_type": "stream",
     "text": [
      " 65%|██████▍   | 116/179 [02:23<01:20,  1.27s/it]"
     ]
    },
    {
     "name": "stdout",
     "output_type": "stream",
     "text": [
      "\n",
      "[*********************100%***********************]  1 of 1 completed"
     ]
    },
    {
     "name": "stderr",
     "output_type": "stream",
     "text": [
      " 65%|██████▌   | 117/179 [02:24<01:19,  1.29s/it]"
     ]
    },
    {
     "name": "stdout",
     "output_type": "stream",
     "text": [
      "\n",
      "[*********************100%***********************]  1 of 1 completed"
     ]
    },
    {
     "name": "stderr",
     "output_type": "stream",
     "text": [
      " 66%|██████▌   | 118/179 [02:26<01:18,  1.29s/it]"
     ]
    },
    {
     "name": "stdout",
     "output_type": "stream",
     "text": [
      "\n",
      "[*********************100%***********************]  1 of 1 completed"
     ]
    },
    {
     "name": "stderr",
     "output_type": "stream",
     "text": [
      "\n",
      "1 Failed download:\n",
      "['SHNWD']: Exception('%ticker%: No timezone found, symbol may be delisted')\n",
      " 66%|██████▋   | 119/179 [02:27<01:10,  1.17s/it]"
     ]
    },
    {
     "name": "stdout",
     "output_type": "stream",
     "text": [
      "\n",
      "[*********************100%***********************]  1 of 1 completed"
     ]
    },
    {
     "name": "stderr",
     "output_type": "stream",
     "text": [
      " 67%|██████▋   | 120/179 [02:28<01:08,  1.17s/it]"
     ]
    },
    {
     "name": "stdout",
     "output_type": "stream",
     "text": [
      "\n",
      "[*********************100%***********************]  1 of 1 completed"
     ]
    },
    {
     "name": "stderr",
     "output_type": "stream",
     "text": [
      "\n",
      "1 Failed download:\n",
      "['ESGRO']: Exception(\"%ticker%: Data doesn't exist for startDate = 946702800, endDate = 1534392000\")\n",
      " 68%|██████▊   | 121/179 [02:28<01:01,  1.06s/it]"
     ]
    },
    {
     "name": "stdout",
     "output_type": "stream",
     "text": [
      "\n",
      "[*********************100%***********************]  1 of 1 completed"
     ]
    },
    {
     "name": "stderr",
     "output_type": "stream",
     "text": [
      " 68%|██████▊   | 122/179 [02:30<01:02,  1.09s/it]"
     ]
    },
    {
     "name": "stdout",
     "output_type": "stream",
     "text": [
      "\n",
      "[*********************100%***********************]  1 of 1 completed"
     ]
    },
    {
     "name": "stderr",
     "output_type": "stream",
     "text": [
      " 69%|██████▊   | 123/179 [02:31<01:04,  1.15s/it]"
     ]
    },
    {
     "name": "stdout",
     "output_type": "stream",
     "text": [
      "\n",
      "[*********************100%***********************]  1 of 1 completed"
     ]
    },
    {
     "name": "stderr",
     "output_type": "stream",
     "text": [
      " 69%|██████▉   | 124/179 [02:32<01:03,  1.15s/it]"
     ]
    },
    {
     "name": "stdout",
     "output_type": "stream",
     "text": [
      "\n",
      "[*********************100%***********************]  1 of 1 completed"
     ]
    },
    {
     "name": "stderr",
     "output_type": "stream",
     "text": [
      " 70%|██████▉   | 125/179 [02:34<01:10,  1.31s/it]"
     ]
    },
    {
     "name": "stdout",
     "output_type": "stream",
     "text": [
      "\n",
      "[*********************100%***********************]  1 of 1 completed"
     ]
    },
    {
     "name": "stderr",
     "output_type": "stream",
     "text": [
      " 70%|███████   | 126/179 [02:35<01:06,  1.26s/it]"
     ]
    },
    {
     "name": "stdout",
     "output_type": "stream",
     "text": [
      "\n",
      "[*********************100%***********************]  1 of 1 completed"
     ]
    },
    {
     "name": "stderr",
     "output_type": "stream",
     "text": [
      " 71%|███████   | 127/179 [02:36<01:06,  1.27s/it]"
     ]
    },
    {
     "name": "stdout",
     "output_type": "stream",
     "text": [
      "\n",
      "[*********************100%***********************]  1 of 1 completed"
     ]
    },
    {
     "name": "stderr",
     "output_type": "stream",
     "text": [
      " 72%|███████▏  | 128/179 [02:37<01:04,  1.27s/it]"
     ]
    },
    {
     "name": "stdout",
     "output_type": "stream",
     "text": [
      "\n",
      "[*********************100%***********************]  1 of 1 completed"
     ]
    },
    {
     "name": "stderr",
     "output_type": "stream",
     "text": [
      " 72%|███████▏  | 129/179 [02:39<01:01,  1.23s/it]"
     ]
    },
    {
     "name": "stdout",
     "output_type": "stream",
     "text": [
      "\n",
      "[*********************100%***********************]  1 of 1 completed"
     ]
    },
    {
     "name": "stderr",
     "output_type": "stream",
     "text": [
      "\n",
      "1 Failed download:\n",
      "['SMFKY']: Exception('%ticker%: No timezone found, symbol may be delisted')\n",
      " 73%|███████▎  | 130/179 [02:39<00:54,  1.11s/it]"
     ]
    },
    {
     "name": "stdout",
     "output_type": "stream",
     "text": [
      "\n",
      "[*********************100%***********************]  1 of 1 completed"
     ]
    },
    {
     "name": "stderr",
     "output_type": "stream",
     "text": [
      " 73%|███████▎  | 131/179 [02:41<00:53,  1.11s/it]"
     ]
    },
    {
     "name": "stdout",
     "output_type": "stream",
     "text": [
      "\n",
      "[*********************100%***********************]  1 of 1 completed"
     ]
    },
    {
     "name": "stderr",
     "output_type": "stream",
     "text": [
      "\n",
      "1 Failed download:\n",
      "['SPXSY']: Exception(\"%ticker%: Data doesn't exist for startDate = 946702800, endDate = 1534392000\")\n",
      " 74%|███████▎  | 132/179 [02:41<00:47,  1.01s/it]"
     ]
    },
    {
     "name": "stdout",
     "output_type": "stream",
     "text": [
      "\n",
      "[*********************100%***********************]  1 of 1 completed"
     ]
    },
    {
     "name": "stderr",
     "output_type": "stream",
     "text": [
      " 74%|███████▍  | 133/179 [02:42<00:47,  1.03s/it]"
     ]
    },
    {
     "name": "stdout",
     "output_type": "stream",
     "text": [
      "\n",
      "[*********************100%***********************]  1 of 1 completed"
     ]
    },
    {
     "name": "stderr",
     "output_type": "stream",
     "text": [
      " 75%|███████▍  | 134/179 [02:44<00:50,  1.11s/it]"
     ]
    },
    {
     "name": "stdout",
     "output_type": "stream",
     "text": [
      "\n",
      "[*********************100%***********************]  1 of 1 completed"
     ]
    },
    {
     "name": "stderr",
     "output_type": "stream",
     "text": [
      "\n",
      "1 Failed download:\n",
      "['SCBFY']: Exception(\"%ticker%: Data doesn't exist for startDate = 946702800, endDate = 1534392000\")\n",
      " 75%|███████▌  | 135/179 [02:44<00:44,  1.02s/it]"
     ]
    },
    {
     "name": "stdout",
     "output_type": "stream",
     "text": [
      "\n",
      "[*********************100%***********************]  1 of 1 completed"
     ]
    },
    {
     "name": "stderr",
     "output_type": "stream",
     "text": [
      " 76%|███████▌  | 136/179 [02:46<00:44,  1.04s/it]"
     ]
    },
    {
     "name": "stdout",
     "output_type": "stream",
     "text": [
      "\n",
      "[*********************100%***********************]  1 of 1 completed"
     ]
    },
    {
     "name": "stderr",
     "output_type": "stream",
     "text": [
      "\n",
      "1 Failed download:\n",
      "['TWODY']: Exception(\"%ticker%: Data doesn't exist for startDate = 946702800, endDate = 1534392000\")\n",
      " 77%|███████▋  | 137/179 [02:46<00:40,  1.03it/s]"
     ]
    },
    {
     "name": "stdout",
     "output_type": "stream",
     "text": [
      "\n",
      "[*********************100%***********************]  1 of 1 completed"
     ]
    },
    {
     "name": "stderr",
     "output_type": "stream",
     "text": [
      " 77%|███████▋  | 138/179 [02:48<00:48,  1.19s/it]"
     ]
    },
    {
     "name": "stdout",
     "output_type": "stream",
     "text": [
      "\n",
      "[*********************100%***********************]  1 of 1 completed"
     ]
    },
    {
     "name": "stderr",
     "output_type": "stream",
     "text": [
      " 78%|███████▊  | 139/179 [02:49<00:49,  1.23s/it]"
     ]
    },
    {
     "name": "stdout",
     "output_type": "stream",
     "text": [
      "\n",
      "[*********************100%***********************]  1 of 1 completed"
     ]
    },
    {
     "name": "stderr",
     "output_type": "stream",
     "text": [
      " 78%|███████▊  | 140/179 [02:51<00:52,  1.34s/it]"
     ]
    },
    {
     "name": "stdout",
     "output_type": "stream",
     "text": [
      "\n",
      "[*********************100%***********************]  1 of 1 completed"
     ]
    },
    {
     "name": "stderr",
     "output_type": "stream",
     "text": [
      " 79%|███████▉  | 141/179 [02:52<00:49,  1.31s/it]"
     ]
    },
    {
     "name": "stdout",
     "output_type": "stream",
     "text": [
      "\n",
      "[*********************100%***********************]  1 of 1 completed"
     ]
    },
    {
     "name": "stderr",
     "output_type": "stream",
     "text": [
      "\n",
      "1 Failed download:\n",
      "['UN']: Exception('%ticker%: No timezone found, symbol may be delisted')\n",
      " 79%|███████▉  | 142/179 [02:53<00:42,  1.15s/it]"
     ]
    },
    {
     "name": "stdout",
     "output_type": "stream",
     "text": [
      "\n",
      "[*********************100%***********************]  1 of 1 completed"
     ]
    },
    {
     "name": "stderr",
     "output_type": "stream",
     "text": [
      " 80%|███████▉  | 143/179 [02:55<00:46,  1.30s/it]"
     ]
    },
    {
     "name": "stdout",
     "output_type": "stream",
     "text": [
      "\n",
      "[*********************100%***********************]  1 of 1 completed"
     ]
    },
    {
     "name": "stderr",
     "output_type": "stream",
     "text": [
      " 80%|████████  | 144/179 [02:56<00:49,  1.41s/it]"
     ]
    },
    {
     "name": "stdout",
     "output_type": "stream",
     "text": [
      "\n",
      "[*********************100%***********************]  1 of 1 completed"
     ]
    },
    {
     "name": "stderr",
     "output_type": "stream",
     "text": [
      " 81%|████████  | 145/179 [02:58<00:47,  1.39s/it]"
     ]
    },
    {
     "name": "stdout",
     "output_type": "stream",
     "text": [
      "\n",
      "[*********************100%***********************]  1 of 1 completed"
     ]
    },
    {
     "name": "stderr",
     "output_type": "stream",
     "text": [
      " 82%|████████▏ | 146/179 [02:59<00:45,  1.36s/it]"
     ]
    },
    {
     "name": "stdout",
     "output_type": "stream",
     "text": [
      "\n",
      "[*********************100%***********************]  1 of 1 completed"
     ]
    },
    {
     "name": "stderr",
     "output_type": "stream",
     "text": [
      " 82%|████████▏ | 147/179 [03:00<00:40,  1.27s/it]"
     ]
    },
    {
     "name": "stdout",
     "output_type": "stream",
     "text": [
      "\n",
      "[*********************100%***********************]  1 of 1 completed"
     ]
    },
    {
     "name": "stderr",
     "output_type": "stream",
     "text": [
      "\n",
      "1 Failed download:\n",
      "['WP']: Exception('%ticker%: No timezone found, symbol may be delisted')\n",
      " 83%|████████▎ | 148/179 [03:01<00:34,  1.12s/it]"
     ]
    },
    {
     "name": "stdout",
     "output_type": "stream",
     "text": [
      "\n",
      "[*********************100%***********************]  1 of 1 completed"
     ]
    },
    {
     "name": "stderr",
     "output_type": "stream",
     "text": [
      " 83%|████████▎ | 149/179 [03:02<00:33,  1.13s/it]"
     ]
    },
    {
     "name": "stdout",
     "output_type": "stream",
     "text": [
      "\n",
      "[*********************100%***********************]  1 of 1 completed"
     ]
    },
    {
     "name": "stderr",
     "output_type": "stream",
     "text": [
      " 84%|████████▍ | 150/179 [03:04<00:37,  1.28s/it]"
     ]
    },
    {
     "name": "stdout",
     "output_type": "stream",
     "text": [
      "\n",
      "[*********************100%***********************]  1 of 1 completed"
     ]
    },
    {
     "name": "stderr",
     "output_type": "stream",
     "text": [
      "\n",
      "1 Failed download:\n",
      "['AVEVF']: Exception('%ticker%: No timezone found, symbol may be delisted')\n",
      " 84%|████████▍ | 151/179 [03:04<00:31,  1.13s/it]"
     ]
    },
    {
     "name": "stdout",
     "output_type": "stream",
     "text": [
      "\n",
      "[*********************100%***********************]  1 of 1 completed"
     ]
    },
    {
     "name": "stderr",
     "output_type": "stream",
     "text": [
      "\n",
      "1 Failed download:\n",
      "['AVVYY']: Exception('%ticker%: No timezone found, symbol may be delisted')\n",
      " 85%|████████▍ | 152/179 [03:05<00:28,  1.04s/it]"
     ]
    },
    {
     "name": "stdout",
     "output_type": "stream",
     "text": [
      "\n",
      "[*********************100%***********************]  1 of 1 completed"
     ]
    },
    {
     "name": "stderr",
     "output_type": "stream",
     "text": [
      " 85%|████████▌ | 153/179 [03:06<00:27,  1.05s/it]"
     ]
    },
    {
     "name": "stdout",
     "output_type": "stream",
     "text": [
      "\n",
      "[*********************100%***********************]  1 of 1 completed"
     ]
    },
    {
     "name": "stderr",
     "output_type": "stream",
     "text": [
      "\n",
      "1 Failed download:\n",
      "['BMRPF']: Exception(\"%ticker%: Data doesn't exist for startDate = 946702800, endDate = 1534392000\")\n",
      " 86%|████████▌ | 154/179 [03:07<00:24,  1.02it/s]"
     ]
    },
    {
     "name": "stdout",
     "output_type": "stream",
     "text": [
      "\n",
      "[*********************100%***********************]  1 of 1 completed"
     ]
    },
    {
     "name": "stderr",
     "output_type": "stream",
     "text": [
      " 87%|████████▋ | 155/179 [03:08<00:24,  1.02s/it]"
     ]
    },
    {
     "name": "stdout",
     "output_type": "stream",
     "text": [
      "\n",
      "[*********************100%***********************]  1 of 1 completed"
     ]
    },
    {
     "name": "stderr",
     "output_type": "stream",
     "text": [
      "\n",
      "1 Failed download:\n",
      "['GMVHY']: Exception(\"%ticker%: Data doesn't exist for startDate = 946702800, endDate = 1534392000\")\n",
      " 87%|████████▋ | 156/179 [03:09<00:21,  1.05it/s]"
     ]
    },
    {
     "name": "stdout",
     "output_type": "stream",
     "text": [
      "\n",
      "[*********************100%***********************]  1 of 1 completed"
     ]
    },
    {
     "name": "stderr",
     "output_type": "stream",
     "text": [
      "\n",
      "1 Failed download:\n",
      "['ICGUF']: Exception(\"%ticker%: Data doesn't exist for startDate = 946702800, endDate = 1534392000\")\n",
      " 88%|████████▊ | 157/179 [03:10<00:19,  1.11it/s]"
     ]
    },
    {
     "name": "stdout",
     "output_type": "stream",
     "text": [
      "\n",
      "[*********************100%***********************]  1 of 1 completed"
     ]
    },
    {
     "name": "stderr",
     "output_type": "stream",
     "text": [
      " 88%|████████▊ | 158/179 [03:11<00:18,  1.14it/s]"
     ]
    },
    {
     "name": "stdout",
     "output_type": "stream",
     "text": [
      "\n",
      "[*********************100%***********************]  1 of 1 completed"
     ]
    },
    {
     "name": "stderr",
     "output_type": "stream",
     "text": [
      " 89%|████████▉ | 159/179 [03:11<00:17,  1.15it/s]"
     ]
    },
    {
     "name": "stdout",
     "output_type": "stream",
     "text": [
      "\n",
      "[*********************100%***********************]  1 of 1 completed"
     ]
    },
    {
     "name": "stderr",
     "output_type": "stream",
     "text": [
      "\n",
      "1 Failed download:\n",
      "['MGPUF']: Exception(\"%ticker%: Data doesn't exist for startDate = 946702800, endDate = 1534392000\")\n",
      " 89%|████████▉ | 160/179 [03:12<00:16,  1.17it/s]"
     ]
    },
    {
     "name": "stdout",
     "output_type": "stream",
     "text": [
      "\n",
      "[*********************100%***********************]  1 of 1 completed"
     ]
    },
    {
     "name": "stderr",
     "output_type": "stream",
     "text": [
      " 90%|████████▉ | 161/179 [03:14<00:21,  1.17s/it]"
     ]
    },
    {
     "name": "stdout",
     "output_type": "stream",
     "text": [
      "\n",
      "[*********************100%***********************]  1 of 1 completed"
     ]
    },
    {
     "name": "stderr",
     "output_type": "stream",
     "text": [
      " 91%|█████████ | 162/179 [03:16<00:20,  1.23s/it]"
     ]
    },
    {
     "name": "stdout",
     "output_type": "stream",
     "text": [
      "\n",
      "[*********************100%***********************]  1 of 1 completed"
     ]
    },
    {
     "name": "stderr",
     "output_type": "stream",
     "text": [
      "\n",
      "1 Failed download:\n",
      "['DRKTF']: Exception(\"%ticker%: Data doesn't exist for startDate = 946702800, endDate = 1534392000\")\n",
      " 91%|█████████ | 163/179 [03:16<00:17,  1.09s/it]"
     ]
    },
    {
     "name": "stdout",
     "output_type": "stream",
     "text": [
      "\n",
      "[*********************100%***********************]  1 of 1 completed"
     ]
    },
    {
     "name": "stderr",
     "output_type": "stream",
     "text": [
      "\n",
      "1 Failed download:\n",
      "['RDS-A']: Exception('%ticker%: No timezone found, symbol may be delisted')\n",
      " 92%|█████████▏| 164/179 [03:17<00:14,  1.01it/s]"
     ]
    },
    {
     "name": "stdout",
     "output_type": "stream",
     "text": [
      "\n",
      "[*********************100%***********************]  1 of 1 completed"
     ]
    },
    {
     "name": "stderr",
     "output_type": "stream",
     "text": [
      "\n",
      "1 Failed download:\n",
      "['RDS-B']: Exception('%ticker%: No timezone found, symbol may be delisted')\n",
      " 92%|█████████▏| 165/179 [03:18<00:13,  1.06it/s]"
     ]
    },
    {
     "name": "stdout",
     "output_type": "stream",
     "text": [
      "\n",
      "[*********************100%***********************]  1 of 1 completed"
     ]
    },
    {
     "name": "stderr",
     "output_type": "stream",
     "text": [
      " 93%|█████████▎| 166/179 [03:19<00:13,  1.06s/it]"
     ]
    },
    {
     "name": "stdout",
     "output_type": "stream",
     "text": [
      "\n",
      "[*********************100%***********************]  1 of 1 completed"
     ]
    },
    {
     "name": "stderr",
     "output_type": "stream",
     "text": [
      "\n",
      "1 Failed download:\n",
      "['AAFRF']: Exception(\"%ticker%: Data doesn't exist for startDate = 946702800, endDate = 1534392000\")\n",
      " 93%|█████████▎| 167/179 [03:20<00:11,  1.02it/s]"
     ]
    },
    {
     "name": "stdout",
     "output_type": "stream",
     "text": [
      "\n",
      "[*********************100%***********************]  1 of 1 completed"
     ]
    },
    {
     "name": "stderr",
     "output_type": "stream",
     "text": [
      " 94%|█████████▍| 168/179 [03:21<00:11,  1.09s/it]"
     ]
    },
    {
     "name": "stdout",
     "output_type": "stream",
     "text": [
      "\n",
      "[*********************100%***********************]  1 of 1 completed"
     ]
    },
    {
     "name": "stderr",
     "output_type": "stream",
     "text": [
      " 94%|█████████▍| 169/179 [03:22<00:10,  1.07s/it]"
     ]
    },
    {
     "name": "stdout",
     "output_type": "stream",
     "text": [
      "\n",
      "[*********************100%***********************]  1 of 1 completed"
     ]
    },
    {
     "name": "stderr",
     "output_type": "stream",
     "text": [
      " 95%|█████████▍| 170/179 [03:24<00:09,  1.10s/it]"
     ]
    },
    {
     "name": "stdout",
     "output_type": "stream",
     "text": [
      "\n",
      "[*********************100%***********************]  1 of 1 completed"
     ]
    },
    {
     "name": "stderr",
     "output_type": "stream",
     "text": [
      "\n",
      "1 Failed download:\n",
      "['CNVVY']: Exception(\"%ticker%: Data doesn't exist for startDate = 946702800, endDate = 1534392000\")\n",
      " 96%|█████████▌| 171/179 [03:24<00:08,  1.01s/it]"
     ]
    },
    {
     "name": "stdout",
     "output_type": "stream",
     "text": [
      "\n",
      "[*********************100%***********************]  1 of 1 completed"
     ]
    },
    {
     "name": "stderr",
     "output_type": "stream",
     "text": [
      "\n",
      "1 Failed download:\n",
      "['DPHAY']: Exception('%ticker%: No timezone found, symbol may be delisted')\n",
      " 96%|█████████▌| 172/179 [03:25<00:06,  1.06it/s]"
     ]
    },
    {
     "name": "stdout",
     "output_type": "stream",
     "text": [
      "\n",
      "[*********************100%***********************]  1 of 1 completed"
     ]
    },
    {
     "name": "stderr",
     "output_type": "stream",
     "text": [
      "\n",
      "1 Failed download:\n",
      "['DCHPF']: Exception('%ticker%: No timezone found, symbol may be delisted')\n",
      " 97%|█████████▋| 173/179 [03:26<00:05,  1.12it/s]"
     ]
    },
    {
     "name": "stdout",
     "output_type": "stream",
     "text": [
      "\n",
      "[*********************100%***********************]  1 of 1 completed"
     ]
    },
    {
     "name": "stderr",
     "output_type": "stream",
     "text": [
      "\n",
      "1 Failed download:\n",
      "['HLNCF']: Exception(\"%ticker%: Data doesn't exist for startDate = 946702800, endDate = 1534392000\")\n",
      " 97%|█████████▋| 174/179 [03:27<00:04,  1.16it/s]"
     ]
    },
    {
     "name": "stdout",
     "output_type": "stream",
     "text": [
      "\n",
      "[*********************100%***********************]  1 of 1 completed"
     ]
    },
    {
     "name": "stderr",
     "output_type": "stream",
     "text": [
      "\n",
      "1 Failed download:\n",
      "['HLN']: Exception(\"%ticker%: Data doesn't exist for startDate = 946702800, endDate = 1534392000\")\n",
      " 98%|█████████▊| 175/179 [03:27<00:03,  1.20it/s]"
     ]
    },
    {
     "name": "stdout",
     "output_type": "stream",
     "text": [
      "\n",
      "[*********************100%***********************]  1 of 1 completed"
     ]
    },
    {
     "name": "stderr",
     "output_type": "stream",
     "text": [
      " 98%|█████████▊| 176/179 [03:29<00:02,  1.10it/s]"
     ]
    },
    {
     "name": "stdout",
     "output_type": "stream",
     "text": [
      "\n",
      "[*********************100%***********************]  1 of 1 completed"
     ]
    },
    {
     "name": "stderr",
     "output_type": "stream",
     "text": [
      " 99%|█████████▉| 177/179 [03:30<00:02,  1.06s/it]"
     ]
    },
    {
     "name": "stdout",
     "output_type": "stream",
     "text": [
      "\n",
      "[*********************100%***********************]  1 of 1 completed"
     ]
    },
    {
     "name": "stderr",
     "output_type": "stream",
     "text": [
      "\n",
      "1 Failed download:\n",
      "['HMSVF']: Exception('%ticker%: No timezone found, symbol may be delisted')\n",
      " 99%|█████████▉| 178/179 [03:31<00:00,  1.02it/s]"
     ]
    },
    {
     "name": "stdout",
     "output_type": "stream",
     "text": [
      "\n",
      "[*********************100%***********************]  1 of 1 completed"
     ]
    },
    {
     "name": "stderr",
     "output_type": "stream",
     "text": [
      "100%|██████████| 179/179 [03:32<00:00,  1.19s/it]\n"
     ]
    },
    {
     "name": "stdout",
     "output_type": "stream",
     "text": [
      "\n",
      "CAC 40\n"
     ]
    },
    {
     "name": "stderr",
     "output_type": "stream",
     "text": [
      "  0%|          | 0/71 [00:00<?, ?it/s]"
     ]
    },
    {
     "name": "stdout",
     "output_type": "stream",
     "text": [
      "[*********************100%***********************]  1 of 1 completed"
     ]
    },
    {
     "name": "stderr",
     "output_type": "stream",
     "text": [
      "  1%|▏         | 1/71 [00:01<01:17,  1.11s/it]"
     ]
    },
    {
     "name": "stdout",
     "output_type": "stream",
     "text": [
      "\n",
      "[*********************100%***********************]  1 of 1 completed"
     ]
    },
    {
     "name": "stderr",
     "output_type": "stream",
     "text": [
      "  3%|▎         | 2/71 [00:02<01:34,  1.37s/it]"
     ]
    },
    {
     "name": "stdout",
     "output_type": "stream",
     "text": [
      "\n",
      "[*********************100%***********************]  1 of 1 completed"
     ]
    },
    {
     "name": "stderr",
     "output_type": "stream",
     "text": [
      "  4%|▍         | 3/71 [00:04<01:44,  1.54s/it]"
     ]
    },
    {
     "name": "stdout",
     "output_type": "stream",
     "text": [
      "\n",
      "[*********************100%***********************]  1 of 1 completed"
     ]
    },
    {
     "name": "stderr",
     "output_type": "stream",
     "text": [
      "  6%|▌         | 4/71 [00:05<01:37,  1.45s/it]"
     ]
    },
    {
     "name": "stdout",
     "output_type": "stream",
     "text": [
      "\n",
      "[*********************100%***********************]  1 of 1 completed"
     ]
    },
    {
     "name": "stderr",
     "output_type": "stream",
     "text": [
      "  7%|▋         | 5/71 [00:07<01:33,  1.41s/it]"
     ]
    },
    {
     "name": "stdout",
     "output_type": "stream",
     "text": [
      "\n",
      "[*********************100%***********************]  1 of 1 completed"
     ]
    },
    {
     "name": "stderr",
     "output_type": "stream",
     "text": [
      "  8%|▊         | 6/71 [00:08<01:36,  1.48s/it]"
     ]
    },
    {
     "name": "stdout",
     "output_type": "stream",
     "text": [
      "\n",
      "[*********************100%***********************]  1 of 1 completed"
     ]
    },
    {
     "name": "stderr",
     "output_type": "stream",
     "text": [
      " 10%|▉         | 7/71 [00:09<01:30,  1.42s/it]"
     ]
    },
    {
     "name": "stdout",
     "output_type": "stream",
     "text": [
      "\n",
      "[*********************100%***********************]  1 of 1 completed"
     ]
    },
    {
     "name": "stderr",
     "output_type": "stream",
     "text": [
      " 11%|█▏        | 8/71 [00:11<01:31,  1.45s/it]"
     ]
    },
    {
     "name": "stdout",
     "output_type": "stream",
     "text": [
      "\n",
      "[*********************100%***********************]  1 of 1 completed"
     ]
    },
    {
     "name": "stderr",
     "output_type": "stream",
     "text": [
      " 13%|█▎        | 9/71 [00:12<01:22,  1.34s/it]"
     ]
    },
    {
     "name": "stdout",
     "output_type": "stream",
     "text": [
      "\n",
      "[*********************100%***********************]  1 of 1 completed"
     ]
    },
    {
     "name": "stderr",
     "output_type": "stream",
     "text": [
      "\n",
      "1 Failed download:\n",
      "['BOUYY']: Exception(\"%ticker%: Data doesn't exist for startDate = 946702800, endDate = 1534392000\")\n",
      " 14%|█▍        | 10/71 [00:13<01:11,  1.17s/it]"
     ]
    },
    {
     "name": "stdout",
     "output_type": "stream",
     "text": [
      "\n",
      "[*********************100%***********************]  1 of 1 completed"
     ]
    },
    {
     "name": "stderr",
     "output_type": "stream",
     "text": [
      " 15%|█▌        | 11/71 [00:14<01:12,  1.21s/it]"
     ]
    },
    {
     "name": "stdout",
     "output_type": "stream",
     "text": [
      "\n",
      "[*********************100%***********************]  1 of 1 completed"
     ]
    },
    {
     "name": "stderr",
     "output_type": "stream",
     "text": [
      " 17%|█▋        | 12/71 [00:16<01:17,  1.32s/it]"
     ]
    },
    {
     "name": "stdout",
     "output_type": "stream",
     "text": [
      "\n",
      "[*********************100%***********************]  1 of 1 completed"
     ]
    },
    {
     "name": "stderr",
     "output_type": "stream",
     "text": [
      " 18%|█▊        | 13/71 [00:17<01:16,  1.32s/it]"
     ]
    },
    {
     "name": "stdout",
     "output_type": "stream",
     "text": [
      "\n",
      "[*********************100%***********************]  1 of 1 completed"
     ]
    },
    {
     "name": "stderr",
     "output_type": "stream",
     "text": [
      " 20%|█▉        | 14/71 [00:18<01:15,  1.32s/it]"
     ]
    },
    {
     "name": "stdout",
     "output_type": "stream",
     "text": [
      "\n",
      "[*********************100%***********************]  1 of 1 completed"
     ]
    },
    {
     "name": "stderr",
     "output_type": "stream",
     "text": [
      " 21%|██        | 15/71 [00:19<01:09,  1.23s/it]"
     ]
    },
    {
     "name": "stdout",
     "output_type": "stream",
     "text": [
      "\n",
      "[*********************100%***********************]  1 of 1 completed"
     ]
    },
    {
     "name": "stderr",
     "output_type": "stream",
     "text": [
      " 23%|██▎       | 16/71 [00:21<01:11,  1.29s/it]"
     ]
    },
    {
     "name": "stdout",
     "output_type": "stream",
     "text": [
      "\n",
      "[*********************100%***********************]  1 of 1 completed"
     ]
    },
    {
     "name": "stderr",
     "output_type": "stream",
     "text": [
      " 24%|██▍       | 17/71 [00:23<01:19,  1.47s/it]"
     ]
    },
    {
     "name": "stdout",
     "output_type": "stream",
     "text": [
      "\n",
      "[*********************100%***********************]  1 of 1 completed"
     ]
    },
    {
     "name": "stderr",
     "output_type": "stream",
     "text": [
      " 25%|██▌       | 18/71 [00:24<01:20,  1.52s/it]"
     ]
    },
    {
     "name": "stdout",
     "output_type": "stream",
     "text": [
      "\n",
      "[*********************100%***********************]  1 of 1 completed"
     ]
    },
    {
     "name": "stderr",
     "output_type": "stream",
     "text": [
      " 27%|██▋       | 19/71 [00:26<01:15,  1.46s/it]"
     ]
    },
    {
     "name": "stdout",
     "output_type": "stream",
     "text": [
      "\n",
      "[*********************100%***********************]  1 of 1 completed"
     ]
    },
    {
     "name": "stderr",
     "output_type": "stream",
     "text": [
      " 28%|██▊       | 20/71 [00:27<01:08,  1.34s/it]"
     ]
    },
    {
     "name": "stdout",
     "output_type": "stream",
     "text": [
      "\n",
      "[*********************100%***********************]  1 of 1 completed"
     ]
    },
    {
     "name": "stderr",
     "output_type": "stream",
     "text": [
      " 30%|██▉       | 21/71 [00:28<01:09,  1.40s/it]"
     ]
    },
    {
     "name": "stdout",
     "output_type": "stream",
     "text": [
      "\n",
      "[*********************100%***********************]  1 of 1 completed"
     ]
    },
    {
     "name": "stderr",
     "output_type": "stream",
     "text": [
      " 31%|███       | 22/71 [00:30<01:07,  1.37s/it]"
     ]
    },
    {
     "name": "stdout",
     "output_type": "stream",
     "text": [
      "\n",
      "[*********************100%***********************]  1 of 1 completed"
     ]
    },
    {
     "name": "stderr",
     "output_type": "stream",
     "text": [
      " 32%|███▏      | 23/71 [00:31<01:04,  1.34s/it]"
     ]
    },
    {
     "name": "stdout",
     "output_type": "stream",
     "text": [
      "\n",
      "[*********************100%***********************]  1 of 1 completed"
     ]
    },
    {
     "name": "stderr",
     "output_type": "stream",
     "text": [
      " 34%|███▍      | 24/71 [00:32<01:02,  1.32s/it]"
     ]
    },
    {
     "name": "stdout",
     "output_type": "stream",
     "text": [
      "\n",
      "[*********************100%***********************]  1 of 1 completed"
     ]
    },
    {
     "name": "stderr",
     "output_type": "stream",
     "text": [
      " 35%|███▌      | 25/71 [00:33<00:57,  1.25s/it]"
     ]
    },
    {
     "name": "stdout",
     "output_type": "stream",
     "text": [
      "\n",
      "[*********************100%***********************]  1 of 1 completed"
     ]
    },
    {
     "name": "stderr",
     "output_type": "stream",
     "text": [
      " 37%|███▋      | 26/71 [00:34<00:50,  1.12s/it]"
     ]
    },
    {
     "name": "stdout",
     "output_type": "stream",
     "text": [
      "\n",
      "[*********************100%***********************]  1 of 1 completed"
     ]
    },
    {
     "name": "stderr",
     "output_type": "stream",
     "text": [
      " 38%|███▊      | 27/71 [00:35<00:48,  1.11s/it]"
     ]
    },
    {
     "name": "stdout",
     "output_type": "stream",
     "text": [
      "\n",
      "[*********************100%***********************]  1 of 1 completed"
     ]
    },
    {
     "name": "stderr",
     "output_type": "stream",
     "text": [
      " 39%|███▉      | 28/71 [00:36<00:46,  1.09s/it]"
     ]
    },
    {
     "name": "stdout",
     "output_type": "stream",
     "text": [
      "\n",
      "[*********************100%***********************]  1 of 1 completed"
     ]
    },
    {
     "name": "stderr",
     "output_type": "stream",
     "text": [
      "\n",
      "1 Failed download:\n",
      "['OCBI']: Exception('%ticker%: No timezone found, symbol may be delisted')\n",
      " 41%|████      | 29/71 [00:37<00:41,  1.01it/s]"
     ]
    },
    {
     "name": "stdout",
     "output_type": "stream",
     "text": [
      "\n",
      "[*********************100%***********************]  1 of 1 completed"
     ]
    },
    {
     "name": "stderr",
     "output_type": "stream",
     "text": [
      " 42%|████▏     | 30/71 [00:39<00:48,  1.18s/it]"
     ]
    },
    {
     "name": "stdout",
     "output_type": "stream",
     "text": [
      "\n",
      "[*********************100%***********************]  1 of 1 completed"
     ]
    },
    {
     "name": "stderr",
     "output_type": "stream",
     "text": [
      " 44%|████▎     | 31/71 [00:40<00:49,  1.24s/it]"
     ]
    },
    {
     "name": "stdout",
     "output_type": "stream",
     "text": [
      "\n",
      "[*********************100%***********************]  1 of 1 completed"
     ]
    },
    {
     "name": "stderr",
     "output_type": "stream",
     "text": [
      " 45%|████▌     | 32/71 [00:41<00:45,  1.18s/it]"
     ]
    },
    {
     "name": "stdout",
     "output_type": "stream",
     "text": [
      "\n",
      "[*********************100%***********************]  1 of 1 completed"
     ]
    },
    {
     "name": "stderr",
     "output_type": "stream",
     "text": [
      " 46%|████▋     | 33/71 [00:42<00:46,  1.21s/it]"
     ]
    },
    {
     "name": "stdout",
     "output_type": "stream",
     "text": [
      "\n",
      "[*********************100%***********************]  1 of 1 completed"
     ]
    },
    {
     "name": "stderr",
     "output_type": "stream",
     "text": [
      "\n",
      "1 Failed download:\n",
      "['PDRDY']: Exception('%ticker%: No timezone found, symbol may be delisted')\n",
      " 48%|████▊     | 34/71 [00:43<00:40,  1.08s/it]"
     ]
    },
    {
     "name": "stdout",
     "output_type": "stream",
     "text": [
      "\n",
      "[*********************100%***********************]  1 of 1 completed"
     ]
    },
    {
     "name": "stderr",
     "output_type": "stream",
     "text": [
      " 49%|████▉     | 35/71 [00:44<00:41,  1.16s/it]"
     ]
    },
    {
     "name": "stdout",
     "output_type": "stream",
     "text": [
      "\n",
      "[*********************100%***********************]  1 of 1 completed"
     ]
    },
    {
     "name": "stderr",
     "output_type": "stream",
     "text": [
      " 51%|█████     | 36/71 [00:45<00:39,  1.14s/it]"
     ]
    },
    {
     "name": "stdout",
     "output_type": "stream",
     "text": [
      "\n",
      "[*********************100%***********************]  1 of 1 completed"
     ]
    },
    {
     "name": "stderr",
     "output_type": "stream",
     "text": [
      " 52%|█████▏    | 37/71 [00:47<00:43,  1.28s/it]"
     ]
    },
    {
     "name": "stdout",
     "output_type": "stream",
     "text": [
      "\n",
      "[*********************100%***********************]  1 of 1 completed"
     ]
    },
    {
     "name": "stderr",
     "output_type": "stream",
     "text": [
      " 54%|█████▎    | 38/71 [00:48<00:40,  1.23s/it]"
     ]
    },
    {
     "name": "stdout",
     "output_type": "stream",
     "text": [
      "\n",
      "[*********************100%***********************]  1 of 1 completed"
     ]
    },
    {
     "name": "stderr",
     "output_type": "stream",
     "text": [
      " 55%|█████▍    | 39/71 [00:49<00:37,  1.18s/it]"
     ]
    },
    {
     "name": "stdout",
     "output_type": "stream",
     "text": [
      "\n",
      "[*********************100%***********************]  1 of 1 completed"
     ]
    },
    {
     "name": "stderr",
     "output_type": "stream",
     "text": [
      " 56%|█████▋    | 40/71 [00:50<00:35,  1.15s/it]"
     ]
    },
    {
     "name": "stdout",
     "output_type": "stream",
     "text": [
      "\n",
      "[*********************100%***********************]  1 of 1 completed"
     ]
    },
    {
     "name": "stderr",
     "output_type": "stream",
     "text": [
      " 58%|█████▊    | 41/71 [00:52<00:36,  1.21s/it]"
     ]
    },
    {
     "name": "stdout",
     "output_type": "stream",
     "text": [
      "\n",
      "[*********************100%***********************]  1 of 1 completed"
     ]
    },
    {
     "name": "stderr",
     "output_type": "stream",
     "text": [
      " 59%|█████▉    | 42/71 [00:53<00:34,  1.17s/it]"
     ]
    },
    {
     "name": "stdout",
     "output_type": "stream",
     "text": [
      "\n",
      "[*********************100%***********************]  1 of 1 completed"
     ]
    },
    {
     "name": "stderr",
     "output_type": "stream",
     "text": [
      " 61%|██████    | 43/71 [00:54<00:29,  1.07s/it]"
     ]
    },
    {
     "name": "stdout",
     "output_type": "stream",
     "text": [
      "\n",
      "[*********************100%***********************]  1 of 1 completed"
     ]
    },
    {
     "name": "stderr",
     "output_type": "stream",
     "text": [
      " 62%|██████▏   | 44/71 [00:55<00:30,  1.14s/it]"
     ]
    },
    {
     "name": "stdout",
     "output_type": "stream",
     "text": [
      "\n",
      "[*********************100%***********************]  1 of 1 completed"
     ]
    },
    {
     "name": "stderr",
     "output_type": "stream",
     "text": [
      " 63%|██████▎   | 45/71 [00:56<00:33,  1.27s/it]"
     ]
    },
    {
     "name": "stdout",
     "output_type": "stream",
     "text": [
      "\n",
      "[*********************100%***********************]  1 of 1 completed"
     ]
    },
    {
     "name": "stderr",
     "output_type": "stream",
     "text": [
      " 65%|██████▍   | 46/71 [00:58<00:31,  1.27s/it]"
     ]
    },
    {
     "name": "stdout",
     "output_type": "stream",
     "text": [
      "\n",
      "[*********************100%***********************]  1 of 1 completed"
     ]
    },
    {
     "name": "stderr",
     "output_type": "stream",
     "text": [
      " 66%|██████▌   | 47/71 [00:59<00:30,  1.29s/it]"
     ]
    },
    {
     "name": "stdout",
     "output_type": "stream",
     "text": [
      "\n",
      "[*********************100%***********************]  1 of 1 completed"
     ]
    },
    {
     "name": "stderr",
     "output_type": "stream",
     "text": [
      " 68%|██████▊   | 48/71 [01:00<00:28,  1.22s/it]"
     ]
    },
    {
     "name": "stdout",
     "output_type": "stream",
     "text": [
      "\n",
      "[*********************100%***********************]  1 of 1 completed"
     ]
    },
    {
     "name": "stderr",
     "output_type": "stream",
     "text": [
      " 69%|██████▉   | 49/71 [01:02<00:29,  1.35s/it]"
     ]
    },
    {
     "name": "stdout",
     "output_type": "stream",
     "text": [
      "\n",
      "[*********************100%***********************]  1 of 1 completed"
     ]
    },
    {
     "name": "stderr",
     "output_type": "stream",
     "text": [
      " 70%|███████   | 50/71 [01:05<00:37,  1.78s/it]"
     ]
    },
    {
     "name": "stdout",
     "output_type": "stream",
     "text": [
      "\n",
      "[*********************100%***********************]  1 of 1 completed"
     ]
    },
    {
     "name": "stderr",
     "output_type": "stream",
     "text": [
      "\n",
      "1 Failed download:\n",
      "['TOT']: Exception('%ticker%: No timezone found, symbol may be delisted')\n",
      " 72%|███████▏  | 51/71 [01:05<00:29,  1.48s/it]"
     ]
    },
    {
     "name": "stdout",
     "output_type": "stream",
     "text": [
      "\n",
      "[*********************100%***********************]  1 of 1 completed"
     ]
    },
    {
     "name": "stderr",
     "output_type": "stream",
     "text": [
      " 73%|███████▎  | 52/71 [01:07<00:28,  1.52s/it]"
     ]
    },
    {
     "name": "stdout",
     "output_type": "stream",
     "text": [
      "\n",
      "[*********************100%***********************]  1 of 1 completed"
     ]
    },
    {
     "name": "stderr",
     "output_type": "stream",
     "text": [
      " 75%|███████▍  | 53/71 [01:08<00:25,  1.39s/it]"
     ]
    },
    {
     "name": "stdout",
     "output_type": "stream",
     "text": [
      "\n",
      "[*********************100%***********************]  1 of 1 completed"
     ]
    },
    {
     "name": "stderr",
     "output_type": "stream",
     "text": [
      "\n",
      "1 Failed download:\n",
      "['UNIRF']: Exception(\"%ticker%: Data doesn't exist for startDate = 946702800, endDate = 1534392000\")\n",
      " 76%|███████▌  | 54/71 [01:09<00:20,  1.21s/it]"
     ]
    },
    {
     "name": "stdout",
     "output_type": "stream",
     "text": [
      "\n",
      "[*********************100%***********************]  1 of 1 completed"
     ]
    },
    {
     "name": "stderr",
     "output_type": "stream",
     "text": [
      " 77%|███████▋  | 55/71 [01:10<00:21,  1.33s/it]"
     ]
    },
    {
     "name": "stdout",
     "output_type": "stream",
     "text": [
      "\n",
      "[*********************100%***********************]  1 of 1 completed"
     ]
    },
    {
     "name": "stderr",
     "output_type": "stream",
     "text": [
      " 79%|███████▉  | 56/71 [01:12<00:19,  1.33s/it]"
     ]
    },
    {
     "name": "stdout",
     "output_type": "stream",
     "text": [
      "\n",
      "[*********************100%***********************]  1 of 1 completed"
     ]
    },
    {
     "name": "stderr",
     "output_type": "stream",
     "text": [
      " 80%|████████  | 57/71 [01:13<00:18,  1.35s/it]"
     ]
    },
    {
     "name": "stdout",
     "output_type": "stream",
     "text": [
      "\n",
      "[*********************100%***********************]  1 of 1 completed"
     ]
    },
    {
     "name": "stderr",
     "output_type": "stream",
     "text": [
      "\n",
      "1 Failed download:\n",
      "['VIVEF']: Exception('%ticker%: No timezone found, symbol may be delisted')\n",
      " 82%|████████▏ | 58/71 [01:14<00:15,  1.19s/it]"
     ]
    },
    {
     "name": "stdout",
     "output_type": "stream",
     "text": [
      "\n",
      "[*********************100%***********************]  1 of 1 completed"
     ]
    },
    {
     "name": "stderr",
     "output_type": "stream",
     "text": [
      " 83%|████████▎ | 59/71 [01:15<00:14,  1.23s/it]"
     ]
    },
    {
     "name": "stdout",
     "output_type": "stream",
     "text": [
      "\n",
      "[*********************100%***********************]  1 of 1 completed"
     ]
    },
    {
     "name": "stderr",
     "output_type": "stream",
     "text": [
      " 85%|████████▍ | 60/71 [01:16<00:12,  1.10s/it]"
     ]
    },
    {
     "name": "stdout",
     "output_type": "stream",
     "text": [
      "\n",
      "[*********************100%***********************]  1 of 1 completed"
     ]
    },
    {
     "name": "stderr",
     "output_type": "stream",
     "text": [
      "\n",
      "1 Failed download:\n",
      "['WRDLY']: Exception(\"%ticker%: Data doesn't exist for startDate = 946702800, endDate = 1534392000\")\n",
      " 86%|████████▌ | 61/71 [01:17<00:10,  1.02s/it]"
     ]
    },
    {
     "name": "stdout",
     "output_type": "stream",
     "text": [
      "\n",
      "[*********************100%***********************]  1 of 1 completed"
     ]
    },
    {
     "name": "stderr",
     "output_type": "stream",
     "text": [
      " 87%|████████▋ | 62/71 [01:19<00:10,  1.22s/it]"
     ]
    },
    {
     "name": "stdout",
     "output_type": "stream",
     "text": [
      "\n",
      "[*********************100%***********************]  1 of 1 completed"
     ]
    },
    {
     "name": "stderr",
     "output_type": "stream",
     "text": [
      " 89%|████████▊ | 63/71 [01:20<00:11,  1.40s/it]"
     ]
    },
    {
     "name": "stdout",
     "output_type": "stream",
     "text": [
      "\n",
      "[*********************100%***********************]  1 of 1 completed"
     ]
    },
    {
     "name": "stderr",
     "output_type": "stream",
     "text": [
      " 90%|█████████ | 64/71 [01:22<00:09,  1.36s/it]"
     ]
    },
    {
     "name": "stdout",
     "output_type": "stream",
     "text": [
      "\n",
      "[*********************100%***********************]  1 of 1 completed"
     ]
    },
    {
     "name": "stderr",
     "output_type": "stream",
     "text": [
      " 92%|█████████▏| 65/71 [01:23<00:07,  1.32s/it]"
     ]
    },
    {
     "name": "stdout",
     "output_type": "stream",
     "text": [
      "\n",
      "[*********************100%***********************]  1 of 1 completed"
     ]
    },
    {
     "name": "stderr",
     "output_type": "stream",
     "text": [
      " 93%|█████████▎| 66/71 [01:24<00:06,  1.31s/it]"
     ]
    },
    {
     "name": "stdout",
     "output_type": "stream",
     "text": [
      "\n",
      "[*********************100%***********************]  1 of 1 completed"
     ]
    },
    {
     "name": "stderr",
     "output_type": "stream",
     "text": [
      " 94%|█████████▍| 67/71 [01:26<00:05,  1.32s/it]"
     ]
    },
    {
     "name": "stdout",
     "output_type": "stream",
     "text": [
      "\n",
      "[*********************100%***********************]  1 of 1 completed"
     ]
    },
    {
     "name": "stderr",
     "output_type": "stream",
     "text": [
      " 96%|█████████▌| 68/71 [01:27<00:03,  1.32s/it]"
     ]
    },
    {
     "name": "stdout",
     "output_type": "stream",
     "text": [
      "\n",
      "[*********************100%***********************]  1 of 1 completed"
     ]
    },
    {
     "name": "stderr",
     "output_type": "stream",
     "text": [
      " 97%|█████████▋| 69/71 [01:28<00:02,  1.39s/it]"
     ]
    },
    {
     "name": "stdout",
     "output_type": "stream",
     "text": [
      "\n",
      "[*********************100%***********************]  1 of 1 completed"
     ]
    },
    {
     "name": "stderr",
     "output_type": "stream",
     "text": [
      " 99%|█████████▊| 70/71 [01:30<00:01,  1.30s/it]"
     ]
    },
    {
     "name": "stdout",
     "output_type": "stream",
     "text": [
      "\n",
      "[*********************100%***********************]  1 of 1 completed"
     ]
    },
    {
     "name": "stderr",
     "output_type": "stream",
     "text": [
      "100%|██████████| 71/71 [01:31<00:00,  1.28s/it]\n"
     ]
    },
    {
     "name": "stdout",
     "output_type": "stream",
     "text": [
      "\n",
      "DAX\n"
     ]
    },
    {
     "name": "stderr",
     "output_type": "stream",
     "text": [
      "  0%|          | 0/69 [00:00<?, ?it/s]"
     ]
    },
    {
     "name": "stdout",
     "output_type": "stream",
     "text": [
      "[*********************100%***********************]  1 of 1 completed"
     ]
    },
    {
     "name": "stderr",
     "output_type": "stream",
     "text": [
      "  1%|▏         | 1/69 [00:01<01:30,  1.33s/it]"
     ]
    },
    {
     "name": "stdout",
     "output_type": "stream",
     "text": [
      "\n",
      "[*********************100%***********************]  1 of 1 completed"
     ]
    },
    {
     "name": "stderr",
     "output_type": "stream",
     "text": [
      "  3%|▎         | 2/69 [00:02<01:30,  1.35s/it]"
     ]
    },
    {
     "name": "stdout",
     "output_type": "stream",
     "text": [
      "\n",
      "[*********************100%***********************]  1 of 1 completed"
     ]
    },
    {
     "name": "stderr",
     "output_type": "stream",
     "text": [
      "\n",
      "1 Failed download:\n",
      "['AZSEY']: Exception('%ticker%: No timezone found, symbol may be delisted')\n",
      "  4%|▍         | 3/69 [00:03<01:11,  1.08s/it]"
     ]
    },
    {
     "name": "stdout",
     "output_type": "stream",
     "text": [
      "\n",
      "[*********************100%***********************]  1 of 1 completed"
     ]
    },
    {
     "name": "stderr",
     "output_type": "stream",
     "text": [
      "  6%|▌         | 4/69 [00:05<01:25,  1.32s/it]"
     ]
    },
    {
     "name": "stdout",
     "output_type": "stream",
     "text": [
      "\n",
      "[*********************100%***********************]  1 of 1 completed"
     ]
    },
    {
     "name": "stderr",
     "output_type": "stream",
     "text": [
      "  7%|▋         | 5/69 [00:06<01:24,  1.31s/it]"
     ]
    },
    {
     "name": "stdout",
     "output_type": "stream",
     "text": [
      "\n",
      "[*********************100%***********************]  1 of 1 completed"
     ]
    },
    {
     "name": "stderr",
     "output_type": "stream",
     "text": [
      "  9%|▊         | 6/69 [00:08<01:29,  1.43s/it]"
     ]
    },
    {
     "name": "stdout",
     "output_type": "stream",
     "text": [
      "\n",
      "[*********************100%***********************]  1 of 1 completed"
     ]
    },
    {
     "name": "stderr",
     "output_type": "stream",
     "text": [
      " 10%|█         | 7/69 [00:09<01:26,  1.40s/it]"
     ]
    },
    {
     "name": "stdout",
     "output_type": "stream",
     "text": [
      "\n",
      "[*********************100%***********************]  1 of 1 completed"
     ]
    },
    {
     "name": "stderr",
     "output_type": "stream",
     "text": [
      " 12%|█▏        | 8/69 [00:11<01:34,  1.54s/it]"
     ]
    },
    {
     "name": "stdout",
     "output_type": "stream",
     "text": [
      "\n",
      "[*********************100%***********************]  1 of 1 completed"
     ]
    },
    {
     "name": "stderr",
     "output_type": "stream",
     "text": [
      " 13%|█▎        | 9/69 [00:12<01:24,  1.41s/it]"
     ]
    },
    {
     "name": "stdout",
     "output_type": "stream",
     "text": [
      "\n",
      "[*********************100%***********************]  1 of 1 completed"
     ]
    },
    {
     "name": "stderr",
     "output_type": "stream",
     "text": [
      " 14%|█▍        | 10/69 [00:13<01:17,  1.32s/it]"
     ]
    },
    {
     "name": "stdout",
     "output_type": "stream",
     "text": [
      "\n",
      "[*********************100%***********************]  1 of 1 completed"
     ]
    },
    {
     "name": "stderr",
     "output_type": "stream",
     "text": [
      " 16%|█▌        | 11/69 [00:14<01:16,  1.33s/it]"
     ]
    },
    {
     "name": "stdout",
     "output_type": "stream",
     "text": [
      "\n",
      "[*********************100%***********************]  1 of 1 completed"
     ]
    },
    {
     "name": "stderr",
     "output_type": "stream",
     "text": [
      " 17%|█▋        | 12/69 [00:15<01:11,  1.26s/it]"
     ]
    },
    {
     "name": "stdout",
     "output_type": "stream",
     "text": [
      "\n",
      "[*********************100%***********************]  1 of 1 completed"
     ]
    },
    {
     "name": "stderr",
     "output_type": "stream",
     "text": [
      " 19%|█▉        | 13/69 [00:17<01:16,  1.37s/it]"
     ]
    },
    {
     "name": "stdout",
     "output_type": "stream",
     "text": [
      "\n",
      "[*********************100%***********************]  1 of 1 completed"
     ]
    },
    {
     "name": "stderr",
     "output_type": "stream",
     "text": [
      " 20%|██        | 14/69 [00:18<01:13,  1.34s/it]"
     ]
    },
    {
     "name": "stdout",
     "output_type": "stream",
     "text": [
      "\n",
      "[*********************100%***********************]  1 of 1 completed"
     ]
    },
    {
     "name": "stderr",
     "output_type": "stream",
     "text": [
      " 22%|██▏       | 15/69 [00:19<01:03,  1.18s/it]"
     ]
    },
    {
     "name": "stdout",
     "output_type": "stream",
     "text": [
      "\n",
      "[*********************100%***********************]  1 of 1 completed"
     ]
    },
    {
     "name": "stderr",
     "output_type": "stream",
     "text": [
      " 23%|██▎       | 16/69 [00:21<01:09,  1.32s/it]"
     ]
    },
    {
     "name": "stdout",
     "output_type": "stream",
     "text": [
      "\n",
      "[*********************100%***********************]  1 of 1 completed"
     ]
    },
    {
     "name": "stderr",
     "output_type": "stream",
     "text": [
      " 25%|██▍       | 17/69 [00:22<01:09,  1.33s/it]"
     ]
    },
    {
     "name": "stdout",
     "output_type": "stream",
     "text": [
      "\n",
      "[*********************100%***********************]  1 of 1 completed"
     ]
    },
    {
     "name": "stderr",
     "output_type": "stream",
     "text": [
      "\n",
      "1 Failed download:\n",
      "['DPSGY']: Exception('%ticker%: No timezone found, symbol may be delisted')\n",
      " 26%|██▌       | 18/69 [00:23<00:59,  1.17s/it]"
     ]
    },
    {
     "name": "stdout",
     "output_type": "stream",
     "text": [
      "\n",
      "[*********************100%***********************]  1 of 1 completed"
     ]
    },
    {
     "name": "stderr",
     "output_type": "stream",
     "text": [
      " 28%|██▊       | 19/69 [00:24<01:00,  1.21s/it]"
     ]
    },
    {
     "name": "stdout",
     "output_type": "stream",
     "text": [
      "\n",
      "[*********************100%***********************]  1 of 1 completed"
     ]
    },
    {
     "name": "stderr",
     "output_type": "stream",
     "text": [
      " 29%|██▉       | 20/69 [00:26<01:05,  1.34s/it]"
     ]
    },
    {
     "name": "stdout",
     "output_type": "stream",
     "text": [
      "\n",
      "[*********************100%***********************]  1 of 1 completed"
     ]
    },
    {
     "name": "stderr",
     "output_type": "stream",
     "text": [
      " 30%|███       | 21/69 [00:27<01:03,  1.31s/it]"
     ]
    },
    {
     "name": "stdout",
     "output_type": "stream",
     "text": [
      "\n",
      "[*********************100%***********************]  1 of 1 completed"
     ]
    },
    {
     "name": "stderr",
     "output_type": "stream",
     "text": [
      " 32%|███▏      | 22/69 [00:29<01:05,  1.39s/it]"
     ]
    },
    {
     "name": "stdout",
     "output_type": "stream",
     "text": [
      "\n",
      "[*********************100%***********************]  1 of 1 completed"
     ]
    },
    {
     "name": "stderr",
     "output_type": "stream",
     "text": [
      " 33%|███▎      | 23/69 [00:30<01:07,  1.46s/it]"
     ]
    },
    {
     "name": "stdout",
     "output_type": "stream",
     "text": [
      "\n",
      "[*********************100%***********************]  1 of 1 completed"
     ]
    },
    {
     "name": "stderr",
     "output_type": "stream",
     "text": [
      " 35%|███▍      | 24/69 [00:31<01:00,  1.34s/it]"
     ]
    },
    {
     "name": "stdout",
     "output_type": "stream",
     "text": [
      "\n",
      "[*********************100%***********************]  1 of 1 completed"
     ]
    },
    {
     "name": "stderr",
     "output_type": "stream",
     "text": [
      " 36%|███▌      | 25/69 [00:33<00:58,  1.33s/it]"
     ]
    },
    {
     "name": "stdout",
     "output_type": "stream",
     "text": [
      "\n",
      "[*********************100%***********************]  1 of 1 completed"
     ]
    },
    {
     "name": "stderr",
     "output_type": "stream",
     "text": [
      " 38%|███▊      | 26/69 [00:34<00:54,  1.27s/it]"
     ]
    },
    {
     "name": "stdout",
     "output_type": "stream",
     "text": [
      "\n",
      "[*********************100%***********************]  1 of 1 completed"
     ]
    },
    {
     "name": "stderr",
     "output_type": "stream",
     "text": [
      " 39%|███▉      | 27/69 [00:35<00:53,  1.28s/it]"
     ]
    },
    {
     "name": "stdout",
     "output_type": "stream",
     "text": [
      "\n",
      "[*********************100%***********************]  1 of 1 completed"
     ]
    },
    {
     "name": "stderr",
     "output_type": "stream",
     "text": [
      " 41%|████      | 28/69 [00:37<00:53,  1.30s/it]"
     ]
    },
    {
     "name": "stdout",
     "output_type": "stream",
     "text": [
      "\n",
      "[*********************100%***********************]  1 of 1 completed"
     ]
    },
    {
     "name": "stderr",
     "output_type": "stream",
     "text": [
      " 42%|████▏     | 29/69 [00:38<00:52,  1.32s/it]"
     ]
    },
    {
     "name": "stdout",
     "output_type": "stream",
     "text": [
      "\n",
      "[*********************100%***********************]  1 of 1 completed"
     ]
    },
    {
     "name": "stderr",
     "output_type": "stream",
     "text": [
      " 43%|████▎     | 30/69 [00:39<00:51,  1.32s/it]"
     ]
    },
    {
     "name": "stdout",
     "output_type": "stream",
     "text": [
      "\n",
      "[*********************100%***********************]  1 of 1 completed"
     ]
    },
    {
     "name": "stderr",
     "output_type": "stream",
     "text": [
      " 45%|████▍     | 31/69 [00:41<00:53,  1.41s/it]"
     ]
    },
    {
     "name": "stdout",
     "output_type": "stream",
     "text": [
      "\n",
      "[*********************100%***********************]  1 of 1 completed"
     ]
    },
    {
     "name": "stderr",
     "output_type": "stream",
     "text": [
      " 46%|████▋     | 32/69 [00:42<00:54,  1.47s/it]"
     ]
    },
    {
     "name": "stdout",
     "output_type": "stream",
     "text": [
      "\n",
      "[*********************100%***********************]  1 of 1 completed"
     ]
    },
    {
     "name": "stderr",
     "output_type": "stream",
     "text": [
      " 48%|████▊     | 33/69 [00:44<00:48,  1.36s/it]"
     ]
    },
    {
     "name": "stdout",
     "output_type": "stream",
     "text": [
      "\n",
      "[*********************100%***********************]  1 of 1 completed"
     ]
    },
    {
     "name": "stderr",
     "output_type": "stream",
     "text": [
      " 49%|████▉     | 34/69 [00:45<00:49,  1.40s/it]"
     ]
    },
    {
     "name": "stdout",
     "output_type": "stream",
     "text": [
      "\n",
      "[*********************100%***********************]  1 of 1 completed"
     ]
    },
    {
     "name": "stderr",
     "output_type": "stream",
     "text": [
      " 51%|█████     | 35/69 [00:46<00:47,  1.39s/it]"
     ]
    },
    {
     "name": "stdout",
     "output_type": "stream",
     "text": [
      "\n",
      "[*********************100%***********************]  1 of 1 completed"
     ]
    },
    {
     "name": "stderr",
     "output_type": "stream",
     "text": [
      " 52%|█████▏    | 36/69 [00:48<00:47,  1.45s/it]"
     ]
    },
    {
     "name": "stdout",
     "output_type": "stream",
     "text": [
      "\n",
      "[*********************100%***********************]  1 of 1 completed"
     ]
    },
    {
     "name": "stderr",
     "output_type": "stream",
     "text": [
      " 54%|█████▎    | 37/69 [00:50<00:47,  1.50s/it]"
     ]
    },
    {
     "name": "stdout",
     "output_type": "stream",
     "text": [
      "\n",
      "[*********************100%***********************]  1 of 1 completed"
     ]
    },
    {
     "name": "stderr",
     "output_type": "stream",
     "text": [
      " 55%|█████▌    | 38/69 [00:51<00:44,  1.45s/it]"
     ]
    },
    {
     "name": "stdout",
     "output_type": "stream",
     "text": [
      "\n",
      "[*********************100%***********************]  1 of 1 completed"
     ]
    },
    {
     "name": "stderr",
     "output_type": "stream",
     "text": [
      " 57%|█████▋    | 39/69 [00:52<00:42,  1.41s/it]"
     ]
    },
    {
     "name": "stdout",
     "output_type": "stream",
     "text": [
      "\n",
      "[*********************100%***********************]  1 of 1 completed"
     ]
    },
    {
     "name": "stderr",
     "output_type": "stream",
     "text": [
      " 58%|█████▊    | 40/69 [00:54<00:43,  1.50s/it]"
     ]
    },
    {
     "name": "stdout",
     "output_type": "stream",
     "text": [
      "\n",
      "[*********************100%***********************]  1 of 1 completed"
     ]
    },
    {
     "name": "stderr",
     "output_type": "stream",
     "text": [
      "\n",
      "1 Failed download:\n",
      "['SI']: Exception('%ticker%: No timezone found, symbol may be delisted')\n",
      " 59%|█████▉    | 41/69 [00:55<00:38,  1.37s/it]"
     ]
    },
    {
     "name": "stdout",
     "output_type": "stream",
     "text": [
      "\n",
      "[*********************100%***********************]  1 of 1 completed"
     ]
    },
    {
     "name": "stderr",
     "output_type": "stream",
     "text": [
      " 61%|██████    | 42/69 [00:56<00:36,  1.36s/it]"
     ]
    },
    {
     "name": "stdout",
     "output_type": "stream",
     "text": [
      "\n",
      "[*********************100%***********************]  1 of 1 completed"
     ]
    },
    {
     "name": "stderr",
     "output_type": "stream",
     "text": [
      " 62%|██████▏   | 43/69 [00:58<00:36,  1.41s/it]"
     ]
    },
    {
     "name": "stdout",
     "output_type": "stream",
     "text": [
      "\n",
      "[*********************100%***********************]  1 of 1 completed"
     ]
    },
    {
     "name": "stderr",
     "output_type": "stream",
     "text": [
      " 64%|██████▍   | 44/69 [00:59<00:34,  1.37s/it]"
     ]
    },
    {
     "name": "stdout",
     "output_type": "stream",
     "text": [
      "\n",
      "[*********************100%***********************]  1 of 1 completed"
     ]
    },
    {
     "name": "stderr",
     "output_type": "stream",
     "text": [
      " 65%|██████▌   | 45/69 [01:00<00:28,  1.21s/it]"
     ]
    },
    {
     "name": "stdout",
     "output_type": "stream",
     "text": [
      "\n",
      "[*********************100%***********************]  1 of 1 completed"
     ]
    },
    {
     "name": "stderr",
     "output_type": "stream",
     "text": [
      " 67%|██████▋   | 46/69 [01:01<00:28,  1.24s/it]"
     ]
    },
    {
     "name": "stdout",
     "output_type": "stream",
     "text": [
      "\n",
      "[*********************100%***********************]  1 of 1 completed"
     ]
    },
    {
     "name": "stderr",
     "output_type": "stream",
     "text": [
      " 68%|██████▊   | 47/69 [01:03<00:28,  1.29s/it]"
     ]
    },
    {
     "name": "stdout",
     "output_type": "stream",
     "text": [
      "\n",
      "[*********************100%***********************]  1 of 1 completed"
     ]
    },
    {
     "name": "stderr",
     "output_type": "stream",
     "text": [
      " 70%|██████▉   | 48/69 [01:04<00:25,  1.24s/it]"
     ]
    },
    {
     "name": "stdout",
     "output_type": "stream",
     "text": [
      "\n",
      "[*********************100%***********************]  1 of 1 completed"
     ]
    },
    {
     "name": "stderr",
     "output_type": "stream",
     "text": [
      " 71%|███████   | 49/69 [01:05<00:23,  1.19s/it]"
     ]
    },
    {
     "name": "stdout",
     "output_type": "stream",
     "text": [
      "\n",
      "[*********************100%***********************]  1 of 1 completed"
     ]
    },
    {
     "name": "stderr",
     "output_type": "stream",
     "text": [
      " 72%|███████▏  | 50/69 [01:06<00:23,  1.24s/it]"
     ]
    },
    {
     "name": "stdout",
     "output_type": "stream",
     "text": [
      "\n",
      "[*********************100%***********************]  1 of 1 completed"
     ]
    },
    {
     "name": "stderr",
     "output_type": "stream",
     "text": [
      " 74%|███████▍  | 51/69 [01:07<00:21,  1.18s/it]"
     ]
    },
    {
     "name": "stdout",
     "output_type": "stream",
     "text": [
      "\n",
      "[*********************100%***********************]  1 of 1 completed"
     ]
    },
    {
     "name": "stderr",
     "output_type": "stream",
     "text": [
      " 75%|███████▌  | 52/69 [01:09<00:20,  1.20s/it]"
     ]
    },
    {
     "name": "stdout",
     "output_type": "stream",
     "text": [
      "\n",
      "[*********************100%***********************]  1 of 1 completed"
     ]
    },
    {
     "name": "stderr",
     "output_type": "stream",
     "text": [
      " 77%|███████▋  | 53/69 [01:10<00:18,  1.17s/it]"
     ]
    },
    {
     "name": "stdout",
     "output_type": "stream",
     "text": [
      "\n",
      "[*********************100%***********************]  1 of 1 completed"
     ]
    },
    {
     "name": "stderr",
     "output_type": "stream",
     "text": [
      " 78%|███████▊  | 54/69 [01:10<00:16,  1.07s/it]"
     ]
    },
    {
     "name": "stdout",
     "output_type": "stream",
     "text": [
      "\n",
      "[*********************100%***********************]  1 of 1 completed"
     ]
    },
    {
     "name": "stderr",
     "output_type": "stream",
     "text": [
      " 80%|███████▉  | 55/69 [01:12<00:17,  1.25s/it]"
     ]
    },
    {
     "name": "stdout",
     "output_type": "stream",
     "text": [
      "\n",
      "[*********************100%***********************]  1 of 1 completed"
     ]
    },
    {
     "name": "stderr",
     "output_type": "stream",
     "text": [
      " 81%|████████  | 56/69 [01:13<00:14,  1.14s/it]"
     ]
    },
    {
     "name": "stdout",
     "output_type": "stream",
     "text": [
      "\n",
      "[*********************100%***********************]  1 of 1 completed"
     ]
    },
    {
     "name": "stderr",
     "output_type": "stream",
     "text": [
      " 83%|████████▎ | 57/69 [01:14<00:13,  1.11s/it]"
     ]
    },
    {
     "name": "stdout",
     "output_type": "stream",
     "text": [
      "\n",
      "[*********************100%***********************]  1 of 1 completed"
     ]
    },
    {
     "name": "stderr",
     "output_type": "stream",
     "text": [
      "\n",
      "1 Failed download:\n",
      "['SOAGY']: Exception(\"%ticker%: Data doesn't exist for startDate = 946702800, endDate = 1534392000\")\n",
      " 84%|████████▍ | 58/69 [01:15<00:11,  1.02s/it]"
     ]
    },
    {
     "name": "stdout",
     "output_type": "stream",
     "text": [
      "\n",
      "[*********************100%***********************]  1 of 1 completed"
     ]
    },
    {
     "name": "stderr",
     "output_type": "stream",
     "text": [
      "\n",
      "1 Failed download:\n",
      "['SSSGY']: Exception(\"%ticker%: Data doesn't exist for startDate = 946702800, endDate = 1534392000\")\n",
      " 86%|████████▌ | 59/69 [01:16<00:09,  1.05it/s]"
     ]
    },
    {
     "name": "stdout",
     "output_type": "stream",
     "text": [
      "\n",
      "[*********************100%***********************]  1 of 1 completed"
     ]
    },
    {
     "name": "stderr",
     "output_type": "stream",
     "text": [
      " 87%|████████▋ | 60/69 [01:17<00:08,  1.09it/s]"
     ]
    },
    {
     "name": "stdout",
     "output_type": "stream",
     "text": [
      "\n",
      "[*********************100%***********************]  1 of 1 completed"
     ]
    },
    {
     "name": "stderr",
     "output_type": "stream",
     "text": [
      " 88%|████████▊ | 61/69 [01:18<00:08,  1.05s/it]"
     ]
    },
    {
     "name": "stdout",
     "output_type": "stream",
     "text": [
      "\n",
      "[*********************100%***********************]  1 of 1 completed"
     ]
    },
    {
     "name": "stderr",
     "output_type": "stream",
     "text": [
      " 90%|████████▉ | 62/69 [01:19<00:07,  1.08s/it]"
     ]
    },
    {
     "name": "stdout",
     "output_type": "stream",
     "text": [
      "\n",
      "[*********************100%***********************]  1 of 1 completed"
     ]
    },
    {
     "name": "stderr",
     "output_type": "stream",
     "text": [
      " 91%|█████████▏| 63/69 [01:20<00:05,  1.00it/s]"
     ]
    },
    {
     "name": "stdout",
     "output_type": "stream",
     "text": [
      "\n",
      "[*********************100%***********************]  1 of 1 completed"
     ]
    },
    {
     "name": "stderr",
     "output_type": "stream",
     "text": [
      " 93%|█████████▎| 64/69 [01:21<00:05,  1.01s/it]"
     ]
    },
    {
     "name": "stdout",
     "output_type": "stream",
     "text": [
      "\n",
      "[*********************100%***********************]  1 of 1 completed"
     ]
    },
    {
     "name": "stderr",
     "output_type": "stream",
     "text": [
      "\n",
      "1 Failed download:\n",
      "['SMEGF']: Exception(\"%ticker%: Data doesn't exist for startDate = 946702800, endDate = 1534392000\")\n",
      " 94%|█████████▍| 65/69 [01:22<00:03,  1.06it/s]"
     ]
    },
    {
     "name": "stdout",
     "output_type": "stream",
     "text": [
      "\n",
      "[*********************100%***********************]  1 of 1 completed"
     ]
    },
    {
     "name": "stderr",
     "output_type": "stream",
     "text": [
      "\n",
      "1 Failed download:\n",
      "['SMNEY']: Exception(\"%ticker%: Data doesn't exist for startDate = 946702800, endDate = 1534392000\")\n",
      " 96%|█████████▌| 66/69 [01:22<00:02,  1.11it/s]"
     ]
    },
    {
     "name": "stdout",
     "output_type": "stream",
     "text": [
      "\n",
      "[*********************100%***********************]  1 of 1 completed"
     ]
    },
    {
     "name": "stderr",
     "output_type": "stream",
     "text": [
      " 97%|█████████▋| 67/69 [01:24<00:02,  1.03s/it]"
     ]
    },
    {
     "name": "stdout",
     "output_type": "stream",
     "text": [
      "\n",
      "[*********************100%***********************]  1 of 1 completed"
     ]
    },
    {
     "name": "stderr",
     "output_type": "stream",
     "text": [
      "\n",
      "1 Failed download:\n",
      "['DTRUY']: Exception(\"%ticker%: Data doesn't exist for startDate = 946702800, endDate = 1534392000\")\n",
      " 99%|█████████▊| 68/69 [01:25<00:00,  1.05it/s]"
     ]
    },
    {
     "name": "stdout",
     "output_type": "stream",
     "text": [
      "\n",
      "[*********************100%***********************]  1 of 1 completed"
     ]
    },
    {
     "name": "stderr",
     "output_type": "stream",
     "text": [
      "100%|██████████| 69/69 [01:26<00:00,  1.26s/it]"
     ]
    },
    {
     "name": "stdout",
     "output_type": "stream",
     "text": [
      "\n"
     ]
    },
    {
     "name": "stderr",
     "output_type": "stream",
     "text": [
      "\n"
     ]
    },
    {
     "data": {
      "text/plain": [
       "{'NASDAQ 100': {'AZN':             Adj Close\n",
       "  Date                 \n",
       "  2000-01-03   8.421753\n",
       "  2000-01-04   8.140175\n",
       "  2000-01-05   8.178574\n",
       "  2000-01-06   8.152970\n",
       "  2000-01-07   8.498547\n",
       "  ...               ...\n",
       "  2018-08-09  33.956604\n",
       "  2018-08-10  33.759430\n",
       "  2018-08-13  33.450821\n",
       "  2018-08-14  33.416531\n",
       "  2018-08-15  32.962170\n",
       "  \n",
       "  [4685 rows x 1 columns],\n",
       "  'AZNCF':             Adj Close\n",
       "  Date                 \n",
       "  2009-02-13  25.274773\n",
       "  2009-02-17  25.274773\n",
       "  2009-02-18  25.274773\n",
       "  2009-02-19  25.274773\n",
       "  2009-02-20  24.014437\n",
       "  ...               ...\n",
       "  2018-08-09  66.351753\n",
       "  2018-08-10  66.351753\n",
       "  2018-08-13  66.351753\n",
       "  2018-08-14  66.351753\n",
       "  2018-08-15  66.351753\n",
       "  \n",
       "  [2393 rows x 1 columns],\n",
       "  'AAPL':             Adj Close\n",
       "  Date                 \n",
       "  2000-01-03   0.844004\n",
       "  2000-01-04   0.772846\n",
       "  2000-01-05   0.784155\n",
       "  2000-01-06   0.716296\n",
       "  2000-01-07   0.750226\n",
       "  ...               ...\n",
       "  2018-08-09  49.584335\n",
       "  2018-08-10  49.436649\n",
       "  2018-08-13  49.755844\n",
       "  2018-08-14  49.965481\n",
       "  2018-08-15  50.082211\n",
       "  \n",
       "  [4685 rows x 1 columns],\n",
       "  'CSCO':             Adj Close\n",
       "  Date                 \n",
       "  2000-01-03  36.054466\n",
       "  2000-01-04  34.031750\n",
       "  2000-01-05  33.927483\n",
       "  2000-01-06  33.364460\n",
       "  2000-01-07  35.324612\n",
       "  ...               ...\n",
       "  2018-08-09  36.189068\n",
       "  2018-08-10  36.189068\n",
       "  2018-08-13  36.164272\n",
       "  2018-08-14  36.370918\n",
       "  2018-08-15  36.255203\n",
       "  \n",
       "  [4685 rows x 1 columns],\n",
       "  'INTC':             Adj Close\n",
       "  Date                 \n",
       "  2000-01-03  24.710653\n",
       "  2000-01-04  23.556787\n",
       "  2000-01-05  23.752062\n",
       "  2000-01-06  22.367403\n",
       "  2000-01-07  23.290503\n",
       "  ...               ...\n",
       "  2018-08-09  42.881687\n",
       "  2018-08-10  41.778427\n",
       "  2018-08-13  41.436333\n",
       "  2018-08-14  41.154099\n",
       "  2018-08-15  40.589642\n",
       "  \n",
       "  [4685 rows x 1 columns],\n",
       "  'MSFT':              Adj Close\n",
       "  Date                  \n",
       "  2000-01-03   35.935867\n",
       "  2000-01-04   34.721943\n",
       "  2000-01-05   35.088039\n",
       "  2000-01-06   33.912647\n",
       "  2000-01-07   34.355862\n",
       "  ...                ...\n",
       "  2018-08-09  102.735336\n",
       "  2018-08-10  102.107742\n",
       "  2018-08-13  101.367661\n",
       "  2018-08-14  102.632309\n",
       "  2018-08-15  101.240562\n",
       "  \n",
       "  [4685 rows x 1 columns],\n",
       "  'WBA':             Adj Close\n",
       "  Date                 \n",
       "  2000-01-03  16.678347\n",
       "  2000-01-04  16.057924\n",
       "  2000-01-05  16.240406\n",
       "  2000-01-06  15.765970\n",
       "  2000-01-07  16.167423\n",
       "  ...               ...\n",
       "  2018-08-09  49.668030\n",
       "  2018-08-10  49.908222\n",
       "  2018-08-13  49.900730\n",
       "  2018-08-14  51.537064\n",
       "  2018-08-15  51.589619\n",
       "  \n",
       "  [4685 rows x 1 columns],\n",
       "  'ATVI': Empty DataFrame\n",
       "  Columns: [Adj Close]\n",
       "  Index: [],\n",
       "  'ADBE':              Adj Close\n",
       "  Date                  \n",
       "  2000-01-03   16.274672\n",
       "  2000-01-04   14.909399\n",
       "  2000-01-05   15.204175\n",
       "  2000-01-06   15.328291\n",
       "  2000-01-07   16.072983\n",
       "  ...                ...\n",
       "  2018-08-09  253.800003\n",
       "  2018-08-10  253.699997\n",
       "  2018-08-13  253.539993\n",
       "  2018-08-14  256.049988\n",
       "  2018-08-15  250.520004\n",
       "  \n",
       "  [4685 rows x 1 columns],\n",
       "  'GOOGL':             Adj Close\n",
       "  Date                 \n",
       "  2004-08-19   2.504808\n",
       "  2004-08-20   2.703765\n",
       "  2004-08-23   2.730976\n",
       "  2004-08-24   2.617892\n",
       "  2004-08-25   2.646101\n",
       "  ...               ...\n",
       "  2018-08-09  63.066837\n",
       "  2018-08-10  62.470810\n",
       "  2018-08-13  62.277790\n",
       "  2018-08-14  62.751621\n",
       "  2018-08-15  61.458817\n",
       "  \n",
       "  [3523 rows x 1 columns],\n",
       "  'GOOG':             Adj Close\n",
       "  Date                 \n",
       "  2004-08-19   2.493011\n",
       "  2004-08-20   2.691030\n",
       "  2004-08-23   2.718112\n",
       "  2004-08-24   2.605561\n",
       "  2004-08-25   2.633636\n",
       "  ...               ...\n",
       "  2018-08-09  62.301998\n",
       "  2018-08-10  61.728905\n",
       "  2018-08-13  61.599220\n",
       "  2018-08-14  61.952854\n",
       "  2018-08-15  60.570251\n",
       "  \n",
       "  [3523 rows x 1 columns],\n",
       "  'AMZN':             Adj Close\n",
       "  Date                 \n",
       "  2000-01-03   4.468750\n",
       "  2000-01-04   4.096875\n",
       "  2000-01-05   3.487500\n",
       "  2000-01-06   3.278125\n",
       "  2000-01-07   3.478125\n",
       "  ...               ...\n",
       "  2018-08-09  94.926003\n",
       "  2018-08-10  94.315002\n",
       "  2018-08-13  94.809998\n",
       "  2018-08-14  95.982498\n",
       "  2018-08-15  94.130997\n",
       "  \n",
       "  [4685 rows x 1 columns],\n",
       "  'AMGN':              Adj Close\n",
       "  Date                  \n",
       "  2000-01-03   44.614407\n",
       "  2000-01-04   41.202991\n",
       "  2000-01-05   42.620724\n",
       "  2000-01-06   43.329590\n",
       "  2000-01-07   48.203056\n",
       "  ...                ...\n",
       "  2018-08-09  160.661331\n",
       "  2018-08-10  161.034042\n",
       "  2018-08-13  162.019684\n",
       "  2018-08-14  162.143936\n",
       "  2018-08-15  161.729797\n",
       "  \n",
       "  [4685 rows x 1 columns],\n",
       "  'ADI':             Adj Close\n",
       "  Date                 \n",
       "  2000-01-03  28.214642\n",
       "  2000-01-04  26.787292\n",
       "  2000-01-05  27.178356\n",
       "  2000-01-06  26.435345\n",
       "  2000-01-07  27.178356\n",
       "  ...               ...\n",
       "  2018-08-09  86.886429\n",
       "  2018-08-10  84.397369\n",
       "  2018-08-13  84.566246\n",
       "  2018-08-14  84.317337\n",
       "  2018-08-15  83.348381\n",
       "  \n",
       "  [4685 rows x 1 columns],\n",
       "  'AMAT':             Adj Close\n",
       "  Date                 \n",
       "  2000-01-03  23.192438\n",
       "  2000-01-04  22.046564\n",
       "  2000-01-05  21.221529\n",
       "  2000-01-06  21.255907\n",
       "  2000-01-07  21.439240\n",
       "  ...               ...\n",
       "  2018-08-09  45.712158\n",
       "  2018-08-10  44.754391\n",
       "  2018-08-13  44.865982\n",
       "  2018-08-14  44.986870\n",
       "  2018-08-15  44.177887\n",
       "  \n",
       "  [4685 rows x 1 columns],\n",
       "  'ADSK':              Adj Close\n",
       "  Date                  \n",
       "  2000-01-03    8.052904\n",
       "  2000-01-04    7.660817\n",
       "  2000-01-05    7.178246\n",
       "  2000-01-06    6.740915\n",
       "  2000-01-07    7.540174\n",
       "  ...                ...\n",
       "  2018-08-09  135.110001\n",
       "  2018-08-10  134.850006\n",
       "  2018-08-13  133.389999\n",
       "  2018-08-14  134.000000\n",
       "  2018-08-15  131.050003\n",
       "  \n",
       "  [4685 rows x 1 columns],\n",
       "  'ADP':              Adj Close\n",
       "  Date                  \n",
       "  2000-01-03   24.466074\n",
       "  2000-01-04   24.466074\n",
       "  2000-01-05   24.230820\n",
       "  2000-01-06   24.554289\n",
       "  2000-01-07   25.113014\n",
       "  ...                ...\n",
       "  2018-08-09  121.324570\n",
       "  2018-08-10  122.131248\n",
       "  2018-08-13  122.464462\n",
       "  2018-08-14  123.762115\n",
       "  2018-08-15  123.841034\n",
       "  \n",
       "  [4685 rows x 1 columns],\n",
       "  'BIDU':              Adj Close\n",
       "  Date                  \n",
       "  2005-08-05   12.254000\n",
       "  2005-08-08   11.550000\n",
       "  2005-08-09    9.610000\n",
       "  2005-08-10    9.175000\n",
       "  2005-08-11    9.790000\n",
       "  ...                ...\n",
       "  2018-08-09  219.889999\n",
       "  2018-08-10  220.100006\n",
       "  2018-08-13  217.570007\n",
       "  2018-08-14  216.210007\n",
       "  2018-08-15  213.470001\n",
       "  \n",
       "  [3280 rows x 1 columns],\n",
       "  'BAIDF': Empty DataFrame\n",
       "  Columns: [Adj Close]\n",
       "  Index: [],\n",
       "  'BIIB':              Adj Close\n",
       "  Date                  \n",
       "  2000-01-03   31.083332\n",
       "  2000-01-04   28.979168\n",
       "  2000-01-05   31.000000\n",
       "  2000-01-06   32.375000\n",
       "  2000-01-07   36.104168\n",
       "  ...                ...\n",
       "  2018-08-09  346.899994\n",
       "  2018-08-10  343.000000\n",
       "  2018-08-13  340.790009\n",
       "  2018-08-14  343.630005\n",
       "  2018-08-15  340.720001\n",
       "  \n",
       "  [4685 rows x 1 columns],\n",
       "  'CHTR':              Adj Close\n",
       "  Date                  \n",
       "  2010-01-05   35.000000\n",
       "  2010-01-06   35.000000\n",
       "  2010-01-07   35.000000\n",
       "  2010-01-08   33.500000\n",
       "  2010-01-11   33.500000\n",
       "  ...                ...\n",
       "  2018-08-09  305.170013\n",
       "  2018-08-10  302.450012\n",
       "  2018-08-13  302.059998\n",
       "  2018-08-14  307.859985\n",
       "  2018-08-15  295.750000\n",
       "  \n",
       "  [2169 rows x 1 columns],\n",
       "  'CTSH':             Adj Close\n",
       "  Date                 \n",
       "  2000-01-03   1.808843\n",
       "  2000-01-04   1.747606\n",
       "  2000-01-05   1.844172\n",
       "  2000-01-06   1.749961\n",
       "  2000-01-07   1.771158\n",
       "  ...               ...\n",
       "  2018-08-09  69.771919\n",
       "  2018-08-10  69.131432\n",
       "  2018-08-13  69.003372\n",
       "  2018-08-14  68.820389\n",
       "  2018-08-15  68.198250\n",
       "  \n",
       "  [4685 rows x 1 columns],\n",
       "  'CMCSA':             Adj Close\n",
       "  Date                 \n",
       "  2000-01-03  11.102448\n",
       "  2000-01-04  10.271247\n",
       "  2000-01-05  10.004073\n",
       "  2000-01-06  10.389988\n",
       "  2000-01-07  10.063447\n",
       "  ...               ...\n",
       "  2018-08-09  30.532711\n",
       "  2018-08-10  30.179983\n",
       "  2018-08-13  30.145563\n",
       "  2018-08-14  30.446674\n",
       "  2018-08-15  30.085350\n",
       "  \n",
       "  [4685 rows x 1 columns],\n",
       "  'COST':              Adj Close\n",
       "  Date                  \n",
       "  2000-01-03   29.884630\n",
       "  2000-01-04   28.247696\n",
       "  2000-01-05   28.730379\n",
       "  2000-01-06   29.307493\n",
       "  2000-01-07   31.248732\n",
       "  ...                ...\n",
       "  2018-08-09  197.656708\n",
       "  2018-08-10  199.531433\n",
       "  2018-08-13  198.852203\n",
       "  2018-08-14  201.062027\n",
       "  2018-08-15  200.763184\n",
       "  \n",
       "  [4685 rows x 1 columns],\n",
       "  'CSX':             Adj Close\n",
       "  Date                 \n",
       "  2000-01-03   1.101596\n",
       "  2000-01-04   1.068215\n",
       "  2000-01-05   1.090469\n",
       "  2000-01-06   1.139429\n",
       "  2000-01-07   1.139429\n",
       "  ...               ...\n",
       "  2018-08-09  22.188131\n",
       "  2018-08-10  22.255768\n",
       "  2018-08-13  22.323406\n",
       "  2018-08-14  22.658522\n",
       "  2018-08-15  22.492496\n",
       "  \n",
       "  [4685 rows x 1 columns],\n",
       "  'DLTR':             Adj Close\n",
       "  Date                 \n",
       "  2000-01-03  10.861111\n",
       "  2000-01-04  10.847222\n",
       "  2000-01-05  10.861111\n",
       "  2000-01-06  11.055556\n",
       "  2000-01-07  11.458333\n",
       "  ...               ...\n",
       "  2018-08-09  92.699997\n",
       "  2018-08-10  92.430000\n",
       "  2018-08-13  92.970001\n",
       "  2018-08-14  94.529999\n",
       "  2018-08-15  94.230003\n",
       "  \n",
       "  [4685 rows x 1 columns],\n",
       "  'EBAY':             Adj Close\n",
       "  Date                 \n",
       "  2000-01-03   6.742788\n",
       "  2000-01-04   6.110279\n",
       "  2000-01-05   6.519023\n",
       "  2000-01-06   6.438468\n",
       "  2000-01-07   6.432499\n",
       "  ...               ...\n",
       "  2018-08-09  30.986904\n",
       "  2018-08-10  30.932459\n",
       "  2018-08-13  30.741919\n",
       "  2018-08-14  31.213751\n",
       "  2018-08-15  30.723763\n",
       "  \n",
       "  [4685 rows x 1 columns],\n",
       "  'EA':              Adj Close\n",
       "  Date                  \n",
       "  2000-01-03   24.711689\n",
       "  2000-01-04   21.853872\n",
       "  2000-01-05   21.838591\n",
       "  2000-01-06   19.561506\n",
       "  2000-01-07   20.142241\n",
       "  ...                ...\n",
       "  2018-08-09  125.017601\n",
       "  2018-08-10  128.440872\n",
       "  2018-08-13  128.440872\n",
       "  2018-08-14  129.017944\n",
       "  2018-08-15  125.242546\n",
       "  \n",
       "  [4685 rows x 1 columns],\n",
       "  'FAST':             Adj Close\n",
       "  Date                 \n",
       "  2000-01-03   1.654511\n",
       "  2000-01-04   1.559480\n",
       "  2000-01-05   1.625270\n",
       "  2000-01-06   1.625270\n",
       "  2000-01-07   1.622834\n",
       "  ...               ...\n",
       "  2018-08-09  24.336899\n",
       "  2018-08-10  24.421537\n",
       "  2018-08-13  24.264959\n",
       "  2018-08-14  24.688131\n",
       "  2018-08-15  24.717758\n",
       "  \n",
       "  [4685 rows x 1 columns],\n",
       "  'FISV': Empty DataFrame\n",
       "  Columns: [Adj Close]\n",
       "  Index: [],\n",
       "  'GILD':             Adj Close\n",
       "  Date                 \n",
       "  2000-01-03   1.267343\n",
       "  2000-01-04   1.209672\n",
       "  2000-01-05   1.199826\n",
       "  2000-01-06   1.281409\n",
       "  2000-01-07   1.476925\n",
       "  ...               ...\n",
       "  2018-08-09  60.794590\n",
       "  2018-08-10  59.774075\n",
       "  2018-08-13  60.116863\n",
       "  2018-08-14  60.225906\n",
       "  2018-08-15  58.301727\n",
       "  \n",
       "  [4685 rows x 1 columns],\n",
       "  'ILMN':              Adj Close\n",
       "  Date                  \n",
       "  2000-07-28   19.052467\n",
       "  2000-07-31   17.023346\n",
       "  2000-08-01   17.266537\n",
       "  2000-08-02   18.543287\n",
       "  2000-08-03   21.522373\n",
       "  ...                ...\n",
       "  2018-08-09  324.416351\n",
       "  2018-08-10  321.254852\n",
       "  2018-08-13  318.385223\n",
       "  2018-08-14  321.177032\n",
       "  2018-08-15  318.891052\n",
       "  \n",
       "  [4541 rows x 1 columns],\n",
       "  'INTU':              Adj Close\n",
       "  Date                  \n",
       "  2000-01-03   26.764795\n",
       "  2000-01-04   27.042446\n",
       "  2000-01-05   34.844215\n",
       "  2000-01-06   31.096039\n",
       "  2000-01-07   32.678604\n",
       "  ...                ...\n",
       "  2018-08-09  202.422058\n",
       "  2018-08-10  202.249512\n",
       "  2018-08-13  200.869324\n",
       "  2018-08-14  201.942841\n",
       "  2018-08-15  200.773468\n",
       "  \n",
       "  [4685 rows x 1 columns],\n",
       "  'ISRG':              Adj Close\n",
       "  Date                  \n",
       "  2000-06-16    2.027778\n",
       "  2000-06-19    2.000000\n",
       "  2000-06-20    2.083333\n",
       "  2000-06-21    2.444444\n",
       "  2000-06-22    2.194444\n",
       "  ...                ...\n",
       "  2018-08-09  174.229996\n",
       "  2018-08-10  173.673340\n",
       "  2018-08-13  173.453339\n",
       "  2018-08-14  176.333328\n",
       "  2018-08-15  174.256668\n",
       "  \n",
       "  [4570 rows x 1 columns],\n",
       "  'JD':             Adj Close\n",
       "  Date                 \n",
       "  2014-05-22  19.523863\n",
       "  2014-05-23  18.776539\n",
       "  2014-05-27  21.457567\n",
       "  2014-05-28  23.148388\n",
       "  2014-05-29  23.727566\n",
       "  ...               ...\n",
       "  2018-08-09  33.648308\n",
       "  2018-08-10  33.433449\n",
       "  2018-08-13  32.760853\n",
       "  2018-08-14  31.639870\n",
       "  2018-08-15  30.229292\n",
       "  \n",
       "  [1067 rows x 1 columns],\n",
       "  'JDCMF': Empty DataFrame\n",
       "  Columns: [Adj Close]\n",
       "  Index: [],\n",
       "  'KHC':             Adj Close\n",
       "  Date                 \n",
       "  2015-07-06  49.329163\n",
       "  2015-07-07  50.458256\n",
       "  2015-07-08  50.978889\n",
       "  2015-07-09  50.573212\n",
       "  2015-07-10  52.270248\n",
       "  ...               ...\n",
       "  2018-08-09  44.824154\n",
       "  2018-08-10  44.562683\n",
       "  2018-08-13  44.286263\n",
       "  2018-08-14  44.465565\n",
       "  2018-08-15  44.144314\n",
       "  \n",
       "  [786 rows x 1 columns],\n",
       "  'LRCX':             Adj Close\n",
       "  Date                 \n",
       "  2000-01-03   1.560179\n",
       "  2000-01-04   1.492495\n",
       "  2000-01-05   1.470802\n",
       "  2000-01-06   1.460389\n",
       "  2000-01-07   1.482082\n",
       "  ...               ...\n",
       "  2018-08-09  10.715031\n",
       "  2018-08-10  10.343902\n",
       "  2018-08-13  10.346809\n",
       "  2018-08-14  10.262012\n",
       "  2018-08-15  10.037826\n",
       "  \n",
       "  [4685 rows x 1 columns],\n",
       "  'MAR':              Adj Close\n",
       "  Date                  \n",
       "  2000-01-03   11.312901\n",
       "  2000-01-04   11.243353\n",
       "  2000-01-05   11.428811\n",
       "  2000-01-06   11.591078\n",
       "  2000-01-07   11.915634\n",
       "  ...                ...\n",
       "  2018-08-09  114.977219\n",
       "  2018-08-10  114.377525\n",
       "  2018-08-13  114.663094\n",
       "  2018-08-14  115.757744\n",
       "  2018-08-15  114.634521\n",
       "  \n",
       "  [4685 rows x 1 columns],\n",
       "  '0P0000KQL0': Empty DataFrame\n",
       "  Columns: [Adj Close]\n",
       "  Index: [],\n",
       "  '0P0001I1JH': Empty DataFrame\n",
       "  Columns: [Adj Close]\n",
       "  Index: [],\n",
       "  'MCHP':             Adj Close\n",
       "  Date                 \n",
       "  2000-01-03   5.686800\n",
       "  2000-01-04   5.278734\n",
       "  2000-01-05   5.320585\n",
       "  2000-01-06   5.179331\n",
       "  2000-01-07   5.043308\n",
       "  ...               ...\n",
       "  2018-08-09  44.267609\n",
       "  2018-08-10  39.451797\n",
       "  2018-08-13  39.280281\n",
       "  2018-08-14  37.948822\n",
       "  2018-08-15  37.163490\n",
       "  \n",
       "  [4685 rows x 1 columns],\n",
       "  'MU':             Adj Close\n",
       "  Date                 \n",
       "  2000-01-03  37.215687\n",
       "  2000-01-04  35.776066\n",
       "  2000-01-05  35.653553\n",
       "  2000-01-06  36.266155\n",
       "  2000-01-07  34.550865\n",
       "  ...               ...\n",
       "  2018-08-09  51.223488\n",
       "  2018-08-10  50.351151\n",
       "  2018-08-13  50.321735\n",
       "  2018-08-14  49.616013\n",
       "  2018-08-15  46.548100\n",
       "  \n",
       "  [4685 rows x 1 columns],\n",
       "  'MDLZ':             Adj Close\n",
       "  Date                 \n",
       "  2001-06-13  11.767741\n",
       "  2001-06-14  11.353521\n",
       "  2001-06-15  11.522977\n",
       "  2001-06-18  11.417534\n",
       "  2001-06-19  11.447660\n",
       "  ...               ...\n",
       "  2018-08-09  36.802685\n",
       "  2018-08-10  36.610641\n",
       "  2018-08-13  36.575733\n",
       "  2018-08-14  36.549545\n",
       "  2018-08-15  36.497177\n",
       "  \n",
       "  [4321 rows x 1 columns],\n",
       "  'MNST':             Adj Close\n",
       "  Date                 \n",
       "  2000-01-03   0.044922\n",
       "  2000-01-04   0.042969\n",
       "  2000-01-05   0.042969\n",
       "  2000-01-06   0.044271\n",
       "  2000-01-07   0.043294\n",
       "  ...               ...\n",
       "  2018-08-09  30.490000\n",
       "  2018-08-10  30.350000\n",
       "  2018-08-13  30.219999\n",
       "  2018-08-14  30.889999\n",
       "  2018-08-15  30.670000\n",
       "  \n",
       "  [4685 rows x 1 columns],\n",
       "  'NTES':             Adj Close\n",
       "  Date                 \n",
       "  2000-06-30   0.490086\n",
       "  2000-07-03   0.525453\n",
       "  2000-07-05   0.530506\n",
       "  2000-07-06   0.596187\n",
       "  2000-07-07   0.560820\n",
       "  ...               ...\n",
       "  2018-08-09  40.211689\n",
       "  2018-08-10  40.113483\n",
       "  2018-08-13  38.528019\n",
       "  2018-08-14  37.174660\n",
       "  2018-08-15  35.824863\n",
       "  \n",
       "  [4560 rows x 1 columns],\n",
       "  'NETTF': Empty DataFrame\n",
       "  Columns: [Adj Close]\n",
       "  Index: [],\n",
       "  'NFLX':              Adj Close\n",
       "  Date                  \n",
       "  2002-05-23    1.196429\n",
       "  2002-05-24    1.210000\n",
       "  2002-05-28    1.157143\n",
       "  2002-05-29    1.103571\n",
       "  2002-05-30    1.071429\n",
       "  ...                ...\n",
       "  2018-08-09  349.359985\n",
       "  2018-08-10  345.869995\n",
       "  2018-08-13  341.309998\n",
       "  2018-08-14  337.489990\n",
       "  2018-08-15  326.399994\n",
       "  \n",
       "  [4087 rows x 1 columns],\n",
       "  'NVDA':             Adj Close\n",
       "  Date                 \n",
       "  2000-01-03   0.089446\n",
       "  2000-01-04   0.087058\n",
       "  2000-01-05   0.084191\n",
       "  2000-01-06   0.078698\n",
       "  2000-01-07   0.080012\n",
       "  ...               ...\n",
       "  2018-08-09   6.350503\n",
       "  2018-08-10   6.309150\n",
       "  2018-08-13   6.342084\n",
       "  2018-08-14   6.473569\n",
       "  2018-08-15   6.415379\n",
       "  \n",
       "  [4685 rows x 1 columns],\n",
       "  'NXPI':             Adj Close\n",
       "  Date                 \n",
       "  2010-08-06  12.732614\n",
       "  2010-08-09  12.732614\n",
       "  2010-08-10  12.368826\n",
       "  2010-08-11  11.595775\n",
       "  2010-08-12  11.268364\n",
       "  ...               ...\n",
       "  2018-08-09  87.018318\n",
       "  2018-08-10  85.999710\n",
       "  2018-08-13  84.726448\n",
       "  2018-08-14  82.934792\n",
       "  2018-08-15  81.634232\n",
       "  \n",
       "  [2021 rows x 1 columns],\n",
       "  'ORLY':              Adj Close\n",
       "  Date                  \n",
       "  2000-01-03   10.750000\n",
       "  2000-01-04    9.968750\n",
       "  2000-01-05   10.031250\n",
       "  2000-01-06    9.468750\n",
       "  2000-01-07    8.312500\n",
       "  ...                ...\n",
       "  2018-08-09  318.779999\n",
       "  2018-08-10  318.940002\n",
       "  2018-08-13  314.359985\n",
       "  2018-08-14  323.269989\n",
       "  2018-08-15  324.750000\n",
       "  \n",
       "  [4685 rows x 1 columns],\n",
       "  'PCAR':             Adj Close\n",
       "  Date                 \n",
       "  2000-01-03   2.503160\n",
       "  2000-01-04   2.388073\n",
       "  2000-01-05   2.485178\n",
       "  2000-01-06   2.452810\n",
       "  2000-01-07   2.546318\n",
       "  ...               ...\n",
       "  2018-08-09  33.587254\n",
       "  2018-08-10  33.195553\n",
       "  2018-08-13  33.541782\n",
       "  2018-08-14  33.998158\n",
       "  2018-08-15  33.851280\n",
       "  \n",
       "  [4685 rows x 1 columns],\n",
       "  'PAYX':             Adj Close\n",
       "  Date                 \n",
       "  2000-01-03  13.265028\n",
       "  2000-01-04  12.270159\n",
       "  2000-01-05  12.995588\n",
       "  2000-01-06  13.472287\n",
       "  2000-01-07  13.741739\n",
       "  ...               ...\n",
       "  2018-08-09  59.780678\n",
       "  2018-08-10  59.587681\n",
       "  2018-08-13  59.705170\n",
       "  2018-08-14  59.512188\n",
       "  2018-08-15  59.688362\n",
       "  \n",
       "  [4685 rows x 1 columns],\n",
       "  'PYPL':             Adj Close\n",
       "  Date                 \n",
       "  2015-07-06  36.709999\n",
       "  2015-07-07  36.619999\n",
       "  2015-07-08  34.700001\n",
       "  2015-07-09  34.500000\n",
       "  2015-07-10  34.689999\n",
       "  ...               ...\n",
       "  2018-08-09  87.169998\n",
       "  2018-08-10  87.010002\n",
       "  2018-08-13  87.010002\n",
       "  2018-08-14  87.730003\n",
       "  2018-08-15  85.190002\n",
       "  \n",
       "  [786 rows x 1 columns],\n",
       "  'QCOM':             Adj Close\n",
       "  Date                 \n",
       "  2000-01-03  57.078106\n",
       "  2000-01-04  51.587147\n",
       "  2000-01-05  49.796623\n",
       "  2000-01-06  44.584183\n",
       "  2000-01-07  47.747440\n",
       "  ...               ...\n",
       "  2018-08-09  55.358841\n",
       "  2018-08-10  55.137665\n",
       "  2018-08-13  55.154686\n",
       "  2018-08-14  55.656551\n",
       "  2018-08-15  55.869217\n",
       "  \n",
       "  [4685 rows x 1 columns],\n",
       "  'REGN':              Adj Close\n",
       "  Date                  \n",
       "  2000-01-03   12.312500\n",
       "  2000-01-04   12.000000\n",
       "  2000-01-05   11.500000\n",
       "  2000-01-06   11.625000\n",
       "  2000-01-07   13.000000\n",
       "  ...                ...\n",
       "  2018-08-09  372.140015\n",
       "  2018-08-10  368.779999\n",
       "  2018-08-13  366.450012\n",
       "  2018-08-14  366.230011\n",
       "  2018-08-15  361.869995\n",
       "  \n",
       "  [4685 rows x 1 columns],\n",
       "  'ROST':             Adj Close\n",
       "  Date                 \n",
       "  2000-01-03   1.723707\n",
       "  2000-01-04   1.649302\n",
       "  2000-01-05   1.686504\n",
       "  2000-01-06   1.506693\n",
       "  2000-01-07   1.488093\n",
       "  ...               ...\n",
       "  2018-08-09  86.753654\n",
       "  2018-08-10  86.217133\n",
       "  2018-08-13  85.661819\n",
       "  2018-08-14  87.393700\n",
       "  2018-08-15  85.812424\n",
       "  \n",
       "  [4685 rows x 1 columns],\n",
       "  'SIRI':              Adj Close\n",
       "  Date                  \n",
       "  2000-01-03  384.539337\n",
       "  2000-01-04  358.825439\n",
       "  2000-01-05  376.942047\n",
       "  2000-01-06  388.045715\n",
       "  2000-01-07  382.201721\n",
       "  ...                ...\n",
       "  2018-08-09   65.900513\n",
       "  2018-08-10   65.523941\n",
       "  2018-08-13   65.429787\n",
       "  2018-08-14   65.523941\n",
       "  2018-08-15   64.959068\n",
       "  \n",
       "  [4685 rows x 1 columns],\n",
       "  'SWKS':             Adj Close\n",
       "  Date                 \n",
       "  2000-01-03  26.353687\n",
       "  2000-01-04  24.806557\n",
       "  2000-01-05  25.449007\n",
       "  2000-01-06  22.970974\n",
       "  2000-01-07  25.331007\n",
       "  ...               ...\n",
       "  2018-08-09  83.595955\n",
       "  2018-08-10  82.497040\n",
       "  2018-08-13  83.135139\n",
       "  2018-08-14  82.169167\n",
       "  2018-08-15  81.185478\n",
       "  \n",
       "  [4685 rows x 1 columns],\n",
       "  'SBUX':             Adj Close\n",
       "  Date                 \n",
       "  2000-01-03   2.377429\n",
       "  2000-01-04   2.302099\n",
       "  2000-01-05   2.332231\n",
       "  2000-01-06   2.416600\n",
       "  2000-01-07   2.404548\n",
       "  ...               ...\n",
       "  2018-08-09  45.837448\n",
       "  2018-08-10  45.475487\n",
       "  2018-08-13  45.740337\n",
       "  2018-08-14  46.428963\n",
       "  2018-08-15  46.570221\n",
       "  \n",
       "  [4685 rows x 1 columns],\n",
       "  'TMUS':             Adj Close\n",
       "  Date                 \n",
       "  2007-04-19  44.710472\n",
       "  2007-04-20  46.587006\n",
       "  2007-04-23  46.913364\n",
       "  2007-04-24  47.647659\n",
       "  2007-04-25  46.684914\n",
       "  ...               ...\n",
       "  2018-08-09  63.977058\n",
       "  2018-08-10  63.986912\n",
       "  2018-08-13  64.695900\n",
       "  2018-08-14  64.951920\n",
       "  2018-08-15  64.410339\n",
       "  \n",
       "  [2853 rows x 1 columns],\n",
       "  'TSLA':             Adj Close\n",
       "  Date                 \n",
       "  2010-06-29   1.592667\n",
       "  2010-06-30   1.588667\n",
       "  2010-07-01   1.464000\n",
       "  2010-07-02   1.280000\n",
       "  2010-07-06   1.074000\n",
       "  ...               ...\n",
       "  2018-08-09  23.496668\n",
       "  2018-08-10  23.699333\n",
       "  2018-08-13  23.760668\n",
       "  2018-08-14  23.176001\n",
       "  2018-08-15  22.579332\n",
       "  \n",
       "  [2048 rows x 1 columns],\n",
       "  'TXN':             Adj Close\n",
       "  Date                 \n",
       "  2000-01-03  32.541252\n",
       "  2000-01-04  31.157351\n",
       "  2000-01-05  30.406116\n",
       "  2000-01-06  29.575768\n",
       "  2000-01-07  29.733915\n",
       "  ...               ...\n",
       "  2018-08-09  95.949303\n",
       "  2018-08-10  92.382889\n",
       "  2018-08-13  92.257011\n",
       "  2018-08-14  92.592667\n",
       "  2018-08-15  91.971703\n",
       "  \n",
       "  [4685 rows x 1 columns],\n",
       "  'VRSK':              Adj Close\n",
       "  Date                  \n",
       "  2009-10-07   26.228371\n",
       "  2009-10-08   25.630960\n",
       "  2009-10-09   25.438248\n",
       "  2009-10-12   25.293707\n",
       "  2009-10-13   26.199472\n",
       "  ...                ...\n",
       "  2018-08-09  112.448593\n",
       "  2018-08-10  112.689484\n",
       "  2018-08-13  112.082451\n",
       "  2018-08-14  113.470001\n",
       "  2018-08-15  112.622047\n",
       "  \n",
       "  [2230 rows x 1 columns],\n",
       "  'VRTX':              Adj Close\n",
       "  Date                  \n",
       "  2000-01-03   18.781250\n",
       "  2000-01-04   17.281250\n",
       "  2000-01-05   17.000000\n",
       "  2000-01-06   16.750000\n",
       "  2000-01-07   18.218750\n",
       "  ...                ...\n",
       "  2018-08-09  175.050003\n",
       "  2018-08-10  174.820007\n",
       "  2018-08-13  175.050003\n",
       "  2018-08-14  175.929993\n",
       "  2018-08-15  173.000000\n",
       "  \n",
       "  [4685 rows x 1 columns],\n",
       "  'BKNG':               Adj Close\n",
       "  Date                   \n",
       "  2000-01-03   305.302704\n",
       "  2000-01-04   321.684784\n",
       "  2000-01-05   357.055206\n",
       "  2000-01-06   342.534729\n",
       "  2000-01-07   341.045471\n",
       "  ...                 ...\n",
       "  2018-08-09  1928.510254\n",
       "  2018-08-10  1884.099854\n",
       "  2018-08-13  1841.010132\n",
       "  2018-08-14  1820.448120\n",
       "  2018-08-15  1850.174072\n",
       "  \n",
       "  [4685 rows x 1 columns],\n",
       "  'EXC':             Adj Close\n",
       "  Date                 \n",
       "  2000-01-03   4.927506\n",
       "  2000-01-04   4.891140\n",
       "  2000-01-05   5.127516\n",
       "  2000-01-06   5.136607\n",
       "  2000-01-07   5.136607\n",
       "  ...               ...\n",
       "  2018-08-09  24.942190\n",
       "  2018-08-10  24.804165\n",
       "  2018-08-13  24.907684\n",
       "  2018-08-14  25.130877\n",
       "  2018-08-15  25.293194\n",
       "  \n",
       "  [4685 rows x 1 columns],\n",
       "  'HON':              Adj Close\n",
       "  Date                  \n",
       "  2000-01-03   30.960865\n",
       "  2000-01-04   30.414694\n",
       "  2000-01-05   30.005085\n",
       "  2000-01-06   30.585367\n",
       "  2000-01-07   32.223873\n",
       "  ...                ...\n",
       "  2018-08-09  129.687073\n",
       "  2018-08-10  128.954224\n",
       "  2018-08-13  128.330963\n",
       "  2018-08-14  129.830292\n",
       "  2018-08-15  129.030060\n",
       "  \n",
       "  [4685 rows x 1 columns],\n",
       "  'AMD':             Adj Close\n",
       "  Date                 \n",
       "  2000-01-03  15.500000\n",
       "  2000-01-04  14.625000\n",
       "  2000-01-05  15.000000\n",
       "  2000-01-06  16.000000\n",
       "  2000-01-07  16.250000\n",
       "  ...               ...\n",
       "  2018-08-09  19.100000\n",
       "  2018-08-10  19.059999\n",
       "  2018-08-13  19.730000\n",
       "  2018-08-14  20.020000\n",
       "  2018-08-15  19.700001\n",
       "  \n",
       "  [4685 rows x 1 columns],\n",
       "  'ALGN':              Adj Close\n",
       "  Date                  \n",
       "  2001-01-30   16.875000\n",
       "  2001-01-31   13.500000\n",
       "  2001-02-01   14.187500\n",
       "  2001-02-02   14.125000\n",
       "  2001-02-05   14.125000\n",
       "  ...                ...\n",
       "  2018-08-09  366.869995\n",
       "  2018-08-10  364.529999\n",
       "  2018-08-13  362.279999\n",
       "  2018-08-14  368.660004\n",
       "  2018-08-15  350.450012\n",
       "  \n",
       "  [4414 rows x 1 columns],\n",
       "  'AEP':             Adj Close\n",
       "  Date                 \n",
       "  2000-01-03  10.676563\n",
       "  2000-01-04  10.803918\n",
       "  2000-01-05  11.207211\n",
       "  2000-01-06  11.270879\n",
       "  2000-01-07  11.419465\n",
       "  ...               ...\n",
       "  2018-08-09  57.423557\n",
       "  2018-08-10  57.318394\n",
       "  2018-08-13  57.391209\n",
       "  2018-08-14  57.455910\n",
       "  2018-08-15  58.062668\n",
       "  \n",
       "  [4685 rows x 1 columns],\n",
       "  'ANSS':              Adj Close\n",
       "  Date                  \n",
       "  2000-01-03    2.765625\n",
       "  2000-01-04    2.687500\n",
       "  2000-01-05    2.703125\n",
       "  2000-01-06    2.703125\n",
       "  2000-01-07    2.703125\n",
       "  ...                ...\n",
       "  2018-08-09  172.009995\n",
       "  2018-08-10  171.529999\n",
       "  2018-08-13  171.029999\n",
       "  2018-08-14  173.520004\n",
       "  2018-08-15  171.389999\n",
       "  \n",
       "  [4685 rows x 1 columns],\n",
       "  'AVGO':             Adj Close\n",
       "  Date                 \n",
       "  2009-08-06   1.153155\n",
       "  2009-08-07   1.170973\n",
       "  2009-08-10   1.138189\n",
       "  2009-08-11   1.116808\n",
       "  2009-08-12   1.140326\n",
       "  ...               ...\n",
       "  2018-08-09  17.831188\n",
       "  2018-08-10  17.473051\n",
       "  2018-08-13  17.378370\n",
       "  2018-08-14  17.067158\n",
       "  2018-08-15  17.007883\n",
       "  \n",
       "  [2273 rows x 1 columns],\n",
       "  'CDNS':             Adj Close\n",
       "  Date                 \n",
       "  2000-01-03  22.062500\n",
       "  2000-01-04  22.000000\n",
       "  2000-01-05  21.625000\n",
       "  2000-01-06  20.937500\n",
       "  2000-01-07  22.312500\n",
       "  ...               ...\n",
       "  2018-08-09  45.330002\n",
       "  2018-08-10  45.200001\n",
       "  2018-08-13  45.360001\n",
       "  2018-08-14  46.000000\n",
       "  2018-08-15  45.439999\n",
       "  \n",
       "  [4685 rows x 1 columns],\n",
       "  'CTAS':             Adj Close\n",
       "  Date                 \n",
       "  2000-01-03   3.875889\n",
       "  2000-01-04   3.718256\n",
       "  2000-01-05   3.759983\n",
       "  2000-01-06   3.780845\n",
       "  2000-01-07   3.970930\n",
       "  ...               ...\n",
       "  2018-08-09  44.011486\n",
       "  2018-08-10  43.926136\n",
       "  2018-08-13  43.653393\n",
       "  2018-08-14  43.778313\n",
       "  2018-08-15  44.013569\n",
       "  \n",
       "  [4685 rows x 1 columns],\n",
       "  'STZ':              Adj Close\n",
       "  Date                  \n",
       "  2000-01-03    5.488855\n",
       "  2000-01-04    5.282249\n",
       "  2000-01-05    5.461308\n",
       "  2000-01-06    5.674801\n",
       "  2000-01-07    5.840086\n",
       "  ...                ...\n",
       "  2018-08-09  196.472900\n",
       "  2018-08-10  195.119064\n",
       "  2018-08-13  195.603867\n",
       "  2018-08-14  202.903702\n",
       "  2018-08-15  190.517807\n",
       "  \n",
       "  [4685 rows x 1 columns],\n",
       "  'CEG': Empty DataFrame\n",
       "  Columns: [Adj Close]\n",
       "  Index: [],\n",
       "  'CPRT':             Adj Close\n",
       "  Date                 \n",
       "  2000-01-03   0.812500\n",
       "  2000-01-04   0.710938\n",
       "  2000-01-05   0.705729\n",
       "  2000-01-06   0.656250\n",
       "  2000-01-07   0.731771\n",
       "  ...               ...\n",
       "  2018-08-09  15.000000\n",
       "  2018-08-10  15.057500\n",
       "  2018-08-13  14.825000\n",
       "  2018-08-14  14.877500\n",
       "  2018-08-15  15.015000\n",
       "  \n",
       "  [4685 rows x 1 columns],\n",
       "  'FTNT':             Adj Close\n",
       "  Date                 \n",
       "  2009-11-18      1.662\n",
       "  2009-11-19      1.689\n",
       "  2009-11-20      1.694\n",
       "  2009-11-23      1.690\n",
       "  2009-11-24      1.701\n",
       "  ...               ...\n",
       "  2018-08-09     14.910\n",
       "  2018-08-10     15.058\n",
       "  2018-08-13     14.956\n",
       "  2018-08-14     15.270\n",
       "  2018-08-15     15.244\n",
       "  \n",
       "  [2200 rows x 1 columns],\n",
       "  'IDXX':              Adj Close\n",
       "  Date                  \n",
       "  2000-01-03    4.015625\n",
       "  2000-01-04    3.656250\n",
       "  2000-01-05    3.765625\n",
       "  2000-01-06    3.750000\n",
       "  2000-01-07    3.953125\n",
       "  ...                ...\n",
       "  2018-08-09  244.630005\n",
       "  2018-08-10  243.520004\n",
       "  2018-08-13  240.570007\n",
       "  2018-08-14  243.369995\n",
       "  2018-08-15  241.570007\n",
       "  \n",
       "  [4685 rows x 1 columns],\n",
       "  'KLAC':              Adj Close\n",
       "  Date                  \n",
       "  2000-01-03   28.864374\n",
       "  2000-01-04   27.633976\n",
       "  2000-01-05   26.253952\n",
       "  2000-01-06   26.453465\n",
       "  2000-01-07   28.016409\n",
       "  ...                ...\n",
       "  2018-08-09  105.718521\n",
       "  2018-08-10  103.418900\n",
       "  2018-08-13  105.157173\n",
       "  2018-08-14  105.084267\n",
       "  2018-08-15  102.742378\n",
       "  \n",
       "  [4685 rows x 1 columns],\n",
       "  'SNPS':             Adj Close\n",
       "  Date                 \n",
       "  2000-01-03  32.781250\n",
       "  2000-01-04  30.437500\n",
       "  2000-01-05  30.703125\n",
       "  2000-01-06  28.468750\n",
       "  2000-01-07  28.750000\n",
       "  ...               ...\n",
       "  2018-08-09  93.419998\n",
       "  2018-08-10  93.529999\n",
       "  2018-08-13  92.870003\n",
       "  2018-08-14  93.199997\n",
       "  2018-08-15  92.639999\n",
       "  \n",
       "  [4685 rows x 1 columns],\n",
       "  'VRSN':              Adj Close\n",
       "  Date                  \n",
       "  2000-01-03  161.444855\n",
       "  2000-01-04  159.958847\n",
       "  2000-01-05  151.148895\n",
       "  2000-01-06  131.724564\n",
       "  2000-01-07  144.209732\n",
       "  ...                ...\n",
       "  2018-08-09  153.350006\n",
       "  2018-08-10  152.919998\n",
       "  2018-08-13  152.539993\n",
       "  2018-08-14  154.000000\n",
       "  2018-08-15  153.460007\n",
       "  \n",
       "  [4685 rows x 1 columns],\n",
       "  'ASMLF':              Adj Close\n",
       "  Date                  \n",
       "  2013-03-18   63.600071\n",
       "  2013-03-19   62.335258\n",
       "  2013-03-20   62.335258\n",
       "  2013-03-21   62.837616\n",
       "  2013-03-22   61.393379\n",
       "  ...                ...\n",
       "  2018-08-09  196.799057\n",
       "  2018-08-10  196.799057\n",
       "  2018-08-13  193.326157\n",
       "  2018-08-14  193.401443\n",
       "  2018-08-15  193.401443\n",
       "  \n",
       "  [1365 rows x 1 columns],\n",
       "  'ASML':              Adj Close\n",
       "  Date                  \n",
       "  2000-01-03   26.873346\n",
       "  2000-01-04   25.083714\n",
       "  2000-01-05   24.390945\n",
       "  2000-01-06   22.889969\n",
       "  2000-01-07   23.409531\n",
       "  ...                ...\n",
       "  2018-08-09  196.783798\n",
       "  2018-08-10  191.816498\n",
       "  2018-08-13  192.578506\n",
       "  2018-08-14  193.434647\n",
       "  2018-08-15  185.466171\n",
       "  \n",
       "  [4685 rows x 1 columns],\n",
       "  'DXCM':             Adj Close\n",
       "  Date                 \n",
       "  2005-04-14   2.935000\n",
       "  2005-04-15   2.562500\n",
       "  2005-04-18   2.625000\n",
       "  2005-04-19   2.645000\n",
       "  2005-04-20   2.650000\n",
       "  ...               ...\n",
       "  2018-08-09  30.797501\n",
       "  2018-08-10  30.837500\n",
       "  2018-08-13  30.965000\n",
       "  2018-08-14  31.857500\n",
       "  2018-08-15  30.975000\n",
       "  \n",
       "  [3359 rows x 1 columns],\n",
       "  'ODFL':             Adj Close\n",
       "  Date                 \n",
       "  2000-01-03   0.478757\n",
       "  2000-01-04   0.468118\n",
       "  2000-01-05   0.526633\n",
       "  2000-01-06   0.478757\n",
       "  2000-01-07   0.478757\n",
       "  ...               ...\n",
       "  2018-08-09  47.810444\n",
       "  2018-08-10  47.641438\n",
       "  2018-08-13  46.887386\n",
       "  2018-08-14  47.231918\n",
       "  2018-08-15  47.108395\n",
       "  \n",
       "  [4685 rows x 1 columns],\n",
       "  'PEP':             Adj Close\n",
       "  Date                 \n",
       "  2000-01-03  19.909145\n",
       "  2000-01-04  19.402969\n",
       "  2000-01-05  18.930550\n",
       "  2000-01-06  19.774158\n",
       "  2000-01-07  20.314075\n",
       "  ...               ...\n",
       "  2018-08-09  94.907921\n",
       "  2018-08-10  94.215096\n",
       "  2018-08-13  94.340309\n",
       "  2018-08-14  94.407097\n",
       "  2018-08-15  94.699249\n",
       "  \n",
       "  [4685 rows x 1 columns],\n",
       "  'XEL':             Adj Close\n",
       "  Date                 \n",
       "  2000-01-03   6.848377\n",
       "  2000-01-04   7.006067\n",
       "  2000-01-05   7.276400\n",
       "  2000-01-06   7.208815\n",
       "  2000-01-07   7.208815\n",
       "  ...               ...\n",
       "  2018-08-09  39.527454\n",
       "  2018-08-10  39.436184\n",
       "  2018-08-13  39.436184\n",
       "  2018-08-14  39.378113\n",
       "  2018-08-15  39.743183\n",
       "  \n",
       "  [4685 rows x 1 columns],\n",
       "  'TEAM':             Adj Close\n",
       "  Date                 \n",
       "  2015-12-09  21.000000\n",
       "  2015-12-10  27.780001\n",
       "  2015-12-11  27.500000\n",
       "  2015-12-14  26.260000\n",
       "  2015-12-15  26.500000\n",
       "  ...               ...\n",
       "  2018-08-09  78.309998\n",
       "  2018-08-10  78.070000\n",
       "  2018-08-13  78.230003\n",
       "  2018-08-14  78.709999\n",
       "  2018-08-15  77.639999\n",
       "  \n",
       "  [676 rows x 1 columns],\n",
       "  'DOCU':             Adj Close\n",
       "  Date                 \n",
       "  2018-04-27  39.730000\n",
       "  2018-04-30  38.630001\n",
       "  2018-05-01  39.450001\n",
       "  2018-05-02  39.320000\n",
       "  2018-05-03  41.959999\n",
       "  ...               ...\n",
       "  2018-08-09  60.450001\n",
       "  2018-08-10  58.200001\n",
       "  2018-08-13  56.139999\n",
       "  2018-08-14  57.849998\n",
       "  2018-08-15  56.150002\n",
       "  \n",
       "  [77 rows x 1 columns],\n",
       "  'KDP':             Adj Close\n",
       "  Date                 \n",
       "  2008-05-07   2.825613\n",
       "  2008-05-08   2.814533\n",
       "  2008-05-09   2.796803\n",
       "  2008-05-12   2.833370\n",
       "  2008-05-13   2.869937\n",
       "  ...               ...\n",
       "  2018-08-09  20.705444\n",
       "  2018-08-10  20.557980\n",
       "  2018-08-13  20.610025\n",
       "  2018-08-14  20.479918\n",
       "  2018-08-15  20.254381\n",
       "  \n",
       "  [2588 rows x 1 columns],\n",
       "  'LULU':              Adj Close\n",
       "  Date                  \n",
       "  2007-07-27   14.000000\n",
       "  2007-07-30   14.990000\n",
       "  2007-07-31   16.070000\n",
       "  2007-08-01   15.540000\n",
       "  2007-08-02   16.525000\n",
       "  ...                ...\n",
       "  2018-08-09  128.160004\n",
       "  2018-08-10  130.520004\n",
       "  2018-08-13  129.940002\n",
       "  2018-08-14  129.470001\n",
       "  2018-08-15  126.449997\n",
       "  \n",
       "  [2784 rows x 1 columns],\n",
       "  'MRVL':             Adj Close\n",
       "  Date                 \n",
       "  2000-06-30  12.185102\n",
       "  2000-07-03  11.757550\n",
       "  2000-07-05  11.022708\n",
       "  2000-07-06   9.726702\n",
       "  2000-07-07  10.234418\n",
       "  ...               ...\n",
       "  2018-08-09  20.825796\n",
       "  2018-08-10  20.076872\n",
       "  2018-08-13  19.961660\n",
       "  2018-08-14  19.673609\n",
       "  2018-08-15  19.289551\n",
       "  \n",
       "  [4560 rows x 1 columns],\n",
       "  'MTCH':             Adj Close\n",
       "  Date                 \n",
       "  2000-01-03   7.163970\n",
       "  2000-01-04   6.587558\n",
       "  2000-01-05   6.340525\n",
       "  2000-01-06   6.604028\n",
       "  2000-01-07   6.571090\n",
       "  ...               ...\n",
       "  2018-08-09  46.902767\n",
       "  2018-08-10  48.368481\n",
       "  2018-08-13  47.578518\n",
       "  2018-08-14  46.112808\n",
       "  2018-08-15  44.647095\n",
       "  \n",
       "  [4685 rows x 1 columns],\n",
       "  'MELI':              Adj Close\n",
       "  Date                  \n",
       "  2007-08-10   27.616438\n",
       "  2007-08-13   30.668777\n",
       "  2007-08-14   29.099007\n",
       "  2007-08-15   27.674574\n",
       "  2007-08-16   27.228836\n",
       "  ...                ...\n",
       "  2018-08-09  384.390015\n",
       "  2018-08-10  372.350006\n",
       "  2018-08-13  358.859985\n",
       "  2018-08-14  363.510010\n",
       "  2018-08-15  344.790009\n",
       "  \n",
       "  [2774 rows x 1 columns],\n",
       "  'MRNA': Empty DataFrame\n",
       "  Columns: [Adj Close]\n",
       "  Index: [],\n",
       "  'OKTA':             Adj Close\n",
       "  Date                 \n",
       "  2017-04-07  23.510000\n",
       "  2017-04-10  23.250000\n",
       "  2017-04-11  23.299999\n",
       "  2017-04-12  23.000000\n",
       "  2017-04-13  24.490000\n",
       "  ...               ...\n",
       "  2018-08-09  56.709999\n",
       "  2018-08-10  56.110001\n",
       "  2018-08-13  54.919998\n",
       "  2018-08-14  55.560001\n",
       "  2018-08-15  54.450001\n",
       "  \n",
       "  [342 rows x 1 columns],\n",
       "  'PDD':             Adj Close\n",
       "  Date                 \n",
       "  2018-07-26  26.700001\n",
       "  2018-07-27  24.600000\n",
       "  2018-07-30  22.500000\n",
       "  2018-07-31  22.590000\n",
       "  2018-08-01  20.309999\n",
       "  2018-08-02  19.660000\n",
       "  2018-08-03  19.070000\n",
       "  2018-08-06  20.160000\n",
       "  2018-08-07  20.889999\n",
       "  2018-08-08  20.270000\n",
       "  2018-08-09  20.000000\n",
       "  2018-08-10  19.510000\n",
       "  2018-08-13  19.440001\n",
       "  2018-08-14  19.000000\n",
       "  2018-08-15  17.700001,\n",
       "  'SGEN': Empty DataFrame\n",
       "  Columns: [Adj Close]\n",
       "  Index: [],\n",
       "  'SPLK': Empty DataFrame\n",
       "  Columns: [Adj Close]\n",
       "  Index: [],\n",
       "  'WDAY':              Adj Close\n",
       "  Date                  \n",
       "  2012-10-12   48.689999\n",
       "  2012-10-15   51.939999\n",
       "  2012-10-16   52.160000\n",
       "  2012-10-17   55.410000\n",
       "  2012-10-18   53.419998\n",
       "  ...                ...\n",
       "  2018-08-09  136.529999\n",
       "  2018-08-10  137.169998\n",
       "  2018-08-13  137.089996\n",
       "  2018-08-14  137.399994\n",
       "  2018-08-15  139.199997\n",
       "  \n",
       "  [1469 rows x 1 columns],\n",
       "  'ZM': Empty DataFrame\n",
       "  Columns: [Adj Close]\n",
       "  Index: [],\n",
       "  'CRWD': Empty DataFrame\n",
       "  Columns: [Adj Close]\n",
       "  Index: [],\n",
       "  'ABNB': Empty DataFrame\n",
       "  Columns: [Adj Close]\n",
       "  Index: [],\n",
       "  'DDOG': Empty DataFrame\n",
       "  Columns: [Adj Close]\n",
       "  Index: [],\n",
       "  'PANW':             Adj Close\n",
       "  Date                 \n",
       "  2012-07-20  17.709999\n",
       "  2012-07-23  17.170000\n",
       "  2012-07-24  18.500000\n",
       "  2012-07-25  19.650000\n",
       "  2012-07-26  19.959999\n",
       "  ...               ...\n",
       "  2018-08-09  71.033333\n",
       "  2018-08-10  70.873337\n",
       "  2018-08-13  70.183334\n",
       "  2018-08-14  70.266670\n",
       "  2018-08-15  68.276665\n",
       "  \n",
       "  [1528 rows x 1 columns],\n",
       "  'ZS':             Adj Close\n",
       "  Date                 \n",
       "  2018-03-16  33.000000\n",
       "  2018-03-19  27.900000\n",
       "  2018-03-20  30.379999\n",
       "  2018-03-21  31.080000\n",
       "  2018-03-22  29.830000\n",
       "  ...               ...\n",
       "  2018-08-09  38.290001\n",
       "  2018-08-10  38.189999\n",
       "  2018-08-13  38.060001\n",
       "  2018-08-14  37.520000\n",
       "  2018-08-15  36.349998\n",
       "  \n",
       "  [106 rows x 1 columns],\n",
       "  'META':              Adj Close\n",
       "  Date                  \n",
       "  2012-05-18   38.115242\n",
       "  2012-05-21   33.927845\n",
       "  2012-05-22   30.906942\n",
       "  2012-05-23   31.903940\n",
       "  2012-05-24   32.930847\n",
       "  ...                ...\n",
       "  2018-08-09  182.540375\n",
       "  2018-08-10  179.718887\n",
       "  2018-08-13  179.509537\n",
       "  2018-08-14  180.566345\n",
       "  2018-08-15  178.991074\n",
       "  \n",
       "  [1571 rows x 1 columns],\n",
       "  'LCID': Empty DataFrame\n",
       "  Columns: [Adj Close]\n",
       "  Index: []},\n",
       " 'FTSE 100': {'TGOPY':             Adj Close\n",
       "  Date                 \n",
       "  2009-05-12   2.678288\n",
       "  2009-05-13   2.678288\n",
       "  2009-05-14   2.678288\n",
       "  2009-05-15   2.678288\n",
       "  2009-05-18   2.678288\n",
       "  ...               ...\n",
       "  2018-08-09   5.537579\n",
       "  2018-08-10   5.322526\n",
       "  2018-08-13   5.645105\n",
       "  2018-08-14   5.286685\n",
       "  2018-08-15   5.152277\n",
       "  \n",
       "  [2333 rows x 1 columns],\n",
       "  'TGOPF':             Adj Close\n",
       "  Date                 \n",
       "  2007-09-05  14.679527\n",
       "  2007-09-06  14.679527\n",
       "  2007-09-07  14.679527\n",
       "  2007-09-10  14.679527\n",
       "  2007-09-11  14.679527\n",
       "  ...               ...\n",
       "  2018-08-09  10.224360\n",
       "  2018-08-10  10.224360\n",
       "  2018-08-13  10.224360\n",
       "  2018-08-14  10.224360\n",
       "  2018-08-15  10.224360\n",
       "  \n",
       "  [2757 rows x 1 columns],\n",
       "  'AMIGY':             Adj Close\n",
       "  Date                 \n",
       "  2011-04-06  10.858580\n",
       "  2011-04-07  10.915730\n",
       "  2011-04-08  11.001455\n",
       "  2011-04-11  11.046356\n",
       "  2011-04-12  10.756524\n",
       "  ...               ...\n",
       "  2018-08-09  16.778337\n",
       "  2018-08-10  16.382780\n",
       "  2018-08-13  16.686045\n",
       "  2018-08-14  16.455296\n",
       "  2018-08-15  16.455296\n",
       "  \n",
       "  [1853 rows x 1 columns],\n",
       "  'AMIGF':             Adj Close\n",
       "  Date                 \n",
       "  2007-01-10   9.250904\n",
       "  2007-01-11   9.250904\n",
       "  2007-01-12  10.317195\n",
       "  2007-01-16  10.317195\n",
       "  2007-01-17  10.317195\n",
       "  ...               ...\n",
       "  2018-08-09  16.807697\n",
       "  2018-08-10  16.807697\n",
       "  2018-08-13  16.807697\n",
       "  2018-08-14  16.807697\n",
       "  2018-08-15  17.084532\n",
       "  \n",
       "  [2921 rows x 1 columns],\n",
       "  'AGPPF':             Adj Close\n",
       "  Date                 \n",
       "  2010-06-09  65.084236\n",
       "  2010-06-10  65.084236\n",
       "  2010-06-11  65.084236\n",
       "  2010-06-14  65.084236\n",
       "  2010-06-15  65.084236\n",
       "  ...               ...\n",
       "  2018-08-09  21.684954\n",
       "  2018-08-10  21.684954\n",
       "  2018-08-13  21.684954\n",
       "  2018-08-14  21.684954\n",
       "  2018-08-15  18.266466\n",
       "  \n",
       "  [2062 rows x 1 columns],\n",
       "  'NGLOY':             Adj Close\n",
       "  Date                 \n",
       "  2015-02-12   6.121927\n",
       "  2015-02-13   6.311964\n",
       "  2015-02-17   6.488427\n",
       "  2015-02-18   6.597021\n",
       "  2015-02-19   6.406983\n",
       "  ...               ...\n",
       "  2018-08-09   7.868190\n",
       "  2018-08-10   7.682551\n",
       "  2018-08-13   7.696832\n",
       "  2018-08-14   7.550465\n",
       "  2018-08-15   7.050670\n",
       "  \n",
       "  [884 rows x 1 columns],\n",
       "  'ANFGF':             Adj Close\n",
       "  Date                 \n",
       "  2010-01-05  11.901860\n",
       "  2010-01-06  11.901860\n",
       "  2010-01-07  11.901860\n",
       "  2010-01-08  11.901860\n",
       "  2010-01-11  11.901860\n",
       "  ...               ...\n",
       "  2018-08-09  10.028759\n",
       "  2018-08-10  10.028759\n",
       "  2018-08-13   9.980077\n",
       "  2018-08-14   9.980077\n",
       "  2018-08-15   8.698081\n",
       "  \n",
       "  [2169 rows x 1 columns],\n",
       "  'AHT':               Adj Close\n",
       "  Date                   \n",
       "  2003-08-26  3407.726318\n",
       "  2003-08-27  3438.017334\n",
       "  2003-08-28  3498.600586\n",
       "  2003-08-29  3498.600586\n",
       "  2003-09-02  3468.307617\n",
       "  ...                 ...\n",
       "  2018-08-09  6077.383789\n",
       "  2018-08-10  6021.543457\n",
       "  2018-08-13  5909.860840\n",
       "  2018-08-14  6002.929688\n",
       "  2018-08-15  5947.088379\n",
       "  \n",
       "  [3770 rows x 1 columns],\n",
       "  'ASHTY':              Adj Close\n",
       "  Date                  \n",
       "  2014-07-02   54.316803\n",
       "  2014-07-03   56.014202\n",
       "  2014-07-07   55.165508\n",
       "  2014-07-08   53.255924\n",
       "  2014-07-09   54.316803\n",
       "  ...                ...\n",
       "  2018-08-09  112.309624\n",
       "  2018-08-10  112.237122\n",
       "  2018-08-13  110.415581\n",
       "  2018-08-14  111.439629\n",
       "  2018-08-15  108.385620\n",
       "  \n",
       "  [1039 rows x 1 columns],\n",
       "  'ASHTF':             Adj Close\n",
       "  Date                 \n",
       "  2012-03-14   3.537028\n",
       "  2012-03-15   3.537028\n",
       "  2012-03-16   3.537028\n",
       "  2012-03-19   3.537028\n",
       "  2012-03-20   3.537028\n",
       "  ...               ...\n",
       "  2018-08-09  28.253323\n",
       "  2018-08-10  28.207989\n",
       "  2018-08-13  28.207989\n",
       "  2018-08-14  28.207989\n",
       "  2018-08-15  26.657499\n",
       "  \n",
       "  [1617 rows x 1 columns],\n",
       "  'ABF':             Adj Close\n",
       "  Date                 \n",
       "  2000-01-04  26.027700\n",
       "  2000-01-05  26.027700\n",
       "  2000-01-06  26.027700\n",
       "  2000-01-07  25.262199\n",
       "  2000-01-10  25.262199\n",
       "  ...               ...\n",
       "  2017-08-22  37.500000\n",
       "  2017-08-23  37.500000\n",
       "  2017-08-24  37.500000\n",
       "  2017-08-25  37.500000\n",
       "  2017-08-28  37.500000\n",
       "  \n",
       "  [3960 rows x 1 columns],\n",
       "  'ASBFY':             Adj Close\n",
       "  Date                 \n",
       "  2009-12-29  10.316392\n",
       "  2009-12-30  10.340159\n",
       "  2009-12-31  10.379779\n",
       "  2010-01-04  10.451091\n",
       "  2010-01-05  10.300541\n",
       "  ...               ...\n",
       "  2018-08-09  28.665392\n",
       "  2018-08-10  27.868126\n",
       "  2018-08-13  27.714109\n",
       "  2018-08-14  27.333595\n",
       "  2018-08-15  27.052740\n",
       "  \n",
       "  [2173 rows x 1 columns],\n",
       "  'ASBFF':             Adj Close\n",
       "  Date                 \n",
       "  2010-10-15  13.846047\n",
       "  2010-10-18  13.846047\n",
       "  2010-10-19  13.846047\n",
       "  2010-10-20  13.846047\n",
       "  2010-10-21  13.846047\n",
       "  ...               ...\n",
       "  2018-08-09  28.297672\n",
       "  2018-08-10  27.095423\n",
       "  2018-08-13  27.095423\n",
       "  2018-08-14  27.095423\n",
       "  2018-08-15  26.305889\n",
       "  \n",
       "  [1972 rows x 1 columns],\n",
       "  'AZN':             Adj Close\n",
       "  Date                 \n",
       "  2000-01-03   8.421756\n",
       "  2000-01-04   8.140174\n",
       "  2000-01-05   8.178571\n",
       "  2000-01-06   8.152973\n",
       "  2000-01-07   8.498546\n",
       "  ...               ...\n",
       "  2018-08-09  33.956612\n",
       "  2018-08-10  33.759434\n",
       "  2018-08-13  33.450817\n",
       "  2018-08-14  33.416534\n",
       "  2018-08-15  32.962173\n",
       "  \n",
       "  [4685 rows x 1 columns],\n",
       "  'AZNCF':             Adj Close\n",
       "  Date                 \n",
       "  2009-02-13  25.274765\n",
       "  2009-02-17  25.274765\n",
       "  2009-02-18  25.274765\n",
       "  2009-02-19  25.274765\n",
       "  2009-02-20  24.014437\n",
       "  ...               ...\n",
       "  2018-08-09  66.351761\n",
       "  2018-08-10  66.351761\n",
       "  2018-08-13  66.351761\n",
       "  2018-08-14  66.351761\n",
       "  2018-08-15  66.351761\n",
       "  \n",
       "  [2393 rows x 1 columns],\n",
       "  'AUTO': Empty DataFrame\n",
       "  Columns: [Adj Close]\n",
       "  Index: [],\n",
       "  'ATDRY':             Adj Close\n",
       "  Date                 \n",
       "  2015-08-11   1.370314\n",
       "  2015-08-12   1.370314\n",
       "  2015-08-13   1.370314\n",
       "  2015-08-14   1.370314\n",
       "  2015-08-17   1.370314\n",
       "  ...               ...\n",
       "  2018-08-09   1.341566\n",
       "  2018-08-10   1.341566\n",
       "  2018-08-13   1.341566\n",
       "  2018-08-14   1.360731\n",
       "  2018-08-15   1.360731\n",
       "  \n",
       "  [760 rows x 1 columns],\n",
       "  'ATDRF':             Adj Close\n",
       "  Date                 \n",
       "  2015-12-01   5.857551\n",
       "  2015-12-02   5.857551\n",
       "  2015-12-03   5.857551\n",
       "  2015-12-04   5.766028\n",
       "  2015-12-07   5.766028\n",
       "  ...               ...\n",
       "  2018-08-09   5.221449\n",
       "  2018-08-10   5.221449\n",
       "  2018-08-13   5.221449\n",
       "  2018-08-14   5.204470\n",
       "  2018-08-15   5.204470\n",
       "  \n",
       "  [682 rows x 1 columns],\n",
       "  'AVVIY':             Adj Close\n",
       "  Date                 \n",
       "  2009-10-20   6.958231\n",
       "  2009-10-21   6.953532\n",
       "  2009-10-22   6.911217\n",
       "  2009-10-23   6.723158\n",
       "  2009-10-26   6.506889\n",
       "  ...               ...\n",
       "  2018-08-09   9.454283\n",
       "  2018-08-10   9.307478\n",
       "  2018-08-13   9.329498\n",
       "  2018-08-14   9.241414\n",
       "  2018-08-15   9.057909\n",
       "  \n",
       "  [2221 rows x 1 columns],\n",
       "  'BAESY':             Adj Close\n",
       "  Date                 \n",
       "  2003-10-23   5.252826\n",
       "  2003-10-24   5.367018\n",
       "  2003-10-27   5.412694\n",
       "  2003-10-28   5.618239\n",
       "  2003-10-29   5.572562\n",
       "  ...               ...\n",
       "  2018-08-09  26.431587\n",
       "  2018-08-10  26.423452\n",
       "  2018-08-13  26.456001\n",
       "  2018-08-14  26.464140\n",
       "  2018-08-15  26.285110\n",
       "  \n",
       "  [3729 rows x 1 columns],\n",
       "  'INPTF': Empty DataFrame\n",
       "  Columns: [Adj Close]\n",
       "  Index: [],\n",
       "  'BCS':             Adj Close\n",
       "  Date                 \n",
       "  2000-01-03  11.420943\n",
       "  2000-01-04  11.025413\n",
       "  2000-01-05  10.827646\n",
       "  2000-01-06  10.481559\n",
       "  2000-01-07  10.234354\n",
       "  ...               ...\n",
       "  2018-08-09   7.949903\n",
       "  2018-08-10   7.742584\n",
       "  2018-08-13   7.615003\n",
       "  2018-08-14   7.638925\n",
       "  2018-08-15   7.447554\n",
       "  \n",
       "  [4685 rows x 1 columns],\n",
       "  'BCLYF':             Adj Close\n",
       "  Date                 \n",
       "  2001-08-03   5.524109\n",
       "  2001-08-06   5.435010\n",
       "  2001-08-07   5.435010\n",
       "  2001-08-08   5.435010\n",
       "  2001-08-09   5.435010\n",
       "  ...               ...\n",
       "  2018-08-09   1.974947\n",
       "  2018-08-10   1.951056\n",
       "  2018-08-13   1.895312\n",
       "  2018-08-14   1.895312\n",
       "  2018-08-15   1.855495\n",
       "  \n",
       "  [4285 rows x 1 columns],\n",
       "  'BDEV': Empty DataFrame\n",
       "  Columns: [Adj Close]\n",
       "  Index: [],\n",
       "  'BTDPY':             Adj Close\n",
       "  Date                 \n",
       "  2016-06-21  13.300201\n",
       "  2016-06-22  13.300201\n",
       "  2016-06-23  13.300201\n",
       "  2016-06-24   9.701324\n",
       "  2016-06-27   7.119520\n",
       "  ...               ...\n",
       "  2018-08-09  13.554470\n",
       "  2018-08-10  13.554470\n",
       "  2018-08-13  13.554470\n",
       "  2018-08-14  13.554470\n",
       "  2018-08-15  13.554470\n",
       "  \n",
       "  [543 rows x 1 columns],\n",
       "  'BTDPF':             Adj Close\n",
       "  Date                 \n",
       "  2012-08-03   1.180848\n",
       "  2012-08-06   1.180848\n",
       "  2012-08-07   1.180848\n",
       "  2012-08-08   1.180848\n",
       "  2012-08-09   1.180848\n",
       "  ...               ...\n",
       "  2018-08-09   4.823796\n",
       "  2018-08-10   4.823796\n",
       "  2018-08-13   4.823796\n",
       "  2018-08-14   4.823796\n",
       "  2018-08-15   4.823796\n",
       "  \n",
       "  [1518 rows x 1 columns],\n",
       "  'BKG':             Adj Close\n",
       "  Date                 \n",
       "  2004-02-09      0.410\n",
       "  2004-02-10      0.420\n",
       "  2004-02-11      0.430\n",
       "  2004-02-12      0.430\n",
       "  2004-02-13      0.430\n",
       "  ...               ...\n",
       "  2017-02-08      0.687\n",
       "  2017-02-09      0.690\n",
       "  2017-02-10      0.687\n",
       "  2017-03-10      0.702\n",
       "  2017-03-13      0.702\n",
       "  \n",
       "  [2795 rows x 1 columns],\n",
       "  'BKGFF':             Adj Close\n",
       "  Date                 \n",
       "  2013-08-01  27.456789\n",
       "  2013-08-02  27.456789\n",
       "  2013-08-05  27.456789\n",
       "  2013-08-06  27.456789\n",
       "  2013-08-07  27.456789\n",
       "  ...               ...\n",
       "  2018-08-09  48.542530\n",
       "  2018-08-10  48.542530\n",
       "  2018-08-13  48.542530\n",
       "  2018-08-14  48.542530\n",
       "  2018-08-15  48.542530\n",
       "  \n",
       "  [1270 rows x 1 columns],\n",
       "  'BKGFY':             Adj Close\n",
       "  Date                 \n",
       "  2014-07-01   5.440913\n",
       "  2014-07-02   5.533713\n",
       "  2014-07-03   5.617615\n",
       "  2014-07-07   5.617615\n",
       "  2014-07-08   5.297262\n",
       "  ...               ...\n",
       "  2018-08-09   7.560434\n",
       "  2018-08-10   7.560434\n",
       "  2018-08-13   7.362606\n",
       "  2018-08-14   7.362606\n",
       "  2018-08-15   7.362606\n",
       "  \n",
       "  [1040 rows x 1 columns],\n",
       "  'BP':             Adj Close\n",
       "  Date                 \n",
       "  2000-01-03  18.446037\n",
       "  2000-01-04  18.348022\n",
       "  2000-01-05  18.975302\n",
       "  2000-01-06  19.014513\n",
       "  2000-01-07  18.661663\n",
       "  ...               ...\n",
       "  2018-08-09  31.337601\n",
       "  2018-08-10  30.948849\n",
       "  2018-08-13  30.725676\n",
       "  2018-08-14  30.675289\n",
       "  2018-08-15  29.897778\n",
       "  \n",
       "  [4685 rows x 1 columns],\n",
       "  'BPAQF':             Adj Close\n",
       "  Date                 \n",
       "  2009-02-13   5.617672\n",
       "  2009-02-17   5.617672\n",
       "  2009-02-18   5.617672\n",
       "  2009-02-19   5.055904\n",
       "  2009-02-20   5.055904\n",
       "  ...               ...\n",
       "  2018-08-09   5.835143\n",
       "  2018-08-10   5.724300\n",
       "  2018-08-13   5.660962\n",
       "  2018-08-14   5.605537\n",
       "  2018-08-15   5.478859\n",
       "  \n",
       "  [2393 rows x 1 columns],\n",
       "  'BTAFF':             Adj Close\n",
       "  Date                 \n",
       "  2010-04-26  18.444483\n",
       "  2010-04-27  18.444483\n",
       "  2010-04-28  18.444483\n",
       "  2010-04-29  17.703411\n",
       "  2010-04-30  17.703411\n",
       "  ...               ...\n",
       "  2018-08-09  33.503296\n",
       "  2018-08-10  33.503296\n",
       "  2018-08-13  33.503296\n",
       "  2018-08-14  33.579090\n",
       "  2018-08-15  33.579090\n",
       "  \n",
       "  [2093 rows x 1 columns],\n",
       "  'BTI':             Adj Close\n",
       "  Date                 \n",
       "  2000-01-03   1.383741\n",
       "  2000-01-04   1.391603\n",
       "  2000-01-05   1.462363\n",
       "  2000-01-06   1.399465\n",
       "  2000-01-07   1.375879\n",
       "  ...               ...\n",
       "  2018-08-09  33.121059\n",
       "  2018-08-10  32.698471\n",
       "  2018-08-13  32.551487\n",
       "  2018-08-14  32.673973\n",
       "  2018-08-15  32.422871\n",
       "  \n",
       "  [4685 rows x 1 columns],\n",
       "  'BTLCY':             Adj Close\n",
       "  Date                 \n",
       "  2008-01-30   6.775258\n",
       "  2008-01-31   6.755382\n",
       "  2008-02-01   6.559911\n",
       "  2008-02-04   6.526780\n",
       "  2008-02-05   6.258419\n",
       "  ...               ...\n",
       "  2018-08-09   6.231584\n",
       "  2018-08-10   6.224174\n",
       "  2018-08-13   6.120440\n",
       "  2018-08-14   6.061161\n",
       "  2018-08-15   6.031522\n",
       "  \n",
       "  [2656 rows x 1 columns],\n",
       "  'BRLAF':             Adj Close\n",
       "  Date                 \n",
       "  2011-04-07   6.411937\n",
       "  2011-04-08   6.411937\n",
       "  2011-04-11   6.411937\n",
       "  2011-04-12   6.411937\n",
       "  2011-04-13   6.411937\n",
       "  ...               ...\n",
       "  2018-08-09   6.433110\n",
       "  2018-08-10   6.433110\n",
       "  2018-08-13   6.433110\n",
       "  2018-08-14   6.433110\n",
       "  2018-08-15   6.132282\n",
       "  \n",
       "  [1852 rows x 1 columns],\n",
       "  'BT': Empty DataFrame\n",
       "  Columns: [Adj Close]\n",
       "  Index: [],\n",
       "  'BTGOF':             Adj Close\n",
       "  Date                 \n",
       "  2010-04-05   1.100383\n",
       "  2010-04-06   1.143175\n",
       "  2010-04-07   1.143175\n",
       "  2010-04-08   1.143175\n",
       "  2010-04-09   1.100383\n",
       "  ...               ...\n",
       "  2018-08-09   2.382997\n",
       "  2018-08-10   1.535709\n",
       "  2018-08-13   1.535709\n",
       "  2018-08-14   1.535709\n",
       "  2018-08-15   1.535709\n",
       "  \n",
       "  [2108 rows x 1 columns],\n",
       "  'BZLFF':             Adj Close\n",
       "  Date                 \n",
       "  2010-01-05   8.372275\n",
       "  2010-01-06   8.372275\n",
       "  2010-01-07   8.612630\n",
       "  2010-01-08   8.612630\n",
       "  2010-01-11   8.612630\n",
       "  ...               ...\n",
       "  2018-08-09  26.209824\n",
       "  2018-08-10  26.209824\n",
       "  2018-08-13  26.209824\n",
       "  2018-08-14  26.209824\n",
       "  2018-08-15  26.209824\n",
       "  \n",
       "  [2169 rows x 1 columns],\n",
       "  'BZLFY':             Adj Close\n",
       "  Date                 \n",
       "  2007-06-07   9.342642\n",
       "  2007-06-08   9.543559\n",
       "  2007-06-11   9.503376\n",
       "  2007-06-12   9.543559\n",
       "  2007-06-13   9.443100\n",
       "  ...               ...\n",
       "  2018-08-09  26.777536\n",
       "  2018-08-10  25.953342\n",
       "  2018-08-13  26.137466\n",
       "  2018-08-14  26.233917\n",
       "  2018-08-15  25.576317\n",
       "  \n",
       "  [2819 rows x 1 columns],\n",
       "  'BURBY':             Adj Close\n",
       "  Date                 \n",
       "  2009-09-04   5.991285\n",
       "  2009-09-08   5.991285\n",
       "  2009-09-09   5.991285\n",
       "  2009-09-10   5.991285\n",
       "  2009-09-11   5.991285\n",
       "  ...               ...\n",
       "  2018-08-09  24.219372\n",
       "  2018-08-10  24.083691\n",
       "  2018-08-13  24.346571\n",
       "  2018-08-14  24.702742\n",
       "  2018-08-15  23.998886\n",
       "  \n",
       "  [2252 rows x 1 columns],\n",
       "  'CPYYY':             Adj Close\n",
       "  Date                 \n",
       "  2007-10-04  12.937201\n",
       "  2007-10-05  13.314095\n",
       "  2007-10-08  12.789724\n",
       "  2007-10-09  13.150229\n",
       "  2007-10-10  13.166615\n",
       "  ...               ...\n",
       "  2018-08-09   6.316297\n",
       "  2018-08-10   6.193411\n",
       "  2018-08-13   6.185219\n",
       "  2018-08-14   6.152450\n",
       "  2018-08-15   6.070526\n",
       "  \n",
       "  [2736 rows x 1 columns],\n",
       "  'CPYYF':             Adj Close\n",
       "  Date                 \n",
       "  2009-02-13   2.634117\n",
       "  2009-02-17   2.634117\n",
       "  2009-02-18   2.634117\n",
       "  2009-02-19   2.634117\n",
       "  2009-02-20   2.568264\n",
       "  ...               ...\n",
       "  2018-08-09   1.501214\n",
       "  2018-08-10   1.501214\n",
       "  2018-08-13   1.501214\n",
       "  2018-08-14   1.576275\n",
       "  2018-08-15   1.576275\n",
       "  \n",
       "  [2393 rows x 1 columns],\n",
       "  'CCHGY':             Adj Close\n",
       "  Date                 \n",
       "  2013-04-29  19.502069\n",
       "  2013-04-30  18.987888\n",
       "  2013-05-01  18.436985\n",
       "  2013-05-02  18.495749\n",
       "  2013-05-03  18.238659\n",
       "  ...               ...\n",
       "  2018-08-09  29.343472\n",
       "  2018-08-10  27.822142\n",
       "  2018-08-13  27.880018\n",
       "  2018-08-14  27.780798\n",
       "  2018-08-15  27.780798\n",
       "  \n",
       "  [1336 rows x 1 columns],\n",
       "  'CCHBF':             Adj Close\n",
       "  Date                 \n",
       "  2010-04-05  23.778862\n",
       "  2010-04-06  22.471865\n",
       "  2010-04-07  22.471865\n",
       "  2010-04-08  22.471865\n",
       "  2010-04-09  22.471865\n",
       "  ...               ...\n",
       "  2018-08-09  31.277199\n",
       "  2018-08-10  31.277199\n",
       "  2018-08-13  31.277199\n",
       "  2018-08-14  31.277199\n",
       "  2018-08-15  31.277199\n",
       "  \n",
       "  [2108 rows x 1 columns],\n",
       "  'CMPGY':             Adj Close\n",
       "  Date                 \n",
       "  2009-12-29   5.247815\n",
       "  2009-12-30   5.262331\n",
       "  2009-12-31   5.298622\n",
       "  2010-01-04   5.342174\n",
       "  2010-01-05   5.349432\n",
       "  ...               ...\n",
       "  2018-08-09  20.076965\n",
       "  2018-08-10  19.847879\n",
       "  2018-08-13  19.792900\n",
       "  2018-08-14  19.655451\n",
       "  2018-08-15  19.408041\n",
       "  \n",
       "  [2173 rows x 1 columns],\n",
       "  'CMPGF': Empty DataFrame\n",
       "  Columns: [Adj Close]\n",
       "  Index: [],\n",
       "  'CRH':             Adj Close\n",
       "  Date                 \n",
       "  2000-01-03   9.858744\n",
       "  2000-01-04   9.637193\n",
       "  2000-01-05   9.747965\n",
       "  2000-01-06   9.637193\n",
       "  2000-01-07  10.052590\n",
       "  ...               ...\n",
       "  2018-08-09  27.481190\n",
       "  2018-08-10  27.051401\n",
       "  2018-08-13  27.017693\n",
       "  2018-08-14  27.051401\n",
       "  2018-08-15  26.689028\n",
       "  \n",
       "  [4685 rows x 1 columns],\n",
       "  'CRHCF': Empty DataFrame\n",
       "  Columns: [Adj Close]\n",
       "  Index: [],\n",
       "  'COIHF':             Adj Close\n",
       "  Date                 \n",
       "  2010-04-05  10.985821\n",
       "  2010-04-06  10.985821\n",
       "  2010-04-07  10.985821\n",
       "  2010-04-08  10.985821\n",
       "  2010-04-09  10.985821\n",
       "  ...               ...\n",
       "  2018-08-09  59.084126\n",
       "  2018-08-10  59.084126\n",
       "  2018-08-13  59.084126\n",
       "  2018-08-14  59.084126\n",
       "  2018-08-15  59.084126\n",
       "  \n",
       "  [2108 rows x 1 columns],\n",
       "  'COIHY':             Adj Close\n",
       "  Date                 \n",
       "  2012-08-03  14.012696\n",
       "  2012-08-06  14.012696\n",
       "  2012-08-07  14.012696\n",
       "  2012-08-08  14.012696\n",
       "  2012-08-09  14.012696\n",
       "  ...               ...\n",
       "  2018-08-09  30.695686\n",
       "  2018-08-10  29.317692\n",
       "  2018-08-13  29.869768\n",
       "  2018-08-14  29.211693\n",
       "  2018-08-15  28.531532\n",
       "  \n",
       "  [1518 rows x 1 columns],\n",
       "  'DCCPF':             Adj Close\n",
       "  Date                 \n",
       "  2010-03-31  19.563681\n",
       "  2010-04-01  19.563681\n",
       "  2010-04-05  19.563681\n",
       "  2010-04-06  19.563681\n",
       "  2010-04-07  19.563681\n",
       "  ...               ...\n",
       "  2018-08-09  81.264656\n",
       "  2018-08-10  81.264656\n",
       "  2018-08-13  81.264656\n",
       "  2018-08-14  81.264656\n",
       "  2018-08-15  81.264656\n",
       "  \n",
       "  [2110 rows x 1 columns],\n",
       "  'DEO':              Adj Close\n",
       "  Date                  \n",
       "  2000-01-03   14.827251\n",
       "  2000-01-04   15.087381\n",
       "  2000-01-05   15.318603\n",
       "  2000-01-06   17.052788\n",
       "  2000-01-07   17.139490\n",
       "  ...                ...\n",
       "  2018-08-09  124.719505\n",
       "  2018-08-10  123.558411\n",
       "  2018-08-13  123.558411\n",
       "  2018-08-14  124.173599\n",
       "  2018-08-15  121.938110\n",
       "  \n",
       "  [4685 rows x 1 columns],\n",
       "  'DGEAF':             Adj Close\n",
       "  Date                 \n",
       "  2009-02-13   9.545534\n",
       "  2009-02-17   9.545534\n",
       "  2009-02-18   9.545534\n",
       "  2009-02-19   9.356887\n",
       "  2009-02-20   9.356887\n",
       "  ...               ...\n",
       "  2018-08-09  31.641455\n",
       "  2018-08-10  31.641455\n",
       "  2018-08-13  31.381741\n",
       "  2018-08-14  31.148006\n",
       "  2018-08-15  30.126478\n",
       "  \n",
       "  [2393 rows x 1 columns],\n",
       "  'DITHF':             Adj Close\n",
       "  Date                 \n",
       "  2013-12-19   3.631107\n",
       "  2013-12-20   3.631107\n",
       "  2013-12-23   3.631107\n",
       "  2013-12-24   3.631107\n",
       "  2013-12-26   3.631107\n",
       "  ...               ...\n",
       "  2018-08-09   5.232285\n",
       "  2018-08-10   5.232285\n",
       "  2018-08-13   5.232285\n",
       "  2018-08-14   5.232285\n",
       "  2018-08-15   5.232285\n",
       "  \n",
       "  [1172 rows x 1 columns],\n",
       "  'EXPGY':             Adj Close\n",
       "  Date                 \n",
       "  2008-01-30   6.024317\n",
       "  2008-01-31   6.356593\n",
       "  2008-02-01   6.443272\n",
       "  2008-02-04   6.356593\n",
       "  2008-02-05   5.858179\n",
       "  ...               ...\n",
       "  2018-08-09  22.433777\n",
       "  2018-08-10  22.332933\n",
       "  2018-08-13  22.287094\n",
       "  2018-08-14  22.277925\n",
       "  2018-08-15  22.030392\n",
       "  \n",
       "  [2656 rows x 1 columns],\n",
       "  'EXPGF':             Adj Close\n",
       "  Date                 \n",
       "  2006-12-19   9.417921\n",
       "  2006-12-20   9.876315\n",
       "  2006-12-21   9.876315\n",
       "  2006-12-22   9.876315\n",
       "  2006-12-26   9.876315\n",
       "  ...               ...\n",
       "  2018-08-09  22.547562\n",
       "  2018-08-10  22.547562\n",
       "  2018-08-13  22.473515\n",
       "  2018-08-14  22.464256\n",
       "  2018-08-15  21.890388\n",
       "  \n",
       "  [2934 rows x 1 columns],\n",
       "  'FNLPF':             Adj Close\n",
       "  Date                 \n",
       "  2008-05-27   9.547673\n",
       "  2008-05-28   9.547673\n",
       "  2008-05-29   9.547673\n",
       "  2008-05-30   9.547673\n",
       "  2008-06-02   9.547673\n",
       "  ...               ...\n",
       "  2018-08-09  11.620965\n",
       "  2018-08-10  11.620965\n",
       "  2018-08-13  11.585071\n",
       "  2018-08-14  11.441491\n",
       "  2018-08-15  10.059539\n",
       "  \n",
       "  [2575 rows x 1 columns],\n",
       "  'GSK':             Adj Close\n",
       "  Date                 \n",
       "  2000-01-03  18.016439\n",
       "  2000-01-04  17.550323\n",
       "  2000-01-05  18.138042\n",
       "  2000-01-06  17.874586\n",
       "  2000-01-07  18.806818\n",
       "  ...               ...\n",
       "  2018-08-09  30.949453\n",
       "  2018-08-10  30.411667\n",
       "  2018-08-13  30.123833\n",
       "  2018-08-14  30.146557\n",
       "  2018-08-15  30.646471\n",
       "  \n",
       "  [4685 rows x 1 columns],\n",
       "  'GLAXF':             Adj Close\n",
       "  Date                 \n",
       "  2010-01-05  12.228643\n",
       "  2010-01-06  12.169564\n",
       "  2010-01-07  12.169564\n",
       "  2010-01-08  11.992337\n",
       "  2010-01-11  12.199104\n",
       "  ...               ...\n",
       "  2018-08-09  15.909046\n",
       "  2018-08-10  16.105452\n",
       "  2018-08-13  15.421953\n",
       "  2018-08-14  15.618359\n",
       "  2018-08-15  16.152590\n",
       "  \n",
       "  [2169 rows x 1 columns],\n",
       "  'GLNCY':             Adj Close\n",
       "  Date                 \n",
       "  2012-02-06   9.141335\n",
       "  2012-02-07   8.883657\n",
       "  2012-02-08   8.595306\n",
       "  2012-02-09   8.767088\n",
       "  2012-02-10   8.546227\n",
       "  ...               ...\n",
       "  2018-08-09   6.226159\n",
       "  2018-08-10   6.026744\n",
       "  2018-08-13   5.952887\n",
       "  2018-08-14   5.930729\n",
       "  2018-08-15   5.576214\n",
       "  \n",
       "  [1643 rows x 1 columns],\n",
       "  'HLMAF':             Adj Close\n",
       "  Date                 \n",
       "  2012-08-15   5.715414\n",
       "  2012-08-16   5.715414\n",
       "  2012-08-17   5.715414\n",
       "  2012-08-20   5.715414\n",
       "  2012-08-21   5.715414\n",
       "  ...               ...\n",
       "  2018-08-09  17.832739\n",
       "  2018-08-10  17.030865\n",
       "  2018-08-13  16.983292\n",
       "  2018-08-14  16.935719\n",
       "  2018-08-15  16.935719\n",
       "  \n",
       "  [1510 rows x 1 columns],\n",
       "  'HALMY': Empty DataFrame\n",
       "  Columns: [Adj Close]\n",
       "  Index: [],\n",
       "  'HRGLY': Empty DataFrame\n",
       "  Columns: [Adj Close]\n",
       "  Index: [],\n",
       "  'HRGLF':             Adj Close\n",
       "  Date                 \n",
       "  2012-08-03   6.635166\n",
       "  2012-08-06   6.635166\n",
       "  2012-08-07   6.635166\n",
       "  2012-08-08   6.635166\n",
       "  2012-08-09   6.635166\n",
       "  ...               ...\n",
       "  2018-08-09  21.622528\n",
       "  2018-08-10  21.202906\n",
       "  2018-08-13  21.420635\n",
       "  2018-08-14  21.470514\n",
       "  2018-08-15  21.440430\n",
       "  \n",
       "  [1518 rows x 1 columns],\n",
       "  'HSBC':             Adj Close\n",
       "  Date                 \n",
       "  2000-01-03  20.691248\n",
       "  2000-01-04  19.428913\n",
       "  2000-01-05  19.319145\n",
       "  2000-01-06  18.770306\n",
       "  2000-01-07  19.300858\n",
       "  ...               ...\n",
       "  2018-08-09  33.011135\n",
       "  2018-08-10  32.603504\n",
       "  2018-08-13  32.322388\n",
       "  2018-08-14  32.343460\n",
       "  2018-08-15  31.816355\n",
       "  \n",
       "  [4685 rows x 1 columns],\n",
       "  'HBCYF':             Adj Close\n",
       "  Date                 \n",
       "  2009-02-13   4.333663\n",
       "  2009-02-17   3.986969\n",
       "  2009-02-18   4.096755\n",
       "  2009-02-19   3.986969\n",
       "  2009-02-20   3.871406\n",
       "  ...               ...\n",
       "  2018-08-09   6.779581\n",
       "  2018-08-10   6.742532\n",
       "  2018-08-13   6.794398\n",
       "  2018-08-14   6.757352\n",
       "  2018-08-15   6.527662\n",
       "  \n",
       "  [2393 rows x 1 columns],\n",
       "  'IMBBF':             Adj Close\n",
       "  Date                 \n",
       "  2010-02-22  16.541069\n",
       "  2010-02-23  16.541069\n",
       "  2010-02-24  16.541069\n",
       "  2010-02-25  16.541069\n",
       "  2010-02-26  16.541069\n",
       "  ...               ...\n",
       "  2018-08-09  25.092941\n",
       "  2018-08-10  24.509539\n",
       "  2018-08-13  24.509539\n",
       "  2018-08-14  25.079685\n",
       "  2018-08-15  25.079685\n",
       "  \n",
       "  [2137 rows x 1 columns],\n",
       "  'IMBBY':             Adj Close\n",
       "  Date                 \n",
       "  2000-01-03   1.669715\n",
       "  2000-01-04   1.689436\n",
       "  2000-01-05   1.774894\n",
       "  2000-01-06   1.945810\n",
       "  2000-01-07   1.958956\n",
       "  ...               ...\n",
       "  2018-08-09  22.689713\n",
       "  2018-08-10  22.403708\n",
       "  2018-08-13  22.534798\n",
       "  2018-08-14  22.552670\n",
       "  2018-08-15  22.391788\n",
       "  \n",
       "  [4685 rows x 1 columns],\n",
       "  'IFPJF':             Adj Close\n",
       "  Date                 \n",
       "  2014-11-11   6.383726\n",
       "  2014-11-12   6.383726\n",
       "  2014-11-13   6.383726\n",
       "  2014-11-14   6.383726\n",
       "  2014-11-17   6.383726\n",
       "  ...               ...\n",
       "  2018-08-09   9.491730\n",
       "  2018-08-10   9.491730\n",
       "  2018-08-13   9.491730\n",
       "  2018-08-14   9.491730\n",
       "  2018-08-15   9.491730\n",
       "  \n",
       "  [947 rows x 1 columns],\n",
       "  'IFJPY':             Adj Close\n",
       "  Date                 \n",
       "  2011-04-06   9.148528\n",
       "  2011-04-07   9.109179\n",
       "  2011-04-08   8.997691\n",
       "  2011-04-11   8.886206\n",
       "  2011-04-12   8.833740\n",
       "  ...               ...\n",
       "  2018-08-09  19.212105\n",
       "  2018-08-10  19.072685\n",
       "  2018-08-13  18.923973\n",
       "  2018-08-14  18.896088\n",
       "  2018-08-15  18.580069\n",
       "  \n",
       "  [1853 rows x 1 columns],\n",
       "  'ICHGF':             Adj Close\n",
       "  Date                 \n",
       "  2012-01-17  17.198425\n",
       "  2012-01-18  17.198425\n",
       "  2012-01-19  18.132235\n",
       "  2012-01-20  18.386087\n",
       "  2012-01-23  18.386087\n",
       "  ...               ...\n",
       "  2018-08-09  59.140339\n",
       "  2018-08-10  59.140339\n",
       "  2018-08-13  57.692005\n",
       "  2018-08-14  57.692005\n",
       "  2018-08-15  57.692005\n",
       "  \n",
       "  [1657 rows x 1 columns],\n",
       "  'IHG':             Adj Close\n",
       "  Date                 \n",
       "  2003-04-10   5.995878\n",
       "  2003-04-11   5.995878\n",
       "  2003-04-14   5.995878\n",
       "  2003-04-15   6.109595\n",
       "  2003-04-16   5.685747\n",
       "  ...               ...\n",
       "  2018-08-09  56.965412\n",
       "  2018-08-10  56.528225\n",
       "  2018-08-13  56.379387\n",
       "  2018-08-14  56.751472\n",
       "  2018-08-15  55.877087\n",
       "  \n",
       "  [3865 rows x 1 columns],\n",
       "  'ICAGY':             Adj Close\n",
       "  Date                 \n",
       "  2000-01-03   7.462589\n",
       "  2000-01-04   7.541826\n",
       "  2000-01-05   7.585045\n",
       "  2000-01-06   7.721908\n",
       "  2000-01-07   7.635468\n",
       "  ...               ...\n",
       "  2018-08-09  12.662505\n",
       "  2018-08-10  12.504851\n",
       "  2018-08-13  12.411691\n",
       "  2018-08-14  12.526349\n",
       "  2018-08-15  12.375861\n",
       "  \n",
       "  [4685 rows x 1 columns],\n",
       "  'BABWF':             Adj Close\n",
       "  Date                 \n",
       "  2007-05-10   7.441353\n",
       "  2007-05-11   7.441353\n",
       "  2007-05-14   7.441353\n",
       "  2007-05-15   7.441353\n",
       "  2007-05-16   7.441353\n",
       "  ...               ...\n",
       "  2018-08-09   7.705917\n",
       "  2018-08-10   7.705917\n",
       "  2018-08-13   7.705917\n",
       "  2018-08-14   7.705917\n",
       "  2018-08-15   7.705917\n",
       "  \n",
       "  [2838 rows x 1 columns],\n",
       "  'IKTSF':             Adj Close\n",
       "  Date                 \n",
       "  2008-06-24  16.073708\n",
       "  2008-06-25  16.073708\n",
       "  2008-06-26  16.073708\n",
       "  2008-06-27  16.073708\n",
       "  2008-06-30  16.403421\n",
       "  ...               ...\n",
       "  2018-08-09  61.864697\n",
       "  2018-08-10  61.864697\n",
       "  2018-08-13  61.864697\n",
       "  2018-08-14  61.864697\n",
       "  2018-08-15  61.864697\n",
       "  \n",
       "  [2555 rows x 1 columns],\n",
       "  'IKTSY':             Adj Close\n",
       "  Date                 \n",
       "  2012-08-03  33.885571\n",
       "  2012-08-06  33.885571\n",
       "  2012-08-07  33.885571\n",
       "  2012-08-08  33.885571\n",
       "  2012-08-09  33.885571\n",
       "  ...               ...\n",
       "  2018-08-09  60.597225\n",
       "  2018-08-10  59.515827\n",
       "  2018-08-13  60.436539\n",
       "  2018-08-14  59.401176\n",
       "  2018-08-15  58.820961\n",
       "  \n",
       "  [1518 rows x 1 columns],\n",
       "  'KGFHY':             Adj Close\n",
       "  Date                 \n",
       "  2000-01-03   9.698733\n",
       "  2000-01-04   9.478307\n",
       "  2000-01-05   9.257883\n",
       "  2000-01-06  10.029374\n",
       "  2000-01-07  10.470226\n",
       "  ...               ...\n",
       "  2018-08-09   5.989281\n",
       "  2018-08-10   5.849996\n",
       "  2018-08-13   5.780353\n",
       "  2018-08-14   5.788090\n",
       "  2018-08-15   5.718448\n",
       "  \n",
       "  [4685 rows x 1 columns],\n",
       "  'KGFHF':             Adj Close\n",
       "  Date                 \n",
       "  2003-09-03   2.745607\n",
       "  2003-09-04   2.778687\n",
       "  2003-09-05   2.811767\n",
       "  2003-09-08   2.811767\n",
       "  2003-09-09   2.811767\n",
       "  ...               ...\n",
       "  2018-08-09   3.005224\n",
       "  2018-08-10   3.005224\n",
       "  2018-08-13   3.005224\n",
       "  2018-08-14   3.005224\n",
       "  2018-08-15   3.005224\n",
       "  \n",
       "  [3765 rows x 1 columns],\n",
       "  'LGGNY':             Adj Close\n",
       "  Date                 \n",
       "  2010-01-20   2.634335\n",
       "  2010-01-21   2.555698\n",
       "  2010-01-22   2.477062\n",
       "  2010-01-25   2.555698\n",
       "  2010-01-26   2.614675\n",
       "  ...               ...\n",
       "  2018-08-09  10.652945\n",
       "  2018-08-10  10.690612\n",
       "  2018-08-13  10.759662\n",
       "  2018-08-14  10.477176\n",
       "  2018-08-15  10.263740\n",
       "  \n",
       "  [2159 rows x 1 columns],\n",
       "  'LGGNF':             Adj Close\n",
       "  Date                 \n",
       "  2010-10-15   0.863970\n",
       "  2010-10-18   0.863970\n",
       "  2010-10-19   0.858858\n",
       "  2010-10-20   0.858858\n",
       "  2010-10-21   0.858858\n",
       "  ...               ...\n",
       "  2018-08-09   2.228638\n",
       "  2018-08-10   2.132576\n",
       "  2018-08-13   2.132576\n",
       "  2018-08-14   2.113364\n",
       "  2018-08-15   2.113364\n",
       "  \n",
       "  [1972 rows x 1 columns],\n",
       "  'LYG':             Adj Close\n",
       "  Date                 \n",
       "  2001-11-28  10.098042\n",
       "  2001-11-29  10.158507\n",
       "  2001-11-30  10.146412\n",
       "  2001-12-03  10.049666\n",
       "  2001-12-04  10.001292\n",
       "  ...               ...\n",
       "  2018-08-09   2.493777\n",
       "  2018-08-10   2.416809\n",
       "  2018-08-13   2.409112\n",
       "  2018-08-14   2.386021\n",
       "  2018-08-15   2.355234\n",
       "  \n",
       "  [4208 rows x 1 columns],\n",
       "  'LLDTF':             Adj Close\n",
       "  Date                 \n",
       "  2010-04-26   0.738107\n",
       "  2010-04-27   0.738107\n",
       "  2010-04-28   0.709718\n",
       "  2010-04-29   0.709718\n",
       "  2010-04-30   0.709718\n",
       "  ...               ...\n",
       "  2018-08-09   0.623069\n",
       "  2018-08-10   0.615182\n",
       "  2018-08-13   0.615182\n",
       "  2018-08-14   0.615182\n",
       "  2018-08-15   0.591521\n",
       "  \n",
       "  [2093 rows x 1 columns],\n",
       "  'LNSTY':             Adj Close\n",
       "  Date                 \n",
       "  2018-02-28  12.867439\n",
       "  2018-03-01  12.609538\n",
       "  2018-03-02  12.411508\n",
       "  2018-03-05  12.627958\n",
       "  2018-03-06  12.618748\n",
       "  ...               ...\n",
       "  2018-08-09  13.574137\n",
       "  2018-08-10  13.444060\n",
       "  2018-08-13  13.388314\n",
       "  2018-08-14  13.332569\n",
       "  2018-08-15  13.128168\n",
       "  \n",
       "  [118 rows x 1 columns],\n",
       "  'MLSPF':             Adj Close\n",
       "  Date                 \n",
       "  2008-07-29   3.063405\n",
       "  2008-07-30   3.063405\n",
       "  2008-07-31   3.063405\n",
       "  2008-08-01   3.063405\n",
       "  2008-08-04   3.063405\n",
       "  ...               ...\n",
       "  2018-08-09   2.573445\n",
       "  2018-08-10   2.573445\n",
       "  2018-08-13   2.573445\n",
       "  2018-08-14   2.648037\n",
       "  2018-08-15   2.648037\n",
       "  \n",
       "  [2531 rows x 1 columns],\n",
       "  'MLSYY': Empty DataFrame\n",
       "  Columns: [Adj Close]\n",
       "  Index: [],\n",
       "  'MONDY': Empty DataFrame\n",
       "  Columns: [Adj Close]\n",
       "  Index: [],\n",
       "  'MONDF': Empty DataFrame\n",
       "  Columns: [Adj Close]\n",
       "  Index: [],\n",
       "  'NGG':             Adj Close\n",
       "  Date                 \n",
       "  2005-08-10  16.003050\n",
       "  2005-08-11  15.941918\n",
       "  2005-08-12  15.846824\n",
       "  2005-08-15  16.081160\n",
       "  2005-08-16  15.938519\n",
       "  ...               ...\n",
       "  2018-08-09  38.190636\n",
       "  2018-08-10  38.053310\n",
       "  2018-08-13  38.205090\n",
       "  2018-08-14  38.183407\n",
       "  2018-08-15  38.183407\n",
       "  \n",
       "  [3277 rows x 1 columns],\n",
       "  'NGGTF':             Adj Close\n",
       "  Date                 \n",
       "  2010-06-07   4.407103\n",
       "  2010-06-08   4.407103\n",
       "  2010-06-09   4.407103\n",
       "  2010-06-10   4.407103\n",
       "  2010-06-11   4.407103\n",
       "  ...               ...\n",
       "  2018-08-09   8.715113\n",
       "  2018-08-10   8.463794\n",
       "  2018-08-13   8.463794\n",
       "  2018-08-14   8.463794\n",
       "  2018-08-15   8.431364\n",
       "  \n",
       "  [2064 rows x 1 columns],\n",
       "  'NXGPF':             Adj Close\n",
       "  Date                 \n",
       "  2009-02-13  12.310751\n",
       "  2009-02-17  12.310751\n",
       "  2009-02-18  10.923628\n",
       "  2009-02-19  11.131694\n",
       "  2009-02-20  10.680879\n",
       "  ...               ...\n",
       "  2018-08-09  69.699738\n",
       "  2018-08-10  69.699738\n",
       "  2018-08-13  69.699738\n",
       "  2018-08-14  69.699738\n",
       "  2018-08-15  69.699738\n",
       "  \n",
       "  [2393 rows x 1 columns],\n",
       "  'NXGPY': Empty DataFrame\n",
       "  Columns: [Adj Close]\n",
       "  Index: [],\n",
       "  'OCDGF':             Adj Close\n",
       "  Date                 \n",
       "  2012-02-01       1.40\n",
       "  2012-02-02       1.40\n",
       "  2012-02-03       1.40\n",
       "  2012-02-06       1.60\n",
       "  2012-02-07       1.60\n",
       "  ...               ...\n",
       "  2018-08-09      13.79\n",
       "  2018-08-10      13.54\n",
       "  2018-08-13      13.54\n",
       "  2018-08-14      13.50\n",
       "  2018-08-15      13.03\n",
       "  \n",
       "  [1646 rows x 1 columns],\n",
       "  'OCDDY':             Adj Close\n",
       "  Date                 \n",
       "  2017-01-27       6.25\n",
       "  2017-01-30       6.25\n",
       "  2017-01-31       6.25\n",
       "  2017-02-01       6.25\n",
       "  2017-02-02       6.25\n",
       "  ...               ...\n",
       "  2018-08-09      27.50\n",
       "  2018-08-10      27.50\n",
       "  2018-08-13      27.50\n",
       "  2018-08-14      27.50\n",
       "  2018-08-15      27.50\n",
       "  \n",
       "  [391 rows x 1 columns],\n",
       "  'PDYPY': Empty DataFrame\n",
       "  Columns: [Adj Close]\n",
       "  Index: [],\n",
       "  'PSO':             Adj Close\n",
       "  Date                 \n",
       "  2000-01-03  13.736914\n",
       "  2000-01-04  13.736914\n",
       "  2000-01-05  13.013921\n",
       "  2000-01-06  12.394212\n",
       "  2000-01-07  11.774499\n",
       "  ...               ...\n",
       "  2018-08-09   9.893448\n",
       "  2018-08-10   9.859683\n",
       "  2018-08-13   9.817475\n",
       "  2018-08-14   9.885007\n",
       "  2018-08-15   9.783710\n",
       "  \n",
       "  [4685 rows x 1 columns],\n",
       "  'PSORF':             Adj Close\n",
       "  Date                 \n",
       "  2012-02-22  13.014040\n",
       "  2012-02-23  13.007283\n",
       "  2012-02-24  13.345135\n",
       "  2012-02-27  13.345135\n",
       "  2012-02-28  13.345135\n",
       "  ...               ...\n",
       "  2018-08-09   9.563441\n",
       "  2018-08-10   9.563441\n",
       "  2018-08-13   9.563441\n",
       "  2018-08-14   9.563441\n",
       "  2018-08-15   9.563441\n",
       "  \n",
       "  [1632 rows x 1 columns],\n",
       "  'PSMMY':             Adj Close\n",
       "  Date                 \n",
       "  2014-01-02  19.933834\n",
       "  2014-01-03  19.991119\n",
       "  2014-01-06  20.339575\n",
       "  2014-01-07  20.392084\n",
       "  2014-01-08  20.473232\n",
       "  ...               ...\n",
       "  2018-08-09  39.231155\n",
       "  2018-08-10  39.464314\n",
       "  2018-08-13  39.218884\n",
       "  2018-08-14  38.562374\n",
       "  2018-08-15  37.844505\n",
       "  \n",
       "  [1164 rows x 1 columns],\n",
       "  'PSMMF':             Adj Close\n",
       "  Date                 \n",
       "  2012-08-17   5.916767\n",
       "  2012-08-20   5.916767\n",
       "  2012-08-21   5.916767\n",
       "  2012-08-22   5.916767\n",
       "  2012-08-23   5.916767\n",
       "  ...               ...\n",
       "  2018-08-09  21.051790\n",
       "  2018-08-10  21.051790\n",
       "  2018-08-13  21.051790\n",
       "  2018-08-14  21.051790\n",
       "  2018-08-15  21.051790\n",
       "  \n",
       "  [1508 rows x 1 columns],\n",
       "  'PNXGF':             Adj Close\n",
       "  Date                 \n",
       "  2013-03-15   4.375570\n",
       "  2013-03-18   4.375570\n",
       "  2013-03-19   4.375570\n",
       "  2013-03-20   4.375570\n",
       "  2013-03-21   4.375570\n",
       "  ...               ...\n",
       "  2018-08-09   5.987997\n",
       "  2018-08-10   5.987997\n",
       "  2018-08-13   5.987997\n",
       "  2018-08-14   5.987997\n",
       "  2018-08-15   5.987997\n",
       "  \n",
       "  [1366 rows x 1 columns],\n",
       "  'PUKPF':             Adj Close\n",
       "  Date                 \n",
       "  2010-10-15   8.274171\n",
       "  2010-10-18   8.274171\n",
       "  2010-10-19   8.274171\n",
       "  2010-10-20   8.274171\n",
       "  2010-10-21   8.274171\n",
       "  ...               ...\n",
       "  2018-08-09  21.139883\n",
       "  2018-08-10  20.680317\n",
       "  2018-08-13  20.680317\n",
       "  2018-08-14  20.680317\n",
       "  2018-08-15  20.680317\n",
       "  \n",
       "  [1972 rows x 1 columns],\n",
       "  'PUK':             Adj Close\n",
       "  Date                 \n",
       "  2000-06-29  10.914194\n",
       "  2000-06-30  11.279627\n",
       "  2000-07-03  11.596331\n",
       "  2000-07-05  11.255262\n",
       "  2000-07-06  11.230899\n",
       "  ...               ...\n",
       "  2018-08-09  34.812569\n",
       "  2018-08-10  33.987419\n",
       "  2018-08-13  33.712368\n",
       "  2018-08-14  33.273762\n",
       "  2018-08-15  32.233032\n",
       "  \n",
       "  [4561 rows x 1 columns],\n",
       "  'RBGLY':             Adj Close\n",
       "  Date                 \n",
       "  2008-10-15   5.397957\n",
       "  2008-10-16   4.961129\n",
       "  2008-10-17   5.135861\n",
       "  2008-10-20   5.460363\n",
       "  2008-10-21   5.148342\n",
       "  ...               ...\n",
       "  2018-08-09  14.477066\n",
       "  2018-08-10  14.263927\n",
       "  2018-08-13  14.190147\n",
       "  2018-08-14  14.304914\n",
       "  2018-08-15  14.140962\n",
       "  \n",
       "  [2476 rows x 1 columns],\n",
       "  'RELX':             Adj Close\n",
       "  Date                 \n",
       "  2000-01-03   3.847668\n",
       "  2000-01-04   3.952530\n",
       "  2000-01-05   3.936399\n",
       "  2000-01-06   3.904132\n",
       "  2000-01-07   3.839601\n",
       "  ...               ...\n",
       "  2018-08-09  19.143570\n",
       "  2018-08-10  18.847044\n",
       "  2018-08-13  18.873205\n",
       "  2018-08-14  18.864483\n",
       "  2018-08-15  18.759829\n",
       "  \n",
       "  [4685 rows x 1 columns],\n",
       "  'RLXXF':             Adj Close\n",
       "  Date                 \n",
       "  2015-08-07  15.855992\n",
       "  2015-08-10  15.534278\n",
       "  2015-08-11  15.414785\n",
       "  2015-08-12  15.414785\n",
       "  2015-08-13  15.616087\n",
       "  ...               ...\n",
       "  2018-08-09  20.451935\n",
       "  2018-08-10  19.808502\n",
       "  2018-08-13  19.808502\n",
       "  2018-08-14  19.808502\n",
       "  2018-08-15  19.808502\n",
       "  \n",
       "  [762 rows x 1 columns],\n",
       "  'RTOKY': Empty DataFrame\n",
       "  Columns: [Adj Close]\n",
       "  Index: [],\n",
       "  'RKLIF':             Adj Close\n",
       "  Date                 \n",
       "  2005-07-14   2.603292\n",
       "  2005-07-15   2.603292\n",
       "  2005-07-18   2.548743\n",
       "  2005-07-19   2.548743\n",
       "  2005-07-20   2.548743\n",
       "  ...               ...\n",
       "  2018-08-09   4.260446\n",
       "  2018-08-10   4.260446\n",
       "  2018-08-13   3.978298\n",
       "  2018-08-14   3.978298\n",
       "  2018-08-15   3.978298\n",
       "  \n",
       "  [3296 rows x 1 columns],\n",
       "  'RTO':             Adj Close\n",
       "  Date                 \n",
       "  2000-01-03  11.534008\n",
       "  2000-01-04  12.037172\n",
       "  2000-01-05  11.650123\n",
       "  2000-01-06  12.153281\n",
       "  2000-01-07  13.464406\n",
       "  ...               ...\n",
       "  2018-08-09  20.403358\n",
       "  2018-08-10  20.213331\n",
       "  2018-08-13  20.120186\n",
       "  2018-08-14  20.250593\n",
       "  2018-08-15  20.064299\n",
       "  \n",
       "  [4685 rows x 1 columns],\n",
       "  'RTMVY':             Adj Close\n",
       "  Date                 \n",
       "  2012-10-17   4.285670\n",
       "  2012-10-18   4.285670\n",
       "  2012-10-19   4.285670\n",
       "  2012-10-22   4.285670\n",
       "  2012-10-23   4.285670\n",
       "  ...               ...\n",
       "  2018-08-09  11.288306\n",
       "  2018-08-10  11.436372\n",
       "  2018-08-13  11.140241\n",
       "  2018-08-14  11.119088\n",
       "  2018-08-15  11.090883\n",
       "  \n",
       "  [1466 rows x 1 columns],\n",
       "  'RYCEF':             Adj Close\n",
       "  Date                 \n",
       "  2009-02-13    4.30052\n",
       "  2009-02-17    4.30052\n",
       "  2009-02-18    4.30052\n",
       "  2009-02-19    4.30052\n",
       "  2009-02-20    4.30052\n",
       "  ...               ...\n",
       "  2018-08-09   14.10000\n",
       "  2018-08-10   13.27000\n",
       "  2018-08-13   13.41000\n",
       "  2018-08-14   13.40000\n",
       "  2018-08-15   12.70000\n",
       "  \n",
       "  [2393 rows x 1 columns],\n",
       "  'RYCEY':             Adj Close\n",
       "  Date                 \n",
       "  2000-01-03   2.170321\n",
       "  2000-01-04   2.213439\n",
       "  2000-01-05   2.155947\n",
       "  2000-01-06   2.170321\n",
       "  2000-01-07   2.206253\n",
       "  ...               ...\n",
       "  2018-08-09  13.629587\n",
       "  2018-08-10  12.968236\n",
       "  2018-08-13  12.853218\n",
       "  2018-08-14  12.824463\n",
       "  2018-08-15  12.402732\n",
       "  \n",
       "  [4685 rows x 1 columns],\n",
       "  'RBS': Empty DataFrame\n",
       "  Columns: [Adj Close]\n",
       "  Index: [],\n",
       "  'NWG':              Adj Close\n",
       "  Date                  \n",
       "  2007-10-18  114.757950\n",
       "  2007-10-19  111.673630\n",
       "  2007-10-22  112.205399\n",
       "  2007-10-23  113.481674\n",
       "  2007-10-24  114.332512\n",
       "  ...                ...\n",
       "  2018-08-09    4.337420\n",
       "  2018-08-10    4.231469\n",
       "  2018-08-13    4.171870\n",
       "  2018-08-14    4.152004\n",
       "  2018-08-15    4.085783\n",
       "  \n",
       "  [2726 rows x 1 columns],\n",
       "  'RBSPF':             Adj Close\n",
       "  Date                 \n",
       "  2009-02-13   0.168831\n",
       "  2009-02-17   0.162578\n",
       "  2009-02-18   0.162578\n",
       "  2009-02-19   0.156325\n",
       "  2009-02-20   0.156325\n",
       "  ...               ...\n",
       "  2018-08-09   2.151036\n",
       "  2018-08-10   1.925928\n",
       "  2018-08-13   2.000964\n",
       "  2018-08-14   1.975952\n",
       "  2018-08-15   1.950940\n",
       "  \n",
       "  [2393 rows x 1 columns],\n",
       "  'SGPYY':             Adj Close\n",
       "  Date                 \n",
       "  2007-10-04  12.826406\n",
       "  2007-10-05  12.668833\n",
       "  2007-10-08  12.826406\n",
       "  2007-10-09  12.794892\n",
       "  2007-10-10  12.920947\n",
       "  ...               ...\n",
       "  2018-08-09  30.828424\n",
       "  2018-08-10  29.905315\n",
       "  2018-08-13  29.530842\n",
       "  2018-08-14  29.757273\n",
       "  2018-08-15  29.853065\n",
       "  \n",
       "  [2736 rows x 1 columns],\n",
       "  'SGGEF':             Adj Close\n",
       "  Date                 \n",
       "  2010-10-15   3.301436\n",
       "  2010-10-18   3.416603\n",
       "  2010-10-19   3.263048\n",
       "  2010-10-20   3.263048\n",
       "  2010-10-21   3.378214\n",
       "  ...               ...\n",
       "  2018-08-09   7.446730\n",
       "  2018-08-10   7.377296\n",
       "  2018-08-13   7.377296\n",
       "  2018-08-14   7.377296\n",
       "  2018-08-15   7.203712\n",
       "  \n",
       "  [1972 rows x 1 columns],\n",
       "  'JSAIY':             Adj Close\n",
       "  Date                 \n",
       "  2008-01-30  14.456225\n",
       "  2008-01-31  14.599673\n",
       "  2008-02-01  14.576538\n",
       "  2008-02-04  14.201714\n",
       "  2008-02-05  13.600143\n",
       "  ...               ...\n",
       "  2018-08-09  12.898980\n",
       "  2018-08-10  12.653358\n",
       "  2018-08-13  12.601256\n",
       "  2018-08-14  12.653358\n",
       "  2018-08-15  12.452392\n",
       "  \n",
       "  [2656 rows x 1 columns],\n",
       "  'JSNSF':             Adj Close\n",
       "  Date                 \n",
       "  2010-10-15   3.611955\n",
       "  2010-10-18   3.611955\n",
       "  2010-10-19   3.522402\n",
       "  2010-10-20   3.522402\n",
       "  2010-10-21   3.546283\n",
       "  ...               ...\n",
       "  2018-08-09   3.182945\n",
       "  2018-08-10   3.182945\n",
       "  2018-08-13   3.182945\n",
       "  2018-08-14   3.182945\n",
       "  2018-08-15   3.182945\n",
       "  \n",
       "  [1972 rows x 1 columns],\n",
       "  'SHNWF':             Adj Close\n",
       "  Date                 \n",
       "  2001-10-16   7.142122\n",
       "  2001-10-17   7.142122\n",
       "  2001-10-18   7.142122\n",
       "  2001-10-19   7.142122\n",
       "  2001-10-22   7.142122\n",
       "  ...               ...\n",
       "  2018-08-09  31.951269\n",
       "  2018-08-10  31.951269\n",
       "  2018-08-13  31.951269\n",
       "  2018-08-14  31.951269\n",
       "  2018-08-15  30.533632\n",
       "  \n",
       "  [4238 rows x 1 columns],\n",
       "  'SHNWD': Empty DataFrame\n",
       "  Columns: [Adj Close]\n",
       "  Index: [],\n",
       "  'STMZF':             Adj Close\n",
       "  Date                 \n",
       "  2003-09-19     4.7000\n",
       "  2003-09-24     4.5000\n",
       "  2004-03-11     5.5000\n",
       "  2004-05-13     5.0000\n",
       "  2004-09-23     5.7000\n",
       "  2004-10-15     5.6530\n",
       "  2004-10-29     5.9000\n",
       "  2004-12-07     6.2000\n",
       "  2004-12-08     6.3500\n",
       "  2004-12-09     6.0900\n",
       "  2005-09-14     7.2000\n",
       "  2007-03-06     9.8500\n",
       "  2007-05-16    11.3000\n",
       "  2007-05-31    11.5000\n",
       "  2007-06-14    11.5000\n",
       "  2008-11-07     5.5000\n",
       "  2009-09-18     8.0000\n",
       "  2009-10-09     8.2500\n",
       "  2009-10-26     8.4500\n",
       "  2009-11-03     8.0500\n",
       "  2012-03-29    11.0800\n",
       "  2012-05-15    10.4500\n",
       "  2012-07-09    10.4700\n",
       "  2012-10-03    11.2500\n",
       "  2012-11-01    11.3000\n",
       "  2012-11-23    11.2000\n",
       "  2012-11-26    11.1600\n",
       "  2013-03-14    12.8000\n",
       "  2013-03-27    12.1000\n",
       "  2013-04-24    12.1500\n",
       "  2014-12-15     3.7400\n",
       "  2015-07-17     4.1500\n",
       "  2015-12-21     4.1200\n",
       "  2016-01-14     3.6600\n",
       "  2016-03-03     3.6000\n",
       "  2016-10-11     4.0500\n",
       "  2016-12-01     4.0000\n",
       "  2016-12-05     3.9200\n",
       "  2017-01-06     4.3100\n",
       "  2017-02-10     4.3200\n",
       "  2017-06-09     5.2500\n",
       "  2017-06-22     5.3500\n",
       "  2017-08-30     5.4500\n",
       "  2017-12-07     5.7000\n",
       "  2017-12-13     5.8500\n",
       "  2018-01-11     6.2800\n",
       "  2018-04-26     6.5000\n",
       "  2018-06-07     7.0200\n",
       "  2018-07-02     6.9327\n",
       "  2018-07-20     7.2500\n",
       "  2018-08-01     7.1700\n",
       "  2018-08-13     7.0000,\n",
       "  'ESGRO': Empty DataFrame\n",
       "  Columns: [Adj Close]\n",
       "  Index: [],\n",
       "  'SEGXF':             Adj Close\n",
       "  Date                 \n",
       "  2007-09-25   8.190112\n",
       "  2007-09-26   8.190112\n",
       "  2007-09-27   8.190112\n",
       "  2007-09-28   8.190112\n",
       "  2007-10-01   8.190112\n",
       "  ...               ...\n",
       "  2018-08-09   7.702371\n",
       "  2018-08-10   7.702371\n",
       "  2018-08-13   7.702371\n",
       "  2018-08-14   7.702371\n",
       "  2018-08-15   7.702371\n",
       "  \n",
       "  [2743 rows x 1 columns],\n",
       "  'STRNY':             Adj Close\n",
       "  Date                 \n",
       "  2010-10-15  11.375504\n",
       "  2010-10-18  11.746618\n",
       "  2010-10-19  11.746618\n",
       "  2010-10-20  11.746618\n",
       "  2010-10-21  11.746618\n",
       "  ...               ...\n",
       "  2018-08-09  19.286686\n",
       "  2018-08-10  19.278885\n",
       "  2018-08-13  19.278885\n",
       "  2018-08-14  19.747009\n",
       "  2018-08-15  19.957664\n",
       "  \n",
       "  [1972 rows x 1 columns],\n",
       "  'SVTRF':             Adj Close\n",
       "  Date                 \n",
       "  2010-10-15  13.502531\n",
       "  2010-10-18  13.502531\n",
       "  2010-10-19  13.375451\n",
       "  2010-10-20  13.743985\n",
       "  2010-10-21  14.010860\n",
       "  ...               ...\n",
       "  2018-08-09  19.230923\n",
       "  2018-08-10  19.230923\n",
       "  2018-08-13  19.230923\n",
       "  2018-08-14  19.570742\n",
       "  2018-08-15  19.501238\n",
       "  \n",
       "  [1972 rows x 1 columns],\n",
       "  'SNN':             Adj Close\n",
       "  Date                 \n",
       "  2000-01-03   4.295828\n",
       "  2000-01-04   4.391645\n",
       "  2000-01-05   4.399631\n",
       "  2000-01-06   4.399631\n",
       "  2000-01-07   4.423586\n",
       "  ...               ...\n",
       "  2018-08-09  30.686695\n",
       "  2018-08-10  30.282358\n",
       "  2018-08-13  30.368397\n",
       "  2018-08-14  30.471632\n",
       "  2018-08-15  30.273762\n",
       "  \n",
       "  [4685 rows x 1 columns],\n",
       "  'SNNUF':             Adj Close\n",
       "  Date                 \n",
       "  2009-04-21   5.285752\n",
       "  2009-04-22   5.285752\n",
       "  2009-04-23   5.285752\n",
       "  2009-04-24   5.285752\n",
       "  2009-04-27   5.285752\n",
       "  ...               ...\n",
       "  2018-08-09  15.220904\n",
       "  2018-08-10  15.090810\n",
       "  2018-08-13  15.090810\n",
       "  2018-08-14  15.090810\n",
       "  2018-08-15  14.743894\n",
       "  \n",
       "  [2348 rows x 1 columns],\n",
       "  'SMGZY':             Adj Close\n",
       "  Date                 \n",
       "  2010-11-02  12.923974\n",
       "  2010-11-03  12.846834\n",
       "  2010-11-04  12.846834\n",
       "  2010-11-05  12.846834\n",
       "  2010-11-08  12.846834\n",
       "  ...               ...\n",
       "  2018-08-09  17.576256\n",
       "  2018-08-10  17.193258\n",
       "  2018-08-13  17.134975\n",
       "  2018-08-14  16.951803\n",
       "  2018-08-15  16.818588\n",
       "  \n",
       "  [1960 rows x 1 columns],\n",
       "  'SMGKF':             Adj Close\n",
       "  Date                 \n",
       "  2010-06-09  10.442801\n",
       "  2010-06-10  10.442801\n",
       "  2010-06-11  10.442801\n",
       "  2010-06-14  10.442801\n",
       "  2010-06-15  10.442801\n",
       "  ...               ...\n",
       "  2018-08-09  17.638105\n",
       "  2018-08-10  17.638105\n",
       "  2018-08-13  17.638105\n",
       "  2018-08-14  17.638105\n",
       "  2018-08-15  17.638105\n",
       "  \n",
       "  [2062 rows x 1 columns],\n",
       "  'SMFTF':             Adj Close\n",
       "  Date                 \n",
       "  2009-10-01   5.462832\n",
       "  2009-10-02   5.462832\n",
       "  2009-10-05   5.462832\n",
       "  2009-10-06   5.462832\n",
       "  2009-10-07   5.462832\n",
       "  ...               ...\n",
       "  2018-08-09  34.482109\n",
       "  2018-08-10  34.482109\n",
       "  2018-08-13  34.482109\n",
       "  2018-08-14  34.482109\n",
       "  2018-08-15  32.612896\n",
       "  \n",
       "  [2234 rows x 1 columns],\n",
       "  'SMFKY': Empty DataFrame\n",
       "  Columns: [Adj Close]\n",
       "  Index: [],\n",
       "  'SPXSF':             Adj Close\n",
       "  Date                 \n",
       "  2011-04-21  28.104872\n",
       "  2011-04-25  28.198298\n",
       "  2011-04-26  28.198298\n",
       "  2011-04-27  27.901028\n",
       "  2011-04-28  27.901028\n",
       "  ...               ...\n",
       "  2018-08-09  81.733459\n",
       "  2018-08-10  81.733459\n",
       "  2018-08-13  81.733459\n",
       "  2018-08-14  81.733459\n",
       "  2018-08-15  81.733459\n",
       "  \n",
       "  [1842 rows x 1 columns],\n",
       "  'SPXSY': Empty DataFrame\n",
       "  Columns: [Adj Close]\n",
       "  Index: [],\n",
       "  'STJPF':             Adj Close\n",
       "  Date                 \n",
       "  2015-01-29   8.858444\n",
       "  2015-01-30   8.954507\n",
       "  2015-02-02   9.078017\n",
       "  2015-02-03   9.078017\n",
       "  2015-02-04   9.153494\n",
       "  ...               ...\n",
       "  2018-08-09  11.346940\n",
       "  2018-08-10  11.143374\n",
       "  2018-08-13  11.192380\n",
       "  2018-08-14  10.951118\n",
       "  2018-08-15  10.758860\n",
       "  \n",
       "  [894 rows x 1 columns],\n",
       "  'SCBFF':             Adj Close\n",
       "  Date                 \n",
       "  2009-02-13   9.381577\n",
       "  2009-02-17   8.582251\n",
       "  2009-02-18   8.371901\n",
       "  2009-02-19   8.430799\n",
       "  2009-02-20   7.883890\n",
       "  ...               ...\n",
       "  2018-08-09   7.792787\n",
       "  2018-08-10   7.792787\n",
       "  2018-08-13   7.641901\n",
       "  2018-08-14   7.508769\n",
       "  2018-08-15   7.260251\n",
       "  \n",
       "  [2393 rows x 1 columns],\n",
       "  'SCBFY': Empty DataFrame\n",
       "  Columns: [Adj Close]\n",
       "  Index: [],\n",
       "  'TWODF':             Adj Close\n",
       "  Date                 \n",
       "  2010-02-22   0.301396\n",
       "  2010-02-23   0.301396\n",
       "  2010-02-24   0.316721\n",
       "  2010-02-25   0.296288\n",
       "  2010-02-26   0.296288\n",
       "  ...               ...\n",
       "  2018-08-09   1.475598\n",
       "  2018-08-10   1.475598\n",
       "  2018-08-13   1.475598\n",
       "  2018-08-14   1.455476\n",
       "  2018-08-15   1.455476\n",
       "  \n",
       "  [2137 rows x 1 columns],\n",
       "  'TWODY': Empty DataFrame\n",
       "  Columns: [Adj Close]\n",
       "  Index: [],\n",
       "  'TSCDY':             Adj Close\n",
       "  Date                 \n",
       "  2000-01-03   5.553475\n",
       "  2000-01-04   5.553475\n",
       "  2000-01-05   5.553475\n",
       "  2000-01-06   5.553475\n",
       "  2000-01-07   5.553475\n",
       "  ...               ...\n",
       "  2018-08-09  10.109216\n",
       "  2018-08-10  10.079424\n",
       "  2018-08-13   9.930466\n",
       "  2018-08-14   9.811302\n",
       "  2018-08-15   9.582901\n",
       "  \n",
       "  [4685 rows x 1 columns],\n",
       "  'TSCDF':             Adj Close\n",
       "  Date                 \n",
       "  2008-01-03   6.935369\n",
       "  2008-01-04   6.707981\n",
       "  2008-01-07   6.745879\n",
       "  2008-01-08   6.707981\n",
       "  2008-01-09   6.707981\n",
       "  ...               ...\n",
       "  2018-08-09   2.684629\n",
       "  2018-08-10   2.676591\n",
       "  2018-08-13   2.684629\n",
       "  2018-08-14   2.684629\n",
       "  2018-08-15   2.564062\n",
       "  \n",
       "  [2674 rows x 1 columns],\n",
       "  'UL':             Adj Close\n",
       "  Date                 \n",
       "  2000-01-03   7.218082\n",
       "  2000-01-04   7.113037\n",
       "  2000-01-05   7.413170\n",
       "  2000-01-06   7.563230\n",
       "  2000-01-07   7.983410\n",
       "  ...               ...\n",
       "  2018-08-09  46.234444\n",
       "  2018-08-10  45.242424\n",
       "  2018-08-13  45.445702\n",
       "  2018-08-14  45.551411\n",
       "  2018-08-15  45.388794\n",
       "  \n",
       "  [4685 rows x 1 columns],\n",
       "  'UNLYF':             Adj Close\n",
       "  Date                 \n",
       "  2010-04-05  21.019300\n",
       "  2010-04-06  21.019300\n",
       "  2010-04-07  21.019300\n",
       "  2010-04-08  21.019300\n",
       "  2010-04-09  21.019300\n",
       "  ...               ...\n",
       "  2018-08-09  46.617619\n",
       "  2018-08-10  46.617619\n",
       "  2018-08-13  46.617619\n",
       "  2018-08-14  45.888317\n",
       "  2018-08-15  45.888317\n",
       "  \n",
       "  [2108 rows x 1 columns],\n",
       "  'UN': Empty DataFrame\n",
       "  Columns: [Adj Close]\n",
       "  Index: [],\n",
       "  'UUGRY':             Adj Close\n",
       "  Date                 \n",
       "  2000-01-03   4.995940\n",
       "  2000-01-04   4.995940\n",
       "  2000-01-05   4.995940\n",
       "  2000-01-06   4.995940\n",
       "  2000-01-07   5.278729\n",
       "  ...               ...\n",
       "  2018-08-09  14.651991\n",
       "  2018-08-10  14.476473\n",
       "  2018-08-13  14.430686\n",
       "  2018-08-14  14.629099\n",
       "  2018-08-15  14.560415\n",
       "  \n",
       "  [4685 rows x 1 columns],\n",
       "  'VOD':             Adj Close\n",
       "  Date                 \n",
       "  2000-01-03  17.386530\n",
       "  2000-01-04  16.552328\n",
       "  2000-01-05  16.157177\n",
       "  2000-01-06  15.827884\n",
       "  2000-01-07  16.157177\n",
       "  ...               ...\n",
       "  2018-08-09  15.783205\n",
       "  2018-08-10  15.437966\n",
       "  2018-08-13  15.288144\n",
       "  2018-08-14  15.092730\n",
       "  2018-08-15  14.806114\n",
       "  \n",
       "  [4685 rows x 1 columns],\n",
       "  'VODPF':             Adj Close\n",
       "  Date                 \n",
       "  2008-01-02   1.983794\n",
       "  2008-01-03   2.022911\n",
       "  2008-01-04   2.022911\n",
       "  2008-01-07   2.022911\n",
       "  2008-01-08   2.129086\n",
       "  ...               ...\n",
       "  2018-08-09   1.740510\n",
       "  2018-08-10   1.740510\n",
       "  2018-08-13   1.647396\n",
       "  2018-08-14   1.625909\n",
       "  2018-08-15   1.604421\n",
       "  \n",
       "  [2675 rows x 1 columns],\n",
       "  'WTBDY':             Adj Close\n",
       "  Date                 \n",
       "  2013-02-12   7.157656\n",
       "  2013-02-13   7.157656\n",
       "  2013-02-14   7.157656\n",
       "  2013-02-15   7.157656\n",
       "  2013-02-19   7.157656\n",
       "  ...               ...\n",
       "  2018-08-09   9.579006\n",
       "  2018-08-10   9.556696\n",
       "  2018-08-13   9.407954\n",
       "  2018-08-14   9.654866\n",
       "  2018-08-15   9.482326\n",
       "  \n",
       "  [1388 rows x 1 columns],\n",
       "  'WTBCF':             Adj Close\n",
       "  Date                 \n",
       "  2012-08-03  26.946348\n",
       "  2012-08-06  26.946348\n",
       "  2012-08-07  26.946348\n",
       "  2012-08-08  26.946348\n",
       "  2012-08-09  26.946348\n",
       "  ...               ...\n",
       "  2018-08-09  45.735889\n",
       "  2018-08-10  44.971375\n",
       "  2018-08-13  44.971375\n",
       "  2018-08-14  44.971375\n",
       "  2018-08-15  44.971375\n",
       "  \n",
       "  [1518 rows x 1 columns],\n",
       "  'WP': Empty DataFrame\n",
       "  Columns: [Adj Close]\n",
       "  Index: [],\n",
       "  'WPPGF':             Adj Close\n",
       "  Date                 \n",
       "  2012-09-25   9.096923\n",
       "  2012-09-26   9.096923\n",
       "  2012-09-27   8.826005\n",
       "  2012-09-28   8.826005\n",
       "  2012-10-01   8.826005\n",
       "  ...               ...\n",
       "  2018-08-09  12.005356\n",
       "  2018-08-10  11.851935\n",
       "  2018-08-13  11.851935\n",
       "  2018-08-14  11.775225\n",
       "  2018-08-15  11.775225\n",
       "  \n",
       "  [1482 rows x 1 columns],\n",
       "  'WPP':             Adj Close\n",
       "  Date                 \n",
       "  2000-01-03  37.906769\n",
       "  2000-01-04  37.846401\n",
       "  2000-01-05  35.613052\n",
       "  2000-01-06  33.862587\n",
       "  2000-01-07  35.703594\n",
       "  ...               ...\n",
       "  2018-08-09  56.418270\n",
       "  2018-08-10  56.830555\n",
       "  2018-08-13  56.570179\n",
       "  2018-08-14  56.280830\n",
       "  2018-08-15  57.394753\n",
       "  \n",
       "  [4685 rows x 1 columns],\n",
       "  'AVEVF': Empty DataFrame\n",
       "  Columns: [Adj Close]\n",
       "  Index: [],\n",
       "  'AVVYY': Empty DataFrame\n",
       "  Columns: [Adj Close]\n",
       "  Index: [],\n",
       "  'BMRRY':             Adj Close\n",
       "  Date                 \n",
       "  2016-04-12  10.795328\n",
       "  2016-04-13  11.079232\n",
       "  2016-04-14  11.079232\n",
       "  2016-04-15  11.079232\n",
       "  2016-04-18  11.356213\n",
       "  ...               ...\n",
       "  2018-08-09  15.511341\n",
       "  2018-08-10  15.264564\n",
       "  2018-08-13  15.057128\n",
       "  2018-08-14  15.035668\n",
       "  2018-08-15  14.935527\n",
       "  \n",
       "  [592 rows x 1 columns],\n",
       "  'BMRPF': Empty DataFrame\n",
       "  Columns: [Adj Close]\n",
       "  Index: [],\n",
       "  'GMVHF':             Adj Close\n",
       "  Date                 \n",
       "  2005-03-08  14.061849\n",
       "  2005-03-09  14.061849\n",
       "  2005-03-10  14.986594\n",
       "  2005-03-11  14.986594\n",
       "  2005-03-14  15.587202\n",
       "  ...               ...\n",
       "  2018-08-09  14.099982\n",
       "  2018-08-10  14.099982\n",
       "  2018-08-13  13.475541\n",
       "  2018-08-14  13.384974\n",
       "  2018-08-15  13.384974\n",
       "  \n",
       "  [3385 rows x 1 columns],\n",
       "  'GMVHY': Empty DataFrame\n",
       "  Columns: [Adj Close]\n",
       "  Index: [],\n",
       "  'ICGUF': Empty DataFrame\n",
       "  Columns: [Adj Close]\n",
       "  Index: [],\n",
       "  'JDSPY':             Adj Close\n",
       "  Date                 \n",
       "  2018-07-10   1.239887\n",
       "  2018-07-11   1.180845\n",
       "  2018-07-12   1.180845\n",
       "  2018-07-13   1.180845\n",
       "  2018-07-16   1.180845\n",
       "  2018-07-17   1.180845\n",
       "  2018-07-18   1.180845\n",
       "  2018-07-19   1.180845\n",
       "  2018-07-20   1.180845\n",
       "  2018-07-23   1.180845\n",
       "  2018-07-24   1.180845\n",
       "  2018-07-25   1.180845\n",
       "  2018-07-26   1.180845\n",
       "  2018-07-27   1.180845\n",
       "  2018-07-30   1.180845\n",
       "  2018-07-31   1.180845\n",
       "  2018-08-01   1.180845\n",
       "  2018-08-02   1.180845\n",
       "  2018-08-03   1.180845\n",
       "  2018-08-06   1.180845\n",
       "  2018-08-07   1.180845\n",
       "  2018-08-08   1.180845\n",
       "  2018-08-09   1.180845\n",
       "  2018-08-10   1.180845\n",
       "  2018-08-13   1.180845\n",
       "  2018-08-14   1.180845\n",
       "  2018-08-15   1.180845,\n",
       "  'JDDSF':             Adj Close\n",
       "  Date                 \n",
       "  2017-12-22   0.863096\n",
       "  2017-12-26   0.863096\n",
       "  2017-12-27   0.863096\n",
       "  2017-12-28   0.863096\n",
       "  2017-12-29   0.863096\n",
       "  ...               ...\n",
       "  2018-08-09   1.160223\n",
       "  2018-08-10   1.160223\n",
       "  2018-08-13   1.160223\n",
       "  2018-08-14   1.160223\n",
       "  2018-08-15   1.160223\n",
       "  \n",
       "  [162 rows x 1 columns],\n",
       "  'MGPUF': Empty DataFrame\n",
       "  Columns: [Adj Close]\n",
       "  Index: [],\n",
       "  'RIO':             Adj Close\n",
       "  Date                 \n",
       "  2000-01-03   6.170418\n",
       "  2000-01-04   6.186656\n",
       "  2000-01-05   6.194774\n",
       "  2000-01-06   6.235372\n",
       "  2000-01-07   6.271905\n",
       "  ...               ...\n",
       "  2018-08-09  29.387257\n",
       "  2018-08-10  28.914396\n",
       "  2018-08-13  28.885204\n",
       "  2018-08-14  28.622511\n",
       "  2018-08-15  27.688471\n",
       "  \n",
       "  [4685 rows x 1 columns],\n",
       "  'SSEZY':             Adj Close\n",
       "  Date                 \n",
       "  2010-01-20   8.471225\n",
       "  2010-01-21   8.130504\n",
       "  2010-01-22   8.109208\n",
       "  2010-01-25   8.134764\n",
       "  2010-01-26   8.156059\n",
       "  ...               ...\n",
       "  2018-08-09  11.843624\n",
       "  2018-08-10  11.650053\n",
       "  2018-08-13  11.614208\n",
       "  2018-08-14  11.592699\n",
       "  2018-08-15  11.449314\n",
       "  \n",
       "  [2159 rows x 1 columns],\n",
       "  'DRKTF': Empty DataFrame\n",
       "  Columns: [Adj Close]\n",
       "  Index: [],\n",
       "  'RDS-A': Empty DataFrame\n",
       "  Columns: [Adj Close]\n",
       "  Index: [],\n",
       "  'RDS-B': Empty DataFrame\n",
       "  Columns: [Adj Close]\n",
       "  Index: [],\n",
       "  'RYDAF':             Adj Close\n",
       "  Date                 \n",
       "  2008-06-25  29.959444\n",
       "  2008-06-26  29.959444\n",
       "  2008-06-27  30.601707\n",
       "  2008-06-30  30.601707\n",
       "  2008-07-01  30.601707\n",
       "  ...               ...\n",
       "  2018-08-09  26.296139\n",
       "  2018-08-10  25.088583\n",
       "  2018-08-13  25.819477\n",
       "  2018-08-14  25.144196\n",
       "  2018-08-15  24.429192\n",
       "  \n",
       "  [2554 rows x 1 columns],\n",
       "  'AAFRF': Empty DataFrame\n",
       "  Columns: [Adj Close]\n",
       "  Index: [],\n",
       "  'EDVMF':             Adj Close\n",
       "  Date                 \n",
       "  2004-03-31  27.116037\n",
       "  2004-04-01  27.982365\n",
       "  2004-04-02  26.769508\n",
       "  2004-04-05  26.163078\n",
       "  2004-04-06  25.816547\n",
       "  ...               ...\n",
       "  2018-08-09  14.632262\n",
       "  2018-08-10  14.303061\n",
       "  2018-08-13  14.060489\n",
       "  2018-08-14  13.861234\n",
       "  2018-08-15  12.847631\n",
       "  \n",
       "  [3620 rows x 1 columns],\n",
       "  'HWDJF':             Adj Close\n",
       "  Date                 \n",
       "  2013-06-07   3.122369\n",
       "  2013-06-10   3.122369\n",
       "  2013-06-11   3.122369\n",
       "  2013-06-12   3.122369\n",
       "  2013-06-13   3.122369\n",
       "  ...               ...\n",
       "  2018-08-09   5.485600\n",
       "  2018-08-10   5.485600\n",
       "  2018-08-13   5.485600\n",
       "  2018-08-14   5.485600\n",
       "  2018-08-15   5.309629\n",
       "  \n",
       "  [1308 rows x 1 columns],\n",
       "  'EENEF':             Adj Close\n",
       "  Date                 \n",
       "  2010-01-22   2.217106\n",
       "  2010-01-25   2.217106\n",
       "  2010-01-26   2.217106\n",
       "  2010-01-27   2.217106\n",
       "  2010-01-28   2.217106\n",
       "  ...               ...\n",
       "  2018-08-09   8.521402\n",
       "  2018-08-10   8.521402\n",
       "  2018-08-13   8.521402\n",
       "  2018-08-14   8.521402\n",
       "  2018-08-15   8.521402\n",
       "  \n",
       "  [2157 rows x 1 columns],\n",
       "  'CNVVY': Empty DataFrame\n",
       "  Columns: [Adj Close]\n",
       "  Index: [],\n",
       "  'DPHAY': Empty DataFrame\n",
       "  Columns: [Adj Close]\n",
       "  Index: [],\n",
       "  'DCHPF': Empty DataFrame\n",
       "  Columns: [Adj Close]\n",
       "  Index: [],\n",
       "  'HLNCF': Empty DataFrame\n",
       "  Columns: [Adj Close]\n",
       "  Index: [],\n",
       "  'HLN': Empty DataFrame\n",
       "  Columns: [Adj Close]\n",
       "  Index: [],\n",
       "  'PMOIF':              Adj Close\n",
       "  Date                  \n",
       "  2010-04-26  331.017792\n",
       "  2010-04-27  331.017792\n",
       "  2010-04-28  331.017792\n",
       "  2010-04-29  331.017792\n",
       "  2010-04-30  333.906555\n",
       "  ...                ...\n",
       "  2018-08-09   28.546541\n",
       "  2018-08-10   28.546541\n",
       "  2018-08-13   28.546541\n",
       "  2018-08-14   28.546541\n",
       "  2018-08-15   28.546541\n",
       "  \n",
       "  [2093 rows x 1 columns],\n",
       "  'HBRIY':             Adj Close\n",
       "  Date                 \n",
       "  2000-01-03   0.270493\n",
       "  2000-01-04   0.270493\n",
       "  2000-01-05   0.270493\n",
       "  2000-01-06   0.270493\n",
       "  2000-01-07   0.270493\n",
       "  ...               ...\n",
       "  2018-08-09  25.399233\n",
       "  2018-08-10  25.399233\n",
       "  2018-08-13  25.566334\n",
       "  2018-08-14  25.566334\n",
       "  2018-08-15  23.394032\n",
       "  \n",
       "  [4685 rows x 1 columns],\n",
       "  'HMSVF': Empty DataFrame\n",
       "  Columns: [Adj Close]\n",
       "  Index: [],\n",
       "  'PSHZF':             Adj Close\n",
       "  Date                 \n",
       "  2015-06-09  25.118536\n",
       "  2015-06-10  25.118536\n",
       "  2015-06-11  25.201464\n",
       "  2015-06-12  25.072458\n",
       "  2015-06-15  25.155392\n",
       "  ...               ...\n",
       "  2018-08-09  14.098076\n",
       "  2018-08-10  14.098076\n",
       "  2018-08-13  14.098076\n",
       "  2018-08-14  14.098076\n",
       "  2018-08-15  14.098076\n",
       "  \n",
       "  [804 rows x 1 columns]},\n",
       " 'CAC 40': {'AIQUF':              Adj Close\n",
       "  Date                  \n",
       "  2010-04-05   82.574356\n",
       "  2010-04-06   82.574356\n",
       "  2010-04-07   82.574356\n",
       "  2010-04-08   82.574356\n",
       "  2010-04-09   82.574356\n",
       "  ...                ...\n",
       "  2018-08-09  114.148376\n",
       "  2018-08-10  114.148376\n",
       "  2018-08-13  108.145714\n",
       "  2018-08-14  107.746124\n",
       "  2018-08-15  105.668274\n",
       "  \n",
       "  [2108 rows x 1 columns],\n",
       "  'AIQUY':             Adj Close\n",
       "  Date                 \n",
       "  2007-06-22  10.060905\n",
       "  2007-06-25  10.109040\n",
       "  2007-06-26   9.968637\n",
       "  2007-06-27  10.068926\n",
       "  2007-06-28  10.169214\n",
       "  ...               ...\n",
       "  2018-08-09  20.002079\n",
       "  2018-08-10  19.471048\n",
       "  2018-08-13  19.519323\n",
       "  2018-08-14  19.559555\n",
       "  2018-08-15  19.229673\n",
       "  \n",
       "  [2808 rows x 1 columns],\n",
       "  'MT':             Adj Close\n",
       "  Date                 \n",
       "  2000-01-03  33.778812\n",
       "  2000-01-04  35.119232\n",
       "  2000-01-05  35.789463\n",
       "  2000-01-06  36.995850\n",
       "  2000-01-07  38.470303\n",
       "  ...               ...\n",
       "  2018-08-09  29.455793\n",
       "  2018-08-10  28.432629\n",
       "  2018-08-13  28.094704\n",
       "  2018-08-14  27.869423\n",
       "  2018-08-15  26.508335\n",
       "  \n",
       "  [4685 rows x 1 columns],\n",
       "  'AMSYF':             Adj Close\n",
       "  Date                 \n",
       "  2009-01-08  77.076683\n",
       "  2009-01-09  77.076683\n",
       "  2009-01-12  77.076683\n",
       "  2009-01-13  77.076683\n",
       "  2009-01-14  77.076683\n",
       "  ...               ...\n",
       "  2018-08-09  29.733074\n",
       "  2018-08-10  29.733074\n",
       "  2018-08-13  29.733074\n",
       "  2018-08-14  29.733074\n",
       "  2018-08-15  26.718882\n",
       "  \n",
       "  [2418 rows x 1 columns],\n",
       "  'AXAHF':             Adj Close\n",
       "  Date                 \n",
       "  2010-04-26  12.080713\n",
       "  2010-04-27  12.080713\n",
       "  2010-04-28  12.080713\n",
       "  2010-04-29  12.080713\n",
       "  2010-04-30  12.080713\n",
       "  ...               ...\n",
       "  2018-08-09  18.094805\n",
       "  2018-08-10  17.402653\n",
       "  2018-08-13  17.346151\n",
       "  2018-08-14  17.204895\n",
       "  2018-08-15  17.204895\n",
       "  \n",
       "  [2093 rows x 1 columns],\n",
       "  'AXAHY':             Adj Close\n",
       "  Date                 \n",
       "  2000-01-03  11.476772\n",
       "  2000-01-04  10.998575\n",
       "  2000-01-05  11.248069\n",
       "  2000-01-06  11.060948\n",
       "  2000-01-07  11.622308\n",
       "  ...               ...\n",
       "  2018-08-09  18.241776\n",
       "  2018-08-10  17.673937\n",
       "  2018-08-13  17.496490\n",
       "  2018-08-14  17.425508\n",
       "  2018-08-15  17.255157\n",
       "  \n",
       "  [4685 rows x 1 columns],\n",
       "  'BNPQF':             Adj Close\n",
       "  Date                 \n",
       "  2010-04-05  46.212368\n",
       "  2010-04-06  46.212368\n",
       "  2010-04-07  44.416500\n",
       "  2010-04-08  43.651928\n",
       "  2010-04-09  43.651928\n",
       "  ...               ...\n",
       "  2018-08-09  45.348896\n",
       "  2018-08-10  43.407749\n",
       "  2018-08-13  42.980408\n",
       "  2018-08-14  42.980408\n",
       "  2018-08-15  42.212646\n",
       "  \n",
       "  [2108 rows x 1 columns],\n",
       "  'BNPQY':             Adj Close\n",
       "  Date                 \n",
       "  2003-06-05  11.773202\n",
       "  2003-06-06  11.930179\n",
       "  2003-06-09  11.391974\n",
       "  2003-06-10  11.459249\n",
       "  2003-06-11  12.109579\n",
       "  ...               ...\n",
       "  2018-08-09  22.518070\n",
       "  2018-08-10  21.488630\n",
       "  2018-08-13  21.323059\n",
       "  2018-08-14  21.251068\n",
       "  2018-08-15  21.035101\n",
       "  \n",
       "  [3827 rows x 1 columns],\n",
       "  'BOUYF':             Adj Close\n",
       "  Date                 \n",
       "  2010-12-31  24.650984\n",
       "  2011-01-03  24.650984\n",
       "  2011-01-04  25.376015\n",
       "  2011-01-05  25.376015\n",
       "  2011-01-06  25.376015\n",
       "  ...               ...\n",
       "  2018-08-09  31.914129\n",
       "  2018-08-10  31.112635\n",
       "  2018-08-13  30.347567\n",
       "  2018-08-14  30.347567\n",
       "  2018-08-15  30.347567\n",
       "  \n",
       "  [1919 rows x 1 columns],\n",
       "  'BOUYY': Empty DataFrame\n",
       "  Columns: [Adj Close]\n",
       "  Index: [],\n",
       "  'CAPMF':              Adj Close\n",
       "  Date                  \n",
       "  2010-10-15   44.638897\n",
       "  2010-10-18   44.638897\n",
       "  2010-10-19   44.638897\n",
       "  2010-10-20   44.638897\n",
       "  2010-10-21   44.638897\n",
       "  ...                ...\n",
       "  2018-08-09  115.338867\n",
       "  2018-08-10  115.338867\n",
       "  2018-08-13  115.338867\n",
       "  2018-08-14  114.158882\n",
       "  2018-08-15  114.158882\n",
       "  \n",
       "  [1972 rows x 1 columns],\n",
       "  'CGEMY':             Adj Close\n",
       "  Date                 \n",
       "  2008-01-30   7.613904\n",
       "  2008-01-31   7.334496\n",
       "  2008-02-01   7.977137\n",
       "  2008-02-04   7.963166\n",
       "  2008-02-05   7.432288\n",
       "  ...               ...\n",
       "  2018-08-09  22.957712\n",
       "  2018-08-10  22.684841\n",
       "  2018-08-13  22.793989\n",
       "  2018-08-14  22.884949\n",
       "  2018-08-15  22.721222\n",
       "  \n",
       "  [2656 rows x 1 columns],\n",
       "  'CRERF':             Adj Close\n",
       "  Date                 \n",
       "  2009-02-13  29.567795\n",
       "  2009-02-17  28.193512\n",
       "  2009-02-18  27.860357\n",
       "  2009-02-19  28.818180\n",
       "  2009-02-20  28.318447\n",
       "  ...               ...\n",
       "  2018-08-09  15.072134\n",
       "  2018-08-10  15.072134\n",
       "  2018-08-13  15.072134\n",
       "  2018-08-14  15.072134\n",
       "  2018-08-15  15.072134\n",
       "  \n",
       "  [2393 rows x 1 columns],\n",
       "  'CRRFY':             Adj Close\n",
       "  Date                 \n",
       "  2008-10-21   4.129581\n",
       "  2008-10-22   3.711674\n",
       "  2008-10-23   3.711674\n",
       "  2008-10-24   4.041601\n",
       "  2008-10-27   4.195567\n",
       "  ...               ...\n",
       "  2018-08-09   3.054018\n",
       "  2018-08-10   2.994136\n",
       "  2018-08-13   2.959917\n",
       "  2018-08-14   2.951362\n",
       "  2018-08-15   2.934253\n",
       "  \n",
       "  [2472 rows x 1 columns],\n",
       "  'CRARF':             Adj Close\n",
       "  Date                 \n",
       "  2012-01-17   3.105908\n",
       "  2012-01-18   3.105908\n",
       "  2012-01-19   3.105908\n",
       "  2012-01-20   3.105908\n",
       "  2012-01-23   3.105908\n",
       "  ...               ...\n",
       "  2018-08-09   9.865094\n",
       "  2018-08-10   9.335516\n",
       "  2018-08-13   9.342306\n",
       "  2018-08-14   9.186147\n",
       "  2018-08-15   9.043570\n",
       "  \n",
       "  [1657 rows x 1 columns],\n",
       "  'GPDNF':             Adj Close\n",
       "  Date                 \n",
       "  2001-07-18  50.042782\n",
       "  2001-07-19  50.042782\n",
       "  2001-07-20  50.042782\n",
       "  2001-07-23  50.042782\n",
       "  2001-07-24  50.042782\n",
       "  ...               ...\n",
       "  2018-08-09  64.954163\n",
       "  2018-08-10  64.954163\n",
       "  2018-08-13  62.397808\n",
       "  2018-08-14  62.397808\n",
       "  2018-08-15  62.397808\n",
       "  \n",
       "  [4297 rows x 1 columns],\n",
       "  'DANOY':             Adj Close\n",
       "  Date                 \n",
       "  2000-01-03   2.993033\n",
       "  2000-01-04   2.917007\n",
       "  2000-01-05   2.977028\n",
       "  2000-01-06   3.129080\n",
       "  2000-01-07   3.153088\n",
       "  ...               ...\n",
       "  2018-08-09  12.839262\n",
       "  2018-08-10  12.553400\n",
       "  2018-08-13  12.618741\n",
       "  2018-08-14  12.667746\n",
       "  2018-08-15  12.463560\n",
       "  \n",
       "  [4685 rows x 1 columns],\n",
       "  'DASTY':             Adj Close\n",
       "  Date                 \n",
       "  2000-01-03   5.601310\n",
       "  2000-01-04   5.084584\n",
       "  2000-01-05   4.836555\n",
       "  2000-01-06   4.805552\n",
       "  2000-01-07   5.105253\n",
       "  ...               ...\n",
       "  2018-08-09  28.895189\n",
       "  2018-08-10  28.597878\n",
       "  2018-08-13  28.906847\n",
       "  2018-08-14  29.489801\n",
       "  2018-08-15  28.965143\n",
       "  \n",
       "  [4685 rows x 1 columns],\n",
       "  'ENGIY':             Adj Close\n",
       "  Date                 \n",
       "  2008-07-30  23.315189\n",
       "  2008-07-31  23.149046\n",
       "  2008-08-01  22.539864\n",
       "  2008-08-04  22.152197\n",
       "  2008-08-05  22.189117\n",
       "  ...               ...\n",
       "  2018-08-09  10.904851\n",
       "  2018-08-10  10.503056\n",
       "  2018-08-13  10.587645\n",
       "  2018-08-14  10.594694\n",
       "  2018-08-15  10.439614\n",
       "  \n",
       "  [2530 rows x 1 columns],\n",
       "  'ESLOF':              Adj Close\n",
       "  Date                  \n",
       "  2010-10-15   62.586262\n",
       "  2010-10-18   62.586262\n",
       "  2010-10-19   62.586262\n",
       "  2010-10-20   62.586262\n",
       "  2010-10-21   62.586262\n",
       "  ...                ...\n",
       "  2018-08-09  135.916977\n",
       "  2018-08-10  135.916977\n",
       "  2018-08-13  131.519943\n",
       "  2018-08-14  131.519943\n",
       "  2018-08-15  131.519943\n",
       "  \n",
       "  [1972 rows x 1 columns],\n",
       "  'ESLOY':             Adj Close\n",
       "  Date                 \n",
       "  2008-01-30  22.792868\n",
       "  2008-01-31  22.705963\n",
       "  2008-02-01  23.187887\n",
       "  2008-02-04  22.595356\n",
       "  2008-02-05  21.726303\n",
       "  ...               ...\n",
       "  2018-08-09  66.089027\n",
       "  2018-08-10  64.461700\n",
       "  2018-08-13  64.489128\n",
       "  2018-08-14  64.562271\n",
       "  2018-08-15  63.465206\n",
       "  \n",
       "  [2656 rows x 1 columns],\n",
       "  'HESAY':             Adj Close\n",
       "  Date                 \n",
       "  2011-01-26  17.968500\n",
       "  2011-01-27  18.065624\n",
       "  2011-01-28  17.836054\n",
       "  2011-01-31  17.836054\n",
       "  2011-02-01  18.542427\n",
       "  ...               ...\n",
       "  2018-08-09  61.397457\n",
       "  2018-08-10  60.144840\n",
       "  2018-08-13  59.981037\n",
       "  2018-08-14  60.665161\n",
       "  2018-08-15  59.345093\n",
       "  \n",
       "  [1902 rows x 1 columns],\n",
       "  'PPRUF':              Adj Close\n",
       "  Date                  \n",
       "  2002-05-09   87.523926\n",
       "  2002-05-10   87.523926\n",
       "  2002-05-13   87.523926\n",
       "  2002-05-14   87.523926\n",
       "  2002-05-15   87.523926\n",
       "  ...                ...\n",
       "  2018-08-09  462.433624\n",
       "  2018-08-10  462.433624\n",
       "  2018-08-13  462.433624\n",
       "  2018-08-14  462.433624\n",
       "  2018-08-15  436.842224\n",
       "  \n",
       "  [4097 rows x 1 columns],\n",
       "  'PPRUY':             Adj Close\n",
       "  Date                 \n",
       "  2011-07-12  12.002336\n",
       "  2011-07-13  12.002336\n",
       "  2011-07-14  12.002336\n",
       "  2011-07-15  12.002336\n",
       "  2011-07-18  12.002336\n",
       "  ...               ...\n",
       "  2018-08-09  47.925892\n",
       "  2018-08-10  46.571407\n",
       "  2018-08-13  46.650566\n",
       "  2018-08-14  46.457073\n",
       "  2018-08-15  45.128983\n",
       "  \n",
       "  [1787 rows x 1 columns],\n",
       "  'LRLCF':              Adj Close\n",
       "  Date                  \n",
       "  2010-04-26   90.785416\n",
       "  2010-04-27   90.785416\n",
       "  2010-04-28   85.464813\n",
       "  2010-04-29   85.464813\n",
       "  2010-04-30   87.559540\n",
       "  ...                ...\n",
       "  2018-08-09  225.319778\n",
       "  2018-08-10  217.977570\n",
       "  2018-08-13  216.488922\n",
       "  2018-08-14  216.222427\n",
       "  2018-08-15  209.514297\n",
       "  \n",
       "  [2093 rows x 1 columns],\n",
       "  'LGRDY':             Adj Close\n",
       "  Date                 \n",
       "  2018-05-08  14.280983\n",
       "  2018-05-09  14.280983\n",
       "  2018-05-10  14.416561\n",
       "  2018-05-11  14.461754\n",
       "  2018-05-14  14.461754\n",
       "  ...               ...\n",
       "  2018-08-09  13.146638\n",
       "  2018-08-10  12.952308\n",
       "  2018-08-13  12.925192\n",
       "  2018-08-14  12.970387\n",
       "  2018-08-15  12.934233\n",
       "  \n",
       "  [70 rows x 1 columns],\n",
       "  'LGRVF':             Adj Close\n",
       "  Date                 \n",
       "  2012-01-31  27.449989\n",
       "  2012-02-01  27.449989\n",
       "  2012-02-02  28.123362\n",
       "  2012-02-03  28.519468\n",
       "  2012-02-06  28.123362\n",
       "  ...               ...\n",
       "  2018-08-09  64.918495\n",
       "  2018-08-10  64.918495\n",
       "  2018-08-13  64.918495\n",
       "  2018-08-14  62.873543\n",
       "  2018-08-15  62.141933\n",
       "  \n",
       "  [1647 rows x 1 columns],\n",
       "  'MGDDF':             Adj Close\n",
       "  Date                 \n",
       "  2010-10-15  14.608394\n",
       "  2010-10-18  14.608394\n",
       "  2010-10-19  14.608394\n",
       "  2010-10-20  14.608394\n",
       "  2010-10-21  14.608394\n",
       "  ...               ...\n",
       "  2018-08-09  27.461226\n",
       "  2018-08-10  27.461226\n",
       "  2018-08-13  27.461226\n",
       "  2018-08-14  26.786663\n",
       "  2018-08-15  26.786663\n",
       "  \n",
       "  [1972 rows x 1 columns],\n",
       "  'OCBI': Empty DataFrame\n",
       "  Columns: [Adj Close]\n",
       "  Index: [],\n",
       "  'ORAN':             Adj Close\n",
       "  Date                 \n",
       "  2000-01-03  32.625160\n",
       "  2000-01-04  30.374744\n",
       "  2000-01-05  29.725132\n",
       "  2000-01-06  28.743488\n",
       "  2000-01-07  29.604313\n",
       "  ...               ...\n",
       "  2018-08-09  11.505393\n",
       "  2018-08-10  11.154660\n",
       "  2018-08-13  11.175291\n",
       "  2018-08-14  11.161537\n",
       "  2018-08-15  11.099643\n",
       "  \n",
       "  [4685 rows x 1 columns],\n",
       "  'FNCTF':             Adj Close\n",
       "  Date                 \n",
       "  2009-02-13  12.708201\n",
       "  2009-02-17  12.708201\n",
       "  2009-02-18  11.718304\n",
       "  2009-02-19  11.718304\n",
       "  2009-02-20  11.878825\n",
       "  ...               ...\n",
       "  2018-08-09  11.734433\n",
       "  2018-08-10  11.734433\n",
       "  2018-08-13  11.099216\n",
       "  2018-08-14  11.044574\n",
       "  2018-08-15  11.044574\n",
       "  \n",
       "  [2393 rows x 1 columns],\n",
       "  'MBISF':             Adj Close\n",
       "  Date                 \n",
       "  2012-10-09  26.940332\n",
       "  2012-10-10  26.940332\n",
       "  2012-10-11  26.940332\n",
       "  2012-10-12  26.940332\n",
       "  2012-10-15  26.940332\n",
       "  ...               ...\n",
       "  2018-08-09  19.830000\n",
       "  2018-08-10  19.830000\n",
       "  2018-08-13  19.830000\n",
       "  2018-08-14  19.830000\n",
       "  2018-08-15  19.830000\n",
       "  \n",
       "  [1472 rows x 1 columns],\n",
       "  'PDRDF':              Adj Close\n",
       "  Date                  \n",
       "  2009-02-13   51.621487\n",
       "  2009-02-17   49.638580\n",
       "  2009-02-18   48.712658\n",
       "  2009-02-19   50.531696\n",
       "  2009-02-20   48.524208\n",
       "  ...                ...\n",
       "  2018-08-09  143.218613\n",
       "  2018-08-10  140.986008\n",
       "  2018-08-13  141.535278\n",
       "  2018-08-14  140.250595\n",
       "  2018-08-15  137.752151\n",
       "  \n",
       "  [2393 rows x 1 columns],\n",
       "  'PDRDY': Empty DataFrame\n",
       "  Columns: [Adj Close]\n",
       "  Index: [],\n",
       "  'PRNDY':             Adj Close\n",
       "  Date                 \n",
       "  2009-05-06   8.837553\n",
       "  2009-05-07   8.837553\n",
       "  2009-05-08  11.696759\n",
       "  2009-05-11  11.696759\n",
       "  2009-05-12   9.320274\n",
       "  ...               ...\n",
       "  2018-08-09  28.384380\n",
       "  2018-08-10  27.900457\n",
       "  2018-08-13  27.865265\n",
       "  2018-08-14  27.997242\n",
       "  2018-08-15  27.680490\n",
       "  \n",
       "  [2337 rows x 1 columns],\n",
       "  'PGPEF':             Adj Close\n",
       "  Date                 \n",
       "  2010-10-15  41.126503\n",
       "  2010-10-18  40.965538\n",
       "  2010-10-19  40.965538\n",
       "  2010-10-20  40.965538\n",
       "  2010-10-21  40.965538\n",
       "  ...               ...\n",
       "  2018-08-09  52.371376\n",
       "  2018-08-10  52.371376\n",
       "  2018-08-13  52.371376\n",
       "  2018-08-14  52.371376\n",
       "  2018-08-15  51.134583\n",
       "  \n",
       "  [1972 rows x 1 columns],\n",
       "  'PUBGY':             Adj Close\n",
       "  Date                 \n",
       "  2000-09-12   5.155639\n",
       "  2000-09-13   5.146871\n",
       "  2000-09-14   5.243320\n",
       "  2000-09-15   5.252089\n",
       "  2000-09-18   5.173176\n",
       "  ...               ...\n",
       "  2018-08-09  12.285768\n",
       "  2018-08-10  12.184554\n",
       "  2018-08-13  12.192340\n",
       "  2018-08-14  11.966557\n",
       "  2018-08-15  12.067770\n",
       "  \n",
       "  [4510 rows x 1 columns],\n",
       "  'RNSDF':             Adj Close\n",
       "  Date                 \n",
       "  2012-08-03  33.630035\n",
       "  2012-08-06  34.125153\n",
       "  2012-08-07  35.229649\n",
       "  2012-08-08  35.229649\n",
       "  2012-08-09  35.229649\n",
       "  ...               ...\n",
       "  2018-08-09  74.260117\n",
       "  2018-08-10  73.180260\n",
       "  2018-08-13  73.180260\n",
       "  2018-08-14  72.218201\n",
       "  2018-08-15  72.218201\n",
       "  \n",
       "  [1518 rows x 1 columns],\n",
       "  'RNLSY':             Adj Close\n",
       "  Date                 \n",
       "  2015-01-29  12.474467\n",
       "  2015-01-30  12.178599\n",
       "  2015-02-02  12.258562\n",
       "  2015-02-03  12.554433\n",
       "  2015-02-04  12.650390\n",
       "  ...               ...\n",
       "  2018-08-09  14.055026\n",
       "  2018-08-10  13.916366\n",
       "  2018-08-13  13.727284\n",
       "  2018-08-14  13.613838\n",
       "  2018-08-15  13.479380\n",
       "  \n",
       "  [894 rows x 1 columns],\n",
       "  'SAFRF':              Adj Close\n",
       "  Date                  \n",
       "  2010-06-09   22.873121\n",
       "  2010-06-10   22.873121\n",
       "  2010-06-11   22.873121\n",
       "  2010-06-14   22.873121\n",
       "  2010-06-15   22.873121\n",
       "  ...                ...\n",
       "  2018-08-09  119.802376\n",
       "  2018-08-10  119.802376\n",
       "  2018-08-13  118.127823\n",
       "  2018-08-14  118.032127\n",
       "  2018-08-15  118.032127\n",
       "  \n",
       "  [2062 rows x 1 columns],\n",
       "  'SAFRY':             Adj Close\n",
       "  Date                 \n",
       "  2010-01-20   4.265568\n",
       "  2010-01-21   4.265568\n",
       "  2010-01-22   4.265568\n",
       "  2010-01-25   4.135092\n",
       "  2010-01-26   4.094945\n",
       "  ...               ...\n",
       "  2018-08-09  29.775354\n",
       "  2018-08-10  29.000101\n",
       "  2018-08-13  29.268091\n",
       "  2018-08-14  29.335089\n",
       "  2018-08-15  29.019241\n",
       "  \n",
       "  [2159 rows x 1 columns],\n",
       "  'CODGF':             Adj Close\n",
       "  Date                 \n",
       "  2010-10-15  35.015137\n",
       "  2010-10-18  35.015137\n",
       "  2010-10-19  35.015137\n",
       "  2010-10-20  35.015137\n",
       "  2010-10-21  35.015137\n",
       "  ...               ...\n",
       "  2018-08-09  36.496021\n",
       "  2018-08-10  36.496021\n",
       "  2018-08-13  35.241066\n",
       "  2018-08-14  35.241066\n",
       "  2018-08-15  33.815376\n",
       "  \n",
       "  [1972 rows x 1 columns],\n",
       "  'CODYY':             Adj Close\n",
       "  Date                 \n",
       "  2018-02-28   9.423575\n",
       "  2018-03-01   9.336703\n",
       "  2018-03-02   9.229148\n",
       "  2018-03-05   9.245694\n",
       "  2018-03-06   9.249830\n",
       "  ...               ...\n",
       "  2018-08-09   7.245374\n",
       "  2018-08-10   7.079157\n",
       "  2018-08-13   7.036537\n",
       "  2018-08-14   7.028012\n",
       "  2018-08-15   6.895891\n",
       "  \n",
       "  [118 rows x 1 columns],\n",
       "  'SNYNF':             Adj Close\n",
       "  Date                 \n",
       "  2008-04-09  51.796726\n",
       "  2008-04-10  51.796726\n",
       "  2008-04-11  51.796726\n",
       "  2008-04-14  51.796726\n",
       "  2008-04-15  51.796726\n",
       "  ...               ...\n",
       "  2018-08-09  68.335457\n",
       "  2018-08-10  65.519539\n",
       "  2018-08-13  66.503128\n",
       "  2018-08-14  65.630585\n",
       "  2018-08-15  65.630585\n",
       "  \n",
       "  [2608 rows x 1 columns],\n",
       "  'SNY':             Adj Close\n",
       "  Date                 \n",
       "  2002-07-01  13.457237\n",
       "  2002-07-02  13.041360\n",
       "  2002-07-03  12.928349\n",
       "  2002-07-05  13.742021\n",
       "  2002-07-08  14.126255\n",
       "  ...               ...\n",
       "  2018-08-09  33.260475\n",
       "  2018-08-10  32.982780\n",
       "  2018-08-13  32.935165\n",
       "  2018-08-14  32.768551\n",
       "  2018-08-15  32.054474\n",
       "  \n",
       "  [4061 rows x 1 columns],\n",
       "  'SBGSF':             Adj Close\n",
       "  Date                 \n",
       "  2009-02-13  50.463818\n",
       "  2009-02-17  50.463818\n",
       "  2009-02-18  50.463818\n",
       "  2009-02-19  50.463818\n",
       "  2009-02-20  50.463818\n",
       "  ...               ...\n",
       "  2018-08-09  69.456955\n",
       "  2018-08-10  67.240227\n",
       "  2018-08-13  67.414101\n",
       "  2018-08-14  67.414101\n",
       "  2018-08-15  65.658112\n",
       "  \n",
       "  [2393 rows x 1 columns],\n",
       "  'SBGSY':             Adj Close\n",
       "  Date                 \n",
       "  2010-01-20   7.347756\n",
       "  2010-01-21   7.281558\n",
       "  2010-01-22   7.082969\n",
       "  2010-01-25   7.281558\n",
       "  2010-01-26   7.023394\n",
       "  ...               ...\n",
       "  2018-08-09  13.856253\n",
       "  2018-08-10  13.378150\n",
       "  2018-08-13  13.395537\n",
       "  2018-08-14  13.456385\n",
       "  2018-08-15  13.160832\n",
       "  \n",
       "  [2159 rows x 1 columns],\n",
       "  'STMEF':             Adj Close\n",
       "  Date                 \n",
       "  2012-08-13   4.735171\n",
       "  2012-08-14   4.735171\n",
       "  2012-08-15   4.678064\n",
       "  2012-08-16   4.678064\n",
       "  2012-08-17   4.678064\n",
       "  ...               ...\n",
       "  2018-08-09  20.083479\n",
       "  2018-08-10  20.083479\n",
       "  2018-08-13  20.083479\n",
       "  2018-08-14  20.083479\n",
       "  2018-08-15  20.083479\n",
       "  \n",
       "  [1512 rows x 1 columns],\n",
       "  'STM':             Adj Close\n",
       "  Date                 \n",
       "  2000-01-03  31.232250\n",
       "  2000-01-04  29.282600\n",
       "  2000-01-05  27.647404\n",
       "  2000-01-06  25.421030\n",
       "  2000-01-07  26.389559\n",
       "  ...               ...\n",
       "  2018-08-09  20.657602\n",
       "  2018-08-10  19.412825\n",
       "  2018-08-13  19.526850\n",
       "  2018-08-14  19.222780\n",
       "  2018-08-15  18.557640\n",
       "  \n",
       "  [4685 rows x 1 columns],\n",
       "  'TTFNF':             Adj Close\n",
       "  Date                 \n",
       "  2010-06-09  29.684418\n",
       "  2010-06-10  29.684418\n",
       "  2010-06-11  31.005196\n",
       "  2010-06-14  31.857100\n",
       "  2010-06-15  32.358997\n",
       "  ...               ...\n",
       "  2018-08-09  46.052517\n",
       "  2018-08-10  44.016052\n",
       "  2018-08-13  43.980328\n",
       "  2018-08-14  43.451561\n",
       "  2018-08-15  41.693783\n",
       "  \n",
       "  [2062 rows x 1 columns],\n",
       "  'TOT': Empty DataFrame\n",
       "  Columns: [Adj Close]\n",
       "  Index: [],\n",
       "  'TTE':             Adj Close\n",
       "  Date                 \n",
       "  2000-01-03   9.654003\n",
       "  2000-01-04   9.372733\n",
       "  2000-01-05   9.372733\n",
       "  2000-01-06   9.164048\n",
       "  2000-01-07   9.136826\n",
       "  ...               ...\n",
       "  2018-08-09  43.462196\n",
       "  2018-08-10  42.086975\n",
       "  2018-08-13  41.875931\n",
       "  2018-08-14  41.481060\n",
       "  2018-08-15  40.078625\n",
       "  \n",
       "  [4685 rows x 1 columns],\n",
       "  'UNBLF':              Adj Close\n",
       "  Date                  \n",
       "  2002-03-08   52.379940\n",
       "  2002-03-11   52.379940\n",
       "  2002-03-12   52.379940\n",
       "  2002-03-13   52.379940\n",
       "  2002-03-14   52.379940\n",
       "  ...                ...\n",
       "  2018-08-09  227.612518\n",
       "  2018-08-10  227.612518\n",
       "  2018-08-13  227.612518\n",
       "  2018-08-14  227.612518\n",
       "  2018-08-15  227.612518\n",
       "  \n",
       "  [4140 rows x 1 columns],\n",
       "  'UNIRF': Empty DataFrame\n",
       "  Columns: [Adj Close]\n",
       "  Index: [],\n",
       "  'VEOEY':             Adj Close\n",
       "  Date                 \n",
       "  2001-10-05   7.721875\n",
       "  2001-10-08   7.723852\n",
       "  2001-10-09   7.802969\n",
       "  2001-10-10   7.646711\n",
       "  2001-10-11   7.535948\n",
       "  ...               ...\n",
       "  2018-08-09   8.801581\n",
       "  2018-08-10   8.476198\n",
       "  2018-08-13   8.455863\n",
       "  2018-08-14   8.431458\n",
       "  2018-08-15   8.280972\n",
       "  \n",
       "  [4245 rows x 1 columns],\n",
       "  'VCISY':             Adj Close\n",
       "  Date                 \n",
       "  2008-01-30   9.029578\n",
       "  2008-01-31   9.029578\n",
       "  2008-02-01   9.703428\n",
       "  2008-02-04   9.644129\n",
       "  2008-02-05   9.083484\n",
       "  ...               ...\n",
       "  2018-08-09  20.033009\n",
       "  2018-08-10  19.487782\n",
       "  2018-08-13  19.520821\n",
       "  2018-08-14  19.496042\n",
       "  2018-08-15  19.074726\n",
       "  \n",
       "  [2656 rows x 1 columns],\n",
       "  'VCISF':             Adj Close\n",
       "  Date                 \n",
       "  2009-02-13  28.132183\n",
       "  2009-02-17  28.132183\n",
       "  2009-02-18  28.132183\n",
       "  2009-02-19  28.132183\n",
       "  2009-02-20  28.132183\n",
       "  ...               ...\n",
       "  2018-08-09  81.042862\n",
       "  2018-08-10  78.040649\n",
       "  2018-08-13  77.786377\n",
       "  2018-08-14  77.786377\n",
       "  2018-08-15  77.786377\n",
       "  \n",
       "  [2393 rows x 1 columns],\n",
       "  'VIVEF': Empty DataFrame\n",
       "  Columns: [Adj Close]\n",
       "  Index: [],\n",
       "  'VIVHY':             Adj Close\n",
       "  Date                 \n",
       "  2011-02-08   6.652808\n",
       "  2011-02-09   6.664357\n",
       "  2011-02-10   6.548857\n",
       "  2011-02-11   6.571957\n",
       "  2011-02-14   6.444905\n",
       "  ...               ...\n",
       "  2018-08-09   9.891512\n",
       "  2018-08-10   9.681137\n",
       "  2018-08-13   9.630492\n",
       "  2018-08-14   9.552574\n",
       "  2018-08-15   9.443492\n",
       "  \n",
       "  [1893 rows x 1 columns],\n",
       "  'WWLNF':             Adj Close\n",
       "  Date                 \n",
       "  2016-07-22  28.969999\n",
       "  2016-07-25  28.969999\n",
       "  2016-07-26  28.969999\n",
       "  2016-07-27  28.969999\n",
       "  2016-07-28  28.969999\n",
       "  ...               ...\n",
       "  2018-08-09  40.840000\n",
       "  2018-08-10  40.840000\n",
       "  2018-08-13  40.840000\n",
       "  2018-08-14  40.840000\n",
       "  2018-08-15  40.840000\n",
       "  \n",
       "  [521 rows x 1 columns],\n",
       "  'WRDLY': Empty DataFrame\n",
       "  Columns: [Adj Close]\n",
       "  Index: [],\n",
       "  'BA':              Adj Close\n",
       "  Date                  \n",
       "  2000-01-03   25.940271\n",
       "  2000-01-04   25.899937\n",
       "  2000-01-05   27.513655\n",
       "  2000-01-06   27.796051\n",
       "  2000-01-07   28.602900\n",
       "  ...                ...\n",
       "  2018-08-09  332.456451\n",
       "  2018-08-10  328.287689\n",
       "  2018-08-13  327.272064\n",
       "  2018-08-14  328.026489\n",
       "  2018-08-15  320.888367\n",
       "  \n",
       "  [4685 rows x 1 columns],\n",
       "  'GE':              Adj Close\n",
       "  Date                  \n",
       "  2000-01-03  130.577530\n",
       "  2000-01-04  125.354408\n",
       "  2000-01-05  125.136757\n",
       "  2000-01-06  126.809807\n",
       "  2000-01-07  131.720062\n",
       "  ...                ...\n",
       "  2018-08-09   59.860912\n",
       "  2018-08-10   59.074478\n",
       "  2018-08-13   57.594151\n",
       "  2018-08-14   57.131535\n",
       "  2018-08-15   56.530151\n",
       "  \n",
       "  [4685 rows x 1 columns],\n",
       "  'ERFSF':             Adj Close\n",
       "  Date                 \n",
       "  2010-04-26   4.100425\n",
       "  2010-04-27   4.100425\n",
       "  2010-04-28   4.100425\n",
       "  2010-04-29   4.100425\n",
       "  2010-04-30   4.100425\n",
       "  ...               ...\n",
       "  2018-08-09  48.734619\n",
       "  2018-08-10  48.472439\n",
       "  2018-08-13  48.472439\n",
       "  2018-08-14  48.472439\n",
       "  2018-08-15  46.690205\n",
       "  \n",
       "  [2093 rows x 1 columns],\n",
       "  'THLLY':             Adj Close\n",
       "  Date                 \n",
       "  2002-01-04   6.319705\n",
       "  2002-01-07   6.319705\n",
       "  2002-01-08   6.319705\n",
       "  2002-01-09   6.429932\n",
       "  2002-01-10   6.429932\n",
       "  ...               ...\n",
       "  2018-08-09  18.554945\n",
       "  2018-08-10  18.554945\n",
       "  2018-08-13  18.554945\n",
       "  2018-08-14  18.554945\n",
       "  2018-08-15  18.554945\n",
       "  \n",
       "  [4183 rows x 1 columns],\n",
       "  'THLEF':              Adj Close\n",
       "  Date                  \n",
       "  2005-10-28   34.731617\n",
       "  2005-10-31   35.059669\n",
       "  2005-11-01   35.059669\n",
       "  2005-11-02   35.059669\n",
       "  2005-11-03   35.059669\n",
       "  ...                ...\n",
       "  2018-08-09  120.399544\n",
       "  2018-08-10  120.399544\n",
       "  2018-08-13  120.399544\n",
       "  2018-08-14  118.771324\n",
       "  2018-08-15  118.771324\n",
       "  \n",
       "  [3221 rows x 1 columns],\n",
       "  'LVMHF':              Adj Close\n",
       "  Date                  \n",
       "  2010-04-26   89.356850\n",
       "  2010-04-27   89.356850\n",
       "  2010-04-28   83.818810\n",
       "  2010-04-29   83.818810\n",
       "  2010-04-30   83.818810\n",
       "  ...                ...\n",
       "  2018-08-09  321.060638\n",
       "  2018-08-10  308.254822\n",
       "  2018-08-13  308.776215\n",
       "  2018-08-14  312.965576\n",
       "  2018-08-15  303.690521\n",
       "  \n",
       "  [2093 rows x 1 columns],\n",
       "  'SCGLF':             Adj Close\n",
       "  Date                 \n",
       "  2009-02-13  20.617987\n",
       "  2009-02-17  17.424934\n",
       "  2009-02-18  17.729033\n",
       "  2009-02-19  17.729033\n",
       "  2009-02-20  17.181654\n",
       "  ...               ...\n",
       "  2018-08-09  32.570698\n",
       "  2018-08-10  32.570698\n",
       "  2018-08-13  30.638470\n",
       "  2018-08-14  30.593536\n",
       "  2018-08-15  30.256517\n",
       "  \n",
       "  [2393 rows x 1 columns],\n",
       "  'STLA':             Adj Close\n",
       "  Date                 \n",
       "  2010-06-09   1.678092\n",
       "  2010-06-10   1.678092\n",
       "  2010-06-11   1.678092\n",
       "  2010-06-14   1.678092\n",
       "  2010-06-15   1.678092\n",
       "  ...               ...\n",
       "  2018-08-09   9.706050\n",
       "  2018-08-10   9.403099\n",
       "  2018-08-13   9.373969\n",
       "  2018-08-14   9.304059\n",
       "  2018-08-15   9.094324\n",
       "  \n",
       "  [2062 rows x 1 columns],\n",
       "  'TLPFY':             Adj Close\n",
       "  Date                 \n",
       "  2015-01-29  31.438272\n",
       "  2015-01-30  31.351952\n",
       "  2015-02-02  30.808132\n",
       "  2015-02-03  32.172001\n",
       "  2015-02-04  31.740398\n",
       "  ...               ...\n",
       "  2018-08-09  86.305519\n",
       "  2018-08-10  84.137413\n",
       "  2018-08-13  84.820633\n",
       "  2018-08-14  84.278610\n",
       "  2018-08-15  83.691032\n",
       "  \n",
       "  [894 rows x 1 columns],\n",
       "  'TLPFF':              Adj Close\n",
       "  Date                  \n",
       "  2010-04-05   25.517138\n",
       "  2010-04-06   25.517138\n",
       "  2010-04-07   25.517138\n",
       "  2010-04-08   25.517138\n",
       "  2010-04-09   25.517138\n",
       "  ...                ...\n",
       "  2018-08-09  164.057175\n",
       "  2018-08-10  164.057175\n",
       "  2018-08-13  164.057175\n",
       "  2018-08-14  164.057175\n",
       "  2018-08-15  164.057175\n",
       "  \n",
       "  [2108 rows x 1 columns]},\n",
       " 'DAX': {'ADDDF':              Adj Close\n",
       "  Date                  \n",
       "  2010-01-21   48.704185\n",
       "  2010-01-22   48.704185\n",
       "  2010-01-25   46.066772\n",
       "  2010-01-26   46.066772\n",
       "  2010-01-27   46.066772\n",
       "  ...                ...\n",
       "  2018-08-09  226.823761\n",
       "  2018-08-10  221.429993\n",
       "  2018-08-13  227.508698\n",
       "  2018-08-14  226.100784\n",
       "  2018-08-15  220.697495\n",
       "  \n",
       "  [2158 rows x 1 columns],\n",
       "  'ADDYY':              Adj Close\n",
       "  Date                  \n",
       "  2006-05-31   19.954313\n",
       "  2006-06-01   19.834408\n",
       "  2006-06-02   20.214109\n",
       "  2006-06-05   20.184132\n",
       "  2006-06-06   19.534645\n",
       "  ...                ...\n",
       "  2018-08-09  113.962944\n",
       "  2018-08-10  111.358406\n",
       "  2018-08-13  112.888817\n",
       "  2018-08-14  113.135956\n",
       "  2018-08-15  111.177803\n",
       "  \n",
       "  [3075 rows x 1 columns],\n",
       "  'AZSEY': Empty DataFrame\n",
       "  Columns: [Adj Close]\n",
       "  Index: [],\n",
       "  'ALIZY':             Adj Close\n",
       "  Date                 \n",
       "  2000-11-06  11.892799\n",
       "  2000-11-07  11.827578\n",
       "  2000-11-08  11.805836\n",
       "  2000-11-09  12.131964\n",
       "  2000-11-10  12.371124\n",
       "  ...               ...\n",
       "  2018-08-09  15.982401\n",
       "  2018-08-10  15.527228\n",
       "  2018-08-13  15.578620\n",
       "  2018-08-14  15.431788\n",
       "  2018-08-15  15.299643\n",
       "  \n",
       "  [4471 rows x 1 columns],\n",
       "  'BFFAF':             Adj Close\n",
       "  Date                 \n",
       "  2010-10-15  40.876450\n",
       "  2010-10-18  40.934559\n",
       "  2010-10-19  40.934559\n",
       "  2010-10-20  41.835178\n",
       "  2010-10-21  41.835178\n",
       "  ...               ...\n",
       "  2018-08-09  64.747047\n",
       "  2018-08-10  62.015453\n",
       "  2018-08-13  62.050121\n",
       "  2018-08-14  62.223446\n",
       "  2018-08-15  61.148834\n",
       "  \n",
       "  [1972 rows x 1 columns],\n",
       "  'BASFY':             Adj Close\n",
       "  Date                 \n",
       "  2000-01-03   2.268723\n",
       "  2000-01-04   2.185721\n",
       "  2000-01-05   2.158053\n",
       "  2000-01-06   2.191254\n",
       "  2000-01-07   2.301924\n",
       "  ...               ...\n",
       "  2018-08-09  16.144058\n",
       "  2018-08-10  15.601987\n",
       "  2018-08-13  15.622834\n",
       "  2018-08-14  15.622834\n",
       "  2018-08-15  15.289248\n",
       "  \n",
       "  [4685 rows x 1 columns],\n",
       "  'BAYZF':             Adj Close\n",
       "  Date                 \n",
       "  2009-02-13  40.338112\n",
       "  2009-02-17  38.631638\n",
       "  2009-02-18  38.704250\n",
       "  2009-02-19  39.031021\n",
       "  2009-02-20  37.694889\n",
       "  ...               ...\n",
       "  2018-08-09  91.891258\n",
       "  2018-08-10  87.143173\n",
       "  2018-08-13  77.370110\n",
       "  2018-08-14  77.573715\n",
       "  2018-08-15  74.894272\n",
       "  \n",
       "  [2393 rows x 1 columns],\n",
       "  'BAYRY':             Adj Close\n",
       "  Date                 \n",
       "  2000-01-03   5.745192\n",
       "  2000-01-04   5.637083\n",
       "  2000-01-05   5.451755\n",
       "  2000-01-06   5.652527\n",
       "  2000-01-07   5.884189\n",
       "  ...               ...\n",
       "  2018-08-09  22.464560\n",
       "  2018-08-10  21.642488\n",
       "  2018-08-13  19.200687\n",
       "  2018-08-14  19.347195\n",
       "  2018-08-15  18.614658\n",
       "  \n",
       "  [4685 rows x 1 columns],\n",
       "  'BDRFY':             Adj Close\n",
       "  Date                 \n",
       "  2010-04-26  10.267871\n",
       "  2010-04-27  10.434471\n",
       "  2010-04-28  10.434471\n",
       "  2010-04-29  10.434471\n",
       "  2010-04-30  10.434471\n",
       "  ...               ...\n",
       "  2018-08-09  22.122751\n",
       "  2018-08-10  22.122751\n",
       "  2018-08-13  21.586441\n",
       "  2018-08-14  21.835438\n",
       "  2018-08-15  21.835438\n",
       "  \n",
       "  [2093 rows x 1 columns],\n",
       "  'BDRFF':              Adj Close\n",
       "  Date                  \n",
       "  2010-10-15   58.829277\n",
       "  2010-10-18   58.829277\n",
       "  2010-10-19   58.829277\n",
       "  2010-10-20   58.829277\n",
       "  2010-10-21   60.539165\n",
       "  ...                ...\n",
       "  2018-08-09  109.666161\n",
       "  2018-08-10  109.666161\n",
       "  2018-08-13  109.666161\n",
       "  2018-08-14  109.666161\n",
       "  2018-08-15  109.666161\n",
       "  \n",
       "  [1972 rows x 1 columns],\n",
       "  'BMWYY':             Adj Close\n",
       "  Date                 \n",
       "  2008-11-05   5.297226\n",
       "  2008-11-06   4.757081\n",
       "  2008-11-07   5.162515\n",
       "  2008-11-10   5.405774\n",
       "  2008-11-11   4.757081\n",
       "  ...               ...\n",
       "  2018-08-09  23.328321\n",
       "  2018-08-10  22.720627\n",
       "  2018-08-13  22.627684\n",
       "  2018-08-14  22.448952\n",
       "  2018-08-15  22.041437\n",
       "  \n",
       "  [2461 rows x 1 columns],\n",
       "  'CTTAF':              Adj Close\n",
       "  Date                  \n",
       "  2010-01-06   45.095539\n",
       "  2010-01-07   45.095539\n",
       "  2010-01-08   45.095539\n",
       "  2010-01-11   45.095539\n",
       "  2010-01-12   45.095539\n",
       "  ...                ...\n",
       "  2018-08-09  179.185379\n",
       "  2018-08-10  176.769302\n",
       "  2018-08-13  176.769302\n",
       "  2018-08-14  173.519775\n",
       "  2018-08-15  170.965866\n",
       "  \n",
       "  [2168 rows x 1 columns],\n",
       "  'CTTAY':             Adj Close\n",
       "  Date                 \n",
       "  2000-01-03   2.483173\n",
       "  2000-01-04   2.499193\n",
       "  2000-01-05   2.611336\n",
       "  2000-01-06   2.611336\n",
       "  2000-01-07   2.579296\n",
       "  ...               ...\n",
       "  2018-08-09  36.990166\n",
       "  2018-08-10  36.013390\n",
       "  2018-08-13  36.353138\n",
       "  2018-08-14  36.055859\n",
       "  2018-08-15  35.274437\n",
       "  \n",
       "  [4685 rows x 1 columns],\n",
       "  'COVTY':             Adj Close\n",
       "  Date                 \n",
       "  2016-03-22  29.792974\n",
       "  2016-03-23  29.792974\n",
       "  2016-03-24  29.792974\n",
       "  2016-03-28  29.792974\n",
       "  2016-03-29  29.792974\n",
       "  ...               ...\n",
       "  2018-08-09  40.524956\n",
       "  2018-08-10  38.795174\n",
       "  2018-08-13  39.268127\n",
       "  2018-08-14  39.754215\n",
       "  2018-08-15  38.081371\n",
       "  \n",
       "  [606 rows x 1 columns],\n",
       "  'CVVTF':             Adj Close\n",
       "  Date                 \n",
       "  2017-02-02  61.571896\n",
       "  2017-02-03  61.571896\n",
       "  2017-02-06  61.571896\n",
       "  2017-02-07  61.571896\n",
       "  2017-02-08  61.571896\n",
       "  ...               ...\n",
       "  2018-08-09  80.693375\n",
       "  2018-08-10  80.693375\n",
       "  2018-08-13  80.693375\n",
       "  2018-08-14  80.693375\n",
       "  2018-08-15  80.693375\n",
       "  \n",
       "  [387 rows x 1 columns],\n",
       "  'DB':             Adj Close\n",
       "  Date                 \n",
       "  2000-01-03  53.584801\n",
       "  2000-01-04  52.845139\n",
       "  2000-01-05  54.160091\n",
       "  2000-01-06  55.392879\n",
       "  2000-01-07  57.858425\n",
       "  ...               ...\n",
       "  2018-08-09  11.237883\n",
       "  2018-08-10  10.712240\n",
       "  2018-08-13  10.376917\n",
       "  2018-08-14  10.413168\n",
       "  2018-08-15  10.141283\n",
       "  \n",
       "  [4685 rows x 1 columns],\n",
       "  'DBOEY':             Adj Close\n",
       "  Date                 \n",
       "  2010-01-05   5.165516\n",
       "  2010-01-06   5.122212\n",
       "  2010-01-07   5.041790\n",
       "  2010-01-08   4.992300\n",
       "  2010-01-11   5.066535\n",
       "  ...               ...\n",
       "  2018-08-09  11.424661\n",
       "  2018-08-10  11.160609\n",
       "  2018-08-13  11.371849\n",
       "  2018-08-14  11.283834\n",
       "  2018-08-15  11.125401\n",
       "  \n",
       "  [2169 rows x 1 columns],\n",
       "  'DPSGY': Empty DataFrame\n",
       "  Columns: [Adj Close]\n",
       "  Index: [],\n",
       "  'DTEGF':             Adj Close\n",
       "  Date                 \n",
       "  2010-04-22  10.467100\n",
       "  2010-04-23  10.467100\n",
       "  2010-04-26  10.235014\n",
       "  2010-04-27  10.057080\n",
       "  2010-04-28  10.057080\n",
       "  ...               ...\n",
       "  2018-08-09  14.267235\n",
       "  2018-08-10  13.546492\n",
       "  2018-08-13  13.885155\n",
       "  2018-08-14  13.841736\n",
       "  2018-08-15  13.581227\n",
       "  \n",
       "  [2095 rows x 1 columns],\n",
       "  'DTEGY':             Adj Close\n",
       "  Date                 \n",
       "  2000-01-03  26.076778\n",
       "  2000-01-04  24.371675\n",
       "  2000-01-05  24.644489\n",
       "  2000-01-06  22.939386\n",
       "  2000-01-07  24.348940\n",
       "  ...               ...\n",
       "  2018-08-09  14.245970\n",
       "  2018-08-10  13.785864\n",
       "  2018-08-13  13.855313\n",
       "  2018-08-14  13.872676\n",
       "  2018-08-15  13.690369\n",
       "  \n",
       "  [4685 rows x 1 columns],\n",
       "  'ENAKF':             Adj Close\n",
       "  Date                 \n",
       "  2010-06-09  18.765074\n",
       "  2010-06-10  18.472372\n",
       "  2010-06-11  18.472372\n",
       "  2010-06-14  18.472372\n",
       "  2010-06-15  19.350464\n",
       "  ...               ...\n",
       "  2018-08-09   8.735200\n",
       "  2018-08-10   8.735200\n",
       "  2018-08-13   8.432338\n",
       "  2018-08-14   8.504068\n",
       "  2018-08-15   8.504068\n",
       "  \n",
       "  [2062 rows x 1 columns],\n",
       "  'EONGY':             Adj Close\n",
       "  Date                 \n",
       "  2000-01-03   4.531549\n",
       "  2000-01-04   4.399617\n",
       "  2000-01-05   4.531549\n",
       "  2000-01-06   4.634799\n",
       "  2000-01-07   4.806882\n",
       "  ...               ...\n",
       "  2018-08-09   8.281525\n",
       "  2018-08-10   7.977057\n",
       "  2018-08-13   8.015116\n",
       "  2018-08-14   8.114067\n",
       "  2018-08-15   8.045562\n",
       "  \n",
       "  [4685 rows x 1 columns],\n",
       "  'FMS':             Adj Close\n",
       "  Date                 \n",
       "  2000-01-03   9.290113\n",
       "  2000-01-04   9.059954\n",
       "  2000-01-05   8.955334\n",
       "  2000-01-06   8.850718\n",
       "  2000-01-07   9.059954\n",
       "  ...               ...\n",
       "  2018-08-09  42.648968\n",
       "  2018-08-10  41.931156\n",
       "  2018-08-13  42.097473\n",
       "  2018-08-14  42.228783\n",
       "  2018-08-15  41.633522\n",
       "  \n",
       "  [4685 rows x 1 columns],\n",
       "  'FMCQF':             Adj Close\n",
       "  Date                 \n",
       "  2012-02-07  56.912853\n",
       "  2012-02-08  56.912853\n",
       "  2012-02-09  56.912853\n",
       "  2012-02-10  56.912853\n",
       "  2012-02-13  56.912853\n",
       "  ...               ...\n",
       "  2018-08-09  87.564674\n",
       "  2018-08-10  87.564674\n",
       "  2018-08-13  87.564674\n",
       "  2018-08-14  87.564674\n",
       "  2018-08-15  87.564674\n",
       "  \n",
       "  [1642 rows x 1 columns],\n",
       "  'FSNUY':             Adj Close\n",
       "  Date                 \n",
       "  2012-05-15   6.933457\n",
       "  2012-05-16   6.916669\n",
       "  2012-05-17   6.855114\n",
       "  2012-05-18   6.732001\n",
       "  2012-05-21   6.849517\n",
       "  ...               ...\n",
       "  2018-08-09  16.947489\n",
       "  2018-08-10  16.431503\n",
       "  2018-08-13  16.458191\n",
       "  2018-08-14  16.511570\n",
       "  2018-08-15  16.226885\n",
       "  \n",
       "  [1574 rows x 1 columns],\n",
       "  'FSNUF':             Adj Close\n",
       "  Date                 \n",
       "  2012-03-14  28.990486\n",
       "  2012-03-15  28.990486\n",
       "  2012-03-16  28.990486\n",
       "  2012-03-19  28.990486\n",
       "  2012-03-20  28.990486\n",
       "  ...               ...\n",
       "  2018-08-09  71.096558\n",
       "  2018-08-10  71.096558\n",
       "  2018-08-13  65.939484\n",
       "  2018-08-14  65.939484\n",
       "  2018-08-15  65.352646\n",
       "  \n",
       "  [1617 rows x 1 columns],\n",
       "  'HLBZF':             Adj Close\n",
       "  Date                 \n",
       "  2010-01-05  52.819778\n",
       "  2010-01-06  52.819778\n",
       "  2010-01-07  56.277077\n",
       "  2010-01-08  56.277077\n",
       "  2010-01-11  57.928898\n",
       "  ...               ...\n",
       "  2018-08-09  69.783836\n",
       "  2018-08-10  69.783836\n",
       "  2018-08-13  69.783836\n",
       "  2018-08-14  65.710686\n",
       "  2018-08-15  65.710686\n",
       "  \n",
       "  [2169 rows x 1 columns],\n",
       "  'HDELY':             Adj Close\n",
       "  Date                 \n",
       "  2010-11-08   8.329775\n",
       "  2010-11-09   8.329775\n",
       "  2010-11-10   8.329775\n",
       "  2010-11-11   8.329775\n",
       "  2010-11-12   8.329775\n",
       "  ...               ...\n",
       "  2018-08-09  12.897375\n",
       "  2018-08-10  12.497273\n",
       "  2018-08-13  12.458050\n",
       "  2018-08-14  12.473739\n",
       "  2018-08-15  12.277611\n",
       "  \n",
       "  [1956 rows x 1 columns],\n",
       "  'HENKY':             Adj Close\n",
       "  Date                 \n",
       "  2007-06-20   8.451649\n",
       "  2007-06-21   8.495897\n",
       "  2007-06-22   8.472889\n",
       "  2007-06-25   8.442800\n",
       "  2007-06-26   8.292350\n",
       "  ...               ...\n",
       "  2018-08-09  23.470318\n",
       "  2018-08-10  22.843985\n",
       "  2018-08-13  22.983410\n",
       "  2018-08-14  23.326605\n",
       "  2018-08-15  23.060627\n",
       "  \n",
       "  [2810 rows x 1 columns],\n",
       "  'IFNNF':             Adj Close\n",
       "  Date                 \n",
       "  2009-02-13   0.865050\n",
       "  2009-02-17   0.865050\n",
       "  2009-02-18   0.865050\n",
       "  2009-02-19   0.865050\n",
       "  2009-02-20   0.865050\n",
       "  ...               ...\n",
       "  2018-08-09  24.851147\n",
       "  2018-08-10  24.851147\n",
       "  2018-08-13  24.851147\n",
       "  2018-08-14  23.686846\n",
       "  2018-08-15  23.686846\n",
       "  \n",
       "  [2393 rows x 1 columns],\n",
       "  'IFNNY':             Adj Close\n",
       "  Date                 \n",
       "  2000-03-13  57.798771\n",
       "  2000-03-14  63.423832\n",
       "  2000-03-15  58.624466\n",
       "  2000-03-16  58.314831\n",
       "  2000-03-17  57.231113\n",
       "  ...               ...\n",
       "  2018-08-09  24.814741\n",
       "  2018-08-10  23.803455\n",
       "  2018-08-13  23.937021\n",
       "  2018-08-14  23.784374\n",
       "  2018-08-15  22.925730\n",
       "  \n",
       "  [4637 rows x 1 columns],\n",
       "  'LIN':              Adj Close\n",
       "  Date                  \n",
       "  2000-01-03   15.850115\n",
       "  2000-01-04   15.571684\n",
       "  2000-01-05   15.850115\n",
       "  2000-01-06   17.023455\n",
       "  2000-01-07   17.043341\n",
       "  ...                ...\n",
       "  2018-08-09  143.093521\n",
       "  2018-08-10  140.944580\n",
       "  2018-08-13  140.516632\n",
       "  2018-08-14  141.445404\n",
       "  2018-08-15  140.798920\n",
       "  \n",
       "  [4685 rows x 1 columns],\n",
       "  'MKGAF':             Adj Close\n",
       "  Date                 \n",
       "  2012-08-03  44.305164\n",
       "  2012-08-06  44.305164\n",
       "  2012-08-07  44.305164\n",
       "  2012-08-08  44.305164\n",
       "  2012-08-09  44.305164\n",
       "  ...               ...\n",
       "  2018-08-09  97.195534\n",
       "  2018-08-10  97.195534\n",
       "  2018-08-13  93.391220\n",
       "  2018-08-14  94.569633\n",
       "  2018-08-15  94.569633\n",
       "  \n",
       "  [1518 rows x 1 columns],\n",
       "  'MKKGY':             Adj Close\n",
       "  Date                 \n",
       "  2007-11-16   9.168535\n",
       "  2007-11-19   9.168535\n",
       "  2007-11-20   9.168535\n",
       "  2007-11-21   9.581120\n",
       "  2007-11-23   9.581120\n",
       "  ...               ...\n",
       "  2018-08-09  19.490168\n",
       "  2018-08-10  19.155731\n",
       "  2018-08-13  18.904905\n",
       "  2018-08-14  19.016384\n",
       "  2018-08-15  18.988512\n",
       "  \n",
       "  [2705 rows x 1 columns],\n",
       "  'MURGY':             Adj Close\n",
       "  Date                 \n",
       "  2008-10-17   0.133328\n",
       "  2008-10-20   0.137399\n",
       "  2008-10-21   0.124677\n",
       "  2008-10-22   0.115517\n",
       "  2008-10-23   0.124677\n",
       "  ...               ...\n",
       "  2018-08-09   1.279297\n",
       "  2018-08-10   1.254438\n",
       "  2018-08-13   1.265352\n",
       "  2018-08-14   1.259289\n",
       "  2018-08-15   1.248982\n",
       "  \n",
       "  [2474 rows x 1 columns],\n",
       "  'RWEOY':             Adj Close\n",
       "  Date                 \n",
       "  2000-01-03  16.262627\n",
       "  2000-01-04  15.953844\n",
       "  2000-01-05  15.850913\n",
       "  2000-01-06  15.850913\n",
       "  2000-01-07  16.056770\n",
       "  ...               ...\n",
       "  2018-08-09  20.770231\n",
       "  2018-08-10  20.240728\n",
       "  2018-08-13  20.368835\n",
       "  2018-08-14  21.154552\n",
       "  2018-08-15  20.590885\n",
       "  \n",
       "  [4685 rows x 1 columns],\n",
       "  'SAP':              Adj Close\n",
       "  Date                  \n",
       "  2000-01-03   36.803890\n",
       "  2000-01-04   33.531433\n",
       "  2000-01-05   32.321072\n",
       "  2000-01-06   32.186592\n",
       "  2000-01-07   43.034985\n",
       "  ...                ...\n",
       "  2018-08-09  104.465820\n",
       "  2018-08-10  101.910385\n",
       "  2018-08-13  103.030083\n",
       "  2018-08-14  103.093285\n",
       "  2018-08-15  102.235458\n",
       "  \n",
       "  [4685 rows x 1 columns],\n",
       "  'SAPGF':              Adj Close\n",
       "  Date                  \n",
       "  2000-01-03  422.914917\n",
       "  2000-01-04  393.310883\n",
       "  2000-01-05  393.310883\n",
       "  2000-01-06  393.310883\n",
       "  2000-01-07  455.056366\n",
       "  ...                ...\n",
       "  2018-08-09  106.400101\n",
       "  2018-08-10  106.400101\n",
       "  2018-08-13  104.514801\n",
       "  2018-08-14  104.304306\n",
       "  2018-08-15  104.304306\n",
       "  \n",
       "  [4685 rows x 1 columns],\n",
       "  'SMAWF':              Adj Close\n",
       "  Date                  \n",
       "  2011-04-13  101.606850\n",
       "  2011-04-14  101.606850\n",
       "  2011-04-15  101.606850\n",
       "  2011-04-18   98.870079\n",
       "  2011-04-19   99.885101\n",
       "  ...                ...\n",
       "  2018-08-09  114.487541\n",
       "  2018-08-10  114.487541\n",
       "  2018-08-13  111.649750\n",
       "  2018-08-14  111.428047\n",
       "  2018-08-15  111.428047\n",
       "  \n",
       "  [1848 rows x 1 columns],\n",
       "  'SIEGY':             Adj Close\n",
       "  Date                 \n",
       "  2000-01-03  21.685289\n",
       "  2000-01-04  21.168970\n",
       "  2000-01-05  20.480551\n",
       "  2000-01-06  20.028770\n",
       "  2000-01-07  20.953835\n",
       "  ...               ...\n",
       "  2018-08-09  53.757202\n",
       "  2018-08-10  52.452526\n",
       "  2018-08-13  52.261406\n",
       "  2018-08-14  52.510700\n",
       "  2018-08-15  51.779430\n",
       "  \n",
       "  [4685 rows x 1 columns],\n",
       "  'SI': Empty DataFrame\n",
       "  Columns: [Adj Close]\n",
       "  Index: [],\n",
       "  'VLKAF':              Adj Close\n",
       "  Date                  \n",
       "  2010-01-05   71.821175\n",
       "  2010-01-06   71.821175\n",
       "  2010-01-07   71.821175\n",
       "  2010-01-08   73.807007\n",
       "  2010-01-11   74.137993\n",
       "  ...                ...\n",
       "  2018-08-09  118.076714\n",
       "  2018-08-10  116.964478\n",
       "  2018-08-13  115.837860\n",
       "  2018-08-14  114.474495\n",
       "  2018-08-15  114.488846\n",
       "  \n",
       "  [2169 rows x 1 columns],\n",
       "  'VWAGY':             Adj Close\n",
       "  Date                 \n",
       "  2003-01-02   2.647939\n",
       "  2003-01-03   2.864097\n",
       "  2003-01-06   2.900124\n",
       "  2003-01-07   2.846084\n",
       "  2003-01-08   2.719992\n",
       "  ...               ...\n",
       "  2018-08-09  12.043619\n",
       "  2018-08-10  11.647330\n",
       "  2018-08-13  11.532044\n",
       "  2018-08-14  11.456388\n",
       "  2018-08-15  11.261847\n",
       "  \n",
       "  [3933 rows x 1 columns],\n",
       "  'VNNVF':             Adj Close\n",
       "  Date                 \n",
       "  2013-10-31  19.125786\n",
       "  2013-11-01  19.125786\n",
       "  2013-11-04  19.125786\n",
       "  2013-11-05  19.125786\n",
       "  2013-11-06  19.125786\n",
       "  ...               ...\n",
       "  2018-08-09  40.579971\n",
       "  2018-08-10  40.579971\n",
       "  2018-08-13  40.579971\n",
       "  2018-08-14  39.843048\n",
       "  2018-08-15  39.843048\n",
       "  \n",
       "  [1206 rows x 1 columns],\n",
       "  'VONOY':             Adj Close\n",
       "  Date                 \n",
       "  2015-11-11  12.248202\n",
       "  2015-11-12  12.248202\n",
       "  2015-11-13  12.248202\n",
       "  2015-11-16  12.248202\n",
       "  2015-11-17  12.248202\n",
       "  ...               ...\n",
       "  2018-08-09  19.108147\n",
       "  2018-08-10  19.108147\n",
       "  2018-08-13  19.108147\n",
       "  2018-08-14  19.108147\n",
       "  2018-08-15  19.108147\n",
       "  \n",
       "  [695 rows x 1 columns],\n",
       "  'EADSF':              Adj Close\n",
       "  Date                  \n",
       "  2009-02-13   15.057961\n",
       "  2009-02-17   14.318123\n",
       "  2009-02-18   14.056999\n",
       "  2009-02-19   14.056999\n",
       "  2009-02-20   14.056999\n",
       "  ...                ...\n",
       "  2018-08-09  119.839722\n",
       "  2018-08-10  116.973892\n",
       "  2018-08-13  117.976936\n",
       "  2018-08-14  117.642593\n",
       "  2018-08-15  114.318214\n",
       "  \n",
       "  [2393 rows x 1 columns],\n",
       "  'EADSY':             Adj Close\n",
       "  Date                 \n",
       "  2007-01-09   6.561996\n",
       "  2007-01-10   6.306586\n",
       "  2007-01-11   6.453937\n",
       "  2007-01-12   6.267294\n",
       "  2007-01-16   6.267294\n",
       "  ...               ...\n",
       "  2018-08-09  28.878176\n",
       "  2018-08-10  28.287128\n",
       "  2018-08-13  28.388714\n",
       "  2018-08-14  28.407183\n",
       "  2018-08-15  27.622202\n",
       "  \n",
       "  [2922 rows x 1 columns],\n",
       "  'BNTGY':             Adj Close\n",
       "  Date                 \n",
       "  2012-12-31   7.097436\n",
       "  2013-01-02   7.097436\n",
       "  2013-01-03   7.097436\n",
       "  2013-01-04   7.097436\n",
       "  2013-01-07   7.092226\n",
       "  ...               ...\n",
       "  2018-08-09  10.415461\n",
       "  2018-08-10  10.177024\n",
       "  2018-08-13  10.071147\n",
       "  2018-08-14  10.079755\n",
       "  2018-08-15  10.028108\n",
       "  \n",
       "  [1417 rows x 1 columns],\n",
       "  'BNTGF':             Adj Close\n",
       "  Date                 \n",
       "  2012-05-15  30.623304\n",
       "  2012-05-16  30.623304\n",
       "  2012-05-17  30.623304\n",
       "  2012-05-18  29.195944\n",
       "  2012-05-21  29.195944\n",
       "  ...               ...\n",
       "  2018-08-09  51.809589\n",
       "  2018-08-10  51.809589\n",
       "  2018-08-13  51.809589\n",
       "  2018-08-14  51.809589\n",
       "  2018-08-15  48.749287\n",
       "  \n",
       "  [1574 rows x 1 columns],\n",
       "  'HVRRY':             Adj Close\n",
       "  Date                 \n",
       "  2010-01-05   4.300411\n",
       "  2010-01-06   4.179273\n",
       "  2010-01-07   4.080632\n",
       "  2010-01-08   4.075440\n",
       "  2010-01-11   4.136009\n",
       "  ...               ...\n",
       "  2018-08-09  18.049593\n",
       "  2018-08-10  17.659258\n",
       "  2018-08-13  17.484282\n",
       "  2018-08-14  17.282385\n",
       "  2018-08-15  17.115480\n",
       "  \n",
       "  [2169 rows x 1 columns],\n",
       "  'MTUAF':              Adj Close\n",
       "  Date                  \n",
       "  2014-02-04   76.693878\n",
       "  2014-02-05   76.693878\n",
       "  2014-02-06   76.693878\n",
       "  2014-02-07   76.693878\n",
       "  2014-02-10   76.693878\n",
       "  ...                ...\n",
       "  2018-08-09  132.538727\n",
       "  2018-08-10  132.538727\n",
       "  2018-08-13  132.538727\n",
       "  2018-08-14  132.538727\n",
       "  2018-08-15  132.538727\n",
       "  \n",
       "  [1142 rows x 1 columns],\n",
       "  'MTUAY':             Adj Close\n",
       "  Date                 \n",
       "  2010-01-20  21.875610\n",
       "  2010-01-21  21.599705\n",
       "  2010-01-22  20.338404\n",
       "  2010-01-25  20.811388\n",
       "  2010-01-26  20.511833\n",
       "  ...               ...\n",
       "  2018-08-09  98.190506\n",
       "  2018-08-10  98.078430\n",
       "  2018-08-13  98.573441\n",
       "  2018-08-14  99.180534\n",
       "  2018-08-15  98.853630\n",
       "  \n",
       "  [2159 rows x 1 columns],\n",
       "  'PMMAF':             Adj Close\n",
       "  Date                 \n",
       "  2012-08-17  25.806990\n",
       "  2012-08-20  25.806990\n",
       "  2012-08-21  25.806990\n",
       "  2012-08-22  25.806990\n",
       "  2012-08-23  25.806990\n",
       "  ...               ...\n",
       "  2018-08-09  46.739246\n",
       "  2018-08-10  46.431255\n",
       "  2018-08-13  45.961220\n",
       "  2018-08-14  46.327965\n",
       "  2018-08-15  46.327965\n",
       "  \n",
       "  [1508 rows x 1 columns],\n",
       "  'PUMSY':             Adj Close\n",
       "  Date                 \n",
       "  2018-01-11   3.994572\n",
       "  2018-01-12   3.496560\n",
       "  2018-01-16   3.496560\n",
       "  2018-01-17   3.496560\n",
       "  2018-01-18   3.496560\n",
       "  ...               ...\n",
       "  2018-08-09   4.689694\n",
       "  2018-08-10   4.689694\n",
       "  2018-08-13   4.689694\n",
       "  2018-08-14   4.689694\n",
       "  2018-08-15   4.689694\n",
       "  \n",
       "  [150 rows x 1 columns],\n",
       "  'QGEN':             Adj Close\n",
       "  Date                 \n",
       "  2000-01-03  19.774559\n",
       "  2000-01-04  18.207066\n",
       "  2000-01-05  18.689371\n",
       "  2000-01-06  18.146776\n",
       "  2000-01-07  19.292255\n",
       "  ...               ...\n",
       "  2018-08-09  37.184284\n",
       "  2018-08-10  37.126091\n",
       "  2018-08-13  36.689659\n",
       "  2018-08-14  36.757549\n",
       "  2018-08-15  35.952568\n",
       "  \n",
       "  [4685 rows x 1 columns],\n",
       "  'SUVPF':              Adj Close\n",
       "  Date                  \n",
       "  2014-07-30   28.944500\n",
       "  2014-07-31   28.944500\n",
       "  2014-08-01   28.944500\n",
       "  2014-08-04   28.944500\n",
       "  2014-08-05   28.944500\n",
       "  ...                ...\n",
       "  2018-08-09  163.666260\n",
       "  2018-08-10  162.138046\n",
       "  2018-08-13  162.680328\n",
       "  2018-08-14  162.680328\n",
       "  2018-08-15  162.680328\n",
       "  \n",
       "  [1020 rows x 1 columns],\n",
       "  'SARTF':              Adj Close\n",
       "  Date                  \n",
       "  2010-09-22    6.071759\n",
       "  2010-09-23    6.071759\n",
       "  2010-09-24    6.071759\n",
       "  2010-09-27    6.071759\n",
       "  2010-09-28    6.071759\n",
       "  ...                ...\n",
       "  2018-08-09  118.939224\n",
       "  2018-08-10  118.939224\n",
       "  2018-08-13  146.703613\n",
       "  2018-08-14  146.703613\n",
       "  2018-08-15  146.703613\n",
       "  \n",
       "  [1989 rows x 1 columns],\n",
       "  'SOAGY': Empty DataFrame\n",
       "  Columns: [Adj Close]\n",
       "  Index: [],\n",
       "  'SSSGY': Empty DataFrame\n",
       "  Columns: [Adj Close]\n",
       "  Index: [],\n",
       "  'SMMNY':             Adj Close\n",
       "  Date                 \n",
       "  2018-05-14  19.131046\n",
       "  2018-05-15  19.131046\n",
       "  2018-05-16  18.897741\n",
       "  2018-05-17  18.636438\n",
       "  2018-05-18  18.636438\n",
       "  ...               ...\n",
       "  2018-08-09  20.577539\n",
       "  2018-08-10  20.120260\n",
       "  2018-08-13  20.306906\n",
       "  2018-08-14  20.332106\n",
       "  2018-08-15  20.213583\n",
       "  \n",
       "  [66 rows x 1 columns],\n",
       "  'SYIEY':             Adj Close\n",
       "  Date                 \n",
       "  2010-01-20   4.422658\n",
       "  2010-01-21   4.312387\n",
       "  2010-01-22   4.312387\n",
       "  2010-01-25   4.469918\n",
       "  2010-01-26   4.519146\n",
       "  ...               ...\n",
       "  2018-08-09  20.998905\n",
       "  2018-08-10  20.367428\n",
       "  2018-08-13  20.461681\n",
       "  2018-08-14  21.536129\n",
       "  2018-08-15  20.819830\n",
       "  \n",
       "  [2159 rows x 1 columns],\n",
       "  'SYIEF':             Adj Close\n",
       "  Date                 \n",
       "  2008-06-25  19.225388\n",
       "  2008-06-26  19.225388\n",
       "  2008-06-27  19.926081\n",
       "  2008-06-30  19.050209\n",
       "  2008-07-01  19.269180\n",
       "  ...               ...\n",
       "  2018-08-09  84.764641\n",
       "  2018-08-10  84.764641\n",
       "  2018-08-13  84.764641\n",
       "  2018-08-14  84.764641\n",
       "  2018-08-15  84.764641\n",
       "  \n",
       "  [2554 rows x 1 columns],\n",
       "  'ZLDSF':             Adj Close\n",
       "  Date                 \n",
       "  2015-04-01  26.000000\n",
       "  2015-04-02  26.000000\n",
       "  2015-04-06  26.000000\n",
       "  2015-04-07  26.000000\n",
       "  2015-04-08  26.000000\n",
       "  ...               ...\n",
       "  2018-08-09  55.349998\n",
       "  2018-08-10  55.349998\n",
       "  2018-08-13  55.349998\n",
       "  2018-08-14  55.349998\n",
       "  2018-08-15  55.349998\n",
       "  \n",
       "  [851 rows x 1 columns],\n",
       "  'ZLNDY':             Adj Close\n",
       "  Date                 \n",
       "  2015-09-25  16.500000\n",
       "  2015-09-28  16.500000\n",
       "  2015-09-29  16.500000\n",
       "  2015-09-30  16.500000\n",
       "  2015-10-01  16.500000\n",
       "  ...               ...\n",
       "  2018-08-09  26.142000\n",
       "  2018-08-10  25.768999\n",
       "  2018-08-13  25.618000\n",
       "  2018-08-14  25.475000\n",
       "  2018-08-15  25.125000\n",
       "  \n",
       "  [728 rows x 1 columns],\n",
       "  'SMEGF': Empty DataFrame\n",
       "  Columns: [Adj Close]\n",
       "  Index: [],\n",
       "  'SMNEY': Empty DataFrame\n",
       "  Columns: [Adj Close]\n",
       "  Index: [],\n",
       "  'POAHY':             Adj Close\n",
       "  Date                 \n",
       "  2010-01-20   3.554344\n",
       "  2010-01-21   3.478257\n",
       "  2010-01-22   3.396736\n",
       "  2010-01-25   3.320649\n",
       "  2010-01-26   3.320649\n",
       "  ...               ...\n",
       "  2018-08-09   5.101451\n",
       "  2018-08-10   4.906143\n",
       "  2018-08-13   4.851457\n",
       "  2018-08-14   4.859269\n",
       "  2018-08-15   4.749896\n",
       "  \n",
       "  [2159 rows x 1 columns],\n",
       "  'DTRUY': Empty DataFrame\n",
       "  Columns: [Adj Close]\n",
       "  Index: [],\n",
       "  'MBGAF':             Adj Close\n",
       "  Date                 \n",
       "  2000-01-03  34.950985\n",
       "  2000-01-04  34.174297\n",
       "  2000-01-05  34.461956\n",
       "  2000-01-06  34.260593\n",
       "  2000-01-07  35.209873\n",
       "  ...               ...\n",
       "  2018-08-09  48.413788\n",
       "  2018-08-10  46.569794\n",
       "  2018-08-13  46.448757\n",
       "  2018-08-14  45.900543\n",
       "  2018-08-15  44.675957\n",
       "  \n",
       "  [4685 rows x 1 columns]}}"
      ]
     },
     "execution_count": 5,
     "metadata": {},
     "output_type": "execute_result"
    }
   ],
   "source": [
    "# Collect daily price data\n",
    "from tqdm import tqdm\n",
    "\n",
    "start_date, end_date = '2000-01-01', '2018-08-16' # same as denoted in the paper\n",
    "\n",
    "data = {\n",
    "    'NASDAQ 100': {},\n",
    "    'FTSE 100': {},\n",
    "    'CAC 40': {},\n",
    "    'DAX': {}\n",
    "}\n",
    "\n",
    "for index in indices:\n",
    "    print(index)\n",
    "    for ticker in tqdm(indices[index]):\n",
    "        \n",
    "        try:\n",
    "            data[index][ticker] = yf.download(ticker, start=start_date, end=end_date)[['Adj Close']]\n",
    "        except Exception as e:\n",
    "            continue\n",
    "            \n",
    "data"
   ]
  },
  {
   "cell_type": "code",
   "execution_count": 6,
   "id": "09bdefaf",
   "metadata": {},
   "outputs": [
    {
     "name": "stdout",
     "output_type": "stream",
     "text": [
      "110\n",
      "179\n",
      "71\n",
      "69\n"
     ]
    }
   ],
   "source": [
    "for index in data:\n",
    "    print(len(data[index])) # check total number of assets per index"
   ]
  },
  {
   "cell_type": "code",
   "execution_count": 7,
   "id": "1dc387a2",
   "metadata": {},
   "outputs": [
    {
     "name": "stdout",
     "output_type": "stream",
     "text": [
      "60\n",
      "23\n",
      "9\n",
      "14\n"
     ]
    }
   ],
   "source": [
    "for index in data:\n",
    "    num = 0\n",
    "    for ticker in data[index]: # check total number of assets with whole data from start to end\n",
    "        if len(data[index][ticker]) == 4685:\n",
    "            num += 1\n",
    "    print(num)"
   ]
  },
  {
   "cell_type": "code",
   "execution_count": 8,
   "id": "1cf4538b",
   "metadata": {},
   "outputs": [
    {
     "name": "stdout",
     "output_type": "stream",
     "text": [
      "NASDAQ 100\n"
     ]
    },
    {
     "name": "stderr",
     "output_type": "stream",
     "text": [
      "100%|██████████| 110/110 [00:00<00:00, 27465.97it/s]\n"
     ]
    },
    {
     "name": "stdout",
     "output_type": "stream",
     "text": [
      "FTSE 100\n"
     ]
    },
    {
     "name": "stderr",
     "output_type": "stream",
     "text": [
      "100%|██████████| 179/179 [00:00<00:00, 59652.03it/s]\n"
     ]
    },
    {
     "name": "stdout",
     "output_type": "stream",
     "text": [
      "CAC 40\n"
     ]
    },
    {
     "name": "stderr",
     "output_type": "stream",
     "text": [
      "100%|██████████| 71/71 [00:00<00:00, 71089.90it/s]\n"
     ]
    },
    {
     "name": "stdout",
     "output_type": "stream",
     "text": [
      "DAX\n"
     ]
    },
    {
     "name": "stderr",
     "output_type": "stream",
     "text": [
      "100%|██████████| 69/69 [00:00<00:00, 33380.27it/s]\n"
     ]
    },
    {
     "data": {
      "text/plain": [
       "{'NASDAQ 100':                   AZN       AAPL       CSCO       INTC        MSFT        WBA  \\\n",
       " Date                                                                            \n",
       " 2000-01-03   8.421753   0.844004  36.054466  24.710653   35.935867  16.678347   \n",
       " 2000-01-04   8.140175   0.772846  34.031750  23.556787   34.721943  16.057924   \n",
       " 2000-01-05   8.178574   0.784155  33.927483  23.752062   35.088039  16.240406   \n",
       " 2000-01-06   8.152970   0.716296  33.364460  22.367403   33.912647  15.765970   \n",
       " 2000-01-07   8.498547   0.750226  35.324612  23.290503   34.355862  16.167423   \n",
       " ...               ...        ...        ...        ...         ...        ...   \n",
       " 2018-08-09  33.956604  49.584335  36.189068  42.881687  102.735336  49.668030   \n",
       " 2018-08-10  33.759430  49.436649  36.189068  41.778427  102.107742  49.908222   \n",
       " 2018-08-13  33.450821  49.755844  36.164272  41.436333  101.367661  49.900730   \n",
       " 2018-08-14  33.416531  49.965481  36.370918  41.154099  102.632309  51.537064   \n",
       " 2018-08-15  32.962170  50.082211  36.255203  40.589642  101.240562  51.589619   \n",
       " \n",
       "                   ADBE       AMZN        AMGN        ADI  ...       CPRT  \\\n",
       " Date                                                      ...              \n",
       " 2000-01-03   16.274672   4.468750   44.614407  28.214642  ...   0.812500   \n",
       " 2000-01-04   14.909399   4.096875   41.202991  26.787292  ...   0.710938   \n",
       " 2000-01-05   15.204175   3.487500   42.620724  27.178356  ...   0.705729   \n",
       " 2000-01-06   15.328291   3.278125   43.329590  26.435345  ...   0.656250   \n",
       " 2000-01-07   16.072983   3.478125   48.203056  27.178356  ...   0.731771   \n",
       " ...                ...        ...         ...        ...  ...        ...   \n",
       " 2018-08-09  253.800003  94.926003  160.661331  86.886429  ...  15.000000   \n",
       " 2018-08-10  253.699997  94.315002  161.034042  84.397369  ...  15.057500   \n",
       " 2018-08-13  253.539993  94.809998  162.019684  84.566246  ...  14.825000   \n",
       " 2018-08-14  256.049988  95.982498  162.143936  84.317337  ...  14.877500   \n",
       " 2018-08-15  250.520004  94.130997  161.729797  83.348381  ...  15.015000   \n",
       " \n",
       "                   IDXX        KLAC       SNPS        VRSN        ASML  \\\n",
       " Date                                                                    \n",
       " 2000-01-03    4.015625   28.864374  32.781250  161.444855   26.873346   \n",
       " 2000-01-04    3.656250   27.633976  30.437500  159.958847   25.083714   \n",
       " 2000-01-05    3.765625   26.253952  30.703125  151.148895   24.390945   \n",
       " 2000-01-06    3.750000   26.453465  28.468750  131.724564   22.889969   \n",
       " 2000-01-07    3.953125   28.016409  28.750000  144.209732   23.409531   \n",
       " ...                ...         ...        ...         ...         ...   \n",
       " 2018-08-09  244.630005  105.718521  93.419998  153.350006  196.783798   \n",
       " 2018-08-10  243.520004  103.418900  93.529999  152.919998  191.816498   \n",
       " 2018-08-13  240.570007  105.157173  92.870003  152.539993  192.578506   \n",
       " 2018-08-14  243.369995  105.084267  93.199997  154.000000  193.434647   \n",
       " 2018-08-15  241.570007  102.742378  92.639999  153.460007  185.466171   \n",
       " \n",
       "                  ODFL        PEP        XEL       MTCH  \n",
       " Date                                                    \n",
       " 2000-01-03   0.478757  19.909145   6.848377   7.163970  \n",
       " 2000-01-04   0.468118  19.402969   7.006067   6.587558  \n",
       " 2000-01-05   0.526633  18.930550   7.276400   6.340525  \n",
       " 2000-01-06   0.478757  19.774158   7.208815   6.604028  \n",
       " 2000-01-07   0.478757  20.314075   7.208815   6.571090  \n",
       " ...               ...        ...        ...        ...  \n",
       " 2018-08-09  47.810444  94.907921  39.527454  46.902767  \n",
       " 2018-08-10  47.641438  94.215096  39.436184  48.368481  \n",
       " 2018-08-13  46.887386  94.340309  39.436184  47.578518  \n",
       " 2018-08-14  47.231918  94.407097  39.378113  46.112808  \n",
       " 2018-08-15  47.108395  94.699249  39.743183  44.647095  \n",
       " \n",
       " [4685 rows x 60 columns],\n",
       " 'FTSE 100':                   AZN        BCS         BP        BTI        CRH         DEO  \\\n",
       " Date                                                                            \n",
       " 2000-01-03   8.421756  11.420943  18.446037   1.383741   9.858744   14.827251   \n",
       " 2000-01-04   8.140174  11.025413  18.348022   1.391603   9.637193   15.087381   \n",
       " 2000-01-05   8.178571  10.827646  18.975302   1.462363   9.747965   15.318603   \n",
       " 2000-01-06   8.152973  10.481559  19.014513   1.399465   9.637193   17.052788   \n",
       " 2000-01-07   8.498546  10.234354  18.661663   1.375879  10.052590   17.139490   \n",
       " ...               ...        ...        ...        ...        ...         ...   \n",
       " 2018-08-09  33.956612   7.949903  31.337601  33.121059  27.481190  124.719505   \n",
       " 2018-08-10  33.759434   7.742584  30.948849  32.698471  27.051401  123.558411   \n",
       " 2018-08-13  33.450817   7.615003  30.725676  32.551487  27.017693  123.558411   \n",
       " 2018-08-14  33.416534   7.638925  30.675289  32.673973  27.051401  124.173599   \n",
       " 2018-08-15  32.962173   7.447554  29.897778  32.422871  26.689028  121.938110   \n",
       " \n",
       "                   GSK       HSBC      IMBBY      ICAGY  ...        RTO  \\\n",
       " Date                                                    ...              \n",
       " 2000-01-03  18.016439  20.691248   1.669715   7.462589  ...  11.534008   \n",
       " 2000-01-04  17.550323  19.428913   1.689436   7.541826  ...  12.037172   \n",
       " 2000-01-05  18.138042  19.319145   1.774894   7.585045  ...  11.650123   \n",
       " 2000-01-06  17.874586  18.770306   1.945810   7.721908  ...  12.153281   \n",
       " 2000-01-07  18.806818  19.300858   1.958956   7.635468  ...  13.464406   \n",
       " ...               ...        ...        ...        ...  ...        ...   \n",
       " 2018-08-09  30.949453  33.011135  22.689713  12.662505  ...  20.403358   \n",
       " 2018-08-10  30.411667  32.603504  22.403708  12.504851  ...  20.213331   \n",
       " 2018-08-13  30.123833  32.322388  22.534798  12.411691  ...  20.120186   \n",
       " 2018-08-14  30.146557  32.343460  22.552670  12.526349  ...  20.250593   \n",
       " 2018-08-15  30.646471  31.816355  22.391788  12.375861  ...  20.064299   \n",
       " \n",
       "                 RYCEY        SNN      TSCDY         UL      UUGRY        VOD  \\\n",
       " Date                                                                           \n",
       " 2000-01-03   2.170321   4.295828   5.553475   7.218082   4.995940  17.386530   \n",
       " 2000-01-04   2.213439   4.391645   5.553475   7.113037   4.995940  16.552328   \n",
       " 2000-01-05   2.155947   4.399631   5.553475   7.413170   4.995940  16.157177   \n",
       " 2000-01-06   2.170321   4.399631   5.553475   7.563230   4.995940  15.827884   \n",
       " 2000-01-07   2.206253   4.423586   5.553475   7.983410   5.278729  16.157177   \n",
       " ...               ...        ...        ...        ...        ...        ...   \n",
       " 2018-08-09  13.629587  30.686695  10.109216  46.234444  14.651991  15.783205   \n",
       " 2018-08-10  12.968236  30.282358  10.079424  45.242424  14.476473  15.437966   \n",
       " 2018-08-13  12.853218  30.368397   9.930466  45.445702  14.430686  15.288144   \n",
       " 2018-08-14  12.824463  30.471632   9.811302  45.551411  14.629099  15.092730   \n",
       " 2018-08-15  12.402732  30.273762   9.582901  45.388794  14.560415  14.806114   \n",
       " \n",
       "                   WPP        RIO      HBRIY  \n",
       " Date                                         \n",
       " 2000-01-03  37.906769   6.170418   0.270493  \n",
       " 2000-01-04  37.846401   6.186656   0.270493  \n",
       " 2000-01-05  35.613052   6.194774   0.270493  \n",
       " 2000-01-06  33.862587   6.235372   0.270493  \n",
       " 2000-01-07  35.703594   6.271905   0.270493  \n",
       " ...               ...        ...        ...  \n",
       " 2018-08-09  56.418270  29.387257  25.399233  \n",
       " 2018-08-10  56.830555  28.914396  25.399233  \n",
       " 2018-08-13  56.570179  28.885204  25.566334  \n",
       " 2018-08-14  56.280830  28.622511  25.566334  \n",
       " 2018-08-15  57.394753  27.688471  23.394032  \n",
       " \n",
       " [4685 rows x 23 columns],\n",
       " 'CAC 40':                    MT      AXAHY      DANOY      DASTY       ORAN        STM  \\\n",
       " Date                                                                           \n",
       " 2000-01-03  33.778812  11.476772   2.993033   5.601310  32.625160  31.232250   \n",
       " 2000-01-04  35.119232  10.998575   2.917007   5.084584  30.374744  29.282600   \n",
       " 2000-01-05  35.789463  11.248069   2.977028   4.836555  29.725132  27.647404   \n",
       " 2000-01-06  36.995850  11.060948   3.129080   4.805552  28.743488  25.421030   \n",
       " 2000-01-07  38.470303  11.622308   3.153088   5.105253  29.604313  26.389559   \n",
       " ...               ...        ...        ...        ...        ...        ...   \n",
       " 2018-08-09  29.455793  18.241776  12.839262  28.895189  11.505393  20.657602   \n",
       " 2018-08-10  28.432629  17.673937  12.553400  28.597878  11.154660  19.412825   \n",
       " 2018-08-13  28.094704  17.496490  12.618741  28.906847  11.175291  19.526850   \n",
       " 2018-08-14  27.869423  17.425508  12.667746  29.489801  11.161537  19.222780   \n",
       " 2018-08-15  26.508335  17.255157  12.463560  28.965143  11.099643  18.557640   \n",
       " \n",
       "                   TTE          BA          GE  \n",
       " Date                                           \n",
       " 2000-01-03   9.654003   25.940271  130.577530  \n",
       " 2000-01-04   9.372733   25.899937  125.354408  \n",
       " 2000-01-05   9.372733   27.513655  125.136757  \n",
       " 2000-01-06   9.164048   27.796051  126.809807  \n",
       " 2000-01-07   9.136826   28.602900  131.720062  \n",
       " ...               ...         ...         ...  \n",
       " 2018-08-09  43.462196  332.456451   59.860912  \n",
       " 2018-08-10  42.086975  328.287689   59.074478  \n",
       " 2018-08-13  41.875931  327.272064   57.594151  \n",
       " 2018-08-14  41.481060  328.026489   57.131535  \n",
       " 2018-08-15  40.078625  320.888367   56.530151  \n",
       " \n",
       " [4685 rows x 9 columns],\n",
       " 'DAX':                 BASFY      BAYRY      CTTAY         DB      DTEGY     EONGY  \\\n",
       " Date                                                                          \n",
       " 2000-01-03   2.268723   5.745192   2.483173  53.584801  26.076778  4.531549   \n",
       " 2000-01-04   2.185721   5.637083   2.499193  52.845139  24.371675  4.399617   \n",
       " 2000-01-05   2.158053   5.451755   2.611336  54.160091  24.644489  4.531549   \n",
       " 2000-01-06   2.191254   5.652527   2.611336  55.392879  22.939386  4.634799   \n",
       " 2000-01-07   2.301924   5.884189   2.579296  57.858425  24.348940  4.806882   \n",
       " ...               ...        ...        ...        ...        ...       ...   \n",
       " 2018-08-09  16.144058  22.464560  36.990166  11.237883  14.245970  8.281525   \n",
       " 2018-08-10  15.601987  21.642488  36.013390  10.712240  13.785864  7.977057   \n",
       " 2018-08-13  15.622834  19.200687  36.353138  10.376917  13.855313  8.015116   \n",
       " 2018-08-14  15.622834  19.347195  36.055859  10.413168  13.872676  8.114067   \n",
       " 2018-08-15  15.289248  18.614658  35.274437  10.141283  13.690369  8.045562   \n",
       " \n",
       "                   FMS         LIN      RWEOY         SAP       SAPGF  \\\n",
       " Date                                                                   \n",
       " 2000-01-03   9.290113   15.850115  16.262627   36.803890  422.914917   \n",
       " 2000-01-04   9.059954   15.571684  15.953844   33.531433  393.310883   \n",
       " 2000-01-05   8.955334   15.850115  15.850913   32.321072  393.310883   \n",
       " 2000-01-06   8.850718   17.023455  15.850913   32.186592  393.310883   \n",
       " 2000-01-07   9.059954   17.043341  16.056770   43.034985  455.056366   \n",
       " ...               ...         ...        ...         ...         ...   \n",
       " 2018-08-09  42.648968  143.093521  20.770231  104.465820  106.400101   \n",
       " 2018-08-10  41.931156  140.944580  20.240728  101.910385  106.400101   \n",
       " 2018-08-13  42.097473  140.516632  20.368835  103.030083  104.514801   \n",
       " 2018-08-14  42.228783  141.445404  21.154552  103.093285  104.304306   \n",
       " 2018-08-15  41.633522  140.798920  20.590885  102.235458  104.304306   \n",
       " \n",
       "                 SIEGY       QGEN      MBGAF  \n",
       " Date                                         \n",
       " 2000-01-03  21.685289  19.774559  34.950985  \n",
       " 2000-01-04  21.168970  18.207066  34.174297  \n",
       " 2000-01-05  20.480551  18.689371  34.461956  \n",
       " 2000-01-06  20.028770  18.146776  34.260593  \n",
       " 2000-01-07  20.953835  19.292255  35.209873  \n",
       " ...               ...        ...        ...  \n",
       " 2018-08-09  53.757202  37.184284  48.413788  \n",
       " 2018-08-10  52.452526  37.126091  46.569794  \n",
       " 2018-08-13  52.261406  36.689659  46.448757  \n",
       " 2018-08-14  52.510700  36.757549  45.900543  \n",
       " 2018-08-15  51.779430  35.952568  44.675957  \n",
       " \n",
       " [4685 rows x 14 columns]}"
      ]
     },
     "execution_count": 8,
     "metadata": {},
     "output_type": "execute_result"
    }
   ],
   "source": [
    "# Exclude assets that do not have whole data for the total period\n",
    "import pandas as pd\n",
    "\n",
    "final_data = {\n",
    "    'NASDAQ 100':None,\n",
    "    'FTSE 100': None,\n",
    "    'CAC 40': None,\n",
    "    'DAX': None\n",
    "}\n",
    "\n",
    "for index in data:\n",
    "    print(index)\n",
    "    cur_dfs = []\n",
    "    for ticker in tqdm(data[index]):\n",
    "        if len(data[index][ticker]) == 4685:\n",
    "            cur_df = data[index][ticker]\n",
    "            cur_df.columns = [ticker]\n",
    "            cur_dfs.append(cur_df)\n",
    "    final_data[index] = pd.concat(cur_dfs, axis=1)\n",
    "\n",
    "final_data"
   ]
  },
  {
   "cell_type": "code",
   "execution_count": 9,
   "id": "5d02742c",
   "metadata": {},
   "outputs": [
    {
     "data": {
      "text/plain": [
       "{'NASDAQ 100':                  AZN      AAPL      CSCO      INTC      MSFT       WBA  \\\n",
       " Date                                                                     \n",
       " 2000-01-04 -0.033435 -0.084310 -0.056102 -0.046695 -0.033780 -0.037199   \n",
       " 2000-01-05  0.004717  0.014634 -0.003064  0.008290  0.010544  0.011364   \n",
       " 2000-01-06 -0.003131 -0.086538 -0.016595 -0.058296 -0.033498 -0.029213   \n",
       " 2000-01-07  0.042387  0.047369  0.058750  0.041270  0.013069  0.025463   \n",
       " 2000-01-10 -0.003012 -0.017588  0.037190  0.045732  0.007290  0.029345   \n",
       " ...              ...       ...       ...       ...       ...       ...   \n",
       " 2015-10-28  0.024235  0.041205  0.010671  0.006962  0.005401 -0.107293   \n",
       " 2015-10-29  0.003736  0.010564 -0.007493 -0.019591 -0.011486 -0.012596   \n",
       " 2015-10-30 -0.010856 -0.008546 -0.009952 -0.004995 -0.013493  0.009537   \n",
       " 2015-11-02  0.012543  0.014059 -0.002773  0.007383  0.011398  0.022083   \n",
       " 2015-11-03  0.000619  0.011471 -0.005561  0.005863  0.017093  0.019411   \n",
       " \n",
       "                 ADBE      AMZN      AMGN       ADI  ...      CPRT      IDXX  \\\n",
       " Date                                                ...                       \n",
       " 2000-01-04 -0.083889 -0.083217 -0.076464 -0.050589  ... -0.124999 -0.089494   \n",
       " 2000-01-05  0.019771 -0.148741  0.034408  0.014599  ... -0.007327  0.029915   \n",
       " 2000-01-06  0.008163 -0.060036  0.016632 -0.027338  ... -0.070110 -0.004149   \n",
       " 2000-01-07  0.048583  0.061010  0.112474  0.028107  ...  0.115080  0.054167   \n",
       " 2000-01-10  0.038610 -0.005391  0.060662  0.087050  ...  0.014235  0.035573   \n",
       " ...              ...       ...       ...       ...  ...       ...       ...   \n",
       " 2015-10-28  0.005111  0.009967  0.004260  0.007656  ...  0.013799 -0.101903   \n",
       " 2015-10-29 -0.004294  0.015314 -0.012848 -0.030391  ...  0.001944  0.015090   \n",
       " 2015-10-30  0.006128 -0.001037 -0.014946  0.002334  ...  0.003881 -0.019154   \n",
       " 2015-11-02  0.014099  0.003914  0.026109  0.003659  ...  0.014361  0.014281   \n",
       " 2015-11-03  0.005005 -0.004838  0.000924  0.005303  ... -0.003267  0.006178   \n",
       " \n",
       "                 KLAC      SNPS      VRSN      ASML      ODFL       PEP  \\\n",
       " Date                                                                     \n",
       " 2000-01-04 -0.042627 -0.071497 -0.009204 -0.066595 -0.022222 -0.025424   \n",
       " 2000-01-05 -0.049939  0.008727 -0.055076 -0.027618  0.125001 -0.024348   \n",
       " 2000-01-06  0.007599 -0.072774 -0.128511 -0.061538 -0.090910  0.044563   \n",
       " 2000-01-07  0.059083  0.009879  0.094782  0.022698  0.000000  0.027304   \n",
       " 2000-01-10  0.106824  0.048913  0.070200  0.094945  0.111112 -0.019933   \n",
       " ...              ...       ...       ...       ...       ...       ...   \n",
       " 2015-10-28  0.007193  0.024509  0.013403  0.019552 -0.030018 -0.001943   \n",
       " 2015-10-29  0.007750 -0.011269 -0.001978 -0.013713  0.037531  0.000584   \n",
       " 2015-10-30  0.012063 -0.000600 -0.001734  0.007930 -0.017294 -0.005933   \n",
       " 2015-11-02 -0.008492  0.008803  0.013896  0.014226  0.008234 -0.007731   \n",
       " 2015-11-03 -0.000751  0.001983 -0.009667  0.010626  0.021137 -0.004734   \n",
       " \n",
       "                  XEL      MTCH  \n",
       " Date                            \n",
       " 2000-01-04  0.023026 -0.080460  \n",
       " 2000-01-05  0.038586 -0.037500  \n",
       " 2000-01-06 -0.009288  0.041558  \n",
       " 2000-01-07  0.000000 -0.004987  \n",
       " 2000-01-10  0.000000  0.117795  \n",
       " ...              ...       ...  \n",
       " 2015-10-28 -0.018518  0.020133  \n",
       " 2015-10-29 -0.013874  0.018977  \n",
       " 2015-10-30  0.002533 -0.001639  \n",
       " 2015-11-02  0.006174 -0.007909  \n",
       " 2015-11-03  0.001116 -0.005566  \n",
       " \n",
       " [3984 rows x 60 columns],\n",
       " 'FTSE 100':                  AZN       BCS        BP       BTI       CRH       DEO  \\\n",
       " Date                                                                     \n",
       " 2000-01-04 -0.033435 -0.034632 -0.005314  0.005682 -0.022473  0.017544   \n",
       " 2000-01-05  0.004717 -0.017937  0.034188  0.050848  0.011494  0.015325   \n",
       " 2000-01-06 -0.003130 -0.031963  0.002066 -0.043011 -0.011364  0.113208   \n",
       " 2000-01-07  0.042386 -0.023585 -0.018557 -0.016854  0.043104  0.005084   \n",
       " 2000-01-10 -0.003012  0.000604 -0.029412  0.011429 -0.016529 -0.011804   \n",
       " ...              ...       ...       ...       ...       ...       ...   \n",
       " 2015-10-28  0.024235  0.013021  0.026421  0.021959  0.020454  0.003683   \n",
       " 2015-10-29  0.003736 -0.070052 -0.000839 -0.002014 -0.014942  0.008038   \n",
       " 2015-10-30 -0.010856 -0.016586 -0.000280 -0.006728  0.012209 -0.002600   \n",
       " 2015-11-02  0.012543  0.026704  0.016246 -0.000762  0.020102  0.005995   \n",
       " 2015-11-03  0.000619 -0.009582  0.026185  0.003983 -0.008241 -0.000691   \n",
       " \n",
       "                  GSK      HSBC     IMBBY     ICAGY  ...       RTO     RYCEY  \\\n",
       " Date                                                ...                       \n",
       " 2000-01-04 -0.025872 -0.061008  0.011811  0.010618  ...  0.043624  0.019867   \n",
       " 2000-01-05  0.033488 -0.005650  0.050583  0.005731  ... -0.032155 -0.025974   \n",
       " 2000-01-06 -0.014525 -0.028409  0.096296  0.018044  ...  0.043189  0.006667   \n",
       " 2000-01-07  0.052154  0.028265  0.006756 -0.011194  ...  0.107882  0.016556   \n",
       " 2000-01-10  0.002155  0.000948 -0.006711 -0.011321  ...  0.023356 -0.003257   \n",
       " ...              ...       ...       ...       ...  ...       ...       ...   \n",
       " 2015-10-28  0.042635  0.009689  0.010034 -0.005362  ...  0.000000 -0.003854   \n",
       " 2015-10-29 -0.016999 -0.009343  0.007685 -0.014233  ...  0.000000  0.009671   \n",
       " 2015-10-30  0.006310 -0.004079  0.002325 -0.027346  ...  0.000000  0.015326   \n",
       " 2015-11-02  0.001161 -0.000768  0.001206  0.016869  ...  0.043783  0.012264   \n",
       " 2015-11-03 -0.014150 -0.000512 -0.001019 -0.007299  ...  0.000000  0.003728   \n",
       " \n",
       "                  SNN     TSCDY        UL     UUGRY       VOD       WPP  \\\n",
       " Date                                                                     \n",
       " 2000-01-04  0.022305  0.000000 -0.014553  0.000000 -0.047980 -0.001593   \n",
       " 2000-01-05  0.001818  0.000000  0.042195  0.000000 -0.023873 -0.059011   \n",
       " 2000-01-06  0.000000  0.000000  0.020242  0.000000 -0.020381 -0.049152   \n",
       " 2000-01-07  0.005445  0.000000  0.055556  0.056604  0.020805  0.054367   \n",
       " 2000-01-10  0.010830  0.028985 -0.035714  0.029762  0.086957  0.065089   \n",
       " ...              ...       ...       ...       ...       ...       ...   \n",
       " 2015-10-28  0.013475  0.017689  0.004121 -0.002314  0.013350  0.008393   \n",
       " 2015-10-29 -0.050353 -0.017381  0.003569  0.000663 -0.011976  0.005996   \n",
       " 2015-10-30  0.016383 -0.012972 -0.012002  0.002980 -0.000909 -0.003113   \n",
       " 2015-11-02  0.007620  0.010753  0.003374 -0.001651  0.007279  0.018294   \n",
       " 2015-11-03 -0.003200  0.007092 -0.000673 -0.011243  0.000301  0.005784   \n",
       " \n",
       "                  RIO     HBRIY  \n",
       " Date                            \n",
       " 2000-01-04  0.002632  0.000000  \n",
       " 2000-01-05  0.001312  0.000000  \n",
       " 2000-01-06  0.006554  0.000000  \n",
       " 2000-01-07  0.005859  0.000000  \n",
       " 2000-01-10 -0.009709  0.000000  \n",
       " ...              ...       ...  \n",
       " 2015-10-28 -0.008376 -0.037037  \n",
       " 2015-10-29 -0.022888 -0.028846  \n",
       " 2015-10-30  0.018126  0.000000  \n",
       " 2015-11-02 -0.009860  0.039604  \n",
       " 2015-11-03  0.007192  0.123810  \n",
       " \n",
       " [3984 rows x 23 columns],\n",
       " 'CAC 40':                   MT     AXAHY     DANOY     DASTY      ORAN       STM  \\\n",
       " Date                                                                     \n",
       " 2000-01-04  0.039682 -0.041667 -0.025401 -0.092251 -0.068978 -0.062424   \n",
       " 2000-01-05  0.019084  0.022684  0.020576 -0.048780 -0.021387 -0.055842   \n",
       " 2000-01-06  0.033708 -0.016636  0.051075 -0.006410 -0.033024 -0.080527   \n",
       " 2000-01-07  0.039855  0.050751  0.007672  0.062365  0.029949  0.038100   \n",
       " 2000-01-10 -0.003484 -0.021467 -0.013959  0.020243  0.050514  0.095328   \n",
       " ...              ...       ...       ...       ...       ...       ...   \n",
       " 2015-10-28  0.021467  0.013688 -0.005018  0.007065  0.002312 -0.006887   \n",
       " 2015-10-29 -0.045534 -0.003376  0.009366  0.030012  0.006344 -0.058253   \n",
       " 2015-10-30  0.029358  0.004893 -0.008565 -0.005550  0.005731  0.014728   \n",
       " 2015-11-02  0.040998  0.009363  0.005760  0.005962 -0.001140  0.021771   \n",
       " 2015-11-03  0.005137 -0.004824  0.002863  0.000883 -0.006275  0.001421   \n",
       " \n",
       "                  TTE        BA        GE  \n",
       " Date                                      \n",
       " 2000-01-04 -0.029135 -0.001555 -0.040000  \n",
       " 2000-01-05  0.000000  0.062306 -0.001736  \n",
       " 2000-01-06 -0.022265  0.010264  0.013370  \n",
       " 2000-01-07 -0.002971  0.029027  0.038721  \n",
       " 2000-01-10 -0.010923 -0.014104 -0.000413  \n",
       " ...              ...       ...       ...  \n",
       " 2015-10-28  0.007882 -0.003907 -0.002376  \n",
       " 2015-10-29 -0.002881 -0.004734 -0.001701  \n",
       " 2015-10-30 -0.004541  0.006048 -0.014315  \n",
       " 2015-11-02  0.029650  0.002228  0.016598  \n",
       " 2015-11-03  0.021949 -0.002089  0.006462  \n",
       " \n",
       " [3984 rows x 9 columns],\n",
       " 'DAX':                BASFY     BAYRY     CTTAY        DB     DTEGY     EONGY  \\\n",
       " Date                                                                     \n",
       " 2000-01-04 -0.036585 -0.018817  0.006451 -0.013804 -0.065388 -0.029114   \n",
       " 2000-01-05 -0.012659 -0.032877  0.044872  0.024883  0.011194  0.029987   \n",
       " 2000-01-06  0.015385  0.036827  0.000000  0.022762 -0.069188  0.022785   \n",
       " 2000-01-07  0.050505  0.040984 -0.012270  0.044510  0.061447  0.037128   \n",
       " 2000-01-10  0.000000  0.028872  0.000000 -0.022727  0.017740 -0.010740   \n",
       " ...              ...       ...       ...       ...       ...       ...   \n",
       " 2015-10-28  0.002357  0.020161  0.003569  0.003642  0.003778  0.016221   \n",
       " 2015-10-29  0.001609  0.018001 -0.012552 -0.079842 -0.001613 -0.024413   \n",
       " 2015-10-30  0.011740  0.004063  0.019491  0.002151  0.004847  0.016362   \n",
       " 2015-11-02  0.015512  0.017011  0.018911  0.021109  0.003216  0.015151   \n",
       " 2015-11-03  0.003368 -0.007000 -0.002039 -0.005957 -0.005876 -0.002799   \n",
       " \n",
       "                  FMS       LIN     RWEOY       SAP     SAPGF     SIEGY  \\\n",
       " Date                                                                     \n",
       " 2000-01-04 -0.024775 -0.017566 -0.018987 -0.088916 -0.070000 -0.023810   \n",
       " 2000-01-05 -0.011548  0.017881 -0.006452 -0.036096  0.000000 -0.032520   \n",
       " 2000-01-06 -0.011682  0.074027  0.000000 -0.004161  0.000000 -0.022059   \n",
       " 2000-01-07  0.023641  0.001168  0.012987  0.337047  0.156989  0.046187   \n",
       " 2000-01-10  0.020785  0.001167  0.006410 -0.001042  0.000000  0.045174   \n",
       " ...              ...       ...       ...       ...       ...       ...   \n",
       " 2015-10-28  0.016287  0.005857  0.002882  0.012850 -0.008662  0.014010   \n",
       " 2015-10-29  0.022894  0.025839 -0.045259  0.001154  0.002313  0.001101   \n",
       " 2015-10-30  0.005595 -0.014723  0.041385  0.007552  0.018077  0.005801   \n",
       " 2015-11-02  0.017583  0.011612  0.050578  0.014357  0.009445  0.012628   \n",
       " 2015-11-03 -0.017935  0.010500  0.012380  0.004760  0.006861 -0.006775   \n",
       " \n",
       "                 QGEN     MBGAF  \n",
       " Date                            \n",
       " 2000-01-04 -0.079268 -0.022222  \n",
       " 2000-01-05  0.026490  0.008417  \n",
       " 2000-01-06 -0.029032 -0.005843  \n",
       " 2000-01-07  0.063123  0.027708  \n",
       " 2000-01-10  0.250000  0.016340  \n",
       " ...              ...       ...  \n",
       " 2015-10-28  0.024162  0.006378  \n",
       " 2015-10-29 -0.084094 -0.005646  \n",
       " 2015-10-30  0.004155  0.007068  \n",
       " 2015-11-02  0.051303  0.013807  \n",
       " 2015-11-03 -0.004329 -0.014300  \n",
       " \n",
       " [3984 rows x 14 columns]}"
      ]
     },
     "execution_count": 9,
     "metadata": {},
     "output_type": "execute_result"
    }
   ],
   "source": [
    "# Prepare returns data and split train-test\n",
    "train_data = {\n",
    "    'NASDAQ 100':None,\n",
    "    'FTSE 100': None,\n",
    "    'CAC 40': None,\n",
    "    'DAX': None\n",
    "}\n",
    "\n",
    "test_data = {\n",
    "    'NASDAQ 100':None,\n",
    "    'FTSE 100': None,\n",
    "    'CAC 40': None,\n",
    "    'DAX': None\n",
    "}\n",
    "\n",
    "for index in final_data: # same split as in paper\n",
    "    cur = final_data[index].pct_change().dropna()\n",
    "    train_data[index] = cur[cur.index <= '2015-11-03']\n",
    "    test_data[index] = cur[cur.index >= '2015-11-04']\n",
    "    \n",
    "train_data"
   ]
  },
  {
   "cell_type": "code",
   "execution_count": 10,
   "id": "98665342",
   "metadata": {},
   "outputs": [
    {
     "data": {
      "text/plain": [
       "{'NASDAQ 100':                  AZN      AAPL      CSCO      INTC      MSFT       WBA  \\\n",
       " Date                                                                     \n",
       " 2015-11-04 -0.005571 -0.004651 -0.004894  0.002348  0.004617 -0.008501   \n",
       " 2015-11-05  0.012138 -0.004610 -0.001405 -0.004393 -0.000368 -0.017490   \n",
       " 2015-11-06 -0.013222  0.001158  0.000703 -0.004706  0.009930 -0.014892   \n",
       " 2015-11-09 -0.016204 -0.004048 -0.009490 -0.014480 -0.013838 -0.014055   \n",
       " 2015-11-10  0.004751 -0.031517 -0.007097 -0.004198 -0.012001  0.000599   \n",
       " ...              ...       ...       ...       ...       ...       ...   \n",
       " 2018-08-09  0.020876  0.007865 -0.001368  0.003603  0.001644 -0.004813   \n",
       " 2018-08-10 -0.005807 -0.002978  0.000000 -0.025728 -0.006109  0.004836   \n",
       " 2018-08-13 -0.009141  0.006457 -0.000685 -0.008188 -0.007248 -0.000150   \n",
       " 2018-08-14 -0.001025  0.004213  0.005714 -0.006811  0.012476  0.032792   \n",
       " 2018-08-15 -0.013597  0.002336 -0.003182 -0.013716 -0.013561  0.001020   \n",
       " \n",
       "                 ADBE      AMZN      AMGN       ADI  ...      CPRT      IDXX  \\\n",
       " Date                                                ...                       \n",
       " 2015-11-04  0.007193  0.025012 -0.003570 -0.002803  ...  0.001093  0.005569   \n",
       " 2015-11-05 -0.005054  0.022935 -0.004078 -0.002149  ...  0.011460  0.003976   \n",
       " 2015-11-06  0.001546  0.005674 -0.004714  0.022200  ...  0.000809 -0.002263   \n",
       " 2015-11-09 -0.009814 -0.005884 -0.005172 -0.011993  ... -0.001617  0.001985   \n",
       " 2015-11-10  0.005345  0.006392 -0.007894 -0.016240  ... -0.003510  0.002405   \n",
       " ...              ...       ...       ...       ...  ...       ...       ...   \n",
       " 2018-08-09 -0.000118  0.006361 -0.011366 -0.007615  ...  0.010611 -0.006458   \n",
       " 2018-08-10 -0.000394 -0.006437  0.002320 -0.028647  ...  0.003833 -0.004537   \n",
       " 2018-08-13 -0.000631  0.005248  0.006121  0.002001  ... -0.015441 -0.012114   \n",
       " 2018-08-14  0.009900  0.012367  0.000767 -0.002943  ...  0.003541  0.011639   \n",
       " 2018-08-15 -0.021597 -0.019290 -0.002554 -0.011492  ...  0.009242 -0.007396   \n",
       " \n",
       "                 KLAC      SNPS      VRSN      ASML      ODFL       PEP  \\\n",
       " Date                                                                     \n",
       " 2015-11-04  0.004962  0.010293  0.004325  0.004836  0.008781 -0.002973   \n",
       " 2015-11-05  0.002544 -0.003919  0.000246 -0.003767  0.006374 -0.000099   \n",
       " 2015-11-06 -0.002239  0.013572  0.014883  0.011764  0.012512 -0.008846   \n",
       " 2015-11-09  0.001047 -0.006598 -0.015392 -0.006332 -0.025782 -0.008423   \n",
       " 2015-11-10 -0.002391  0.004102  0.005908 -0.022984  0.013310 -0.000505   \n",
       " ...              ...       ...       ...       ...       ...       ...   \n",
       " 2018-08-09 -0.011847  0.005814  0.007821 -0.017981 -0.000679  0.001850   \n",
       " 2018-08-10 -0.021752  0.001177 -0.002804 -0.025242 -0.003535 -0.007300   \n",
       " 2018-08-13  0.016808 -0.007057 -0.002485  0.003973 -0.015828  0.001329   \n",
       " 2018-08-14 -0.000693  0.003553  0.009571  0.004446  0.007348  0.000708   \n",
       " 2018-08-15 -0.022286 -0.006009 -0.003506 -0.041195 -0.002615  0.003095   \n",
       " \n",
       "                  XEL      MTCH  \n",
       " Date                            \n",
       " 2015-11-04  0.003901 -0.003177  \n",
       " 2015-11-05  0.002221 -0.015478  \n",
       " 2015-11-06 -0.034617  0.023428  \n",
       " 2015-11-09  0.004303 -0.001807  \n",
       " 2015-11-10  0.016281 -0.004074  \n",
       " ...              ...       ...  \n",
       " 2018-08-09  0.006762  0.080702  \n",
       " 2018-08-10 -0.002309  0.031250  \n",
       " 2018-08-13  0.000000 -0.016332  \n",
       " 2018-08-14 -0.001473 -0.030806  \n",
       " 2018-08-15  0.009271 -0.031785  \n",
       " \n",
       " [700 rows x 60 columns],\n",
       " 'FTSE 100':                  AZN       BCS        BP       BTI       CRH       DEO  \\\n",
       " Date                                                                     \n",
       " 2015-11-04 -0.005571 -0.011035 -0.007371 -0.001941  0.005058  0.004322   \n",
       " 2015-11-05  0.012138 -0.018245 -0.022277 -0.005328  0.005392 -0.004303   \n",
       " 2015-11-06 -0.013223  0.005718 -0.011814 -0.023635  0.012156 -0.018498   \n",
       " 2015-11-09 -0.016205  0.009239 -0.007116 -0.007924 -0.026493 -0.006341   \n",
       " 2015-11-10  0.004752 -0.014789 -0.003154  0.000439 -0.017416  0.007179   \n",
       " ...              ...       ...       ...       ...       ...       ...   \n",
       " 2018-08-09  0.020876  0.001104 -0.011019  0.001296 -0.025986  0.001043   \n",
       " 2018-08-10 -0.005807 -0.026078 -0.012405 -0.012759 -0.015639 -0.009310   \n",
       " 2018-08-13 -0.009142 -0.016478 -0.007211 -0.004495 -0.001246  0.000000   \n",
       " 2018-08-14 -0.001025  0.003141 -0.001640  0.003763  0.001248  0.004979   \n",
       " 2018-08-15 -0.013597 -0.025052 -0.025347 -0.007685 -0.013396 -0.018003   \n",
       " \n",
       "                  GSK      HSBC     IMBBY     ICAGY  ...       RTO     RYCEY  \\\n",
       " Date                                                ...                       \n",
       " 2015-11-04  0.002353  0.026140 -0.000278 -0.005793  ... -0.001678  0.014856   \n",
       " 2015-11-05 -0.007512 -0.013237 -0.009002 -0.010309  ... -0.000840 -0.020128   \n",
       " 2015-11-06 -0.008515  0.008859 -0.010769  0.030571  ...  0.000000 -0.014005   \n",
       " 2015-11-09 -0.009065  0.003261 -0.010318 -0.006592  ... -0.027754  0.007575   \n",
       " 2015-11-10  0.000049 -0.008252  0.002104  0.013714  ... -0.012111 -0.029135   \n",
       " ...              ...       ...       ...       ...  ...       ...       ...   \n",
       " 2018-08-09 -0.006057 -0.003818 -0.004965 -0.003384  ... -0.001362 -0.005594   \n",
       " 2018-08-10 -0.017376 -0.012348 -0.012605 -0.012450  ... -0.009314 -0.048523   \n",
       " 2018-08-13 -0.009465 -0.008622  0.005851 -0.007450  ... -0.004608 -0.008869   \n",
       " 2018-08-14  0.000754  0.000652  0.000793  0.009238  ...  0.006481 -0.002237   \n",
       " 2018-08-15  0.016583 -0.016297 -0.007134 -0.012014  ... -0.009199 -0.032885   \n",
       " \n",
       "                  SNN     TSCDY        UL     UUGRY       VOD       WPP  \\\n",
       " Date                                                                     \n",
       " 2015-11-04 -0.004669  0.012911 -0.004936  0.006354  0.004214 -0.004530   \n",
       " 2015-11-05 -0.011140 -0.027810 -0.004510 -0.009305 -0.008993 -0.008490   \n",
       " 2015-11-06  0.000593 -0.020262 -0.017441 -0.032875 -0.012099 -0.005914   \n",
       " 2015-11-09 -0.015408 -0.014599 -0.011526 -0.015609 -0.010717  0.000089   \n",
       " 2015-11-10 -0.002407 -0.022222 -0.000933  0.001762  0.042711 -0.003907   \n",
       " ...              ...       ...       ...       ...       ...       ...   \n",
       " 2018-08-09  0.003940  0.005929 -0.003156 -0.001560 -0.005745 -0.013283   \n",
       " 2018-08-10 -0.013176 -0.002947 -0.021456 -0.011979 -0.021874  0.007308   \n",
       " 2018-08-13  0.002841 -0.014778  0.004493 -0.003163 -0.009705 -0.004582   \n",
       " 2018-08-14  0.003399 -0.012000  0.002326  0.013749 -0.012782 -0.005115   \n",
       " 2018-08-15 -0.006494 -0.023279 -0.003570 -0.004695 -0.018990  0.019792   \n",
       " \n",
       "                  RIO     HBRIY  \n",
       " Date                            \n",
       " 2015-11-04 -0.000275  0.093220  \n",
       " 2015-11-05 -0.040110 -0.093023  \n",
       " 2015-11-06 -0.006296  0.000000  \n",
       " 2015-11-09  0.001152 -0.042735  \n",
       " 2015-11-10  0.014384  0.000000  \n",
       " ...              ...       ...  \n",
       " 2018-08-09 -0.007081  0.000000  \n",
       " 2018-08-10 -0.016091  0.000000  \n",
       " 2018-08-13 -0.001010  0.006579  \n",
       " 2018-08-14 -0.009094  0.000000  \n",
       " 2018-08-15 -0.032633 -0.084967  \n",
       " \n",
       " [700 rows x 23 columns],\n",
       " 'CAC 40':                   MT     AXAHY     DANOY     DASTY      ORAN       STM  \\\n",
       " Date                                                                     \n",
       " 2015-11-04 -0.039182 -0.026473 -0.002141 -0.000252 -0.002870 -0.002837   \n",
       " 2015-11-05 -0.031915  0.011873  0.012876  0.013105  0.002878  0.004267   \n",
       " 2015-11-06 -0.005494  0.004920 -0.024011 -0.011318  0.009759  0.016997   \n",
       " 2015-11-09 -0.009208 -0.005650 -0.012301 -0.009687 -0.017624 -0.005571   \n",
       " 2015-11-10 -0.027881 -0.003409 -0.008791 -0.016768  0.013889 -0.008403   \n",
       " ...              ...       ...       ...       ...       ...       ...   \n",
       " 2018-08-09 -0.027580 -0.000778 -0.007576  0.001954 -0.004759 -0.020721   \n",
       " 2018-08-10 -0.034736 -0.031128 -0.022265 -0.010289 -0.030484 -0.060258   \n",
       " 2018-08-13 -0.011885 -0.010040  0.005205  0.010804  0.001850  0.005874   \n",
       " 2018-08-14 -0.008019 -0.004057  0.003883  0.020167 -0.001231 -0.015572   \n",
       " 2018-08-15 -0.048838 -0.009776 -0.016119 -0.017791 -0.005545 -0.034602   \n",
       " \n",
       "                  TTE        BA        GE  \n",
       " Date                                      \n",
       " 2015-11-04 -0.009852  0.006862 -0.001690  \n",
       " 2015-11-05 -0.002587 -0.001484  0.003385  \n",
       " 2015-11-06 -0.002195 -0.000203  0.009446  \n",
       " 2015-11-09 -0.009598 -0.013249 -0.005682  \n",
       " 2015-11-10  0.001010 -0.005686  0.012437  \n",
       " ...              ...       ...       ...  \n",
       " 2018-08-09 -0.008696 -0.006791 -0.008429  \n",
       " 2018-08-10 -0.031642 -0.012539 -0.013138  \n",
       " 2018-08-13 -0.005014 -0.003094 -0.025059  \n",
       " 2018-08-14 -0.009430  0.002305 -0.008032  \n",
       " 2018-08-15 -0.033809 -0.021761 -0.010526  \n",
       " \n",
       " [700 rows x 9 columns],\n",
       " 'DAX':                BASFY     BAYRY     CTTAY        DB     DTEGY     EONGY  \\\n",
       " Date                                                                     \n",
       " 2015-11-04 -0.008871 -0.019590 -0.026364 -0.022207 -0.024181 -0.008419   \n",
       " 2015-11-05 -0.002056  0.007039  0.013014 -0.007931 -0.008260 -0.003774   \n",
       " 2015-11-06  0.007030 -0.000301  0.000207  0.006177 -0.001110 -0.009470   \n",
       " 2015-11-09 -0.007582 -0.020374 -0.050756 -0.015890 -0.020011 -0.023901   \n",
       " 2015-11-10 -0.012127 -0.002686  0.009385 -0.017982  0.006239 -0.043095   \n",
       " ...              ...       ...       ...       ...       ...       ...   \n",
       " 2018-08-09 -0.004286 -0.008977  0.001149 -0.009585 -0.008459  0.000000   \n",
       " 2018-08-10 -0.033577 -0.036594 -0.026406 -0.046774 -0.032297 -0.036765   \n",
       " 2018-08-13  0.001336 -0.112824  0.009434 -0.031303  0.005038  0.004771   \n",
       " 2018-08-14  0.000000  0.007630 -0.008178  0.003493  0.001253  0.012346   \n",
       " 2018-08-15 -0.021352 -0.037863 -0.021673 -0.026110 -0.013141 -0.008443   \n",
       " \n",
       "                  FMS       LIN     RWEOY       SAP     SAPGF     SIEGY  \\\n",
       " Date                                                                     \n",
       " 2015-11-04 -0.030290 -0.004755  0.000000 -0.013588 -0.013009 -0.009293   \n",
       " 2015-11-05  0.014929  0.003185 -0.019022  0.010363  0.001883  0.003892   \n",
       " 2015-11-06  0.002489  0.001764  0.002770 -0.014509 -0.024182  0.006958   \n",
       " 2015-11-09 -0.031603 -0.009509 -0.035912  0.000635  0.012070 -0.018263   \n",
       " 2015-11-10 -0.000233 -0.008000 -0.047994 -0.006849  0.007993 -0.009552   \n",
       " ...              ...       ...       ...       ...       ...       ...   \n",
       " 2018-08-09 -0.008345  0.000637 -0.006942 -0.002844  0.014839 -0.004156   \n",
       " 2018-08-10 -0.016831 -0.015018 -0.025493 -0.024462  0.000000 -0.024270   \n",
       " 2018-08-13  0.003966 -0.003036  0.006329  0.010987 -0.017719 -0.003644   \n",
       " 2018-08-14  0.003119  0.006610  0.038574  0.000613 -0.002014  0.004770   \n",
       " 2018-08-15 -0.014096 -0.004571 -0.026645 -0.008321  0.000000 -0.013926   \n",
       " \n",
       "                 QGEN     MBGAF  \n",
       " Date                            \n",
       " 2015-11-04 -0.011462 -0.026828  \n",
       " 2015-11-05  0.000000  0.006981  \n",
       " 2015-11-06  0.003998  0.008107  \n",
       " 2015-11-09  0.000797 -0.021212  \n",
       " 2015-11-10  0.011142  0.011431  \n",
       " ...              ...       ...  \n",
       " 2018-08-09 -0.002601 -0.004538  \n",
       " 2018-08-10 -0.001565 -0.038088  \n",
       " 2018-08-13 -0.011755 -0.002599  \n",
       " 2018-08-14  0.001850 -0.011803  \n",
       " 2018-08-15 -0.021900 -0.026679  \n",
       " \n",
       " [700 rows x 14 columns]}"
      ]
     },
     "execution_count": 10,
     "metadata": {},
     "output_type": "execute_result"
    }
   ],
   "source": [
    "test_data"
   ]
  },
  {
   "cell_type": "markdown",
   "id": "7a2d35ba",
   "metadata": {},
   "source": [
    "## 2. Estimating the Covariance Matrix with Different Methods"
   ]
  },
  {
   "cell_type": "code",
   "execution_count": 11,
   "id": "0523e460",
   "metadata": {},
   "outputs": [],
   "source": [
    "import numpy as np\n",
    "np.random.seed(42)"
   ]
  },
  {
   "cell_type": "code",
   "execution_count": 12,
   "id": "e6426e68",
   "metadata": {},
   "outputs": [],
   "source": [
    "from sklearn.covariance import MinCovDet\n",
    "\n",
    "# Reconstruct filtered eigenvalues via Random Matrix Theory\n",
    "def get_filtered_eigvals(T, p, cur_eigvals):\n",
    "    max_eigval = 1 + p/T + 2*np.sqrt(p/T)\n",
    "    \n",
    "    cur_eigvals = np.diagonal(cur_eigvals).copy()\n",
    "    replace_mean = cur_eigvals[cur_eigvals < max_eigval].mean()\n",
    "    num_noisy = cur_eigvals[cur_eigvals < max_eigval].shape[0]\n",
    "    cur_eigvals[cur_eigvals < max_eigval] = replace_mean\n",
    "    \n",
    "    return np.diag(cur_eigvals), num_noisy\n",
    "\n",
    "# Method 1 (linear_pearson) for Covariance Matrix Estimation (for comparison)\n",
    "def Pearson(data, filtering=False):\n",
    "    cov = np.array(data.cov())\n",
    "    data = np.array(data)\n",
    "    \n",
    "    eigvals, eigvecs = np.linalg.eig(cov)\n",
    "    eigvals = np.diag(eigvals)\n",
    "    \n",
    "    if filtering:\n",
    "        eigvals, num_noisy = get_filtered_eigvals(data.shape[0], data.shape[1], eigvals)\n",
    "        cov = eigvecs@eigvals@np.linalg.inv(eigvecs)\n",
    "    else:\n",
    "        num_noisy = 0\n",
    "    \n",
    "    return cov, eigvals, num_noisy\n",
    "\n",
    "# Method 2 (minimum_covariance_determinant) for Covariance Matrix Estimation (for comparison)\n",
    "def MCD(data, filtering=False):\n",
    "    cov = MinCovDet(random_state=42).fit(data).covariance_\n",
    "    data = np.array(data)\n",
    "    \n",
    "    eigvals, eigvecs = np.linalg.eig(cov)\n",
    "    eigvals = np.diag(eigvals)\n",
    "    \n",
    "    if filtering:\n",
    "        eigvals, num_noisy = get_filtered_eigvals(data.shape[0], data.shape[1], eigvals)\n",
    "        cov = eigvecs@eigvals@np.linalg.inv(eigvecs)\n",
    "    else:\n",
    "        num_noisy = 0\n",
    "    \n",
    "    return cov, eigvals, num_noisy\n",
    "\n",
    "# Method 3 (reweighted_minimum_covariance_determinant) for Covariance Matrix Estimation (for comparison)\n",
    "def RMCD(data, filtering=False):\n",
    "    cov = MinCovDet(random_state=42).fit(data)\n",
    "    _, cov, _ = cov.reweight_covariance(data)\n",
    "    \n",
    "    data = np.array(data)\n",
    "    \n",
    "    eigvals, eigvecs = np.linalg.eig(cov)\n",
    "    eigvals = np.diag(eigvals)\n",
    "    \n",
    "    if filtering:\n",
    "        eigvals, num_noisy = get_filtered_eigvals(data.shape[0], data.shape[1], eigvals)\n",
    "        cov = eigvecs@eigvals@np.linalg.inv(eigvecs)\n",
    "    else:\n",
    "        num_noisy = 0\n",
    "    \n",
    "    return cov, eigvals, num_noisy\n",
    "\n",
    "# Method 4 (orthogonalized_gnanadesikan_kettenring) for Covariance Matrix Estimation (for comparison)\n",
    "def OGK(data, filtering=False):\n",
    "    data = np.array(data)\n",
    "    D = np.zeros((data.shape[1],))\n",
    "    C = np.zeros((data.shape[1], data.shape[1]))\n",
    "    \n",
    "    for i in range(data.shape[1]): # get robust diagonals\n",
    "        D[i] = np.median(np.abs(data[:, i] - np.median(data[:, i])))**2\n",
    "    \n",
    "    D[D == 0] = D[D != 0].mean() # to prevent divide by zero\n",
    "    Dinv = np.diag(1/D) \n",
    "    Y = Dinv@data.T # rescale original data\n",
    "    \n",
    "    for i in range(data.shape[1]): # construct robust scatter matrix with pairwise median absolute deviations on rescaled data\n",
    "        for j in range(data.shape[1]):\n",
    "            if i == j:\n",
    "                C[i, j] = np.median(np.abs(Y[:, i] - np.median(Y[:, i])))**2\n",
    "            else:\n",
    "                s, d = Y[:, i] + Y[:, j], Y[:, i] - Y[:, j]\n",
    "                C[i, j] = 0.25*(np.median(np.abs(s - np.median(s)))**2 - np.median(np.abs(d - np.median(d)))**2)\n",
    "                \n",
    "    _, eigvecs = np.linalg.eig(C)\n",
    "    T = eigvecs.T@Y # project rescaled data to eigenvectors\n",
    "    \n",
    "    lmbda = np.zeros((data.shape[1],))\n",
    "    for i in range(data.shape[1]): # get robust variances of projected data\n",
    "        lmbda[i] = np.median(np.abs(T[:, i] - np.median(T[:, i])))**2\n",
    "    lmbda = np.diag(lmbda)\n",
    "    A = np.diag(D)@eigvecs\n",
    "    \n",
    "    cov = A@lmbda@A.T\n",
    "    \n",
    "    eigvals, eigvecs = np.linalg.eig(cov)\n",
    "    eigvals = np.diag(eigvals)\n",
    "    \n",
    "    if filtering:\n",
    "        eigvals, num_noisy = get_filtered_eigvals(data.shape[0], data.shape[1], eigvals)\n",
    "        cov = eigvecs@eigvals@np.linalg.inv(eigvecs)\n",
    "    else:\n",
    "        num_noisy = 0\n",
    "    \n",
    "    return cov, eigvals, num_noisy\n",
    "\n",
    "# Proposed kernel method 1 (polynomial_kernel w/ degrees 2, 3, 4)\n",
    "def K_POLY(data, degree, filtering=False):\n",
    "    data = np.array(data)\n",
    "    \n",
    "    cov = np.zeros((data.shape[1], data.shape[1]))\n",
    "    \n",
    "    for i in range(data.shape[1]):\n",
    "        for j in range(data.shape[1]):\n",
    "            cov[i, j] = (data[:, i]*data[:, j]).sum()**degree\n",
    "            \n",
    "    cov /= data.shape[0]\n",
    "            \n",
    "    eigvals, eigvecs = np.linalg.eig(cov)\n",
    "    eigvals = np.diag(eigvals)\n",
    "    \n",
    "    if filtering:\n",
    "        eigvals, num_noisy = get_filtered_eigvals(data.shape[0], data.shape[1], eigvals)\n",
    "        cov = eigvecs@eigvals@np.linalg.inv(eigvecs)\n",
    "    else:\n",
    "        num_noisy = 0\n",
    "    \n",
    "    return cov, eigvals, num_noisy\n",
    "\n",
    "# Proposed kernel method 2 (gaussian_kernel)\n",
    "def K_GAUSS(data, filtering=False):\n",
    "    sigma_sqrd = np.abs(data.cov()).mean().mean()\n",
    "    data = np.array(data)\n",
    "    \n",
    "    cov = np.zeros((data.shape[1], data.shape[1]))\n",
    "    \n",
    "    for i in range(data.shape[1]):\n",
    "        for j in range(data.shape[1]):\n",
    "            cov[i, j] = np.exp(-((data[:, i] - data[:, j])**2).sum()/(2*sigma_sqrd))\n",
    "            \n",
    "    cov /= data.shape[0]\n",
    "            \n",
    "    eigvals, eigvecs = np.linalg.eig(cov)\n",
    "    eigvals = np.diag(eigvals)\n",
    "    \n",
    "    if filtering:\n",
    "        eigvals, num_noisy = get_filtered_eigvals(data.shape[0], data.shape[1], eigvals)\n",
    "        cov = eigvecs@eigvals@np.linalg.inv(eigvecs)\n",
    "    else:\n",
    "        num_noisy = 0\n",
    "    \n",
    "    return cov, eigvals, num_noisy"
   ]
  },
  {
   "cell_type": "markdown",
   "id": "71d1f495",
   "metadata": {},
   "source": [
    "## 3. Results Analysis"
   ]
  },
  {
   "cell_type": "markdown",
   "id": "3f27ae11",
   "metadata": {},
   "source": [
    "We use all above methods to compute the covariance matrix estimate on the training data and then perform mean-variance optimization with the obtained covariance matrix on the same dataset to obtain the optimal weights.\n",
    "\n",
    "As shown in the paper, we track for each method the following results:\n",
    "\n",
    "(1) CR (%): cumulative return of the optimal portfolio on test data\n",
    "\n",
    "(2) Sharpe Ratio: Sharpe ratio of the optimal portfolio on test data\n",
    "\n",
    "(3) Sortino Ratio: Sortino ratio of the optimal portfolio on test data\n",
    "\n",
    "(4) lmbda_star: number of non-noisy eigenvalues of the associated covariance matrix\n",
    "\n",
    "(5) lmbda_star_var (%): percentage of variance explained by the non-noisy eigenvalues\n",
    "\n",
    "(6) lmbda_top: value of the largest eigenvalue\n",
    "\n",
    "(7) lmbda_top_var (%): percentage of the variance explained by the largest eigenvalue\n",
    "\n",
    "(8) p_sharpe: p-value of the hypothesis test for the Sharpe ratios of filtered vs. non-filtered covariances\n",
    "\n",
    "(9) p_sortino: p-value of the hypothesis test for the Sortino ratios of filtered vs. non-filtered covariances\n",
    "\n",
    "We then plot the excess cumulative returns of the filtered-covariance-generated weights to their non-filtered counterparts for each market and method.\n",
    "    "
   ]
  },
  {
   "cell_type": "code",
   "execution_count": 13,
   "id": "53d41812",
   "metadata": {},
   "outputs": [
    {
     "name": "stdout",
     "output_type": "stream",
     "text": [
      "NASDAQ 100\n"
     ]
    },
    {
     "name": "stderr",
     "output_type": "stream",
     "text": [
      "100%|██████████| 16/16 [00:33<00:00,  2.07s/it]\n"
     ]
    },
    {
     "name": "stdout",
     "output_type": "stream",
     "text": [
      "FTSE 100\n"
     ]
    },
    {
     "name": "stderr",
     "output_type": "stream",
     "text": [
      "100%|██████████| 16/16 [00:10<00:00,  1.58it/s]\n"
     ]
    },
    {
     "name": "stdout",
     "output_type": "stream",
     "text": [
      "CAC 40\n"
     ]
    },
    {
     "name": "stderr",
     "output_type": "stream",
     "text": [
      "100%|██████████| 16/16 [00:05<00:00,  3.07it/s]\n"
     ]
    },
    {
     "name": "stdout",
     "output_type": "stream",
     "text": [
      "DAX\n"
     ]
    },
    {
     "name": "stderr",
     "output_type": "stream",
     "text": [
      "100%|██████████| 16/16 [00:06<00:00,  2.38it/s]\n"
     ]
    }
   ],
   "source": [
    "from scipy.optimize import minimize\n",
    "from scipy.stats import ttest_ind_from_stats\n",
    "\n",
    "methods = [\n",
    "    'Pearson', 'Pearson-filtered',\n",
    "    'MCD', 'MCD-filtered',\n",
    "    'RMCD', 'RMCD-filtered',\n",
    "    'OGK', 'OGK-filtered',\n",
    "    'K_POLY2', 'K_POLY2-filtered',\n",
    "    'K_POLY3', 'K_POLY3-filtered',\n",
    "    'K_POLY4', 'K_POLY4-filtered',\n",
    "    'K_GAUSS', 'K_GAUSS-filtered'\n",
    "]\n",
    "\n",
    "results = {\n",
    "    'NASDAQ 100':{\n",
    "        'Method':[], 'CR (%)':[], 'Sharpe Ratio':[], 'Sortino Ratio':[], 'lmbda_star':[], 'lmbda_star_var (%)':[], \n",
    "        'lmbda_top':[], 'lmbda_top_var (%)':[], 'p_sharpe':[], 'p_sortino':[]\n",
    "    },\n",
    "    'FTSE 100': {\n",
    "        'Method':[], 'CR (%)':[], 'Sharpe Ratio':[], 'Sortino Ratio':[], 'lmbda_star':[], 'lmbda_star_var (%)':[], \n",
    "        'lmbda_top':[], 'lmbda_top_var (%)':[], 'p_sharpe':[], 'p_sortino':[]\n",
    "    },\n",
    "    'CAC 40': {\n",
    "        'Method':[], 'CR (%)':[], 'Sharpe Ratio':[], 'Sortino Ratio':[], 'lmbda_star':[], 'lmbda_star_var (%)':[], \n",
    "        'lmbda_top':[], 'lmbda_top_var (%)':[], 'p_sharpe':[], 'p_sortino':[]\n",
    "    },\n",
    "    'DAX': {\n",
    "        'Method':[], 'CR (%)':[], 'Sharpe Ratio':[], 'Sortino Ratio':[], 'lmbda_star':[], 'lmbda_star_var (%)':[], \n",
    "        'lmbda_top':[], 'lmbda_top_var (%)':[], 'p_sharpe':[], 'p_sortino':[]\n",
    "    }\n",
    "}\n",
    "\n",
    "excess_cumulative_returns = {\n",
    "    'NASDAQ 100':{},\n",
    "    'FTSE 100': {},\n",
    "    'CAC 40': {},\n",
    "    'DAX': {}\n",
    "}\n",
    "\n",
    "def negsharpe(weights, rets, cov):\n",
    "    return -rets@weights + weights.T@cov@weights\n",
    "\n",
    "# For each market\n",
    "for index in final_data:\n",
    "    print(index)\n",
    "    cur_train, cur_test = train_data[index], test_data[index]\n",
    "    \n",
    "    # For each method\n",
    "    for method in tqdm(methods):\n",
    "        \n",
    "        splt = method.split('-')\n",
    "        \n",
    "        # Obtain covariance matrix estimate on train data for each method\n",
    "        if splt[-1] == 'filtered':\n",
    "            \n",
    "            if splt[0][-1] in ['2', '3', '4']:\n",
    "                func = globals().get(splt[0][:-1])\n",
    "                cov, eigvals, num_noisy = func(cur_train, int(splt[0][-1]), filtering=True)\n",
    "            else:\n",
    "                func = globals().get(splt[0])\n",
    "                cov, eigvals, num_noisy = func(cur_train, filtering=True)\n",
    "            \n",
    "        else:\n",
    "            \n",
    "            if method[-1] in ['2', '3', '4']:\n",
    "                func = globals().get(method[:-1])\n",
    "                cov, eigvals, num_noisy = func(cur_train, int(method[-1]))\n",
    "            else:\n",
    "                func = globals().get(method)\n",
    "                cov, eigvals, num_noisy = func(cur_train)\n",
    "                \n",
    "        # Perform mean-variance optimization on train data with obtained covariance\n",
    "        rets = cur_train.mean(axis=0)\n",
    "        \n",
    "        init_guess = np.array([1/np.array(cur_train).shape[1]]*np.array(cur_train).shape[1])\n",
    "        constraints = ({'type': 'eq', 'fun': lambda x: x.sum() - 1})\n",
    "        bounds = [(0, None)]*np.array(cur_train).shape[1]\n",
    "        \n",
    "        result = minimize(negsharpe, init_guess, args=(rets, cov), constraints=constraints, bounds=bounds)\n",
    "        \n",
    "        # Test performance of optimal portfolio on test data\n",
    "        test_returns = cur_test@result.x\n",
    "                \n",
    "        results[index]['Method'].append(method)\n",
    "        results[index]['CR (%)'].append((1 + test_returns).cumprod()[-1]*100 - 100)\n",
    "        results[index]['Sharpe Ratio'].append(np.sqrt(252)*test_returns.mean()/test_returns.std())\n",
    "        temp = np.stack([np.zeros((len(test_returns),)), test_returns - test_returns.mean()], axis=1)\n",
    "        results[index]['Sortino Ratio'].append(np.sqrt(252)*test_returns.mean()/((np.min(temp, axis=1)**2).mean()**(0.5)))\n",
    "        \n",
    "        if splt[-1] == 'filtered':\n",
    "            excess_cumulative_returns[index][method] = list((1+test_returns).cumprod() - excess_cumulative_returns[index][splt[0]])\n",
    "            \n",
    "            eigvals = np.sort(np.diagonal(eigvals))\n",
    "            stars = eigvals.shape[0] - num_noisy\n",
    "            results[index]['lmbda_star'].append(stars)\n",
    "            if stars != 0:\n",
    "                results[index]['lmbda_star_var (%)'].append(100*(eigvals[-stars:].sum())/eigvals.sum())\n",
    "            else:\n",
    "                results[index]['lmbda_star_var (%)'].append(0.0)\n",
    "            results[index]['lmbda_top'].append(eigvals[-1])\n",
    "            results[index]['lmbda_top_var (%)'].append(100*eigvals[-1]/eigvals.sum())\n",
    "            \n",
    "            # Conduct hypothesis tests for filtered vs. non-filtered Sharpe and Sortino ratios\n",
    "            mean1, std1 = test_returns.mean(), test_returns.std()\n",
    "            mean2, std2 = prev_test_returns.mean(), prev_test_returns.std()\n",
    "            _, pval = ttest_ind_from_stats(mean1, std1, len(test_returns), mean2, std2, len(test_returns), alternative='greater')\n",
    "            results[index]['p_sharpe'].append(pval)\n",
    "            mean1, std1 = test_returns.mean(), ((np.min(temp, axis=1)**2).mean()**(0.5))\n",
    "            temp = np.stack([np.zeros((len(test_returns),)), prev_test_returns - prev_test_returns.mean()], axis=1)\n",
    "            mean2, std2 = prev_test_returns.mean(), ((np.min(temp, axis=1)**2).mean()**(0.5))\n",
    "            _, pval = ttest_ind_from_stats(mean1, std1, len(test_returns), mean2, std2, len(test_returns), alternative='greater')\n",
    "            results[index]['p_sortino'].append(pval)\n",
    "            \n",
    "            del excess_cumulative_returns[index][splt[0]]\n",
    "            \n",
    "        else:\n",
    "            prev_test_returns = test_returns\n",
    "            excess_cumulative_returns[index][method] = (1+test_returns).cumprod()\n",
    "            \n",
    "            results[index]['lmbda_star'].append(None)\n",
    "            results[index]['lmbda_star_var (%)'].append(None)\n",
    "            results[index]['lmbda_top'].append(None)\n",
    "            results[index]['lmbda_top_var (%)'].append(None)\n",
    "            \n",
    "            results[index]['p_sharpe'].append(None)\n",
    "            results[index]['p_sortino'].append(None)"
   ]
  },
  {
   "cell_type": "code",
   "execution_count": 14,
   "id": "adfda33c",
   "metadata": {},
   "outputs": [
    {
     "data": {
      "text/html": [
       "<div>\n",
       "<style scoped>\n",
       "    .dataframe tbody tr th:only-of-type {\n",
       "        vertical-align: middle;\n",
       "    }\n",
       "\n",
       "    .dataframe tbody tr th {\n",
       "        vertical-align: top;\n",
       "    }\n",
       "\n",
       "    .dataframe thead th {\n",
       "        text-align: right;\n",
       "    }\n",
       "</style>\n",
       "<table border=\"1\" class=\"dataframe\">\n",
       "  <thead>\n",
       "    <tr style=\"text-align: right;\">\n",
       "      <th></th>\n",
       "      <th>Method</th>\n",
       "      <th>CR (%)</th>\n",
       "      <th>Sharpe Ratio</th>\n",
       "      <th>Sortino Ratio</th>\n",
       "      <th>lmbda_star</th>\n",
       "      <th>lmbda_star_var (%)</th>\n",
       "      <th>lmbda_top</th>\n",
       "      <th>lmbda_top_var (%)</th>\n",
       "      <th>p_sharpe</th>\n",
       "      <th>p_sortino</th>\n",
       "    </tr>\n",
       "  </thead>\n",
       "  <tbody>\n",
       "    <tr>\n",
       "      <th>0</th>\n",
       "      <td>Pearson</td>\n",
       "      <td>28.204244</td>\n",
       "      <td>0.607342</td>\n",
       "      <td>0.850905</td>\n",
       "      <td>NaN</td>\n",
       "      <td>NaN</td>\n",
       "      <td>NaN</td>\n",
       "      <td>NaN</td>\n",
       "      <td>NaN</td>\n",
       "      <td>NaN</td>\n",
       "    </tr>\n",
       "    <tr>\n",
       "      <th>1</th>\n",
       "      <td>Pearson-filtered</td>\n",
       "      <td>22.367439</td>\n",
       "      <td>0.484101</td>\n",
       "      <td>0.682573</td>\n",
       "      <td>0.0</td>\n",
       "      <td>0.000000</td>\n",
       "      <td>0.000800</td>\n",
       "      <td>1.666667</td>\n",
       "      <td>0.537425</td>\n",
       "      <td>0.552538</td>\n",
       "    </tr>\n",
       "    <tr>\n",
       "      <th>2</th>\n",
       "      <td>MCD</td>\n",
       "      <td>7.462308</td>\n",
       "      <td>0.229582</td>\n",
       "      <td>0.327823</td>\n",
       "      <td>NaN</td>\n",
       "      <td>NaN</td>\n",
       "      <td>NaN</td>\n",
       "      <td>NaN</td>\n",
       "      <td>NaN</td>\n",
       "      <td>NaN</td>\n",
       "    </tr>\n",
       "    <tr>\n",
       "      <th>3</th>\n",
       "      <td>MCD-filtered</td>\n",
       "      <td>2.623166</td>\n",
       "      <td>0.151051</td>\n",
       "      <td>0.218562</td>\n",
       "      <td>0.0</td>\n",
       "      <td>0.000000</td>\n",
       "      <td>0.000312</td>\n",
       "      <td>1.666667</td>\n",
       "      <td>0.529042</td>\n",
       "      <td>0.541728</td>\n",
       "    </tr>\n",
       "    <tr>\n",
       "      <th>4</th>\n",
       "      <td>RMCD</td>\n",
       "      <td>9.057555</td>\n",
       "      <td>0.256147</td>\n",
       "      <td>0.365954</td>\n",
       "      <td>NaN</td>\n",
       "      <td>NaN</td>\n",
       "      <td>NaN</td>\n",
       "      <td>NaN</td>\n",
       "      <td>NaN</td>\n",
       "      <td>NaN</td>\n",
       "    </tr>\n",
       "    <tr>\n",
       "      <th>5</th>\n",
       "      <td>RMCD-filtered</td>\n",
       "      <td>2.610205</td>\n",
       "      <td>0.150857</td>\n",
       "      <td>0.218287</td>\n",
       "      <td>0.0</td>\n",
       "      <td>0.000000</td>\n",
       "      <td>0.000265</td>\n",
       "      <td>1.666667</td>\n",
       "      <td>0.541231</td>\n",
       "      <td>0.559198</td>\n",
       "    </tr>\n",
       "    <tr>\n",
       "      <th>6</th>\n",
       "      <td>OGK</td>\n",
       "      <td>57.183613</td>\n",
       "      <td>1.191320</td>\n",
       "      <td>1.611733</td>\n",
       "      <td>NaN</td>\n",
       "      <td>NaN</td>\n",
       "      <td>NaN</td>\n",
       "      <td>NaN</td>\n",
       "      <td>NaN</td>\n",
       "      <td>NaN</td>\n",
       "    </tr>\n",
       "    <tr>\n",
       "      <th>7</th>\n",
       "      <td>OGK-filtered</td>\n",
       "      <td>47.388327</td>\n",
       "      <td>0.931461</td>\n",
       "      <td>1.273248</td>\n",
       "      <td>0.0</td>\n",
       "      <td>0.000000</td>\n",
       "      <td>0.002146</td>\n",
       "      <td>1.666667</td>\n",
       "      <td>0.561044</td>\n",
       "      <td>0.582787</td>\n",
       "    </tr>\n",
       "    <tr>\n",
       "      <th>8</th>\n",
       "      <td>K_POLY2</td>\n",
       "      <td>56.660654</td>\n",
       "      <td>1.264245</td>\n",
       "      <td>1.717889</td>\n",
       "      <td>NaN</td>\n",
       "      <td>NaN</td>\n",
       "      <td>NaN</td>\n",
       "      <td>NaN</td>\n",
       "      <td>NaN</td>\n",
       "      <td>NaN</td>\n",
       "    </tr>\n",
       "    <tr>\n",
       "      <th>9</th>\n",
       "      <td>K_POLY2-filtered</td>\n",
       "      <td>56.598407</td>\n",
       "      <td>1.108667</td>\n",
       "      <td>1.503012</td>\n",
       "      <td>0.0</td>\n",
       "      <td>0.000000</td>\n",
       "      <td>0.003572</td>\n",
       "      <td>1.666667</td>\n",
       "      <td>0.490260</td>\n",
       "      <td>0.486784</td>\n",
       "    </tr>\n",
       "    <tr>\n",
       "      <th>10</th>\n",
       "      <td>K_POLY3</td>\n",
       "      <td>69.089384</td>\n",
       "      <td>1.562474</td>\n",
       "      <td>2.128614</td>\n",
       "      <td>NaN</td>\n",
       "      <td>NaN</td>\n",
       "      <td>NaN</td>\n",
       "      <td>NaN</td>\n",
       "      <td>NaN</td>\n",
       "      <td>NaN</td>\n",
       "    </tr>\n",
       "    <tr>\n",
       "      <th>11</th>\n",
       "      <td>K_POLY3-filtered</td>\n",
       "      <td>79.641744</td>\n",
       "      <td>1.553759</td>\n",
       "      <td>2.061163</td>\n",
       "      <td>0.0</td>\n",
       "      <td>0.000000</td>\n",
       "      <td>0.021469</td>\n",
       "      <td>1.666667</td>\n",
       "      <td>0.416725</td>\n",
       "      <td>0.388901</td>\n",
       "    </tr>\n",
       "    <tr>\n",
       "      <th>12</th>\n",
       "      <td>K_POLY4</td>\n",
       "      <td>68.954336</td>\n",
       "      <td>1.695669</td>\n",
       "      <td>2.308568</td>\n",
       "      <td>NaN</td>\n",
       "      <td>NaN</td>\n",
       "      <td>NaN</td>\n",
       "      <td>NaN</td>\n",
       "      <td>NaN</td>\n",
       "      <td>NaN</td>\n",
       "    </tr>\n",
       "    <tr>\n",
       "      <th>13</th>\n",
       "      <td>K_POLY4-filtered</td>\n",
       "      <td>86.637218</td>\n",
       "      <td>1.665570</td>\n",
       "      <td>2.203465</td>\n",
       "      <td>1.0</td>\n",
       "      <td>46.124036</td>\n",
       "      <td>4.465142</td>\n",
       "      <td>46.124036</td>\n",
       "      <td>0.360014</td>\n",
       "      <td>0.315771</td>\n",
       "    </tr>\n",
       "    <tr>\n",
       "      <th>14</th>\n",
       "      <td>K_GAUSS</td>\n",
       "      <td>2.606128</td>\n",
       "      <td>0.150796</td>\n",
       "      <td>0.218201</td>\n",
       "      <td>NaN</td>\n",
       "      <td>NaN</td>\n",
       "      <td>NaN</td>\n",
       "      <td>NaN</td>\n",
       "      <td>NaN</td>\n",
       "      <td>NaN</td>\n",
       "    </tr>\n",
       "    <tr>\n",
       "      <th>15</th>\n",
       "      <td>K_GAUSS-filtered</td>\n",
       "      <td>2.606128</td>\n",
       "      <td>0.150796</td>\n",
       "      <td>0.218201</td>\n",
       "      <td>0.0</td>\n",
       "      <td>0.000000</td>\n",
       "      <td>0.000251</td>\n",
       "      <td>1.666667</td>\n",
       "      <td>0.500000</td>\n",
       "      <td>0.500000</td>\n",
       "    </tr>\n",
       "  </tbody>\n",
       "</table>\n",
       "</div>"
      ],
      "text/plain": [
       "              Method     CR (%)  Sharpe Ratio  Sortino Ratio  lmbda_star  \\\n",
       "0            Pearson  28.204244      0.607342       0.850905         NaN   \n",
       "1   Pearson-filtered  22.367439      0.484101       0.682573         0.0   \n",
       "2                MCD   7.462308      0.229582       0.327823         NaN   \n",
       "3       MCD-filtered   2.623166      0.151051       0.218562         0.0   \n",
       "4               RMCD   9.057555      0.256147       0.365954         NaN   \n",
       "5      RMCD-filtered   2.610205      0.150857       0.218287         0.0   \n",
       "6                OGK  57.183613      1.191320       1.611733         NaN   \n",
       "7       OGK-filtered  47.388327      0.931461       1.273248         0.0   \n",
       "8            K_POLY2  56.660654      1.264245       1.717889         NaN   \n",
       "9   K_POLY2-filtered  56.598407      1.108667       1.503012         0.0   \n",
       "10           K_POLY3  69.089384      1.562474       2.128614         NaN   \n",
       "11  K_POLY3-filtered  79.641744      1.553759       2.061163         0.0   \n",
       "12           K_POLY4  68.954336      1.695669       2.308568         NaN   \n",
       "13  K_POLY4-filtered  86.637218      1.665570       2.203465         1.0   \n",
       "14           K_GAUSS   2.606128      0.150796       0.218201         NaN   \n",
       "15  K_GAUSS-filtered   2.606128      0.150796       0.218201         0.0   \n",
       "\n",
       "    lmbda_star_var (%)  lmbda_top  lmbda_top_var (%)  p_sharpe  p_sortino  \n",
       "0                  NaN        NaN                NaN       NaN        NaN  \n",
       "1             0.000000   0.000800           1.666667  0.537425   0.552538  \n",
       "2                  NaN        NaN                NaN       NaN        NaN  \n",
       "3             0.000000   0.000312           1.666667  0.529042   0.541728  \n",
       "4                  NaN        NaN                NaN       NaN        NaN  \n",
       "5             0.000000   0.000265           1.666667  0.541231   0.559198  \n",
       "6                  NaN        NaN                NaN       NaN        NaN  \n",
       "7             0.000000   0.002146           1.666667  0.561044   0.582787  \n",
       "8                  NaN        NaN                NaN       NaN        NaN  \n",
       "9             0.000000   0.003572           1.666667  0.490260   0.486784  \n",
       "10                 NaN        NaN                NaN       NaN        NaN  \n",
       "11            0.000000   0.021469           1.666667  0.416725   0.388901  \n",
       "12                 NaN        NaN                NaN       NaN        NaN  \n",
       "13           46.124036   4.465142          46.124036  0.360014   0.315771  \n",
       "14                 NaN        NaN                NaN       NaN        NaN  \n",
       "15            0.000000   0.000251           1.666667  0.500000   0.500000  "
      ]
     },
     "execution_count": 14,
     "metadata": {},
     "output_type": "execute_result"
    }
   ],
   "source": [
    "pd.DataFrame(results['NASDAQ 100'])"
   ]
  },
  {
   "cell_type": "code",
   "execution_count": 15,
   "id": "8a9620c6",
   "metadata": {},
   "outputs": [
    {
     "data": {
      "text/html": [
       "<div>\n",
       "<style scoped>\n",
       "    .dataframe tbody tr th:only-of-type {\n",
       "        vertical-align: middle;\n",
       "    }\n",
       "\n",
       "    .dataframe tbody tr th {\n",
       "        vertical-align: top;\n",
       "    }\n",
       "\n",
       "    .dataframe thead th {\n",
       "        text-align: right;\n",
       "    }\n",
       "</style>\n",
       "<table border=\"1\" class=\"dataframe\">\n",
       "  <thead>\n",
       "    <tr style=\"text-align: right;\">\n",
       "      <th></th>\n",
       "      <th>Method</th>\n",
       "      <th>CR (%)</th>\n",
       "      <th>Sharpe Ratio</th>\n",
       "      <th>Sortino Ratio</th>\n",
       "      <th>lmbda_star</th>\n",
       "      <th>lmbda_star_var (%)</th>\n",
       "      <th>lmbda_top</th>\n",
       "      <th>lmbda_top_var (%)</th>\n",
       "      <th>p_sharpe</th>\n",
       "      <th>p_sortino</th>\n",
       "    </tr>\n",
       "  </thead>\n",
       "  <tbody>\n",
       "    <tr>\n",
       "      <th>0</th>\n",
       "      <td>Pearson</td>\n",
       "      <td>12.474589</td>\n",
       "      <td>0.332413</td>\n",
       "      <td>0.468019</td>\n",
       "      <td>NaN</td>\n",
       "      <td>NaN</td>\n",
       "      <td>NaN</td>\n",
       "      <td>NaN</td>\n",
       "      <td>NaN</td>\n",
       "      <td>NaN</td>\n",
       "    </tr>\n",
       "    <tr>\n",
       "      <th>1</th>\n",
       "      <td>Pearson-filtered</td>\n",
       "      <td>32.818081</td>\n",
       "      <td>0.596876</td>\n",
       "      <td>0.976065</td>\n",
       "      <td>0.0</td>\n",
       "      <td>0.000000</td>\n",
       "      <td>0.002947</td>\n",
       "      <td>4.347826</td>\n",
       "      <td>0.185595</td>\n",
       "      <td>0.072744</td>\n",
       "    </tr>\n",
       "    <tr>\n",
       "      <th>2</th>\n",
       "      <td>MCD</td>\n",
       "      <td>18.644066</td>\n",
       "      <td>0.596732</td>\n",
       "      <td>0.976363</td>\n",
       "      <td>NaN</td>\n",
       "      <td>NaN</td>\n",
       "      <td>NaN</td>\n",
       "      <td>NaN</td>\n",
       "      <td>NaN</td>\n",
       "      <td>NaN</td>\n",
       "    </tr>\n",
       "    <tr>\n",
       "      <th>3</th>\n",
       "      <td>MCD-filtered</td>\n",
       "      <td>18.644066</td>\n",
       "      <td>0.596732</td>\n",
       "      <td>0.976363</td>\n",
       "      <td>0.0</td>\n",
       "      <td>0.000000</td>\n",
       "      <td>0.000235</td>\n",
       "      <td>4.347826</td>\n",
       "      <td>0.500000</td>\n",
       "      <td>0.500000</td>\n",
       "    </tr>\n",
       "    <tr>\n",
       "      <th>4</th>\n",
       "      <td>RMCD</td>\n",
       "      <td>18.644066</td>\n",
       "      <td>0.596732</td>\n",
       "      <td>0.976363</td>\n",
       "      <td>NaN</td>\n",
       "      <td>NaN</td>\n",
       "      <td>NaN</td>\n",
       "      <td>NaN</td>\n",
       "      <td>NaN</td>\n",
       "      <td>NaN</td>\n",
       "    </tr>\n",
       "    <tr>\n",
       "      <th>5</th>\n",
       "      <td>RMCD-filtered</td>\n",
       "      <td>18.644066</td>\n",
       "      <td>0.596732</td>\n",
       "      <td>0.976363</td>\n",
       "      <td>0.0</td>\n",
       "      <td>0.000000</td>\n",
       "      <td>0.000211</td>\n",
       "      <td>4.347826</td>\n",
       "      <td>0.500000</td>\n",
       "      <td>0.500000</td>\n",
       "    </tr>\n",
       "    <tr>\n",
       "      <th>6</th>\n",
       "      <td>OGK</td>\n",
       "      <td>18.644066</td>\n",
       "      <td>0.596732</td>\n",
       "      <td>0.976363</td>\n",
       "      <td>NaN</td>\n",
       "      <td>NaN</td>\n",
       "      <td>NaN</td>\n",
       "      <td>NaN</td>\n",
       "      <td>NaN</td>\n",
       "      <td>NaN</td>\n",
       "    </tr>\n",
       "    <tr>\n",
       "      <th>7</th>\n",
       "      <td>OGK-filtered</td>\n",
       "      <td>18.644066</td>\n",
       "      <td>0.596732</td>\n",
       "      <td>0.976363</td>\n",
       "      <td>0.0</td>\n",
       "      <td>0.000000</td>\n",
       "      <td>0.000978</td>\n",
       "      <td>4.347826</td>\n",
       "      <td>0.500000</td>\n",
       "      <td>0.500000</td>\n",
       "    </tr>\n",
       "    <tr>\n",
       "      <th>8</th>\n",
       "      <td>K_POLY2</td>\n",
       "      <td>7.344231</td>\n",
       "      <td>0.244566</td>\n",
       "      <td>0.338183</td>\n",
       "      <td>NaN</td>\n",
       "      <td>NaN</td>\n",
       "      <td>NaN</td>\n",
       "      <td>NaN</td>\n",
       "      <td>NaN</td>\n",
       "      <td>NaN</td>\n",
       "    </tr>\n",
       "    <tr>\n",
       "      <th>9</th>\n",
       "      <td>K_POLY2-filtered</td>\n",
       "      <td>12.860326</td>\n",
       "      <td>0.350868</td>\n",
       "      <td>0.465776</td>\n",
       "      <td>1.0</td>\n",
       "      <td>99.793036</td>\n",
       "      <td>12.931962</td>\n",
       "      <td>99.793036</td>\n",
       "      <td>0.440814</td>\n",
       "      <td>0.420200</td>\n",
       "    </tr>\n",
       "    <tr>\n",
       "      <th>10</th>\n",
       "      <td>K_POLY3</td>\n",
       "      <td>6.359659</td>\n",
       "      <td>0.223056</td>\n",
       "      <td>0.308875</td>\n",
       "      <td>NaN</td>\n",
       "      <td>NaN</td>\n",
       "      <td>NaN</td>\n",
       "      <td>NaN</td>\n",
       "      <td>NaN</td>\n",
       "      <td>NaN</td>\n",
       "    </tr>\n",
       "    <tr>\n",
       "      <th>11</th>\n",
       "      <td>K_POLY3-filtered</td>\n",
       "      <td>16.092795</td>\n",
       "      <td>0.429536</td>\n",
       "      <td>0.563791</td>\n",
       "      <td>1.0</td>\n",
       "      <td>99.997303</td>\n",
       "      <td>2935.325695</td>\n",
       "      <td>99.997303</td>\n",
       "      <td>0.401726</td>\n",
       "      <td>0.368752</td>\n",
       "    </tr>\n",
       "    <tr>\n",
       "      <th>12</th>\n",
       "      <td>K_POLY4</td>\n",
       "      <td>5.799898</td>\n",
       "      <td>0.210112</td>\n",
       "      <td>0.291195</td>\n",
       "      <td>NaN</td>\n",
       "      <td>NaN</td>\n",
       "      <td>NaN</td>\n",
       "      <td>NaN</td>\n",
       "      <td>NaN</td>\n",
       "      <td>NaN</td>\n",
       "    </tr>\n",
       "    <tr>\n",
       "      <th>13</th>\n",
       "      <td>K_POLY4-filtered</td>\n",
       "      <td>16.035334</td>\n",
       "      <td>0.428294</td>\n",
       "      <td>0.562199</td>\n",
       "      <td>1.0</td>\n",
       "      <td>99.999960</td>\n",
       "      <td>666266.797910</td>\n",
       "      <td>99.999960</td>\n",
       "      <td>0.397106</td>\n",
       "      <td>0.362621</td>\n",
       "    </tr>\n",
       "    <tr>\n",
       "      <th>14</th>\n",
       "      <td>K_GAUSS</td>\n",
       "      <td>18.644066</td>\n",
       "      <td>0.596732</td>\n",
       "      <td>0.976363</td>\n",
       "      <td>NaN</td>\n",
       "      <td>NaN</td>\n",
       "      <td>NaN</td>\n",
       "      <td>NaN</td>\n",
       "      <td>NaN</td>\n",
       "      <td>NaN</td>\n",
       "    </tr>\n",
       "    <tr>\n",
       "      <th>15</th>\n",
       "      <td>K_GAUSS-filtered</td>\n",
       "      <td>18.644066</td>\n",
       "      <td>0.596732</td>\n",
       "      <td>0.976363</td>\n",
       "      <td>0.0</td>\n",
       "      <td>0.000000</td>\n",
       "      <td>0.000251</td>\n",
       "      <td>4.347826</td>\n",
       "      <td>0.500000</td>\n",
       "      <td>0.500000</td>\n",
       "    </tr>\n",
       "  </tbody>\n",
       "</table>\n",
       "</div>"
      ],
      "text/plain": [
       "              Method     CR (%)  Sharpe Ratio  Sortino Ratio  lmbda_star  \\\n",
       "0            Pearson  12.474589      0.332413       0.468019         NaN   \n",
       "1   Pearson-filtered  32.818081      0.596876       0.976065         0.0   \n",
       "2                MCD  18.644066      0.596732       0.976363         NaN   \n",
       "3       MCD-filtered  18.644066      0.596732       0.976363         0.0   \n",
       "4               RMCD  18.644066      0.596732       0.976363         NaN   \n",
       "5      RMCD-filtered  18.644066      0.596732       0.976363         0.0   \n",
       "6                OGK  18.644066      0.596732       0.976363         NaN   \n",
       "7       OGK-filtered  18.644066      0.596732       0.976363         0.0   \n",
       "8            K_POLY2   7.344231      0.244566       0.338183         NaN   \n",
       "9   K_POLY2-filtered  12.860326      0.350868       0.465776         1.0   \n",
       "10           K_POLY3   6.359659      0.223056       0.308875         NaN   \n",
       "11  K_POLY3-filtered  16.092795      0.429536       0.563791         1.0   \n",
       "12           K_POLY4   5.799898      0.210112       0.291195         NaN   \n",
       "13  K_POLY4-filtered  16.035334      0.428294       0.562199         1.0   \n",
       "14           K_GAUSS  18.644066      0.596732       0.976363         NaN   \n",
       "15  K_GAUSS-filtered  18.644066      0.596732       0.976363         0.0   \n",
       "\n",
       "    lmbda_star_var (%)      lmbda_top  lmbda_top_var (%)  p_sharpe  p_sortino  \n",
       "0                  NaN            NaN                NaN       NaN        NaN  \n",
       "1             0.000000       0.002947           4.347826  0.185595   0.072744  \n",
       "2                  NaN            NaN                NaN       NaN        NaN  \n",
       "3             0.000000       0.000235           4.347826  0.500000   0.500000  \n",
       "4                  NaN            NaN                NaN       NaN        NaN  \n",
       "5             0.000000       0.000211           4.347826  0.500000   0.500000  \n",
       "6                  NaN            NaN                NaN       NaN        NaN  \n",
       "7             0.000000       0.000978           4.347826  0.500000   0.500000  \n",
       "8                  NaN            NaN                NaN       NaN        NaN  \n",
       "9            99.793036      12.931962          99.793036  0.440814   0.420200  \n",
       "10                 NaN            NaN                NaN       NaN        NaN  \n",
       "11           99.997303    2935.325695          99.997303  0.401726   0.368752  \n",
       "12                 NaN            NaN                NaN       NaN        NaN  \n",
       "13           99.999960  666266.797910          99.999960  0.397106   0.362621  \n",
       "14                 NaN            NaN                NaN       NaN        NaN  \n",
       "15            0.000000       0.000251           4.347826  0.500000   0.500000  "
      ]
     },
     "execution_count": 15,
     "metadata": {},
     "output_type": "execute_result"
    }
   ],
   "source": [
    "pd.DataFrame(results['FTSE 100'])"
   ]
  },
  {
   "cell_type": "code",
   "execution_count": 16,
   "id": "13927353",
   "metadata": {},
   "outputs": [
    {
     "data": {
      "text/html": [
       "<div>\n",
       "<style scoped>\n",
       "    .dataframe tbody tr th:only-of-type {\n",
       "        vertical-align: middle;\n",
       "    }\n",
       "\n",
       "    .dataframe tbody tr th {\n",
       "        vertical-align: top;\n",
       "    }\n",
       "\n",
       "    .dataframe thead th {\n",
       "        text-align: right;\n",
       "    }\n",
       "</style>\n",
       "<table border=\"1\" class=\"dataframe\">\n",
       "  <thead>\n",
       "    <tr style=\"text-align: right;\">\n",
       "      <th></th>\n",
       "      <th>Method</th>\n",
       "      <th>CR (%)</th>\n",
       "      <th>Sharpe Ratio</th>\n",
       "      <th>Sortino Ratio</th>\n",
       "      <th>lmbda_star</th>\n",
       "      <th>lmbda_star_var (%)</th>\n",
       "      <th>lmbda_top</th>\n",
       "      <th>lmbda_top_var (%)</th>\n",
       "      <th>p_sharpe</th>\n",
       "      <th>p_sortino</th>\n",
       "    </tr>\n",
       "  </thead>\n",
       "  <tbody>\n",
       "    <tr>\n",
       "      <th>0</th>\n",
       "      <td>Pearson</td>\n",
       "      <td>47.823640</td>\n",
       "      <td>0.879404</td>\n",
       "      <td>1.157900</td>\n",
       "      <td>NaN</td>\n",
       "      <td>NaN</td>\n",
       "      <td>NaN</td>\n",
       "      <td>NaN</td>\n",
       "      <td>NaN</td>\n",
       "      <td>NaN</td>\n",
       "    </tr>\n",
       "    <tr>\n",
       "      <th>1</th>\n",
       "      <td>Pearson-filtered</td>\n",
       "      <td>47.823640</td>\n",
       "      <td>0.879404</td>\n",
       "      <td>1.157900</td>\n",
       "      <td>0.0</td>\n",
       "      <td>0.0</td>\n",
       "      <td>0.000647</td>\n",
       "      <td>11.111111</td>\n",
       "      <td>0.500000</td>\n",
       "      <td>0.500000</td>\n",
       "    </tr>\n",
       "    <tr>\n",
       "      <th>2</th>\n",
       "      <td>MCD</td>\n",
       "      <td>47.823640</td>\n",
       "      <td>0.879404</td>\n",
       "      <td>1.157900</td>\n",
       "      <td>NaN</td>\n",
       "      <td>NaN</td>\n",
       "      <td>NaN</td>\n",
       "      <td>NaN</td>\n",
       "      <td>NaN</td>\n",
       "      <td>NaN</td>\n",
       "    </tr>\n",
       "    <tr>\n",
       "      <th>3</th>\n",
       "      <td>MCD-filtered</td>\n",
       "      <td>47.823640</td>\n",
       "      <td>0.879404</td>\n",
       "      <td>1.157900</td>\n",
       "      <td>0.0</td>\n",
       "      <td>0.0</td>\n",
       "      <td>0.000288</td>\n",
       "      <td>11.111111</td>\n",
       "      <td>0.500000</td>\n",
       "      <td>0.500000</td>\n",
       "    </tr>\n",
       "    <tr>\n",
       "      <th>4</th>\n",
       "      <td>RMCD</td>\n",
       "      <td>47.823640</td>\n",
       "      <td>0.879404</td>\n",
       "      <td>1.157900</td>\n",
       "      <td>NaN</td>\n",
       "      <td>NaN</td>\n",
       "      <td>NaN</td>\n",
       "      <td>NaN</td>\n",
       "      <td>NaN</td>\n",
       "      <td>NaN</td>\n",
       "    </tr>\n",
       "    <tr>\n",
       "      <th>5</th>\n",
       "      <td>RMCD-filtered</td>\n",
       "      <td>47.823640</td>\n",
       "      <td>0.879404</td>\n",
       "      <td>1.157900</td>\n",
       "      <td>0.0</td>\n",
       "      <td>0.0</td>\n",
       "      <td>0.000261</td>\n",
       "      <td>11.111111</td>\n",
       "      <td>0.500000</td>\n",
       "      <td>0.500000</td>\n",
       "    </tr>\n",
       "    <tr>\n",
       "      <th>6</th>\n",
       "      <td>OGK</td>\n",
       "      <td>47.823640</td>\n",
       "      <td>0.879404</td>\n",
       "      <td>1.157900</td>\n",
       "      <td>NaN</td>\n",
       "      <td>NaN</td>\n",
       "      <td>NaN</td>\n",
       "      <td>NaN</td>\n",
       "      <td>NaN</td>\n",
       "      <td>NaN</td>\n",
       "    </tr>\n",
       "    <tr>\n",
       "      <th>7</th>\n",
       "      <td>OGK-filtered</td>\n",
       "      <td>47.823640</td>\n",
       "      <td>0.879404</td>\n",
       "      <td>1.157900</td>\n",
       "      <td>0.0</td>\n",
       "      <td>0.0</td>\n",
       "      <td>0.000638</td>\n",
       "      <td>11.111111</td>\n",
       "      <td>0.500000</td>\n",
       "      <td>0.500000</td>\n",
       "    </tr>\n",
       "    <tr>\n",
       "      <th>8</th>\n",
       "      <td>K_POLY2</td>\n",
       "      <td>43.491205</td>\n",
       "      <td>0.951398</td>\n",
       "      <td>1.272352</td>\n",
       "      <td>NaN</td>\n",
       "      <td>NaN</td>\n",
       "      <td>NaN</td>\n",
       "      <td>NaN</td>\n",
       "      <td>NaN</td>\n",
       "      <td>NaN</td>\n",
       "    </tr>\n",
       "    <tr>\n",
       "      <th>9</th>\n",
       "      <td>K_POLY2-filtered</td>\n",
       "      <td>47.823640</td>\n",
       "      <td>0.879404</td>\n",
       "      <td>1.157900</td>\n",
       "      <td>0.0</td>\n",
       "      <td>0.0</td>\n",
       "      <td>0.002082</td>\n",
       "      <td>11.111111</td>\n",
       "      <td>0.455130</td>\n",
       "      <td>0.440641</td>\n",
       "    </tr>\n",
       "    <tr>\n",
       "      <th>10</th>\n",
       "      <td>K_POLY3</td>\n",
       "      <td>33.329448</td>\n",
       "      <td>0.766851</td>\n",
       "      <td>1.025135</td>\n",
       "      <td>NaN</td>\n",
       "      <td>NaN</td>\n",
       "      <td>NaN</td>\n",
       "      <td>NaN</td>\n",
       "      <td>NaN</td>\n",
       "      <td>NaN</td>\n",
       "    </tr>\n",
       "    <tr>\n",
       "      <th>11</th>\n",
       "      <td>K_POLY3-filtered</td>\n",
       "      <td>47.823640</td>\n",
       "      <td>0.879404</td>\n",
       "      <td>1.157900</td>\n",
       "      <td>0.0</td>\n",
       "      <td>0.0</td>\n",
       "      <td>0.008007</td>\n",
       "      <td>11.111111</td>\n",
       "      <td>0.382081</td>\n",
       "      <td>0.345502</td>\n",
       "    </tr>\n",
       "    <tr>\n",
       "      <th>12</th>\n",
       "      <td>K_POLY4</td>\n",
       "      <td>25.878651</td>\n",
       "      <td>0.623764</td>\n",
       "      <td>0.833451</td>\n",
       "      <td>NaN</td>\n",
       "      <td>NaN</td>\n",
       "      <td>NaN</td>\n",
       "      <td>NaN</td>\n",
       "      <td>NaN</td>\n",
       "      <td>NaN</td>\n",
       "    </tr>\n",
       "    <tr>\n",
       "      <th>13</th>\n",
       "      <td>K_POLY4-filtered</td>\n",
       "      <td>47.823640</td>\n",
       "      <td>0.879404</td>\n",
       "      <td>1.157900</td>\n",
       "      <td>0.0</td>\n",
       "      <td>0.0</td>\n",
       "      <td>0.034880</td>\n",
       "      <td>11.111111</td>\n",
       "      <td>0.328258</td>\n",
       "      <td>0.277887</td>\n",
       "    </tr>\n",
       "    <tr>\n",
       "      <th>14</th>\n",
       "      <td>K_GAUSS</td>\n",
       "      <td>47.823640</td>\n",
       "      <td>0.879404</td>\n",
       "      <td>1.157900</td>\n",
       "      <td>NaN</td>\n",
       "      <td>NaN</td>\n",
       "      <td>NaN</td>\n",
       "      <td>NaN</td>\n",
       "      <td>NaN</td>\n",
       "      <td>NaN</td>\n",
       "    </tr>\n",
       "    <tr>\n",
       "      <th>15</th>\n",
       "      <td>K_GAUSS-filtered</td>\n",
       "      <td>47.823640</td>\n",
       "      <td>0.879404</td>\n",
       "      <td>1.157900</td>\n",
       "      <td>0.0</td>\n",
       "      <td>0.0</td>\n",
       "      <td>0.000251</td>\n",
       "      <td>11.111111</td>\n",
       "      <td>0.500000</td>\n",
       "      <td>0.500000</td>\n",
       "    </tr>\n",
       "  </tbody>\n",
       "</table>\n",
       "</div>"
      ],
      "text/plain": [
       "              Method     CR (%)  Sharpe Ratio  Sortino Ratio  lmbda_star  \\\n",
       "0            Pearson  47.823640      0.879404       1.157900         NaN   \n",
       "1   Pearson-filtered  47.823640      0.879404       1.157900         0.0   \n",
       "2                MCD  47.823640      0.879404       1.157900         NaN   \n",
       "3       MCD-filtered  47.823640      0.879404       1.157900         0.0   \n",
       "4               RMCD  47.823640      0.879404       1.157900         NaN   \n",
       "5      RMCD-filtered  47.823640      0.879404       1.157900         0.0   \n",
       "6                OGK  47.823640      0.879404       1.157900         NaN   \n",
       "7       OGK-filtered  47.823640      0.879404       1.157900         0.0   \n",
       "8            K_POLY2  43.491205      0.951398       1.272352         NaN   \n",
       "9   K_POLY2-filtered  47.823640      0.879404       1.157900         0.0   \n",
       "10           K_POLY3  33.329448      0.766851       1.025135         NaN   \n",
       "11  K_POLY3-filtered  47.823640      0.879404       1.157900         0.0   \n",
       "12           K_POLY4  25.878651      0.623764       0.833451         NaN   \n",
       "13  K_POLY4-filtered  47.823640      0.879404       1.157900         0.0   \n",
       "14           K_GAUSS  47.823640      0.879404       1.157900         NaN   \n",
       "15  K_GAUSS-filtered  47.823640      0.879404       1.157900         0.0   \n",
       "\n",
       "    lmbda_star_var (%)  lmbda_top  lmbda_top_var (%)  p_sharpe  p_sortino  \n",
       "0                  NaN        NaN                NaN       NaN        NaN  \n",
       "1                  0.0   0.000647          11.111111  0.500000   0.500000  \n",
       "2                  NaN        NaN                NaN       NaN        NaN  \n",
       "3                  0.0   0.000288          11.111111  0.500000   0.500000  \n",
       "4                  NaN        NaN                NaN       NaN        NaN  \n",
       "5                  0.0   0.000261          11.111111  0.500000   0.500000  \n",
       "6                  NaN        NaN                NaN       NaN        NaN  \n",
       "7                  0.0   0.000638          11.111111  0.500000   0.500000  \n",
       "8                  NaN        NaN                NaN       NaN        NaN  \n",
       "9                  0.0   0.002082          11.111111  0.455130   0.440641  \n",
       "10                 NaN        NaN                NaN       NaN        NaN  \n",
       "11                 0.0   0.008007          11.111111  0.382081   0.345502  \n",
       "12                 NaN        NaN                NaN       NaN        NaN  \n",
       "13                 0.0   0.034880          11.111111  0.328258   0.277887  \n",
       "14                 NaN        NaN                NaN       NaN        NaN  \n",
       "15                 0.0   0.000251          11.111111  0.500000   0.500000  "
      ]
     },
     "execution_count": 16,
     "metadata": {},
     "output_type": "execute_result"
    }
   ],
   "source": [
    "pd.DataFrame(results['CAC 40'])"
   ]
  },
  {
   "cell_type": "code",
   "execution_count": 17,
   "id": "5ac15025",
   "metadata": {},
   "outputs": [
    {
     "data": {
      "text/html": [
       "<div>\n",
       "<style scoped>\n",
       "    .dataframe tbody tr th:only-of-type {\n",
       "        vertical-align: middle;\n",
       "    }\n",
       "\n",
       "    .dataframe tbody tr th {\n",
       "        vertical-align: top;\n",
       "    }\n",
       "\n",
       "    .dataframe thead th {\n",
       "        text-align: right;\n",
       "    }\n",
       "</style>\n",
       "<table border=\"1\" class=\"dataframe\">\n",
       "  <thead>\n",
       "    <tr style=\"text-align: right;\">\n",
       "      <th></th>\n",
       "      <th>Method</th>\n",
       "      <th>CR (%)</th>\n",
       "      <th>Sharpe Ratio</th>\n",
       "      <th>Sortino Ratio</th>\n",
       "      <th>lmbda_star</th>\n",
       "      <th>lmbda_star_var (%)</th>\n",
       "      <th>lmbda_top</th>\n",
       "      <th>lmbda_top_var (%)</th>\n",
       "      <th>p_sharpe</th>\n",
       "      <th>p_sortino</th>\n",
       "    </tr>\n",
       "  </thead>\n",
       "  <tbody>\n",
       "    <tr>\n",
       "      <th>0</th>\n",
       "      <td>Pearson</td>\n",
       "      <td>11.265900</td>\n",
       "      <td>0.314057</td>\n",
       "      <td>0.418263</td>\n",
       "      <td>NaN</td>\n",
       "      <td>NaN</td>\n",
       "      <td>NaN</td>\n",
       "      <td>NaN</td>\n",
       "      <td>NaN</td>\n",
       "      <td>NaN</td>\n",
       "    </tr>\n",
       "    <tr>\n",
       "      <th>1</th>\n",
       "      <td>Pearson-filtered</td>\n",
       "      <td>16.498031</td>\n",
       "      <td>0.410781</td>\n",
       "      <td>0.545201</td>\n",
       "      <td>0.0</td>\n",
       "      <td>0.0</td>\n",
       "      <td>0.000589</td>\n",
       "      <td>7.142857</td>\n",
       "      <td>0.452846</td>\n",
       "      <td>0.437422</td>\n",
       "    </tr>\n",
       "    <tr>\n",
       "      <th>2</th>\n",
       "      <td>MCD</td>\n",
       "      <td>16.498031</td>\n",
       "      <td>0.410781</td>\n",
       "      <td>0.545201</td>\n",
       "      <td>NaN</td>\n",
       "      <td>NaN</td>\n",
       "      <td>NaN</td>\n",
       "      <td>NaN</td>\n",
       "      <td>NaN</td>\n",
       "      <td>NaN</td>\n",
       "    </tr>\n",
       "    <tr>\n",
       "      <th>3</th>\n",
       "      <td>MCD-filtered</td>\n",
       "      <td>16.498031</td>\n",
       "      <td>0.410781</td>\n",
       "      <td>0.545201</td>\n",
       "      <td>0.0</td>\n",
       "      <td>0.0</td>\n",
       "      <td>0.000247</td>\n",
       "      <td>7.142857</td>\n",
       "      <td>0.500000</td>\n",
       "      <td>0.500000</td>\n",
       "    </tr>\n",
       "    <tr>\n",
       "      <th>4</th>\n",
       "      <td>RMCD</td>\n",
       "      <td>16.498031</td>\n",
       "      <td>0.410781</td>\n",
       "      <td>0.545201</td>\n",
       "      <td>NaN</td>\n",
       "      <td>NaN</td>\n",
       "      <td>NaN</td>\n",
       "      <td>NaN</td>\n",
       "      <td>NaN</td>\n",
       "      <td>NaN</td>\n",
       "    </tr>\n",
       "    <tr>\n",
       "      <th>5</th>\n",
       "      <td>RMCD-filtered</td>\n",
       "      <td>16.498031</td>\n",
       "      <td>0.410781</td>\n",
       "      <td>0.545201</td>\n",
       "      <td>0.0</td>\n",
       "      <td>0.0</td>\n",
       "      <td>0.000216</td>\n",
       "      <td>7.142857</td>\n",
       "      <td>0.500000</td>\n",
       "      <td>0.500000</td>\n",
       "    </tr>\n",
       "    <tr>\n",
       "      <th>6</th>\n",
       "      <td>OGK</td>\n",
       "      <td>16.498031</td>\n",
       "      <td>0.410781</td>\n",
       "      <td>0.545201</td>\n",
       "      <td>NaN</td>\n",
       "      <td>NaN</td>\n",
       "      <td>NaN</td>\n",
       "      <td>NaN</td>\n",
       "      <td>NaN</td>\n",
       "      <td>NaN</td>\n",
       "    </tr>\n",
       "    <tr>\n",
       "      <th>7</th>\n",
       "      <td>OGK-filtered</td>\n",
       "      <td>16.498031</td>\n",
       "      <td>0.410781</td>\n",
       "      <td>0.545201</td>\n",
       "      <td>0.0</td>\n",
       "      <td>0.0</td>\n",
       "      <td>0.000753</td>\n",
       "      <td>7.142857</td>\n",
       "      <td>0.500000</td>\n",
       "      <td>0.500000</td>\n",
       "    </tr>\n",
       "    <tr>\n",
       "      <th>8</th>\n",
       "      <td>K_POLY2</td>\n",
       "      <td>15.923741</td>\n",
       "      <td>0.414960</td>\n",
       "      <td>0.551926</td>\n",
       "      <td>NaN</td>\n",
       "      <td>NaN</td>\n",
       "      <td>NaN</td>\n",
       "      <td>NaN</td>\n",
       "      <td>NaN</td>\n",
       "      <td>NaN</td>\n",
       "    </tr>\n",
       "    <tr>\n",
       "      <th>9</th>\n",
       "      <td>K_POLY2-filtered</td>\n",
       "      <td>16.498031</td>\n",
       "      <td>0.410781</td>\n",
       "      <td>0.545201</td>\n",
       "      <td>0.0</td>\n",
       "      <td>0.0</td>\n",
       "      <td>0.001511</td>\n",
       "      <td>7.142857</td>\n",
       "      <td>0.490016</td>\n",
       "      <td>0.486737</td>\n",
       "    </tr>\n",
       "    <tr>\n",
       "      <th>10</th>\n",
       "      <td>K_POLY3</td>\n",
       "      <td>22.567230</td>\n",
       "      <td>0.555581</td>\n",
       "      <td>0.745345</td>\n",
       "      <td>NaN</td>\n",
       "      <td>NaN</td>\n",
       "      <td>NaN</td>\n",
       "      <td>NaN</td>\n",
       "      <td>NaN</td>\n",
       "      <td>NaN</td>\n",
       "    </tr>\n",
       "    <tr>\n",
       "      <th>11</th>\n",
       "      <td>K_POLY3-filtered</td>\n",
       "      <td>16.498031</td>\n",
       "      <td>0.410781</td>\n",
       "      <td>0.545201</td>\n",
       "      <td>0.0</td>\n",
       "      <td>0.0</td>\n",
       "      <td>0.004208</td>\n",
       "      <td>7.142857</td>\n",
       "      <td>0.545661</td>\n",
       "      <td>0.560791</td>\n",
       "    </tr>\n",
       "    <tr>\n",
       "      <th>12</th>\n",
       "      <td>K_POLY4</td>\n",
       "      <td>28.817181</td>\n",
       "      <td>0.673649</td>\n",
       "      <td>0.908444</td>\n",
       "      <td>NaN</td>\n",
       "      <td>NaN</td>\n",
       "      <td>NaN</td>\n",
       "      <td>NaN</td>\n",
       "      <td>NaN</td>\n",
       "      <td>NaN</td>\n",
       "    </tr>\n",
       "    <tr>\n",
       "      <th>13</th>\n",
       "      <td>K_POLY4-filtered</td>\n",
       "      <td>16.498031</td>\n",
       "      <td>0.410781</td>\n",
       "      <td>0.545201</td>\n",
       "      <td>0.0</td>\n",
       "      <td>0.0</td>\n",
       "      <td>0.012542</td>\n",
       "      <td>7.142857</td>\n",
       "      <td>0.596992</td>\n",
       "      <td>0.628639</td>\n",
       "    </tr>\n",
       "    <tr>\n",
       "      <th>14</th>\n",
       "      <td>K_GAUSS</td>\n",
       "      <td>16.498031</td>\n",
       "      <td>0.410781</td>\n",
       "      <td>0.545201</td>\n",
       "      <td>NaN</td>\n",
       "      <td>NaN</td>\n",
       "      <td>NaN</td>\n",
       "      <td>NaN</td>\n",
       "      <td>NaN</td>\n",
       "      <td>NaN</td>\n",
       "    </tr>\n",
       "    <tr>\n",
       "      <th>15</th>\n",
       "      <td>K_GAUSS-filtered</td>\n",
       "      <td>16.498031</td>\n",
       "      <td>0.410781</td>\n",
       "      <td>0.545201</td>\n",
       "      <td>0.0</td>\n",
       "      <td>0.0</td>\n",
       "      <td>0.000251</td>\n",
       "      <td>7.142857</td>\n",
       "      <td>0.500000</td>\n",
       "      <td>0.500000</td>\n",
       "    </tr>\n",
       "  </tbody>\n",
       "</table>\n",
       "</div>"
      ],
      "text/plain": [
       "              Method     CR (%)  Sharpe Ratio  Sortino Ratio  lmbda_star  \\\n",
       "0            Pearson  11.265900      0.314057       0.418263         NaN   \n",
       "1   Pearson-filtered  16.498031      0.410781       0.545201         0.0   \n",
       "2                MCD  16.498031      0.410781       0.545201         NaN   \n",
       "3       MCD-filtered  16.498031      0.410781       0.545201         0.0   \n",
       "4               RMCD  16.498031      0.410781       0.545201         NaN   \n",
       "5      RMCD-filtered  16.498031      0.410781       0.545201         0.0   \n",
       "6                OGK  16.498031      0.410781       0.545201         NaN   \n",
       "7       OGK-filtered  16.498031      0.410781       0.545201         0.0   \n",
       "8            K_POLY2  15.923741      0.414960       0.551926         NaN   \n",
       "9   K_POLY2-filtered  16.498031      0.410781       0.545201         0.0   \n",
       "10           K_POLY3  22.567230      0.555581       0.745345         NaN   \n",
       "11  K_POLY3-filtered  16.498031      0.410781       0.545201         0.0   \n",
       "12           K_POLY4  28.817181      0.673649       0.908444         NaN   \n",
       "13  K_POLY4-filtered  16.498031      0.410781       0.545201         0.0   \n",
       "14           K_GAUSS  16.498031      0.410781       0.545201         NaN   \n",
       "15  K_GAUSS-filtered  16.498031      0.410781       0.545201         0.0   \n",
       "\n",
       "    lmbda_star_var (%)  lmbda_top  lmbda_top_var (%)  p_sharpe  p_sortino  \n",
       "0                  NaN        NaN                NaN       NaN        NaN  \n",
       "1                  0.0   0.000589           7.142857  0.452846   0.437422  \n",
       "2                  NaN        NaN                NaN       NaN        NaN  \n",
       "3                  0.0   0.000247           7.142857  0.500000   0.500000  \n",
       "4                  NaN        NaN                NaN       NaN        NaN  \n",
       "5                  0.0   0.000216           7.142857  0.500000   0.500000  \n",
       "6                  NaN        NaN                NaN       NaN        NaN  \n",
       "7                  0.0   0.000753           7.142857  0.500000   0.500000  \n",
       "8                  NaN        NaN                NaN       NaN        NaN  \n",
       "9                  0.0   0.001511           7.142857  0.490016   0.486737  \n",
       "10                 NaN        NaN                NaN       NaN        NaN  \n",
       "11                 0.0   0.004208           7.142857  0.545661   0.560791  \n",
       "12                 NaN        NaN                NaN       NaN        NaN  \n",
       "13                 0.0   0.012542           7.142857  0.596992   0.628639  \n",
       "14                 NaN        NaN                NaN       NaN        NaN  \n",
       "15                 0.0   0.000251           7.142857  0.500000   0.500000  "
      ]
     },
     "execution_count": 17,
     "metadata": {},
     "output_type": "execute_result"
    }
   ],
   "source": [
    "pd.DataFrame(results['DAX'])"
   ]
  },
  {
   "cell_type": "code",
   "execution_count": 18,
   "id": "d888a3e3",
   "metadata": {},
   "outputs": [
    {
     "data": {
      "image/png": "[encoded data removed]",
      "text/plain": [
       "<Figure size 640x480 with 1 Axes>"
      ]
     },
     "metadata": {},
     "output_type": "display_data"
    },
    {
     "data": {
      "image/png": "[encoded data removed]",
      "text/plain": [
       "<Figure size 640x480 with 1 Axes>"
      ]
     },
     "metadata": {},
     "output_type": "display_data"
    },
    {
     "data": {
      "image/png": "[encoded data removed]",
      "text/plain": [
       "<Figure size 640x480 with 1 Axes>"
      ]
     },
     "metadata": {},
     "output_type": "display_data"
    },
    {
     "data": {
      "image/png": "[encoded data removed]",
      "text/plain": [
       "<Figure size 640x480 with 1 Axes>"
      ]
     },
     "metadata": {},
     "output_type": "display_data"
    }
   ],
   "source": [
    "import matplotlib.pyplot as plt\n",
    "\n",
    "for index in excess_cumulative_returns:\n",
    "    pd.DataFrame(excess_cumulative_returns[index]).plot()\n",
    "    plt.xlabel('Time')\n",
    "    plt.ylabel('Excess Cumulative Returns')\n",
    "    plt.title(index + ' Excess Cumulative Returns of Filtered vs. Non-filtered')\n",
    "    plt.show()"
   ]
  },
  {
   "cell_type": "markdown",
   "id": "46a29362",
   "metadata": {},
   "source": [
    "We generally see the following discrepancies with the results presented in the paper, which can mainly be attributed to the lack of data for conducting experiments in our case. This is especially more visible from CAC 40 and DAX, indices for which we have very limited data, which exhibit more deviations from the results in the paper. \n",
    "\n",
    "(1) The number of non-noisy eigenvalues are extremely small, with the majority being 0 and few evaluating to 1 for NASDAQ 100 and FTSE 100.\n",
    "\n",
    "(2) The p-values for both the Sharpe and Sortino ratio are mostly in an indeterminate area, indicating that we do not see statistically significant performance increase/decrease by adding noise-filtering.\n",
    "\n",
    "(3) The proposed polynomial kernel covariance estimation method generally tends to outperform all other methods in terms of returns and Sharpe/Sortino ratios. The performances of the proposed Gaussian kernel and also the MCD methods are much less than expected from the paper."
   ]
  },
  {
   "cell_type": "code",
   "execution_count": null,
   "id": "43510ad2",
   "metadata": {},
   "outputs": [],
   "source": []
  }
 ],
 "metadata": {
  "kernelspec": {
   "display_name": "Python 3",
   "language": "python",
   "name": "python3"
  },
  "language_info": {
   "codemirror_mode": {
    "name": "ipython",
    "version": 3
   },
   "file_extension": ".py",
   "mimetype": "text/x-python",
   "name": "python",
   "nbconvert_exporter": "python",
   "pygments_lexer": "ipython3",
   "version": "3.7.9"
  }
 },
 "nbformat": 4,
 "nbformat_minor": 5
}
