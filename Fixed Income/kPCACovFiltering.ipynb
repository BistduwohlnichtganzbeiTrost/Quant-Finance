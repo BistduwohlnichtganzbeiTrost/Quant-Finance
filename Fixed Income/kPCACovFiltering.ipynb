{
 "cells": [
  {
   "cell_type": "code",
   "execution_count": 1,
   "metadata": {},
   "outputs": [],
   "source": [
    "import yfinance as yf\n",
    "from pytickersymbols import PyTickerSymbols"
   ]
  },
  {
   "cell_type": "code",
   "execution_count": 3,
   "metadata": {},
   "outputs": [
    {
     "data": {
      "text/plain": [
       "['EURO STOXX 50',\n",
       " 'SDAX',\n",
       " 'AEX',\n",
       " 'CAC 40',\n",
       " 'NASDAQ 100',\n",
       " 'DAX',\n",
       " 'OMX Helsinki 25',\n",
       " 'S&P 500',\n",
       " 'S&P 600',\n",
       " 'CAC Mid 60',\n",
       " 'FTSE 100',\n",
       " 'Switzerland 20',\n",
       " 'OMX Stockholm 30',\n",
       " 'CDAX',\n",
       " 'S&P 100',\n",
       " 'MOEX',\n",
       " 'MDAX',\n",
       " 'IBEX 35',\n",
       " 'BEL 20',\n",
       " 'TECDAX',\n",
       " 'DOW JONES']"
      ]
     },
     "execution_count": 3,
     "metadata": {},
     "output_type": "execute_result"
    }
   ],
   "source": [
    "stock_data = PyTickerSymbols()\n",
    "indices = stock_data.get_all_indices()\n",
    "indices"
   ]
  },
  {
   "cell_type": "code",
   "execution_count": 4,
   "metadata": {},
   "outputs": [
    {
     "data": {
      "text/plain": [
       "['get_aex_nyc_yahoo_tickers',\n",
       " 'get_bel_20_nyc_yahoo_tickers',\n",
       " 'get_cac_40_nyc_yahoo_tickers',\n",
       " 'get_cac_mid_60_nyc_yahoo_tickers',\n",
       " 'get_cdax_nyc_yahoo_tickers',\n",
       " 'get_dax_nyc_yahoo_tickers',\n",
       " 'get_dow_jones_nyc_yahoo_tickers',\n",
       " 'get_euro_stoxx_50_nyc_yahoo_tickers',\n",
       " 'get_ftse_100_nyc_yahoo_tickers',\n",
       " 'get_ibex_35_nyc_yahoo_tickers',\n",
       " 'get_mdax_nyc_yahoo_tickers',\n",
       " 'get_moex_nyc_yahoo_tickers',\n",
       " 'get_nasdaq_100_nyc_yahoo_tickers',\n",
       " 'get_omx_helsinki_25_nyc_yahoo_tickers',\n",
       " 'get_omx_stockholm_30_nyc_yahoo_tickers',\n",
       " 'get_sdax_nyc_yahoo_tickers',\n",
       " 'get_sp_100_nyc_yahoo_tickers',\n",
       " 'get_sp_500_nyc_yahoo_tickers',\n",
       " 'get_sp_600_nyc_yahoo_tickers',\n",
       " 'get_switzerland_20_nyc_yahoo_tickers',\n",
       " 'get_tecdax_nyc_yahoo_tickers']"
      ]
     },
     "execution_count": 4,
     "metadata": {},
     "output_type": "execute_result"
    }
   ],
   "source": [
    "list(filter(lambda x: x.endswith(\"_nyc_yahoo_tickers\"), dir(stock_data)))"
   ]
  },
  {
   "cell_type": "code",
   "execution_count": null,
   "metadata": {},
   "outputs": [],
   "source": []
  }
 ],
 "metadata": {
  "kernelspec": {
   "display_name": "Python 3",
   "language": "python",
   "name": "python3"
  },
  "language_info": {
   "codemirror_mode": {
    "name": "ipython",
    "version": 3
   },
   "file_extension": ".py",
   "mimetype": "text/x-python",
   "name": "python",
   "nbconvert_exporter": "python",
   "pygments_lexer": "ipython3",
   "version": "3.7.9"
  }
 },
 "nbformat": 4,
 "nbformat_minor": 2
}
